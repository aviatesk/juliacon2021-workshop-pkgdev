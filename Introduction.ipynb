{
 "cells": [
  {
   "cell_type": "markdown",
   "metadata": {},
   "source": [
    "Presenter: restart kernel and clear output!"
   ]
  },
  {
   "cell_type": "markdown",
   "metadata": {
    "slideshow": {
     "slide_type": "slide"
    }
   },
   "source": [
    "# Package development: improving engineering quality & latency\n",
    "\n",
    "Tim Holy\n",
    "\n",
    "Shuhei Kadowaki\n",
    "\n",
    "JuliaCon 2021"
   ]
  },
  {
   "cell_type": "markdown",
   "metadata": {
    "slideshow": {
     "slide_type": "slide"
    }
   },
   "source": [
    "# Part 1: background (a tutorial on Julia's inner workings)\n",
    "\n",
    "In the first ~25min we'll introduce/review core features of Julia's design:\n",
    "\n",
    "- methods, types, & dispatch\n",
    "- runtime vs compiletime dispatch\n",
    "- specialization and type inference\n",
    "- MethodInstances\n",
    "- invalidation, backedges, & recompilation\n",
    "- \"world-splitting\"\n",
    "- precompilation\n",
    "\n",
    "Knowing something about these points is genuinely useful, but you do not have to master all to start improving packages.\n",
    "\n",
    "We'll also introduce the [MethodAnalysis](https://github.com/timholy/MethodAnalysis.jl) package, which allows you to see a lot of this directly."
   ]
  },
  {
   "cell_type": "markdown",
   "metadata": {
    "slideshow": {
     "slide_type": "slide"
    }
   },
   "source": [
    "# Methods, types, & dispatch\n",
    "\n",
    "```julia\n",
    "myround(x::Integer) = x\n",
    "myround(x::AbstractFloat) = round(x)\n",
    "```"
   ]
  },
  {
   "cell_type": "markdown",
   "metadata": {
    "slideshow": {
     "slide_type": "fragment"
    }
   },
   "source": [
    "Key points:\n",
    "\n",
    "- each definition is a separate method (use `methods(myround)` to see them all)\n",
    "- methods differ in their type signatures and implementations (*implementation specialization*)\n",
    "- Julia dispatches to the \"most specific\" matching method"
   ]
  },
  {
   "cell_type": "markdown",
   "metadata": {
    "slideshow": {
     "slide_type": "slide"
    }
   },
   "source": [
    "# Compiler specialization and type inference\n",
    "\n",
    "Many methods are written with abstract signatures:\n",
    "\n",
    "```julia\n",
    "myround(x::AbstractFloat) = round(x)\n",
    "```"
   ]
  },
  {
   "cell_type": "markdown",
   "metadata": {
    "slideshow": {
     "slide_type": "fragment"
    }
   },
   "source": [
    "The actual bit-level implementation differs for `Float32` and `Float64`: Julia *must* generate different code."
   ]
  },
  {
   "cell_type": "markdown",
   "metadata": {
    "slideshow": {
     "slide_type": "fragment"
    }
   },
   "source": [
    "Consequently, Julia also (automatically) performs *compiler specialization* whenever the method is invoked with a new concrete type:"
   ]
  },
  {
   "cell_type": "markdown",
   "metadata": {
    "slideshow": {
     "slide_type": "fragment"
    }
   },
   "source": [
    "```julia\n",
    "myround(x::Float32)    # a `MethodInstance`, not a `Method`\n",
    "myround(x::Float64)    # another `MethodInstance` generated from the same `Method`\n",
    "```"
   ]
  },
  {
   "cell_type": "markdown",
   "metadata": {
    "slideshow": {
     "slide_type": "subslide"
    }
   },
   "source": [
    "In a multi-line function, there might be specializations needed for each call."
   ]
  },
  {
   "cell_type": "markdown",
   "metadata": {
    "slideshow": {
     "slide_type": "fragment"
    }
   },
   "source": [
    "To support this need without requiring programmers to declare the type of each internal variable, Julia performs *type inference*. Effectively, it looks like this:\n",
    "\n",
    "```julia\n",
    "function mysum(list::Vector{Float32})\n",
    "    s = zero(eltype(list::Vector{Float32})::Float32)::Float32\n",
    "    for val::Float32 in list::Vector{Float32}\n",
    "        s = (s::Float32 + val::Float32)::Float32\n",
    "    end\n",
    "    return s::Float32\n",
    "end\n",
    "```"
   ]
  },
  {
   "cell_type": "markdown",
   "metadata": {
    "slideshow": {
     "slide_type": "fragment"
    }
   },
   "source": [
    "Julia calculates the types of all the intermediates from the types of the input arguments."
   ]
  },
  {
   "cell_type": "markdown",
   "metadata": {
    "slideshow": {
     "slide_type": "slide"
    }
   },
   "source": [
    "# Runtime vs compiletime dispatch\n",
    "\n",
    "A compiled function is a \"blob\" of native code living in a particular memory location."
   ]
  },
  {
   "cell_type": "markdown",
   "metadata": {
    "slideshow": {
     "slide_type": "fragment"
    }
   },
   "source": [
    "Calling a function involves:\n",
    "- preparing the arguments\n",
    "- deciding *which* specific compiled blob to use. This is like looking up someone's phone number in the phone book. Julia literally scans through the method tables."
   ]
  },
  {
   "cell_type": "markdown",
   "metadata": {
    "slideshow": {
     "slide_type": "subslide"
    }
   },
   "source": [
    "This decision can be made during *runtime* (when code is executing) or during *compiletime* (when Julia is compiling the function)."
   ]
  },
  {
   "cell_type": "markdown",
   "metadata": {
    "slideshow": {
     "slide_type": "fragment"
    }
   },
   "source": [
    "Schematic of a compiletime call in pseudo-Julia:\n",
    "```julia\n",
    "push!(execution_stack, args)\n",
    "@goto compiled_blob_52383\n",
    "```\n",
    "(The blob will retrieve the argument values by [popping the execution stack](https://en.wikipedia.org/wiki/Call_stack).)"
   ]
  },
  {
   "cell_type": "markdown",
   "metadata": {
    "slideshow": {
     "slide_type": "fragment"
    }
   },
   "source": [
    "Schematic of a runtime call in pseudo-Julia:\n",
    "```julia\n",
    "# scan the method tables and their lists of compiled blobs for a match\n",
    "# if the right blob hasn't been compiled yet, compile it now\n",
    "blob = get_blob_for_argtypes(f, typesof(args))\n",
    "# The rest looks the same as a compiletime call:\n",
    "push!(execution_stack, args)\n",
    "goto(blob)\n",
    "```"
   ]
  },
  {
   "cell_type": "markdown",
   "metadata": {
    "slideshow": {
     "slide_type": "subslide"
    }
   },
   "source": [
    "An intermediate case is [Union-splitting](https://julialang.org/blog/2018/08/union-splitting/), where Julia can determine that there are only a few possible argument types:\n",
    "```julia\n",
    "argtypes = typesof(args)\n",
    "push!(execution_stack, args)\n",
    "if argtypes === Tuple{Int64,Bool}\n",
    "    @goto compiled_blob_52383\n",
    "else # the only other option is Tuple{Float64,Bool}\n",
    "    @goto compiled_blob_52951\n",
    "end\n",
    "```\n",
    "Note the absence of the need to call `get_blob_for_argtypes`. Union-splitting generalizes compiletime dispatch."
   ]
  },
  {
   "cell_type": "markdown",
   "metadata": {
    "slideshow": {
     "slide_type": "slide"
    }
   },
   "source": [
    "# \"World-splitting\"\n",
    "\n",
    "*Note: this term is not in common use. It is intended to be reminiscent of Union-splitting.*\n",
    "\n",
    "Julia will exploit the \"state of the world\" when evaluating the possibility for compiletime dispatch."
   ]
  },
  {
   "cell_type": "markdown",
   "metadata": {
    "slideshow": {
     "slide_type": "fragment"
    }
   },
   "source": [
    "Suppose: \n",
    "- you have an internal variable `x` but Julia can't infer a concrete type for it\n",
    "- Julia's next compilation task is to call `f(x)`\n",
    "- you have one or a few methods with concrete signature (e.g., `f(x::Int)`)"
   ]
  },
  {
   "cell_type": "markdown",
   "metadata": {
    "slideshow": {
     "slide_type": "subslide"
    }
   },
   "source": [
    "Then Julia will hazard a guess that it will end up calling `f(x::Int)`:\n",
    "```julia\n",
    "push!(execution_stack, args)\n",
    "if typesof(args) === Tuple{Int}\n",
    "    @goto compiled_blob_39412\n",
    "else\n",
    "    # do the call by runtime dispatch\n",
    "    ...\n",
    "end\n",
    "```"
   ]
  },
  {
   "cell_type": "markdown",
   "metadata": {
    "slideshow": {
     "slide_type": "subslide"
    }
   },
   "source": [
    "Julia tries to resolve as many dispatches as possible at compiletime using type information, otherwise the dispatch is delayed to runtime."
   ]
  },
  {
   "cell_type": "markdown",
   "metadata": {
    "slideshow": {
     "slide_type": "fragment"
    }
   },
   "source": [
    "Looking up the proper blob at compiletime takes burden away from runtime, improving runtime performance.\n",
    "\n",
    "Ballpark costs of runtime dispatch (depends on size of `f`'s method tables):\n",
    "- single argument: 15-35ns\n",
    "- two arguments: ~100ns\n",
    "- ...\n"
   ]
  },
  {
   "cell_type": "markdown",
   "metadata": {
    "slideshow": {
     "slide_type": "slide"
    }
   },
   "source": [
    "# MethodInstances\n",
    "\n",
    "Compilation is *expensive*. You do not want to recompile the same method repeatedly for exactly the same types."
   ]
  },
  {
   "cell_type": "markdown",
   "metadata": {
    "slideshow": {
     "slide_type": "fragment"
    }
   },
   "source": [
    "To eliminate recompilation (within a single Julia session), Julia *caches* the compiled code. These are `Core.MethodInstance`s (type-inferred code, mentioned above) and `Core.CodeInstance`s (native code). You can think of these caches as, e.g., `Dict(signature => methodinstance)`."
   ]
  },
  {
   "cell_type": "markdown",
   "metadata": {
    "slideshow": {
     "slide_type": "subslide"
    }
   },
   "source": [
    "Julia makes it easy to perform introspection:"
   ]
  },
  {
   "cell_type": "code",
   "execution_count": 1,
   "metadata": {
    "slideshow": {
     "slide_type": "-"
    }
   },
   "outputs": [
    {
     "data": {
      "text/html": [
       "# 4 methods for generic function <b>searchsorted</b>:<ul><li> searchsorted(a::<b>AbstractRange{<:Real}</b>, x::<b>Real</b>, o::<b>Base.Order.DirectOrdering</b>) in Base.Sort at <a href=\"https://github.com/JuliaLang/julia/tree/e76c9dad42c137c7812fb1970ecc23166f78ee1f/base/sort.jl#L290\" target=\"_blank\">sort.jl:290</a></li> <li> searchsorted(v::<b>AbstractVector</b>, x; <i>lt, by, rev, order</i>) in Base.Sort at <a href=\"https://github.com/JuliaLang/julia/tree/e76c9dad42c137c7812fb1970ecc23166f78ee1f/base/sort.jl#L297\" target=\"_blank\">sort.jl:297</a></li> <li> searchsorted(v::<b>AbstractVector</b>, x, ilo::<b>T</b>, ihi::<b>T</b>, o::<b>Base.Order.Ordering</b>)<i> where T<:Integer</i> in Base.Sort at <a href=\"https://github.com/JuliaLang/julia/tree/e76c9dad42c137c7812fb1970ecc23166f78ee1f/base/sort.jl#L213\" target=\"_blank\">sort.jl:213</a></li> <li> searchsorted(v::<b>AbstractVector</b>, x, o::<b>Base.Order.Ordering</b>) in Base.Sort at <a href=\"https://github.com/JuliaLang/julia/tree/e76c9dad42c137c7812fb1970ecc23166f78ee1f/base/sort.jl#L295\" target=\"_blank\">sort.jl:295</a></li> </ul>"
      ],
      "text/plain": [
       "# 4 methods for generic function \"searchsorted\":\n",
       "[1] searchsorted(a::AbstractRange{<:Real}, x::Real, o::Base.Order.DirectOrdering) in Base.Sort at sort.jl:290\n",
       "[2] searchsorted(v::AbstractVector, x; lt, by, rev, order) in Base.Sort at sort.jl:297\n",
       "[3] searchsorted(v::AbstractVector, x, ilo::T, ihi::T, o::Base.Order.Ordering) where T<:Integer in Base.Sort at sort.jl:213\n",
       "[4] searchsorted(v::AbstractVector, x, o::Base.Order.Ordering) in Base.Sort at sort.jl:295"
      ]
     },
     "execution_count": 1,
     "metadata": {},
     "output_type": "execute_result"
    }
   ],
   "source": [
    "methods(searchsorted)"
   ]
  },
  {
   "cell_type": "markdown",
   "metadata": {
    "slideshow": {
     "slide_type": "subslide"
    }
   },
   "source": [
    "Using MethodAnalysis.jl, you can introspect further:"
   ]
  },
  {
   "cell_type": "code",
   "execution_count": 2,
   "metadata": {
    "slideshow": {
     "slide_type": "-"
    }
   },
   "outputs": [
    {
     "data": {
      "text/plain": [
       "3-element Vector{Core.MethodInstance}:\n",
       " MethodInstance for searchsorted(::\u001b[0mVector{String}, ::\u001b[0mString)\n",
       " MethodInstance for searchsorted(::\u001b[0mVector{String}, ::\u001b[0mString, ::\u001b[0mInt64, ::\u001b[0mInt64, ::\u001b[0mBase.Order.ForwardOrdering)\n",
       " MethodInstance for searchsorted(::\u001b[0mVector{String}, ::\u001b[0mString, ::\u001b[0mBase.Order.ForwardOrdering)"
      ]
     },
     "execution_count": 2,
     "metadata": {},
     "output_type": "execute_result"
    }
   ],
   "source": [
    "using MethodAnalysis\n",
    "methodinstances(searchsorted)"
   ]
  },
  {
   "cell_type": "code",
   "execution_count": 3,
   "metadata": {
    "slideshow": {
     "slide_type": "fragment"
    }
   },
   "outputs": [
    {
     "data": {
      "text/plain": [
       "7:7"
      ]
     },
     "execution_count": 3,
     "metadata": {},
     "output_type": "execute_result"
    }
   ],
   "source": [
    "searchsorted(1:8, 7)"
   ]
  },
  {
   "cell_type": "code",
   "execution_count": 4,
   "metadata": {
    "slideshow": {
     "slide_type": "fragment"
    }
   },
   "outputs": [
    {
     "data": {
      "text/plain": [
       "5-element Vector{Core.MethodInstance}:\n",
       " MethodInstance for searchsorted(::\u001b[0mUnitRange{Int64}, ::\u001b[0mInt64, ::\u001b[0mBase.Order.ForwardOrdering)\n",
       " MethodInstance for searchsorted(::\u001b[0mVector{String}, ::\u001b[0mString)\n",
       " MethodInstance for searchsorted(::\u001b[0mUnitRange{Int64}, ::\u001b[0mInt64)\n",
       " MethodInstance for searchsorted(::\u001b[0mVector{String}, ::\u001b[0mString, ::\u001b[0mInt64, ::\u001b[0mInt64, ::\u001b[0mBase.Order.ForwardOrdering)\n",
       " MethodInstance for searchsorted(::\u001b[0mVector{String}, ::\u001b[0mString, ::\u001b[0mBase.Order.ForwardOrdering)"
      ]
     },
     "execution_count": 4,
     "metadata": {},
     "output_type": "execute_result"
    }
   ],
   "source": [
    "methodinstances(searchsorted)"
   ]
  },
  {
   "cell_type": "markdown",
   "metadata": {
    "slideshow": {
     "slide_type": "slide"
    }
   },
   "source": [
    "# Invalidation & backedges\n",
    "\n",
    "Julia allows you to redefine a method. This *invalidates* all code that depended on the earlier `MethodInstance`s (discussed below)."
   ]
  },
  {
   "cell_type": "markdown",
   "metadata": {
    "slideshow": {
     "slide_type": "fragment"
    }
   },
   "source": [
    "To keep track of what needs to be invalidated, each `MethodInstance` keeps track of all *compiletime* callers."
   ]
  },
  {
   "cell_type": "markdown",
   "metadata": {
    "slideshow": {
     "slide_type": "fragment"
    }
   },
   "source": [
    "These are called *backedges*:"
   ]
  },
  {
   "cell_type": "code",
   "execution_count": 7,
   "metadata": {
    "slideshow": {
     "slide_type": "-"
    }
   },
   "outputs": [
    {
     "name": "stdout",
     "output_type": "stream",
     "text": [
      "MethodInstance for issorted(::\u001b[0mVector{Symbol})\n"
     ]
    },
    {
     "data": {
      "text/plain": [
       "2-element Vector{Core.MethodInstance}:\n",
       " MethodInstance for unique!(::\u001b[0mVector{Symbol})\n",
       " MethodInstance for Parsers._precompile_()"
      ]
     },
     "execution_count": 7,
     "metadata": {},
     "output_type": "execute_result"
    }
   ],
   "source": [
    "mi = methodinstances(@which issorted([1, 3, 2]))[1]\n",
    "println(mi)\n",
    "direct_backedges(mi)               # also loaded from MethodAnalysis.jl"
   ]
  },
  {
   "cell_type": "code",
   "execution_count": 6,
   "metadata": {
    "slideshow": {
     "slide_type": "subslide"
    }
   },
   "outputs": [
    {
     "data": {
      "text/plain": [
       "530-element Vector{Core.MethodInstance}:\n",
       " MethodInstance for (::Main.anonymous.var\"#1#5\"{Set{String}, String})(::\u001b[0mString)\n",
       " MethodInstance for (::Core.var\"#Type##kw\")(::\u001b[0mAny, ::\u001b[0mType{LibGit2.RemoteCallbacks})\n",
       " MethodInstance for Pkg.API.develop(::\u001b[0mPkg.Types.Context, ::\u001b[0mVector{Pkg.Types.PackageSpec})\n",
       " MethodInstance for (::Pkg.Operations.var\"#download_artifacts##kw\")(::\u001b[0mNamedTuple{(:platform, :julia_version, :io), Tuple{Base.BinaryPlatforms.Platform, VersionNumber, Base.TTY}}, ::\u001b[0mtypeof(Pkg.Operations.download_artifacts), ::\u001b[0mPkg.Types.EnvCache)\n",
       " MethodInstance for Pkg.Types.registry_resolve!(::\u001b[0mVector{Pkg.Registry.RegistryInstance}, ::\u001b[0mVector{Pkg.Types.PackageSpec})\n",
       " MethodInstance for Pkg.Registry.verify_compressed_registry_toml(::\u001b[0mString)\n",
       " MethodInstance for Base.CoreLogging.current_logger_for_env(::\u001b[0mBase.CoreLogging.LogLevel, ::\u001b[0mNothing, ::\u001b[0mNothing)\n",
       " MethodInstance for Pkg.API.var\"#precompile#221\"(::\u001b[0mBool, ::\u001b[0mBool, ::\u001b[0mBase.Pairs{Symbol, Union{}, Tuple{}, NamedTuple{(), Tuple{}}}, ::\u001b[0mtypeof(Pkg.API.precompile), ::\u001b[0mPkg.Types.Context)\n",
       " MethodInstance for Pkg.Resolve.prune_graph!(::\u001b[0mPkg.Resolve.Graph)\n",
       " MethodInstance for (::Pkg.Operations.var\"#show_update##kw\")(::\u001b[0mNamedTuple{(:io,), Tuple{Base.TTY}}, ::\u001b[0mtypeof(Pkg.Operations.show_update), ::\u001b[0mPkg.Types.EnvCache)\n",
       " MethodInstance for (::Pkg.API.var\"#status##kw\")(::\u001b[0mNamedTuple{(:io,), Tuple{Base.TTY}}, ::\u001b[0mtypeof(Pkg.API.status), ::\u001b[0mPkg.Types.Context, ::\u001b[0mVector{Pkg.Types.PackageSpec})\n",
       " MethodInstance for LibGit2.certificate_callback(::\u001b[0mPtr{LibGit2.CertHostKey}, ::\u001b[0mInt32, ::\u001b[0mPtr{Int8}, ::\u001b[0mPtr{Nothing})\n",
       " MethodInstance for (::Pkg.PlatformEngines.var\"#handle_auth_error##kw\")(::\u001b[0mNamedTuple{(:verbose,), Tuple{Bool}}, ::\u001b[0mtypeof(Pkg.PlatformEngines.handle_auth_error), ::\u001b[0mString, ::\u001b[0mString)\n",
       " ⋮\n",
       " MethodInstance for Artifacts.var\"#select_downloadable_artifacts#15\"(::\u001b[0mBase.BinaryPlatforms.AbstractPlatform, ::\u001b[0mBool, ::\u001b[0mNothing, ::\u001b[0mtypeof(Artifacts.select_downloadable_artifacts), ::\u001b[0mString)\n",
       " MethodInstance for Pkg.Types.EnvCache(::\u001b[0mString)\n",
       " MethodInstance for Pkg.Types.read_manifest(::\u001b[0mBase.DevNull)\n",
       " MethodInstance for (::Pkg.PlatformEngines.var\"#download_verify_unpack##kw\")(::\u001b[0mNamedTuple{(:ignore_existence, :verbose, :quiet_download, :io), Tuple{Bool, Bool, Bool, Base.TTY}}, ::\u001b[0mtypeof(Pkg.PlatformEngines.download_verify_unpack), ::\u001b[0mString, ::\u001b[0mString, ::\u001b[0mString)\n",
       " MethodInstance for Pkg.PlatformEngines.get_server_dir(::\u001b[0mString)\n",
       " MethodInstance for (::Pkg.Artifacts.var\"#download_artifact##kw\")(::\u001b[0mNamedTuple{(:verbose, :quiet_download, :io), _A} where _A<:Tuple{Bool, Bool, Any}, ::\u001b[0mtypeof(Pkg.Artifacts.download_artifact), ::\u001b[0mBase.SHA1, ::\u001b[0mString)\n",
       " MethodInstance for (::Pkg.PlatformEngines.var\"#download##kw\")(::\u001b[0mNamedTuple{(:verbose,), Tuple{Bool}}, ::\u001b[0mtypeof(Pkg.PlatformEngines.download), ::\u001b[0mAbstractString, ::\u001b[0mString)\n",
       " MethodInstance for Pkg.Operations.var\"#install_archive#32\"(::\u001b[0mIO, ::\u001b[0mtypeof(Pkg.Operations.install_archive), ::\u001b[0mVector{Pair{String, Bool}}, ::\u001b[0mBase.SHA1, ::\u001b[0mString)\n",
       " MethodInstance for Base.CoreLogging.env_override_minlevel(::\u001b[0mSymbol, ::\u001b[0mAny)\n",
       " MethodInstance for Pkg.PlatformEngines.var\"#download#12\"(::\u001b[0mBool, ::\u001b[0mVector{Pair{String, String}}, ::\u001b[0mNothing, ::\u001b[0mBase.TTY, ::\u001b[0mtypeof(Pkg.PlatformEngines.download), ::\u001b[0mString, ::\u001b[0mString)\n",
       " MethodInstance for Pkg.Operations.var\"#download_artifacts#40\"(::\u001b[0mBase.BinaryPlatforms.Platform, ::\u001b[0mNothing, ::\u001b[0mBool, ::\u001b[0mIO, ::\u001b[0mtypeof(Pkg.Operations.download_artifacts), ::\u001b[0mPkg.Types.EnvCache)\n",
       " MethodInstance for (::Pkg.Operations.var\"#print_status##kw\")(::\u001b[0mNamedTuple{(:diff, :ignore_indent, :io), Tuple{Bool, Bool, Base.TTY}}, ::\u001b[0mtypeof(Pkg.Operations.print_status), ::\u001b[0mPkg.Types.EnvCache, ::\u001b[0mPkg.Types.EnvCache, ::\u001b[0mSymbol, ::\u001b[0mVector{Base.UUID}, ::\u001b[0mVector{String})"
      ]
     },
     "execution_count": 6,
     "metadata": {},
     "output_type": "execute_result"
    }
   ],
   "source": [
    "all_backedges(mi)"
   ]
  },
  {
   "cell_type": "code",
   "execution_count": 8,
   "metadata": {
    "slideshow": {
     "slide_type": "subslide"
    }
   },
   "outputs": [
    {
     "name": "stdout",
     "output_type": "stream",
     "text": [
      "MethodInstance for issorted(::Vector{Symbol})\n",
      "├─ MethodInstance for unique!(::Vector{Symbol})\n",
      "│  ├─ MethodInstance for Base.CoreLogging.env_override_minlevel(::Symbol, ::Module)\n",
      "│  │  └─ MethodInstance for Base.CoreLogging.current_logger_for_env(::LogLevel, ::Symbol, ::Module)\n",
      "│  │     ├─ MethodInstance for Base.register_root_module(::Module)\n",
      "│  │     │  └─ MethodInstance for Base._include_from_serialized(::String, ::Vector{Any})\n",
      "│  │     │     ⋮\n",
      "│  │     │     \n",
      "│  │     ├─ MethodInstance for Base.include_package_for_output(::PkgId, ::String, ::Vector{String}, ::Vector{String}, ::Vector{String}, ::Vector{Pair{PkgId, UInt64}}, ::Nothing)\n",
      "│  │     ├─ MethodInstance for Base.include_package_for_output(::PkgId, ::String, ::Vector{String}, ::Vector{String}, ::Vector{String}, ::Vector{Pair{PkgId, UInt64}}, ::String)\n",
      "│  │     ├─ MethodInstance for Base.Docs.doc!(::Module, ::Binding, ::DocStr, ::Any)\n",
      "│  │     ├─ MethodInstance for Base.Docs.doc!(::Module, ::Binding, ::DocStr, ::Type{Union{}})\n",
      "│  │     ├─ MethodInstance for Base.stale_cachefile(::String, ::String)\n",
      "│  │     │  └─ MethodInstance for Base._require_search_from_serialized(::PkgId, ::String)\n",
      "│  │     │     ⋮\n",
      "│  │     │     \n",
      "│  │     ├─ MethodInstance for Base._require_search_from_serialized(::PkgId, ::String)\n",
      "│  │     │  ├─ MethodInstance for Base._tryrequire_from_serialized(::PkgId, ::UInt64, ::String)\n",
      "│  │     │  │  ⋮\n",
      "│  │     │  │  \n",
      "│  │     │  ├─ MethodInstance for Base._tryrequire_from_serialized(::PkgId, ::UInt64, ::Nothing)\n",
      "│  │     │  │  ⋮\n",
      "│  │     │  │  \n",
      "│  │     │  └─ MethodInstance for Base._require(::PkgId)\n",
      "│  │     │     ⋮\n",
      "│  │     │     \n",
      "│  │     ├─ MethodInstance for Base.Filesystem.var\"#temp_cleanup_purge#21\"(::Bool, ::typeof(temp_cleanup_purge))\n",
      "│  │     │  ├─ MethodInstance for Base.Filesystem.temp_cleanup_purge()\n",
      "│  │     │  │  ⋮\n",
      "│  │     │  │  \n",
      "│  │     │  └─ MethodInstance for (::var\"#temp_cleanup_purge##kw\")(::NamedTuple{(:force,), Tuple{Bool}}, ::typeof(temp_cleanup_purge))\n",
      "│  │     │     ⋮\n",
      "│  │     │     \n",
      "│  │     ├─ MethodInstance for Base.compilecache(::PkgId, ::String, ::IO, ::IO, ::Bool)\n",
      "│  │     │  └─ MethodInstance for Base.compilecache(::PkgId, ::String)\n",
      "│  │     │     ⋮\n",
      "│  │     │     \n",
      "│  │     ├─ MethodInstance for Base._require(::PkgId)\n",
      "│  │     │  └─ MethodInstance for Base.require(::PkgId)\n",
      "│  │     │     ⋮\n",
      "│  │     │     \n",
      "│  │     ├─ MethodInstance for SuiteSparse.CHOLMOD.__init__()\n",
      "│  │     ├─ MethodInstance for LBTConfig(::lbt_config_t)\n",
      "│  │     │  └─ MethodInstance for LinearAlgebra.BLAS.lbt_get_config()\n",
      "│  │     │     ⋮\n",
      "│  │     │     \n",
      "│  │     ├─ MethodInstance for LinearAlgebra.BLAS.check()\n",
      "│  │     │  └─ MethodInstance for LinearAlgebra.__init__()\n",
      "│  │     │     ⋮\n",
      "│  │     │     \n",
      "│  │     ├─ MethodInstance for Base.disable_library_threading()\n",
      "│  │     │  ├─ MethodInstance for Base.at_disable_library_threading(::var\"#217#218\")\n",
      "│  │     │  │  ⋮\n",
      "│  │     │  │  \n",
      "│  │     │  └─ MethodInstance for Base.at_disable_library_threading(::Function)\n",
      "│  │     │     ⋮\n",
      "│  │     │     \n",
      "│  │     ├─ MethodInstance for Base.load_InteractiveUtils()\n",
      "│  │     ├─ MethodInstance for Base.eval_user_input(::Any, ::Any, ::Bool)\n",
      "│  │     ├─ MethodInstance for Base.run_main_repl(::Bool, ::Bool, ::Bool, ::Bool, ::Bool)\n",
      "│  │     ├─ MethodInstance for Base.exec_options(::JLOptions)\n",
      "│  │     ├─ MethodInstance for Base.Filesystem.var\"#mktempdir#27\"(::String, ::typeof(mktempdir), ::var\"#1#5\"{Set{String}, String}, ::String)\n",
      "│  │     │  └─ MethodInstance for mktempdir(::var\"#1#5\"{Set{String}, String}, ::String)\n",
      "│  │     │     ⋮\n",
      "│  │     │     \n",
      "│  │     ├─ MethodInstance for mktemp(::var\"#2#6\"{Set{String}, String, DevNull}, ::String)\n",
      "│  │     │  └─ MethodInstance for mktemp(::var\"#2#6\"{Set{String}, String, DevNull})\n",
      "│  │     │     ⋮\n",
      "│  │     │     \n",
      "│  │     ├─ MethodInstance for Main.anonymous.generate_precompile_statements()\n",
      "│  │     ├─ MethodInstance for Artifacts.unpack_platform(::Dict{String, Any}, ::String, ::String)\n",
      "│  │     │  ├─ MethodInstance for Artifacts.unpack_platform(::Dict, ::String, ::String)\n",
      "│  │     │  │  ⋮\n",
      "│  │     │  │  \n",
      "│  │     │  ├─ MethodInstance for Artifacts.var\"#artifact_meta#12\"(::Platform, ::typeof(artifact_meta), ::String, ::Dict{String, Any}, ::String)\n",
      "│  │     │  │  ⋮\n",
      "│  │     │  │  \n",
      "│  │     │  ├─ MethodInstance for Artifacts.var\"#artifact_meta#12\"(::AbstractPlatform, ::typeof(artifact_meta), ::String, ::Dict{String, Any}, ::String)\n",
      "│  │     │  │  ⋮\n",
      "│  │     │  │  \n",
      "│  │     │  └─ MethodInstance for (::var\"#6#10\"{String, String})(::Any)\n",
      "│  │     │     ⋮\n",
      "│  │     │     \n",
      "│  │     ├─ MethodInstance for Artifacts.var\"#artifact_meta#12\"(::Platform, ::typeof(artifact_meta), ::String, ::Dict{String, Any}, ::String)\n",
      "│  │     │  └─ MethodInstance for (::var\"#artifact_meta##kw\")(::NamedTuple{(:platform,), Tuple{Platform}}, ::typeof(artifact_meta), ::String, ::Dict{String, Any}, ::String)\n",
      "│  │     │     ⋮\n",
      "│  │     │     \n",
      "│  │     ├─ MethodInstance for NetworkOptions.host_pattern_regex(::String, ::String)\n",
      "│  │     │  └─ MethodInstance for (::var\"#5#6\"{String})()\n",
      "│  │     │     ⋮\n",
      "│  │     │     \n",
      "│  │     ├─ MethodInstance for Downloads.Curl.get_response_info(::Easy)\n",
      "│  │     │  ├─ MethodInstance for (::var\"#9#18\"{IOStream, DevNull, Nothing, Vector{Pair{String, String}}, Float64, _A, Bool, Bool, String, Int64, Bool, Bool} where _A)(::Easy)\n",
      "│  │     │  │  ⋮\n",
      "│  │     │  │  \n",
      "│  │     │  ├─ MethodInstance for (::var\"#9#18\"{IOStream, DevNull, Nothing, Vector{Pair{String, String}}, Float64, _A, Bool, Bool, _B, Int64, Bool, Bool} where {_A, _B})(::Easy)\n",
      "│  │     │  │  ⋮\n",
      "│  │     │  │  \n",
      "│  │     │  └─ MethodInstance for (::var\"#9#18\"{IOStream, DevNull, Nothing, Vector{Pair{String, String}}, Float64, var\"#24#27\"{var\"#14#16\"}, Bool, Bool, String, Int64, Bool, Bool})(::Easy)\n",
      "│  │     │     ⋮\n",
      "│  │     │     \n",
      "│  │     ├─ MethodInstance for (::var\"#919#921\"{Bool, Bool, Bool})(::Module)\n",
      "│  │     ├─ MethodInstance for Base.Experimental.show_error_hints(::IOContext{TTY}, ::BoundsError)\n",
      "│  │     │  └─ MethodInstance for showerror(::IOContext{TTY}, ::BoundsError)\n",
      "│  │     │     ⋮\n",
      "│  │     │     \n",
      "│  │     ├─ MethodInstance for Base.Experimental.show_error_hints(::IOContext{TTY}, ::MethodError, ::SimpleVector, ::Any)\n",
      "│  │     ├─ MethodInstance for showerror(::IOContext{TTY}, ::MethodError)\n",
      "│  │     │  └─ MethodInstance for Base.var\"#showerror#803\"(::Bool, ::typeof(showerror), ::IOContext{TTY}, ::MethodError, ::Vector{StackFrame})\n",
      "│  │     │     ⋮\n",
      "│  │     │     \n",
      "│  │     ├─ MethodInstance for LibGit2.ssh_knownhost_check(::Vector{String}, ::String, ::Vector{UInt8})\n",
      "│  │     │  └─ MethodInstance for LibGit2.ssh_knownhost_check(::Vector{String}, ::String, ::CertHostKey)\n",
      "│  │     │     ⋮\n",
      "│  │     │     \n",
      "│  │     ├─ MethodInstance for LibGit2.certificate_callback(::Ptr{CertHostKey}, ::Int32, ::Ptr{Int8}, ::Ptr{Nothing})\n",
      "│  │     │  └─ MethodInstance for LibGit2.certificate_cb()\n",
      "│  │     │     ⋮\n",
      "│  │     │     \n",
      "│  │     ├─ MethodInstance for read!(::Process, ::GitCredential)\n",
      "│  │     ├─ MethodInstance for Manifest(::Dict{String, Any}, ::String)\n",
      "│  │     │  └─ MethodInstance for Pkg.Types.read_manifest(::String)\n",
      "│  │     │     ⋮\n",
      "│  │     │     \n",
      "│  │     ├─ MethodInstance for Pkg.Registry.verify_compressed_registry_toml(::String)\n",
      "│  │     │  ├─ MethodInstance for Pkg.Registry.var\"#reachable_registries#17\"(::Vector{String}, ::typeof(reachable_registries))\n",
      "│  │     │  │  ⋮\n",
      "│  │     │  │  \n",
      "│  │     │  └─ MethodInstance for Pkg.Registry.var\"#reachable_registries#17\"(::String, ::typeof(reachable_registries))\n",
      "│  │     │     ⋮\n",
      "│  │     │     \n",
      "│  │     ├─ MethodInstance for Pkg.PlatformEngines.get_server_dir(::String, ::SubString{String})\n",
      "│  │     │  ├─ MethodInstance for Pkg.PlatformEngines.get_server_dir(::String)\n",
      "│  │     │  │  ⋮\n",
      "│  │     │  │  \n",
      "│  │     │  └─ MethodInstance for Pkg.PlatformEngines.get_metadata_headers(::String)\n",
      "│  │     │     ⋮\n",
      "│  │     │     \n",
      "│  │     ├─ MethodInstance for Pkg.PlatformEngines.var\"#get_auth_header#9\"(::Bool, ::typeof(get_auth_header), ::String)\n",
      "│  │     │  └─ MethodInstance for (::var\"#get_auth_header##kw\")(::NamedTuple{(:verbose,), Tuple{Bool}}, ::typeof(get_auth_header), ::String)\n",
      "│  │     │     ⋮\n",
      "│  │     │     \n",
      "│  │     ├─ MethodInstance for Pkg.Registry.pkg_server_registry_urls()\n",
      "│  │     │  ├─ MethodInstance for Pkg.Registry.pkg_server_registry_url(::UUID, ::Nothing)\n",
      "│  │     │  │  ⋮\n",
      "│  │     │  │  \n",
      "│  │     │  ├─ MethodInstance for Pkg.Registry.var\"#download_default_registries#28\"(::Bool, ::typeof(download_default_registries), ::TTY)\n",
      "│  │     │  │  ⋮\n",
      "│  │     │  │  \n",
      "│  │     │  └─ MethodInstance for Pkg.Registry.var\"#download_default_registries#28\"(::Bool, ::typeof(download_default_registries), ::IO)\n",
      "│  │     │     ⋮\n",
      "│  │     │     \n",
      "│  │     ├─ MethodInstance for Pkg.PlatformEngines.var\"#download_verify#17\"(::Bool, ::Bool, ::Bool, ::typeof(download_verify), ::String, ::Nothing, ::String)\n",
      "│  │     │  ├─ MethodInstance for Pkg.PlatformEngines.download_verify(::String, ::Nothing, ::String)\n",
      "│  │     │  │  ⋮\n"
     ]
    },
    {
     "name": "stdout",
     "output_type": "stream",
     "text": [
      "│  │     │  │  \n",
      "│  │     │  └─ MethodInstance for (::var\"#download_verify##kw\")(::NamedTuple{(:force, :verbose, :quiet_download), Tuple{Bool, Bool, Bool}}, ::typeof(download_verify), ::String, ::Nothing, ::String)\n",
      "│  │     │     ⋮\n",
      "│  │     │     \n",
      "│  │     ├─ MethodInstance for Pkg.PlatformEngines.get_server_dir(::AbstractString, ::SubString{String})\n",
      "│  │     │  ├─ MethodInstance for Pkg.PlatformEngines.get_server_dir(::AbstractString)\n",
      "│  │     │  │  ⋮\n",
      "│  │     │  │  \n",
      "│  │     │  └─ MethodInstance for Pkg.PlatformEngines.get_metadata_headers(::AbstractString)\n",
      "│  │     │     ⋮\n",
      "│  │     │     \n",
      "│  │     ├─ MethodInstance for Pkg.PlatformEngines.var\"#get_auth_header#9\"(::Bool, ::typeof(get_auth_header), ::AbstractString)\n",
      "│  │     │  └─ MethodInstance for (::var\"#get_auth_header##kw\")(::NamedTuple{(:verbose,), Tuple{Bool}}, ::typeof(get_auth_header), ::AbstractString)\n",
      "│  │     │     ⋮\n",
      "│  │     │     \n",
      "│  │     ├─ MethodInstance for Pkg.PlatformEngines.var\"#download_verify#17\"(::Bool, ::Bool, ::Bool, ::typeof(download_verify), ::AbstractString, ::Nothing, ::String)\n",
      "│  │     │  └─ MethodInstance for (::var\"#download_verify##kw\")(::NamedTuple{(:force, :verbose, :quiet_download), Tuple{Bool, Bool, Bool}}, ::typeof(download_verify), ::AbstractString, ::Nothing, ::String)\n",
      "│  │     │     ⋮\n",
      "│  │     │     \n",
      "│  │     ├─ MethodInstance for Pkg.PlatformEngines.var\"#download_verify_unpack#23\"(::Nothing, ::Bool, ::Bool, ::Bool, ::Bool, ::TTY, ::typeof(download_verify_unpack), ::AbstractString, ::Nothing, ::String)\n",
      "│  │     │  └─ MethodInstance for (::var\"#download_verify_unpack##kw\")(::NamedTuple{(:ignore_existence, :io), Tuple{Bool, TTY}}, ::typeof(download_verify_unpack), ::AbstractString, ::Nothing, ::String)\n",
      "│  │     │     ⋮\n",
      "│  │     │     \n",
      "│  │     ├─ MethodInstance for Base.Filesystem.var\"#mktempdir#27\"(::String, ::typeof(mktempdir), ::var\"#38#40\"{TTY, String, RegistrySpec}, ::String)\n",
      "│  │     ├─ MethodInstance for REPL.TerminalMenus.var\"#request#5\"(::Int64, ::Bool, ::typeof(request), ::TTYTerminal, ::RadioMenu{Dict{Symbol, Union{Bool, Char, String}}})\n",
      "│  │     │  └─ MethodInstance for REPL.TerminalMenus.request(::TTYTerminal, ::RadioMenu{Dict{Symbol, Union{Bool, Char, String}}})\n",
      "│  │     │     ⋮\n",
      "│  │     │     \n",
      "│  │     ├─ MethodInstance for Pkg.Registry.check_registry_state(::RegistryInstance)\n",
      "│  │     │  ├─ MethodInstance for Pkg.Registry.var\"#update#54\"(::IO, ::Bool, ::typeof(update), ::Vector{RegistrySpec})\n",
      "│  │     │  │  ⋮\n",
      "│  │     │  │  \n",
      "│  │     │  └─ MethodInstance for Pkg.Registry.var\"#update#54\"(::TTY, ::Bool, ::typeof(update), ::Vector{RegistrySpec})\n",
      "│  │     │     ⋮\n",
      "│  │     │     \n",
      "│  │     ├─ MethodInstance for Pkg.PlatformEngines.var\"#download_verify_unpack#23\"(::Nothing, ::Bool, ::Bool, ::Bool, ::Bool, ::IO, ::typeof(download_verify_unpack), ::String, ::Nothing, ::String)\n",
      "│  │     │  ├─ MethodInstance for (::var\"#download_verify_unpack##kw\")(::NamedTuple{(:ignore_existence, :io), _A} where _A<:Tuple{Bool, Any}, ::typeof(download_verify_unpack), ::String, ::Nothing, ::String)\n",
      "│  │     │  │  ⋮\n",
      "│  │     │  │  \n",
      "│  │     │  └─ MethodInstance for (::var\"#download_verify_unpack##kw\")(::NamedTuple{(:ignore_existence, :verbose, :quiet_download, :io), _A} where _A<:Tuple{Bool, Bool, Bool, Any}, ::typeof(download_verify_unpack), ::String, ::Nothing, ::String)\n",
      "│  │     │     ⋮\n",
      "│  │     │     \n",
      "│  │     ├─ MethodInstance for (::var\"#57#61\"{_A, String, RegistryInstance, SHA1} where _A)(::String)\n",
      "│  │     │  └─ MethodInstance for Base.Filesystem.var\"#mktempdir#27\"(::String, ::typeof(mktempdir), ::var\"#57#61\"{_A, String, RegistryInstance, SHA1} where _A, ::String)\n",
      "│  │     │     ⋮\n",
      "│  │     │     \n",
      "│  │     ├─ MethodInstance for Base.Filesystem.var\"#mktempdir#27\"(::String, ::typeof(mktempdir), ::var\"#57#61\"{_A, String, RegistryInstance, SHA1} where _A, ::String)\n",
      "│  │     │  └─ MethodInstance for mktempdir(::var\"#57#61\"{_A, String, RegistryInstance, SHA1} where _A, ::String)\n",
      "│  │     │     ⋮\n",
      "│  │     │     \n",
      "│  │     ├─ MethodInstance for LibGit2.var\"#merge!#78\"(::MergeOptions, ::CheckoutOptions, ::typeof(merge!), ::GitRepo, ::Vector{GitAnnotated})\n",
      "│  │     │  └─ MethodInstance for (::var\"#merge!##kw\")(::NamedTuple{(:merge_opts, :checkout_opts), Tuple{MergeOptions, CheckoutOptions}}, ::typeof(merge!), ::GitRepo, ::Vector{GitAnnotated})\n",
      "│  │     │     ⋮\n",
      "│  │     │     \n",
      "│  │     ├─ MethodInstance for LibGit2.var\"#merge!#81\"(::MergeOptions, ::CheckoutOptions, ::typeof(merge!), ::GitRepo, ::Vector{GitAnnotated}, ::Bool)\n",
      "│  │     │  └─ MethodInstance for (::var\"#merge!##kw\")(::NamedTuple{(:merge_opts, :checkout_opts), Tuple{MergeOptions, CheckoutOptions}}, ::typeof(merge!), ::GitRepo, ::Vector{GitAnnotated}, ::Bool)\n",
      "│  │     │     ⋮\n",
      "│  │     │     \n",
      "│  │     ├─ MethodInstance for Pkg.Registry.var\"#update#54\"(::IO, ::Bool, ::typeof(update), ::Vector{RegistrySpec})\n",
      "│  │     │  └─ MethodInstance for (::var\"#update##kw\")(::NamedTuple{(:io,), _A} where _A<:Tuple{IO}, ::typeof(update), ::Vector{RegistrySpec})\n",
      "│  │     │     ⋮\n",
      "│  │     │     \n",
      "│  │     ├─ MethodInstance for Artifacts.var\"#load_overrides#1\"(::Bool, ::typeof(load_overrides))\n",
      "│  │     │  └─ MethodInstance for Artifacts.load_overrides()\n",
      "│  │     │     ⋮\n",
      "│  │     │     \n",
      "│  │     ├─ MethodInstance for Pkg.Resolve.log_event_global!(::Graph, ::String)\n",
      "│  │     │  ├─ MethodInstance for Pkg.Resolve.var\"#propagate_constraints!#61\"(::Bool, ::typeof(propagate_constraints!), ::Graph, ::Set{Int64})\n",
      "│  │     │  │  ⋮\n",
      "│  │     │  │  \n",
      "│  │     │  ├─ MethodInstance for Pkg.Resolve.disable_unreachable!(::Graph, ::Set{Int64})\n",
      "│  │     │  │  ⋮\n",
      "│  │     │  │  \n",
      "│  │     │  ├─ MethodInstance for Pkg.Resolve.deep_clean!(::Graph)\n",
      "│  │     │  │  ⋮\n",
      "│  │     │  │  \n",
      "│  │     │  ├─ MethodInstance for Pkg.Resolve.prune_graph!(::Graph)\n",
      "│  │     │  │  ⋮\n",
      "│  │     │  │  \n",
      "│  │     │  ├─ MethodInstance for Pkg.Resolve.compute_eq_classes!(::Graph)\n",
      "│  │     │  │  ⋮\n",
      "│  │     │  │  \n",
      "│  │     │  ├─ MethodInstance for Pkg.Resolve.var\"#compute_eq_classes_soft!#82\"(::Bool, ::typeof(compute_eq_classes_soft!), ::Graph)\n",
      "│  │     │  │  ⋮\n",
      "│  │     │  │  \n",
      "│  │     │  └─ MethodInstance for Pkg.Resolve.resolve(::Graph)\n",
      "│  │     │     ⋮\n",
      "│  │     │     \n",
      "│  │     ├─ MethodInstance for Pkg.Resolve.verify_solution(::Vector{Int64}, ::Graph)\n",
      "│  │     │  ├─ MethodInstance for Pkg.Resolve.enforce_optimality!(::Vector{Int64}, ::Graph)\n",
      "│  │     │  │  ⋮\n",
      "│  │     │  │  \n",
      "│  │     │  └─ MethodInstance for Pkg.Resolve.resolve(::Graph)\n",
      "│  │     │     ⋮\n",
      "│  │     │     \n",
      "│  │     ├─ MethodInstance for Pkg.GitTools.blob_hash(::Type{SHA1_CTX}, ::String)\n",
      "│  │     │  └─ MethodInstance for Pkg.GitTools.var\"#tree_hash#12\"(::Nothing, ::Int64, ::typeof(tree_hash), ::Type{SHA1_CTX}, ::String)\n",
      "│  │     │     ⋮\n",
      "│  │     │     \n",
      "│  │     ├─ MethodInstance for Pkg.Artifacts.var\"#download_artifact#19\"(::Bool, ::Bool, ::IO, ::typeof(download_artifact), ::SHA1, ::String, ::Nothing)\n",
      "│  │     │  ├─ MethodInstance for (::var\"#download_artifact##kw\")(::NamedTuple{(:verbose, :quiet_download, :io), _A} where _A<:Tuple{Bool, Bool, Any}, ::typeof(download_artifact), ::SHA1, ::String, ::Nothing)\n",
      "│  │     │  │  ⋮\n",
      "│  │     │  │  \n",
      "│  │     │  ├─ MethodInstance for Pkg.Artifacts.download_artifact(::SHA1, ::String, ::Nothing)\n",
      "│  │     │  │  ⋮\n",
      "│  │     │  │  \n",
      "│  │     │  ├─ MethodInstance for (::var\"#download_artifact##kw\")(::NamedTuple{(), Tuple{}}, ::typeof(download_artifact), ::SHA1, ::String, ::Nothing)\n",
      "│  │     │  │  ⋮\n",
      "│  │     │  │  \n",
      "│  │     │  ├─ MethodInstance for (::var\"#download_artifact##kw\")(::NamedTuple{names, T} where {names, T<:Tuple{Vararg{Any, N}}}, ::typeof(download_artifact), ::SHA1, ::String, ::Nothing)\n",
      "│  │     │  │  ⋮\n",
      "│  │     │  │  \n",
      "│  │     │  ├─ MethodInstance for (::var\"#download_artifact##kw\")(::NamedTuple{(:verbose, :quiet_download, :io), _A} where _A<:Tuple{Bool, Bool, Any}, ::typeof(download_artifact), ::SHA1, ::String, ::Union{Nothing, String})\n",
      "│  │     │  │  ⋮\n",
      "│  │     │  │  \n",
      "│  │     │  ├─ MethodInstance for Pkg.Artifacts.download_artifact(::SHA1, ::String, ::Union{Nothing, String})\n",
      "│  │     │  │  ⋮\n",
      "│  │     │  │  \n",
      "│  │     │  ├─ MethodInstance for (::var\"#download_artifact##kw\")(::NamedTuple{(), Tuple{}}, ::typeof(download_artifact), ::SHA1, ::String, ::Union{Nothing, String})\n",
      "│  │     │  │  ⋮\n",
      "│  │     │  │  \n",
      "│  │     │  ├─ MethodInstance for (::var\"#download_artifact##kw\")(::NamedTuple{names, T} where {N, names, T<:Tuple{Vararg{Any, N}}}, ::typeof(download_artifact), ::SHA1, ::String, ::Union{Nothing, String})\n",
      "│  │     │  │  ⋮\n",
      "│  │     │  │  \n",
      "│  │     │  └─ MethodInstance for (::var\"#download_artifact##kw\")(::NamedTuple{names, T} where {names, T<:Tuple{Vararg{Any, N}}}, ::typeof(download_artifact), ::SHA1, ::String, ::Union{Nothing, String})\n",
      "│  │     │     ⋮\n",
      "│  │     │     \n",
      "│  │     ├─ MethodInstance for Pkg.PlatformEngines.var\"#verify#27\"(::Bool, ::Bool, ::String, ::typeof(verify), ::String, ::String)\n",
      "│  │     │  └─ MethodInstance for (::var\"#verify##kw\")(::NamedTuple{(:verbose,), Tuple{Bool}}, ::typeof(verify), ::String, ::String)\n",
      "│  │     │     ⋮\n",
      "│  │     │     \n",
      "│  │     ├─ MethodInstance for Pkg.PlatformEngines.var\"#download_verify#17\"(::Bool, ::Bool, ::Bool, ::typeof(download_verify), ::String, ::String, ::String)\n"
     ]
    },
    {
     "name": "stdout",
     "output_type": "stream",
     "text": [
      "│  │     │  └─ MethodInstance for (::var\"#download_verify##kw\")(::NamedTuple{(:force, :verbose, :quiet_download), Tuple{Bool, Bool, Bool}}, ::typeof(download_verify), ::String, ::String, ::String)\n",
      "│  │     │     ⋮\n",
      "│  │     │     \n",
      "│  │     ├─ MethodInstance for Pkg.PlatformEngines.var\"#download_verify_unpack#23\"(::Nothing, ::Bool, ::Bool, ::Bool, ::Bool, ::IO, ::typeof(download_verify_unpack), ::String, ::String, ::String)\n",
      "│  │     │  └─ MethodInstance for (::var\"#download_verify_unpack##kw\")(::NamedTuple{(:ignore_existence, :verbose, :quiet_download, :io), _A} where _A<:Tuple{Bool, Bool, Bool, Any}, ::typeof(download_verify_unpack), ::String, ::String, ::String)\n",
      "│  │     │     ⋮\n",
      "│  │     │     \n",
      "│  │     ├─ MethodInstance for Pkg.Artifacts.var\"#download_artifact#19\"(::Bool, ::Bool, ::IO, ::typeof(download_artifact), ::SHA1, ::String, ::String)\n",
      "│  │     │  ├─ MethodInstance for (::var\"#download_artifact##kw\")(::NamedTuple{(:verbose, :quiet_download, :io), _A} where _A<:Tuple{Bool, Bool, Any}, ::typeof(download_artifact), ::SHA1, ::String, ::Union{Nothing, String})\n",
      "│  │     │  │  ⋮\n",
      "│  │     │  │  \n",
      "│  │     │  ├─ MethodInstance for Pkg.Artifacts.download_artifact(::SHA1, ::String, ::Union{Nothing, String})\n",
      "│  │     │  │  ⋮\n",
      "│  │     │  │  \n",
      "│  │     │  ├─ MethodInstance for (::var\"#download_artifact##kw\")(::NamedTuple{(), Tuple{}}, ::typeof(download_artifact), ::SHA1, ::String, ::Union{Nothing, String})\n",
      "│  │     │  │  ⋮\n",
      "│  │     │  │  \n",
      "│  │     │  ├─ MethodInstance for (::var\"#download_artifact##kw\")(::NamedTuple{names, T} where {N, names, T<:Tuple{Vararg{Any, N}}}, ::typeof(download_artifact), ::SHA1, ::String, ::Union{Nothing, String})\n",
      "│  │     │  │  ⋮\n",
      "│  │     │  │  \n",
      "│  │     │  └─ MethodInstance for (::var\"#download_artifact##kw\")(::NamedTuple{names, T} where {names, T<:Tuple{Vararg{Any, N}}}, ::typeof(download_artifact), ::SHA1, ::String, ::Union{Nothing, String})\n",
      "│  │     │     ⋮\n",
      "│  │     │     \n",
      "│  │     ├─ MethodInstance for Pkg.Types.write_manifest(::Manifest, ::String)\n",
      "│  │     │  ├─ MethodInstance for Pkg.Types.write_manifest(::EnvCache)\n",
      "│  │     │  │  ⋮\n",
      "│  │     │  │  \n",
      "│  │     │  └─ MethodInstance for (::var\"#98#102\"{Bool, Bool, Bool, var\"#62#67\"{Bool, Context, String, PackageSpec}, Context, PackageSpec, String, Nothing})(::String)\n",
      "│  │     │     ⋮\n",
      "│  │     │     \n",
      "│  │     ├─ MethodInstance for Manifest(::Dict{String, Any}, ::DevNull)\n",
      "│  │     │  └─ MethodInstance for Pkg.Types.read_manifest(::DevNull)\n",
      "│  │     │     ⋮\n",
      "│  │     │     \n",
      "│  │     ├─ MethodInstance for Manifest(::Dict{String, Any}, ::IOBuffer)\n",
      "│  │     │  └─ MethodInstance for Pkg.Types.read_manifest(::IOBuffer)\n",
      "│  │     │     ⋮\n",
      "│  │     │     \n",
      "│  │     ├─ MethodInstance for Pkg.Operations.var\"#status#136\"(::Symbol, ::PackageMode, ::Bool, ::EnvCache, ::Bool, ::IO, ::typeof(status), ::EnvCache, ::Vector{PackageSpec})\n",
      "│  │     ├─ MethodInstance for Pkg.Operations.gen_target_project(::EnvCache, ::Vector{RegistryInstance}, ::PackageSpec, ::String, ::String)\n",
      "│  │     │  └─ MethodInstance for Pkg.Operations.var\"#build_versions#58\"(::Bool, ::typeof(build_versions), ::Context, ::Set{UUID})\n",
      "│  │     │     ⋮\n",
      "│  │     │     \n",
      "│  │     ├─ MethodInstance for Pkg.Operations.var\"#apply_force_latest_compatible_version!#148\"(::Nothing, ::Bool, ::typeof(apply_force_latest_compatible_version!), ::Context, ::NamedTuple{(:name, :uuid), Tuple{String, UUID}})\n",
      "│  │     │  └─ MethodInstance for (::var\"#apply_force_latest_compatible_version!##kw\")(::NamedTuple{(:target_name, :allow_earlier_backwards_compatible_versions), Tuple{Nothing, Bool}}, ::typeof(apply_force_latest_compatible_version!), ::Context, ::NamedTuple{(:name, :uuid), Tuple{String, UUID}})\n",
      "│  │     │     ⋮\n",
      "│  │     │     \n",
      "│  │     ├─ MethodInstance for Pkg.Operations.var\"#apply_force_latest_compatible_version!#148\"(::String, ::Bool, ::typeof(apply_force_latest_compatible_version!), ::Context, ::NamedTuple{(:name, :uuid), Tuple{String, UUID}})\n",
      "│  │     │  └─ MethodInstance for (::var\"#apply_force_latest_compatible_version!##kw\")(::NamedTuple{(:target_name, :allow_earlier_backwards_compatible_versions), Tuple{String, Bool}}, ::typeof(apply_force_latest_compatible_version!), ::Context, ::NamedTuple{(:name, :uuid), Tuple{String, UUID}})\n",
      "│  │     │     ⋮\n",
      "│  │     │     \n",
      "│  │     ├─ MethodInstance for Pkg.PlatformEngines.var\"#download_verify_unpack#23\"(::Nothing, ::Bool, ::Bool, ::Bool, ::Bool, ::IO, ::typeof(download_verify_unpack), ::AbstractString, ::Nothing, ::String)\n",
      "│  │     │  └─ MethodInstance for (::var\"#download_verify_unpack##kw\")(::NamedTuple{(:ignore_existence, :io), _A} where _A<:Tuple{Bool, Any}, ::typeof(download_verify_unpack), ::AbstractString, ::Nothing, ::String)\n",
      "│  │     │     ⋮\n",
      "│  │     │     \n",
      "│  │     ├─ MethodInstance for Base.Filesystem.var\"#mktempdir#27\"(::String, ::typeof(mktempdir), ::var\"#38#40\"{_A, String, RegistrySpec} where _A, ::String)\n",
      "│  │     ├─ MethodInstance for FileRedirect(::String, ::Bool)\n",
      "│  │     │  ├─ MethodInstance for FileRedirect(::AbstractString, ::Bool)\n",
      "│  │     │  │  ⋮\n",
      "│  │     │  │  \n",
      "│  │     │  ├─ MethodInstance for Base.redir_out_append(::Cmd, ::AbstractString)\n",
      "│  │     │  │  ⋮\n",
      "│  │     │  │  \n",
      "│  │     │  ├─ MethodInstance for Base.redir_out(::Cmd, ::AbstractString)\n",
      "│  │     │  │  ⋮\n",
      "│  │     │  │  \n",
      "│  │     │  ├─ MethodInstance for Base.redir_err_append(::Cmd, ::AbstractString)\n",
      "│  │     │  │  ⋮\n",
      "│  │     │  │  \n",
      "│  │     │  ├─ MethodInstance for Base.redir_err_append(::CmdRedirect, ::AbstractString)\n",
      "│  │     │  │  ⋮\n",
      "│  │     │  │  \n",
      "│  │     │  ├─ MethodInstance for Base.redir_err_append(::OrCmds, ::AbstractString)\n",
      "│  │     │  │  ⋮\n",
      "│  │     │  │  \n",
      "│  │     │  ├─ MethodInstance for Base.redir_err(::Cmd, ::AbstractString)\n",
      "│  │     │  │  ⋮\n",
      "│  │     │  │  \n",
      "│  │     │  ├─ MethodInstance for Base.redir_err(::CmdRedirect, ::AbstractString)\n",
      "│  │     │  │  ⋮\n",
      "│  │     │  │  \n",
      "│  │     │  └─ MethodInstance for Base.redir_err(::OrCmds, ::AbstractString)\n",
      "│  │     │     ⋮\n",
      "│  │     │     \n",
      "│  │     ├─ MethodInstance for (::var\"#99#103\"{String, Bool, Bool, Bool, var\"#62#67\"{Bool, Context, String, PackageSpec}, PackageSpec})()\n",
      "│  │     ├─ MethodInstance for Base.Filesystem.var\"#mktempdir#27\"(::String, ::typeof(mktempdir), ::var\"#98#102\"{Bool, Bool, Bool, var\"#62#67\"{Bool, Context, String, PackageSpec}, Context, PackageSpec, String, Nothing}, ::String)\n",
      "│  │     ├─ MethodInstance for Artifacts.var\"#artifact_meta#12\"(::AbstractPlatform, ::typeof(artifact_meta), ::String, ::Dict{String, Any}, ::String)\n",
      "│  │     │  └─ MethodInstance for (::var\"#artifact_meta##kw\")(::NamedTuple{(:platform,), _A} where _A<:Tuple{AbstractPlatform}, ::typeof(artifact_meta), ::String, ::Dict{String, Any}, ::String)\n",
      "│  │     │     ⋮\n",
      "│  │     │     \n",
      "│  │     ├─ MethodInstance for (::var\"#handle_interrupt#255\"{Event, ReentrantLock})(::Any)\n",
      "│  │     ├─ MethodInstance for Pkg.API.var\"#precompile#221\"(::Bool, ::Bool, ::Pairs{Symbol, Union{}, Tuple{}, NamedTuple{(), Tuple{}}}, ::typeof(precompile), ::Context)\n",
      "│  │     ├─ MethodInstance for Pkg.Operations.var\"#status#136\"(::Nothing, ::PackageMode, ::Bool, ::Nothing, ::Bool, ::IO, ::typeof(status), ::EnvCache, ::Vector{PackageSpec})\n",
      "│  │     ├─ MethodInstance for Pkg.Operations.var\"#status#136\"(::Nothing, ::PackageMode, ::Bool, ::Nothing, ::Bool, ::TTY, ::typeof(status), ::EnvCache, ::Vector{PackageSpec})\n",
      "│  │     │  └─ MethodInstance for (::var\"#status##kw\")(::NamedTuple{(:mode, :git_diff, :io), Tuple{PackageMode, Bool, TTY}}, ::typeof(status), ::EnvCache, ::Vector{PackageSpec})\n",
      "│  │     │     ⋮\n",
      "│  │     │     \n",
      "│  │     ├─ MethodInstance for Pkg.Operations.var\"#install_archive#32\"(::IO, ::typeof(install_archive), ::Vector{Pair{String, Bool}}, ::SHA1, ::String)\n",
      "│  │     │  └─ MethodInstance for (::var\"#install_archive##kw\")(::NamedTuple{(:io,), _A} where _A<:Tuple{IO}, ::typeof(install_archive), ::Vector{Pair{String, Bool}}, ::SHA1, ::String)\n",
      "│  │     │     ⋮\n",
      "│  │     │     \n",
      "│  │     ├─ MethodInstance for Pkg.PlatformEngines.var\"#download_verify_unpack#23\"(::Nothing, ::Bool, ::Bool, ::Bool, ::Bool, ::TTY, ::typeof(download_verify_unpack), ::String, ::Nothing, ::String)\n",
      "│  │     │  ├─ MethodInstance for (::var\"#download_verify_unpack##kw\")(::NamedTuple{(:ignore_existence, :verbose, :quiet_download, :io), Tuple{Bool, Bool, Bool, TTY}}, ::typeof(download_verify_unpack), ::String, ::Nothing, ::String)\n",
      "│  │     │  │  ⋮\n",
      "│  │     │  │  \n",
      "│  │     │  └─ MethodInstance for (::var\"#download_verify_unpack##kw\")(::NamedTuple{(:ignore_existence, :io), Tuple{Bool, TTY}}, ::typeof(download_verify_unpack), ::String, ::Nothing, ::String)\n",
      "│  │     │     ⋮\n",
      "│  │     │     \n",
      "│  │     ├─ MethodInstance for Pkg.Artifacts.var\"#download_artifact#19\"(::Bool, ::Bool, ::TTY, ::typeof(download_artifact), ::SHA1, ::String, ::Nothing)\n",
      "│  │     │  ├─ MethodInstance for (::var\"#download_artifact##kw\")(::NamedTuple{(:verbose, :quiet_download, :io), Tuple{Bool, Bool, TTY}}, ::typeof(download_artifact), ::SHA1, ::String, ::Nothing)\n",
      "│  │     │  │  ⋮\n",
      "│  │     │  │  \n",
      "│  │     │  └─ MethodInstance for (::var\"#download_artifact##kw\")(::NamedTuple{(:verbose, :quiet_download, :io), Tuple{Bool, Bool, TTY}}, ::typeof(download_artifact), ::SHA1, ::String, ::Union{Nothing, String})\n",
      "│  │     │     ⋮\n",
      "│  │     │     \n"
     ]
    },
    {
     "name": "stdout",
     "output_type": "stream",
     "text": [
      "│  │     ├─ MethodInstance for Pkg.PlatformEngines.var\"#download_verify_unpack#23\"(::Nothing, ::Bool, ::Bool, ::Bool, ::Bool, ::TTY, ::typeof(download_verify_unpack), ::String, ::String, ::String)\n",
      "│  │     │  └─ MethodInstance for (::var\"#download_verify_unpack##kw\")(::NamedTuple{(:ignore_existence, :verbose, :quiet_download, :io), Tuple{Bool, Bool, Bool, TTY}}, ::typeof(download_verify_unpack), ::String, ::String, ::String)\n",
      "│  │     │     ⋮\n",
      "│  │     │     \n",
      "│  │     ├─ MethodInstance for Pkg.Artifacts.var\"#download_artifact#19\"(::Bool, ::Bool, ::TTY, ::typeof(download_artifact), ::SHA1, ::String, ::String)\n",
      "│  │     │  └─ MethodInstance for (::var\"#download_artifact##kw\")(::NamedTuple{(:verbose, :quiet_download, :io), Tuple{Bool, Bool, TTY}}, ::typeof(download_artifact), ::SHA1, ::String, ::Union{Nothing, String})\n",
      "│  │     │     ⋮\n",
      "│  │     │     \n",
      "│  │     ├─ MethodInstance for Pkg.Operations.var\"#install_archive#32\"(::TTY, ::typeof(install_archive), ::Vector{Pair{String, Bool}}, ::SHA1, ::String)\n",
      "│  │     │  └─ MethodInstance for (::var\"#install_archive##kw\")(::NamedTuple{(:io,), Tuple{TTY}}, ::typeof(install_archive), ::Vector{Pair{String, Bool}}, ::SHA1, ::String)\n",
      "│  │     │     ⋮\n",
      "│  │     │     \n",
      "│  │     ├─ MethodInstance for Pkg.Operations.var\"#status#136\"(::Symbol, ::PackageMode, ::Bool, ::EnvCache, ::Bool, ::TTY, ::typeof(status), ::EnvCache, ::Vector{PackageSpec})\n",
      "│  │     │  └─ MethodInstance for (::var\"#status##kw\")(::NamedTuple{(:header, :mode, :env_diff, :ignore_indent, :io), Tuple{Symbol, PackageMode, EnvCache, Bool, TTY}}, ::typeof(status), ::EnvCache, ::Vector{PackageSpec})\n",
      "│  │     │     ⋮\n",
      "│  │     │     \n",
      "│  │     ├─ MethodInstance for Pkg.REPLMode.var\"#do_cmd#21\"(::Bool, ::typeof(do_cmd), ::LineEditREPL, ::String)\n",
      "│  │     ├─ MethodInstance for (::var\"#57#61\"{TTY, String, RegistryInstance, SHA1})(::String)\n",
      "│  │     │  └─ MethodInstance for Base.Filesystem.var\"#mktempdir#27\"(::String, ::typeof(mktempdir), ::var\"#57#61\"{TTY, String, RegistryInstance, SHA1}, ::String)\n",
      "│  │     │     ⋮\n",
      "│  │     │     \n",
      "│  │     ├─ MethodInstance for Base.Filesystem.var\"#mktempdir#27\"(::String, ::typeof(mktempdir), ::var\"#57#61\"{TTY, String, RegistryInstance, SHA1}, ::String)\n",
      "│  │     │  └─ MethodInstance for mktempdir(::var\"#57#61\"{TTY, String, RegistryInstance, SHA1}, ::String)\n",
      "│  │     │     ⋮\n",
      "│  │     │     \n",
      "│  │     ├─ MethodInstance for Pkg.Registry.var\"#update#54\"(::TTY, ::Bool, ::typeof(update), ::Vector{RegistrySpec})\n",
      "│  │     ├─ MethodInstance for REPL.setup_interface(::LineEditREPL, ::Bool, ::Dict)\n",
      "│  │     ├─ MethodInstance for REPL.setup_interface(::LineEditREPL, ::Bool, ::Vector{<:Dict})\n",
      "│  │     ├─ MethodInstance for REPL.setup_interface(::LineEditREPL, ::Bool, ::Any)\n",
      "│  │     ├─ MethodInstance for REPL.LineEdit.prompt!(::TextTerminal, ::ModalInterface, ::MIState)\n",
      "│  │     │  └─ MethodInstance for REPL.LineEdit.run_interface(::TextTerminal, ::ModalInterface, ::MIState)\n",
      "│  │     │     ⋮\n",
      "│  │     │     \n",
      "│  │     ├─ MethodInstance for Base.Experimental.show_error_hints(::IOContext{TTY}, ::MethodError, ::SimpleVector, ::Vararg{Any})\n",
      "│  │     │  └─ MethodInstance for showerror(::IOContext{TTY}, ::MethodError)\n",
      "│  │     │     ⋮\n",
      "│  │     │     \n",
      "│  │     ├─ MethodInstance for Base.Experimental.show_error_hints(::IOContext{TTY}, ::MethodError, ::SimpleVector, ::Any, ::Any, ::Any, ::Any, ::Any, ::Any, ::Any, ::Any, ::Any, ::Any, ::Any, ::Any, ::Any, ::Any, ::Any, ::Any, ::Any, ::Any, ::Any, ::Any, ::Any, ::Any, ::Any, ::Any, ::Any, ::Any, ::Any, ::Any, ::Any, ::Any, ::Any, ::Any, ::Any, ::Any, ::Any, ::Any, ::Any, ::Any, ::Any, ::Any, ::Any, ::Any, ::Any, ::Any, ::Any, ::Any, ::Any, ::Any, ::Any, ::Any, ::Any, ::Any, ::Any, ::Any, ::Any, ::Any, ::Any, ::Any, ::Any, ::Any, ::Any, ::Any, ::Any, ::Any, ::Any, ::Any, ::Any, ::Any, ::Any, ::Any, ::Any, ::Any, ::Any, ::Any, ::Any, ::Any, ::Any, ::Any, ::Any, ::Any, ::Any, ::Any, ::Any, ::Any, ::Any, ::Any, ::Any, ::Any, ::Any, ::Any, ::Any, ::Any, ::Any, ::Any, ::Any, ::Any, ::Any, ::Any, ::Any, ::Any)\n",
      "│  │     ├─ MethodInstance for Base.Experimental.show_error_hints(::IOContext, ::BoundsError)\n",
      "│  │     │  └─ MethodInstance for showerror(::IOContext, ::BoundsError)\n",
      "│  │     │     ⋮\n",
      "│  │     │     \n",
      "│  │     ├─ MethodInstance for Base.Experimental.show_error_hints(::IOContext, ::MethodError, ::SimpleVector, ::Any)\n",
      "│  │     ├─ MethodInstance for showerror(::IOContext, ::MethodError)\n",
      "│  │     ├─ MethodInstance for (::var\"#visit#57\"{EnvCache, Vector{UUID}, Dict{UUID, Int64}})(::UUID)\n",
      "│  │     │  └─ MethodInstance for foreach(::var\"#visit#57\"{EnvCache, Vector{UUID}, Dict{UUID, Int64}}, ::Vector{UUID})\n",
      "│  │     │     ⋮\n",
      "│  │     │     \n",
      "│  │     └─ MethodInstance for Pkg.REPLMode.var\"#parse_package_identifier#58\"(::Bool, ::typeof(parse_package_identifier), ::String)\n",
      "│  │        └─ MethodInstance for (::var\"#parse_package_identifier##kw\")(::NamedTuple{(:add_or_develop,), Tuple{Bool}}, ::typeof(parse_package_identifier), ::String)\n",
      "│  │           ⋮\n",
      "│  │           \n",
      "│  ├─ MethodInstance for Base.CoreLogging.env_override_minlevel(::Any, ::Nothing)\n",
      "│  │  ├─ MethodInstance for Base.CoreLogging.current_logger_for_env(::LogLevel, ::Any, ::Nothing)\n",
      "│  │  │  ├─ MethodInstance for precompile(::Type{<:Tuple{Any, Any, Any, Any, Any, Any, Any, Vararg}})\n",
      "│  │  │  │  └─ MethodInstance for precompile(::Any, ::NTuple{7, DataType})\n",
      "│  │  │  │     ⋮\n",
      "│  │  │  │     \n",
      "│  │  │  ├─ MethodInstance for precompile(::Type)\n",
      "│  │  │  │  ├─ MethodInstance for precompile(::Any, ::NTuple{7, DataType})\n",
      "│  │  │  │  │  ⋮\n",
      "│  │  │  │  │  \n",
      "│  │  │  │  ├─ MethodInstance for precompile(::Any, ::NTuple{6, DataType})\n",
      "│  │  │  │  │  ⋮\n",
      "│  │  │  │  │  \n",
      "│  │  │  │  ├─ MethodInstance for precompile(::Any, ::Tuple)\n",
      "│  │  │  │  │  ⋮\n",
      "│  │  │  │  │  \n",
      "│  │  │  │  └─ MethodInstance for Parsers._precompile_()\n",
      "│  │  │  │     ⋮\n",
      "│  │  │  │     \n",
      "│  │  │  ├─ MethodInstance for precompile(::Type{<:Tuple{Any, Any, Any, Any, Any, Any, Vararg}})\n",
      "│  │  │  │  └─ MethodInstance for precompile(::Any, ::NTuple{6, DataType})\n",
      "│  │  │  │     ⋮\n",
      "│  │  │  │     \n",
      "│  │  │  ├─ MethodInstance for Main.anonymous.generate_precompile_statements()\n",
      "│  │  │  ├─ MethodInstance for Pkg.Operations.resolve_versions!(::EnvCache, ::Vector{RegistryInstance}, ::Vector{PackageSpec}, ::VersionNumber)\n",
      "│  │  │  ├─ MethodInstance for Pkg.Types.check_warn_manifest_julia_version_compat(::Manifest, ::String)\n",
      "│  │  │  │  └─ MethodInstance for Pkg.API.var\"#instantiate#277\"(::Nothing, ::Bool, ::Bool, ::Platform, ::Bool, ::Bool, ::Pairs{Symbol, Union{}, Tuple{}, NamedTuple{(), Tuple{}}}, ::typeof(instantiate), ::Context)\n",
      "│  │  │  │     ⋮\n",
      "│  │  │  │     \n",
      "│  │  │  └─ MethodInstance for Parsers._precompile_()\n",
      "│  │  └─ MethodInstance for Parsers._precompile_()\n",
      "│  ├─ MethodInstance for Base.CoreLogging.env_override_minlevel(::Nothing, ::Nothing)\n",
      "│  │  └─ MethodInstance for Base.CoreLogging.current_logger_for_env(::LogLevel, ::Nothing, ::Nothing)\n",
      "│  │     └─ MethodInstance for Base.require(::Module, ::Symbol)\n",
      "│  ├─ MethodInstance for Base.CoreLogging.env_override_minlevel(::Any, ::Module)\n",
      "│  │  └─ MethodInstance for Base.CoreLogging.current_logger_for_env(::LogLevel, ::Any, ::Module)\n",
      "│  │     ├─ MethodInstance for Base.BinaryPlatforms.detect_libgfortran_version()\n",
      "│  │     │  └─ MethodInstance for Base.BinaryPlatforms.host_triplet()\n",
      "│  │     │     ⋮\n",
      "│  │     │     \n",
      "│  │     ├─ MethodInstance for (::var\"#40#43\")(::Ptr{Nothing})\n",
      "│  │     │  └─ MethodInstance for (::var\"#open_libllvm#42\")(::var\"#40#43\")\n",
      "│  │     │     ⋮\n",
      "│  │     │     \n",
      "│  │     └─ MethodInstance for iterate(::EnvDict, ::Int64)\n",
      "│  │        ├─ MethodInstance for iterate(::EnvDict)\n",
      "│  │        │  ⋮\n",
      "│  │        │  \n",
      "│  │        └─ MethodInstance for merge!(::Dict{String, String}, ::EnvDict)\n",
      "│  │           ⋮\n",
      "│  │           \n",
      "│  ├─ MethodInstance for Base.CoreLogging.env_override_minlevel(::Symbol, ::Any)\n",
      "│  │  └─ MethodInstance for Base.CoreLogging.current_logger_for_env(::LogLevel, ::Symbol, ::Any)\n",
      "│  │     └─ MethodInstance for Base.var\"#depwarn#908\"(::Bool, ::typeof(depwarn), ::String, ::Symbol)\n",
      "│  │        ├─ MethodInstance for Base.depwarn(::String, ::Symbol)\n",
      "│  │        │  ⋮\n",
      "│  │        │  \n",
      "│  │        └─ MethodInstance for (::var\"#depwarn##kw\")(::NamedTuple{(:force,), Tuple{Bool}}, ::typeof(depwarn), ::String, ::Symbol)\n",
      "│  │           ⋮\n",
      "│  │           \n",
      "│  └─ MethodInstance for Parsers._precompile_()\n",
      "└─ MethodInstance for Parsers._precompile_()\n"
     ]
    }
   ],
   "source": [
    "using AbstractTrees     # MethodAnalysis.jl defines AbstractTree.jl methods for tree representation of backedges\n",
    "print_tree(mi)"
   ]
  },
  {
   "cell_type": "markdown",
   "metadata": {
    "slideshow": {
     "slide_type": "fragment"
    }
   },
   "source": [
    "It can get complicated quickly!"
   ]
  },
  {
   "cell_type": "markdown",
   "metadata": {
    "slideshow": {
     "slide_type": "slide"
    }
   },
   "source": [
    "# Recompilation\n",
    "\n",
    "If you redefine a `Method`, Julia will iterate through the `MethodInstance`s and their backedges and *invalidate* them all.\n",
    "\n",
    "(For the experts: it does this by capping their *world age* at one less than the current age, making them uncallable in the future.)"
   ]
  },
  {
   "cell_type": "markdown",
   "metadata": {
    "slideshow": {
     "slide_type": "fragment"
    }
   },
   "source": [
    "The next time you call one of these methods, it must be recompiled:"
   ]
  },
  {
   "cell_type": "code",
   "execution_count": 9,
   "metadata": {
    "slideshow": {
     "slide_type": "-"
    }
   },
   "outputs": [
    {
     "data": {
      "text/plain": [
       "0.05223703384399414"
      ]
     },
     "execution_count": 9,
     "metadata": {},
     "output_type": "execute_result"
    }
   ],
   "source": [
    "f(x) = x^2\n",
    "t = ntuple(identity, 15)\n",
    "tstart = time(); map(f, t); time() - tstart"
   ]
  },
  {
   "cell_type": "markdown",
   "metadata": {},
   "source": [
    "(When you're measuring compile times, `@time` is dangerous because its arguments typically get compiled before the timer starts)"
   ]
  },
  {
   "cell_type": "code",
   "execution_count": 10,
   "metadata": {
    "slideshow": {
     "slide_type": "subslide"
    }
   },
   "outputs": [
    {
     "data": {
      "text/plain": [
       "0.0007140636444091797"
      ]
     },
     "execution_count": 10,
     "metadata": {},
     "output_type": "execute_result"
    }
   ],
   "source": [
    "tstart = time(); map(f, t); time() - tstart   # fast on the second call!"
   ]
  },
  {
   "cell_type": "code",
   "execution_count": 11,
   "metadata": {
    "slideshow": {
     "slide_type": "fragment"
    }
   },
   "outputs": [
    {
     "data": {
      "text/plain": [
       "0.042424917221069336"
      ]
     },
     "execution_count": 11,
     "metadata": {},
     "output_type": "execute_result"
    }
   ],
   "source": [
    "f(x) = x^2            # redefinition\n",
    "tstart = time(); map(f, t); time() - tstart   # slow again"
   ]
  },
  {
   "cell_type": "markdown",
   "metadata": {
    "slideshow": {
     "slide_type": "subslide"
    }
   },
   "source": [
    "## Invalidation in \"world-splitting\"\n",
    "\n",
    "But now suppose you define a new method `f(x::String)`. Suddenly the world is different, but the old compiled code doesn't acknowledge this."
   ]
  },
  {
   "cell_type": "markdown",
   "metadata": {
    "slideshow": {
     "slide_type": "fragment"
    }
   },
   "source": [
    "Outcome: invalidation"
   ]
  },
  {
   "cell_type": "markdown",
   "metadata": {
    "slideshow": {
     "slide_type": "fragment"
    }
   },
   "source": [
    "Loading new code can invalidate old code. In egregious cases, it can invalidate *its own code for loading the next package* and needs to recompile the core loading machinery."
   ]
  },
  {
   "cell_type": "markdown",
   "metadata": {
    "slideshow": {
     "slide_type": "fragment"
    }
   },
   "source": [
    " Fixing most such cases was one of several contributions to reducing latency in Julia 1.6."
   ]
  },
  {
   "cell_type": "markdown",
   "metadata": {
    "slideshow": {
     "slide_type": "slide"
    }
   },
   "source": [
    "# Precompilation\n",
    "\n",
    "Backedges have a second role: *precompilation*"
   ]
  },
  {
   "cell_type": "markdown",
   "metadata": {
    "slideshow": {
     "slide_type": "fragment"
    }
   },
   "source": [
    "Compilation is slow, so we cache the results. Why not make them available to the next session too? => cache to disk"
   ]
  },
  {
   "cell_type": "markdown",
   "metadata": {
    "slideshow": {
     "slide_type": "fragment"
    }
   },
   "source": [
    "But most `MethodInstance`s depend on a lot of other `MethodInstance`s, and it would be pretty useless if we only saved the top-level calls. Solution: cache the things you depend on too! "
   ]
  },
  {
   "cell_type": "markdown",
   "metadata": {
    "slideshow": {
     "slide_type": "subslide"
    }
   },
   "source": [
    "When you \"precompile\" a package, Julia stores:\n",
    "- lowered code\n",
    "- type-inferred code\n",
    "for all `Method`s defined in the package, and any needed `MethodInstance` that weren't already available."
   ]
  },
  {
   "cell_type": "markdown",
   "metadata": {
    "slideshow": {
     "slide_type": "fragment"
    }
   },
   "source": [
    "Loading cached `MethodInstance`s takes some time. We can't cache every possible `MethodInstance`, so the package developer has to specify which ones should be cached.\n"
   ]
  },
  {
   "cell_type": "markdown",
   "metadata": {
    "slideshow": {
     "slide_type": "fragment"
    }
   },
   "source": [
    "\n",
    "Julia has a `precompile(f, argtypes)` function. But it forces type-inference, and does not directly save anything to disk."
   ]
  },
  {
   "cell_type": "markdown",
   "metadata": {
    "slideshow": {
     "slide_type": "fragment"
    }
   },
   "source": [
    "Implication: execution during package build has similar consequences to calling `precompile`, as far as what ends up in the cache."
   ]
  },
  {
   "cell_type": "markdown",
   "metadata": {
    "slideshow": {
     "slide_type": "slide"
    }
   },
   "source": [
    "# Main takeaways\n",
    "\n",
    "- method lookup is slow\n",
    "- knowing all types allows Julia to move lookup to compiletime\n",
    "- Julia exploits this by specializing methods for specific argument types (many compiled blobs for a single method)\n",
    "- compilation is slow, so caching is desirable\n",
    "- Julia's dynamism necessitates cache invalidation and recompilation\n"
   ]
  },
  {
   "cell_type": "markdown",
   "metadata": {
    "slideshow": {
     "slide_type": "subslide"
    }
   },
   "source": [
    "## Looking ahead\n",
    "\n",
    "Compilation presents an opportunity for detailed introspection and analysis.\n",
    "\n",
    "A recent development are packages that exploit this to analyze \"code quality\" and contributions to latency.\n",
    "\n",
    "The rest of this workshop will teach you how to take advantage of this opportunity."
   ]
  }
 ],
 "metadata": {
  "@webio": {
   "lastCommId": null,
   "lastKernelId": null
  },
  "celltoolbar": "Slideshow",
  "kernelspec": {
   "display_name": "Julia 1.7.0-pre3-ns 1.7.0-beta3",
   "language": "julia",
   "name": "julia-1.7.0-pre3-ns-1.7"
  },
  "language_info": {
   "file_extension": ".jl",
   "mimetype": "application/julia",
   "name": "julia",
   "version": "1.7.0"
  }
 },
 "nbformat": 4,
 "nbformat_minor": 4
}

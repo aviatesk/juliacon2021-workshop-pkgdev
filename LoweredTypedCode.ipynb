{
 "cells": [
  {
   "cell_type": "markdown",
   "id": "89171417",
   "metadata": {
    "slideshow": {
     "slide_type": "slide"
    }
   },
   "source": [
    "# Lowered & typed code\n",
    "\n",
    "## An introduction to code transformations in Julia\n",
    "\n",
    "Tim Holy\n",
    "\n",
    "JuliaCon 2021"
   ]
  },
  {
   "cell_type": "markdown",
   "id": "053367a3",
   "metadata": {
    "slideshow": {
     "slide_type": "slide"
    }
   },
   "source": [
    "# Multiple ways to write the same code\n",
    "\n",
    "```julia\n",
    "if isempty(list)\n",
    "    idx = nothing\n",
    "else\n",
    "    idx = firstindex(list)\n",
    "end\n",
    "```\n",
    "\n",
    "is the same as\n",
    "\n",
    "```julia\n",
    "idx = isempty(list) ? nothing : firstindex(list)\n",
    "```\n"
   ]
  },
  {
   "cell_type": "markdown",
   "id": "6a651a9f",
   "metadata": {
    "slideshow": {
     "slide_type": "subslide"
    }
   },
   "source": [
    "```julia\n",
    "function f(x, y)\n",
    "    return x + y\n",
    "end\n",
    "```\n",
    "\n",
    "is the same as\n",
    "\n",
    "```julia\n",
    "f(x, y) = x + y\n",
    "```"
   ]
  },
  {
   "cell_type": "markdown",
   "id": "c77bbcb9",
   "metadata": {
    "slideshow": {
     "slide_type": "fragment"
    }
   },
   "source": [
    "Other examples: `do`-block syntax, `for` vs `while` loops, etc."
   ]
  },
  {
   "cell_type": "markdown",
   "id": "bc074f24",
   "metadata": {
    "slideshow": {
     "slide_type": "slide"
    }
   },
   "source": [
    "# Some higher-level constructs add complexity\n",
    "\n",
    "```julia\n",
    "function myfunc(a, b)\n",
    "    f(z) = z^2 + a      # an inner function\n",
    "    \n",
    "    ...\n",
    "end\n",
    "```"
   ]
  },
  {
   "cell_type": "markdown",
   "id": "7c44c068",
   "metadata": {
    "slideshow": {
     "slide_type": "subslide"
    }
   },
   "source": [
    "Scoping rules make the naive parsing of code less straightforward:"
   ]
  },
  {
   "cell_type": "code",
   "execution_count": 3,
   "id": "9f3e815a",
   "metadata": {},
   "outputs": [
    {
     "ename": "LoadError",
     "evalue": "UndefVarError: x not defined",
     "output_type": "error",
     "traceback": [
      "UndefVarError: x not defined",
      "",
      "Stacktrace:",
      " [1] f()",
      "   @ Main ./In[3]:5",
      " [2] top-level scope",
      "   @ In[3]:8",
      " [3] eval",
      "   @ ./boot.jl:373 [inlined]",
      " [4] include_string(mapexpr::typeof(REPL.softscope), mod::Module, code::String, filename::String)",
      "   @ Base ./loading.jl:1196"
     ]
    }
   ],
   "source": [
    "function f()\n",
    "    for i = 1:5\n",
    "        x = rand()\n",
    "    end\n",
    "    println(\"The last random number was \", x)\n",
    "end\n",
    "\n",
    "f()"
   ]
  },
  {
   "cell_type": "markdown",
   "id": "9ac445f0",
   "metadata": {
    "slideshow": {
     "slide_type": "fragment"
    }
   },
   "source": [
    "Expressing these with uniform syntax is the main purpose of *lowering*."
   ]
  },
  {
   "cell_type": "markdown",
   "id": "2ef22686",
   "metadata": {
    "slideshow": {
     "slide_type": "slide"
    }
   },
   "source": [
    "# @code_lowered"
   ]
  },
  {
   "cell_type": "code",
   "execution_count": 4,
   "id": "3ea3812b",
   "metadata": {},
   "outputs": [
    {
     "data": {
      "text/plain": [
       "CodeInfo(\n",
       "\u001b[90m1 ─\u001b[39m %1 = a * a\n",
       "\u001b[90m│  \u001b[39m %2 = %1 + b\n",
       "\u001b[90m└──\u001b[39m      return %2\n",
       ")"
      ]
     },
     "execution_count": 4,
     "metadata": {},
     "output_type": "execute_result"
    }
   ],
   "source": [
    "f(a, b) = a*a + b\n",
    "@code_lowered f(1, 2)"
   ]
  },
  {
   "cell_type": "markdown",
   "id": "eee5898d",
   "metadata": {
    "slideshow": {
     "slide_type": "fragment"
    }
   },
   "source": [
    "%n: [Single Static Assignment](https://en.wikipedia.org/wiki/Static_single_assignment_form) value\n",
    "\n",
    "Left column: [basic block](https://en.wikipedia.org/wiki/Basic_block)"
   ]
  },
  {
   "cell_type": "code",
   "execution_count": 5,
   "id": "a8978ac8",
   "metadata": {
    "slideshow": {
     "slide_type": "subslide"
    }
   },
   "outputs": [
    {
     "data": {
      "text/plain": [
       "CodeInfo(\n",
       "\u001b[90m1 ─\u001b[39m      goto #3 if not cond\n",
       "\u001b[90m2 ─\u001b[39m %2 = val1 + val2\n",
       "\u001b[90m└──\u001b[39m      return %2\n",
       "\u001b[90m3 ─\u001b[39m      return val2\n",
       ")"
      ]
     },
     "execution_count": 5,
     "metadata": {},
     "output_type": "execute_result"
    }
   ],
   "source": [
    "g(cond, val1, val2) = cond ? val1 + val2 : val2\n",
    "@code_lowered g(true, 1, 2)"
   ]
  },
  {
   "cell_type": "code",
   "execution_count": 6,
   "id": "61fe5b98",
   "metadata": {
    "slideshow": {
     "slide_type": "subslide"
    }
   },
   "outputs": [
    {
     "data": {
      "text/plain": [
       "CodeInfo(\n",
       "\u001b[90m1 ─\u001b[39m      counter = 5\n",
       "\u001b[90m2 ┄\u001b[39m %2 = counter > 0\n",
       "\u001b[90m└──\u001b[39m      goto #4 if not %2\n",
       "\u001b[90m3 ─\u001b[39m      Main.println(counter)\n",
       "\u001b[90m│  \u001b[39m      counter = counter - 1\n",
       "\u001b[90m└──\u001b[39m      goto #2\n",
       "\u001b[90m4 ─\u001b[39m %7 = Main.println(\"blast off!\")\n",
       "\u001b[90m└──\u001b[39m      return %7\n",
       ")"
      ]
     },
     "execution_count": 6,
     "metadata": {},
     "output_type": "execute_result"
    }
   ],
   "source": [
    "function blastoff()\n",
    "    counter = 5\n",
    "    while counter > 0\n",
    "        println(counter)\n",
    "        counter -= 1\n",
    "    end\n",
    "    println(\"blast off!\")\n",
    "end\n",
    "@code_lowered blastoff()"
   ]
  },
  {
   "cell_type": "code",
   "execution_count": 7,
   "id": "fc18dc52",
   "metadata": {
    "slideshow": {
     "slide_type": "subslide"
    }
   },
   "outputs": [
    {
     "data": {
      "text/plain": [
       "CodeInfo(\n",
       "\u001b[90m1 ─\u001b[39m       ss = 0.0\n",
       "\u001b[90m│  \u001b[39m %2  = list\n",
       "\u001b[90m│  \u001b[39m       @_3 = Base.iterate(%2)\n",
       "\u001b[90m│  \u001b[39m %4  = @_3 === nothing\n",
       "\u001b[90m│  \u001b[39m %5  = Base.not_int(%4)\n",
       "\u001b[90m└──\u001b[39m       goto #4 if not %5\n",
       "\u001b[90m2 ┄\u001b[39m %7  = @_3\n",
       "\u001b[90m│  \u001b[39m       item = Core.getfield(%7, 1)\n",
       "\u001b[90m│  \u001b[39m %9  = Core.getfield(%7, 2)\n",
       "\u001b[90m│  \u001b[39m       ss = ss + item\n",
       "\u001b[90m│  \u001b[39m       @_3 = Base.iterate(%2, %9)\n",
       "\u001b[90m│  \u001b[39m %12 = @_3 === nothing\n",
       "\u001b[90m│  \u001b[39m %13 = Base.not_int(%12)\n",
       "\u001b[90m└──\u001b[39m       goto #4 if not %13\n",
       "\u001b[90m3 ─\u001b[39m       goto #2\n",
       "\u001b[90m4 ┄\u001b[39m       return ss\n",
       ")"
      ]
     },
     "execution_count": 7,
     "metadata": {},
     "output_type": "execute_result"
    }
   ],
   "source": [
    "function mysum(list)\n",
    "    ss = 0.0\n",
    "    for item in list\n",
    "        ss += item\n",
    "    end\n",
    "    return ss\n",
    "end\n",
    "@code_lowered mysum([1,2,3])"
   ]
  },
  {
   "cell_type": "code",
   "execution_count": 8,
   "id": "432aa9cd",
   "metadata": {
    "slideshow": {
     "slide_type": "subslide"
    }
   },
   "outputs": [
    {
     "data": {
      "text/plain": [
       "CodeInfo(\n",
       "\u001b[90m1 ─\u001b[39m %1  = 1:5\n",
       "\u001b[90m│  \u001b[39m       @_2 = Base.iterate(%1)\n",
       "\u001b[90m│  \u001b[39m %3  = @_2 === nothing\n",
       "\u001b[90m│  \u001b[39m %4  = Base.not_int(%3)\n",
       "\u001b[90m└──\u001b[39m       goto #4 if not %4\n",
       "\u001b[90m2 ┄\u001b[39m %6  = @_2\n",
       "\u001b[90m│  \u001b[39m       i = Core.getfield(%6, 1)\n",
       "\u001b[90m│  \u001b[39m %8  = Core.getfield(%6, 2)\n",
       "\u001b[90m│  \u001b[39m       x = Main.rand()\n",
       "\u001b[90m│  \u001b[39m       @_2 = Base.iterate(%1, %8)\n",
       "\u001b[90m│  \u001b[39m %11 = @_2 === nothing\n",
       "\u001b[90m│  \u001b[39m %12 = Base.not_int(%11)\n",
       "\u001b[90m└──\u001b[39m       goto #4 if not %12\n",
       "\u001b[90m3 ─\u001b[39m       goto #2\n",
       "\u001b[90m4 ┄\u001b[39m %15 = Main.println(\"The last random number was \", Main.x)\n",
       "\u001b[90m└──\u001b[39m       return %15\n",
       ")"
      ]
     },
     "execution_count": 8,
     "metadata": {},
     "output_type": "execute_result"
    }
   ],
   "source": [
    "# We can see scoping in action:\n",
    "function f()\n",
    "    for i = 1:5\n",
    "        x = rand()\n",
    "    end\n",
    "    println(\"The last random number was \", x)\n",
    "end\n",
    "@code_lowered f()"
   ]
  },
  {
   "cell_type": "markdown",
   "id": "29dc8922",
   "metadata": {
    "slideshow": {
     "slide_type": "slide"
    }
   },
   "source": [
    "# Lowered representation of more complex constructs\n",
    "\n",
    "An example using inner functions:"
   ]
  },
  {
   "cell_type": "code",
   "execution_count": 9,
   "id": "a0f3edcd",
   "metadata": {},
   "outputs": [
    {
     "data": {
      "text/plain": [
       "CodeInfo(\n",
       "\u001b[90m1 ─\u001b[39m %1 = Main.:(var\"#f#1\")\n",
       "\u001b[90m│  \u001b[39m %2 = Core.typeof(a)\n",
       "\u001b[90m│  \u001b[39m %3 = Core.apply_type(%1, %2)\n",
       "\u001b[90m│  \u001b[39m      f = %new(%3, a)\n",
       "\u001b[90m│  \u001b[39m %5 = (f)(b)\n",
       "\u001b[90m└──\u001b[39m      return %5\n",
       ")"
      ]
     },
     "execution_count": 9,
     "metadata": {},
     "output_type": "execute_result"
    }
   ],
   "source": [
    "function myfunc(a, b)\n",
    "    f(z) = z^2 + a      # an inner function\n",
    "\n",
    "    return f(b)\n",
    "end\n",
    "@code_lowered myfunc(1, 1)"
   ]
  },
  {
   "cell_type": "markdown",
   "id": "47d8b96b",
   "metadata": {
    "slideshow": {
     "slide_type": "fragment"
    }
   },
   "source": [
    "What is `#f#1`?"
   ]
  },
  {
   "cell_type": "markdown",
   "id": "7dfba846",
   "metadata": {
    "slideshow": {
     "slide_type": "subslide"
    }
   },
   "source": [
    "Conceptually, Julia expands it like this:\n",
    "\n",
    "```julia\n",
    "struct FClosure{A}\n",
    "    a::A\n",
    "end\n",
    "(f::FClosure)(z) = z^2 + f.a\n",
    "\n",
    "function myfunc(a, b)\n",
    "    fc = FClosure{typeof(a)}(a)\n",
    "    return fc(b)\n",
    "end\n",
    "```\n",
    "\n",
    "`#f#1` is the automatically-generated name given to `FClosure`."
   ]
  },
  {
   "cell_type": "markdown",
   "id": "41726e9f",
   "metadata": {
    "slideshow": {
     "slide_type": "fragment"
    }
   },
   "source": [
    "We can see this with `Meta.lower(mod, expr)`:"
   ]
  },
  {
   "cell_type": "code",
   "execution_count": 10,
   "id": "4f25b078",
   "metadata": {
    "slideshow": {
     "slide_type": "subslide"
    }
   },
   "outputs": [
    {
     "data": {
      "text/plain": [
       ":($(Expr(:thunk, CodeInfo(\n",
       "   \u001b[33m @ In[10]:2 within `top-level scope`\u001b[39m\n",
       "\u001b[90m1 ─\u001b[39m       $(Expr(:thunk, CodeInfo(\n",
       "   \u001b[33m @ none within `top-level scope`\u001b[39m\n",
       "\u001b[90m1 ─\u001b[39m     return $(Expr(:method, :myfunc))\n",
       ")))\n",
       "\u001b[90m│  \u001b[39m       $(Expr(:method, :myfunc))\n",
       "\u001b[90m│  \u001b[39m       $(Expr(:thunk, CodeInfo(\n",
       "   \u001b[33m @ none within `top-level scope`\u001b[39m\n",
       "\u001b[90m1 ─\u001b[39m      global var\"#f#2\"\n",
       "\u001b[90m│  \u001b[39m      const var\"#f#2\"\n",
       "\u001b[90m│  \u001b[39m      Core.TypeVar(:a, Core.Any)\n",
       "\u001b[90m│  \u001b[39m %4 = Core._structtype(Main, Symbol(\"#f#2\"), Core.svec(%3), Core.svec(:a), Core.svec(), false, 1)\n",
       "\u001b[90m│  \u001b[39m      var\"#f#2\" = %4\n",
       "\u001b[90m│  \u001b[39m      Core._setsuper!(var\"#f#2\", Core.Function)\n",
       "\u001b[90m│  \u001b[39m      Core._typebody!(var\"#f#2\", Core.svec(%3))\n",
       "\u001b[90m└──\u001b[39m      return nothing\n",
       ")))\n",
       "\u001b[90m│  \u001b[39m %4  = Core.svec(var\"#f#2\", Core.Any)\n",
       "\u001b[90m│  \u001b[39m %5  = Core.svec()\n",
       "\u001b[90m│  \u001b[39m %6  = Core.svec(%4, %5, $(QuoteNode(:(\u001b[90m#= In[10]:3 =#\u001b[39m))))\n",
       "\u001b[90m│  \u001b[39m       $(Expr(:method, false, :(%6), CodeInfo(\n",
       "   \u001b[33m @ In[10]:3 within `none`\u001b[39m\n",
       "\u001b[90m1 ─\u001b[39m %1 = Core.apply_type(Base.Val, 2)\n",
       "\u001b[90m│  \u001b[39m %2 = (%1)()\n",
       "\u001b[90m│  \u001b[39m %3 = Base.literal_pow(^, z, %2)\n",
       "\u001b[90m│  \u001b[39m %4 = Core.getfield(#self#, :a)\n",
       "\u001b[90m│  \u001b[39m %5 = %3 + %4\n",
       "\u001b[90m└──\u001b[39m      return %5\n",
       ")))\n",
       "\u001b[90m│  \u001b[39m %8  = Core.Typeof(myfunc)\n",
       "\u001b[90m│  \u001b[39m %9  = Core.svec(%8, Core.Any, Core.Any)\n",
       "\u001b[90m│  \u001b[39m %10 = Core.svec()\n",
       "\u001b[90m│  \u001b[39m %11 = Core.svec(%9, %10, $(QuoteNode(:(\u001b[90m#= In[10]:2 =#\u001b[39m))))\n",
       "\u001b[90m│  \u001b[39m       $(Expr(:method, :myfunc, :(%11), CodeInfo(\n",
       "   \u001b[33m @ In[10]:3 within `none`\u001b[39m\n",
       "\u001b[90m1 ─\u001b[39m %1 = var\"#f#2\"\n",
       "\u001b[90m│  \u001b[39m %2 = Core.typeof(a)\n",
       "\u001b[90m│  \u001b[39m %3 = Core.apply_type(%1, %2)\n",
       "\u001b[90m│  \u001b[39m      f = %new(%3, a)\n",
       "\u001b[90m│ \u001b[39m \u001b[33m @ In[10]:5 within `none`\u001b[39m\n",
       "\u001b[90m│  \u001b[39m %5 = (f)(b)\n",
       "\u001b[90m└──\u001b[39m      return %5\n",
       ")))\n",
       "\u001b[90m└──\u001b[39m       return myfunc\n",
       "))))"
      ]
     },
     "execution_count": 10,
     "metadata": {},
     "output_type": "execute_result"
    }
   ],
   "source": [
    "Meta.lower(Main, quote\n",
    "    function myfunc(a, b)\n",
    "        f(z) = z^2 + a      # an inner function\n",
    "\n",
    "        return f(b)\n",
    "    end\n",
    "end)"
   ]
  },
  {
   "cell_type": "markdown",
   "id": "25cb202c",
   "metadata": {
    "slideshow": {
     "slide_type": "slide"
    }
   },
   "source": [
    "# @code_typed\n",
    "\n",
    "This allows you to see the results of type-inference:"
   ]
  },
  {
   "cell_type": "code",
   "execution_count": 14,
   "id": "bf498bdb",
   "metadata": {},
   "outputs": [
    {
     "data": {
      "text/plain": [
       "CodeInfo(\n",
       "\u001b[90m1 ─\u001b[39m %1 = a * a\n",
       "\u001b[90m│  \u001b[39m %2 = %1 + b\n",
       "\u001b[90m└──\u001b[39m      return %2\n",
       ")"
      ]
     },
     "execution_count": 14,
     "metadata": {},
     "output_type": "execute_result"
    }
   ],
   "source": [
    "f(a, b) = a*a + b\n",
    "@code_lowered f(1, 2)"
   ]
  },
  {
   "cell_type": "code",
   "execution_count": 17,
   "id": "945fcc2b",
   "metadata": {
    "slideshow": {
     "slide_type": "fragment"
    }
   },
   "outputs": [
    {
     "data": {
      "text/plain": [
       "CodeInfo(\n",
       "\u001b[90m1 ─\u001b[39m %1 = (a * a)\u001b[36m::Int64\u001b[39m\n",
       "\u001b[90m│  \u001b[39m %2 = (%1 + b)\u001b[36m::Int64\u001b[39m\n",
       "\u001b[90m└──\u001b[39m      return %2\n",
       ") => Int64"
      ]
     },
     "execution_count": 17,
     "metadata": {},
     "output_type": "execute_result"
    }
   ],
   "source": [
    "@code_typed optimize=false f(1, 2)"
   ]
  },
  {
   "cell_type": "code",
   "execution_count": 18,
   "id": "6ec9b3f3",
   "metadata": {
    "slideshow": {
     "slide_type": "subslide"
    }
   },
   "outputs": [
    {
     "data": {
      "text/plain": [
       "CodeInfo(\n",
       "\u001b[90m1 ─\u001b[39m %1 = Base.mul_int(a, a)\u001b[36m::Int64\u001b[39m\n",
       "\u001b[90m│  \u001b[39m %2 = Base.add_int(%1, b)\u001b[36m::Int64\u001b[39m\n",
       "\u001b[90m└──\u001b[39m      return %2\n",
       ") => Int64"
      ]
     },
     "execution_count": 18,
     "metadata": {},
     "output_type": "execute_result"
    }
   ],
   "source": [
    "@code_typed optimize=true f(1, 2)"
   ]
  },
  {
   "cell_type": "code",
   "execution_count": 15,
   "id": "3d844c82",
   "metadata": {
    "slideshow": {
     "slide_type": "fragment"
    }
   },
   "outputs": [
    {
     "data": {
      "text/plain": [
       "CodeInfo(\n",
       "\u001b[90m1 ─\u001b[39m %1 = Base.mul_float(a, a)\u001b[36m::Float64\u001b[39m\n",
       "\u001b[90m│  \u001b[39m %2 = Base.sitofp(Float64, b)\u001b[36m::Float64\u001b[39m\n",
       "\u001b[90m│  \u001b[39m %3 = Base.add_float(%1, %2)\u001b[36m::Float64\u001b[39m\n",
       "\u001b[90m└──\u001b[39m      return %3\n",
       ") => Float64"
      ]
     },
     "execution_count": 15,
     "metadata": {},
     "output_type": "execute_result"
    }
   ],
   "source": [
    "@code_typed f(1.0, 2)"
   ]
  },
  {
   "cell_type": "markdown",
   "id": "1c68cbf0",
   "metadata": {
    "slideshow": {
     "slide_type": "slide"
    }
   },
   "source": [
    "# Summary\n",
    "\n",
    "- Each `Method` has a single lowered-code representation\n",
    "- See it with `@code_lowered` or, in complex cases, `Meta.lower`\n",
    "- Lowering expands macros, resolves and flattens scope, and reduces control-flow to \"goto\"s\n",
    "- `@code_typed` also shows type inference (corresponding to a particular `MethodInstance`)\n",
    "- `@code_typed` by default applies optimization transformations like inlining and linearization\n",
    "\n",
    "With practice, these code representations become quite readable"
   ]
  },
  {
   "cell_type": "code",
   "execution_count": null,
   "id": "a1f290b1",
   "metadata": {},
   "outputs": [],
   "source": []
  }
 ],
 "metadata": {
  "celltoolbar": "Slideshow",
  "kernelspec": {
   "display_name": "Julia 1.7.0-pre3-ns 1.7.0-beta3",
   "language": "julia",
   "name": "julia-1.7.0-pre3-ns-1.7"
  },
  "language_info": {
   "file_extension": ".jl",
   "mimetype": "application/julia",
   "name": "julia",
   "version": "1.7.0"
  },
  "rise": {
   "scroll": true
  }
 },
 "nbformat": 4,
 "nbformat_minor": 5
}

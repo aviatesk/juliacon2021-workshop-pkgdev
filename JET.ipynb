{
 "cells": [
  {
   "cell_type": "markdown",
   "id": "0f2a66ef",
   "metadata": {
    "slideshow": {
     "slide_type": "slide"
    }
   },
   "source": [
    "# JET.jl Workshop\n",
    "\n",
    "Shuhei Kadowaki"
   ]
  },
  {
   "cell_type": "markdown",
   "id": "5b2e2fa3",
   "metadata": {},
   "source": [
    "<h2>Workshop Outline<span class=\"tocSkip\"></span></h2>\n",
    "<div class=\"toc\"><ul class=\"toc-item\"><li><span><a href=\"#Overview-of-JET.jl\" data-toc-modified-id=\"Overview-of-JET.jl-1\"><span class=\"toc-item-num\">1&nbsp;&nbsp;</span>Overview of JET.jl</a></span><ul class=\"toc-item\"><li><span><a href=\"#What-is-JET-?\" data-toc-modified-id=\"What-is-JET-?-1.1\"><span class=\"toc-item-num\">1.1&nbsp;&nbsp;</span>What is JET ?</a></span></li><li><span><a href=\"#Why-JET-?\" data-toc-modified-id=\"Why-JET-?-1.2\"><span class=\"toc-item-num\">1.2&nbsp;&nbsp;</span>Why JET ?</a></span></li></ul></li><li><span><a href=\"#Get-Started-!\" data-toc-modified-id=\"Get-Started-!-2\"><span class=\"toc-item-num\">2&nbsp;&nbsp;</span>Get Started !</a></span><ul class=\"toc-item\"><li><span><a href=\"#Type-Level-Analysis\" data-toc-modified-id=\"Type-Level-Analysis-2.1\"><span class=\"toc-item-num\">2.1&nbsp;&nbsp;</span>Type-Level Analysis</a></span></li><li><span><a href=\"#First-Class-Metaprogramming-Support\" data-toc-modified-id=\"First-Class-Metaprogramming-Support-2.2\"><span class=\"toc-item-num\">2.2&nbsp;&nbsp;</span>First-Class Metaprogramming Support</a></span></li><li><span><a href=\"#Entry-Points\" data-toc-modified-id=\"Entry-Points-2.3\"><span class=\"toc-item-num\">2.3&nbsp;&nbsp;</span>Entry Points</a></span></li></ul></li><li><span><a href=\"#JET-on-Real-world-Package\" data-toc-modified-id=\"JET-on-Real-world-Package-3\"><span class=\"toc-item-num\">3&nbsp;&nbsp;</span>JET on Real-world Package</a></span></li><li><span><a href=\"#Performance-Linting\" data-toc-modified-id=\"Performance-Linting-4\"><span class=\"toc-item-num\">4&nbsp;&nbsp;</span>Performance Linting</a></span></li><li><span><a href=\"#Performance-Linting-Example:-Improve-The-Performance-of-Julia-Compiler\" data-toc-modified-id=\"Performance-Linting-Example:-Improve-The-Performance-of-Julia-Compiler-5\"><span class=\"toc-item-num\">5&nbsp;&nbsp;</span>Performance Linting Example: Improve The Performance of Julia Compiler</a></span></li></ul></div>"
   ]
  },
  {
   "cell_type": "markdown",
   "id": "43d3b83d",
   "metadata": {
    "slideshow": {
     "slide_type": "subslide"
    }
   },
   "source": [
    "## Overview of JET.jl\n",
    "\n",
    "### What is JET ?\n",
    "\n",
    "- JET is a code analyzer for Julia\n",
    "- JET can take an ordinal Julia program and _automatically_ detect possible error points – there is no need for any additional setups !\n",
    "\n",
    "### Why JET ?\n",
    "\n",
    "- JET's analysis is powered by type inference, so JET can detect _type-level_ errors (but without any additional annotations)\n",
    "- JET offers a first-class metaprogramming support"
   ]
  },
  {
   "cell_type": "markdown",
   "id": "90026a5f",
   "metadata": {
    "slideshow": {
     "slide_type": "slide"
    }
   },
   "source": [
    "## Get Started !"
   ]
  },
  {
   "cell_type": "code",
   "execution_count": 1,
   "id": "f48e318e",
   "metadata": {},
   "outputs": [],
   "source": [
    "using JET"
   ]
  },
  {
   "cell_type": "code",
   "execution_count": 2,
   "id": "3177d40e",
   "metadata": {},
   "outputs": [
    {
     "data": {
      "text/plain": [
       "@report_toplevel (macro with 1 method)"
      ]
     },
     "execution_count": 2,
     "metadata": {},
     "output_type": "execute_result"
    }
   ],
   "source": [
    "# NOTE:\n",
    "# This is a very specific setup for this workshop.\n",
    "# We usually just use the entries like `report_file`, `report_package` or `@report_call`, that are exported by JET default\n",
    "\n",
    "# a sandbox module where JET's virtual process runs in\n",
    "module __JET_VMOD__ end\n",
    "\n",
    "# takes arbitrary Julia expression and runs JET on it\n",
    "macro report_toplevel(xs...)\n",
    "    iskwarg(@nospecialize(x)) = Meta.isexpr(x, :(=))\n",
    "\n",
    "    jetconfigs = filter(iskwarg, xs)\n",
    "\n",
    "    xs′ = filter(!iskwarg, xs)\n",
    "    @assert length(xs′) == 1\n",
    "    ex = first(xs′)\n",
    "    toplevelex = (Meta.isexpr(ex, :block) ?\n",
    "                  Expr(:toplevel, __source__, ex.args...) : # flatten here\n",
    "                  Expr(:toplevel, __source__, ex)\n",
    "                  ) |> QuoteNode\n",
    "\n",
    "    return :(let\n",
    "        analyzer = $(GlobalRef(JET, :JETAnalyzer))(; $(map(esc, jetconfigs)...))\n",
    "        config = $(GlobalRef(JET, :ToplevelConfig))(; $(map(esc, jetconfigs)...))\n",
    "        res = $(GlobalRef(JET, :virtual_process))($toplevelex,\n",
    "                                                  $(string(__source__.file)),\n",
    "                                                  analyzer,\n",
    "                                                  config,\n",
    "                                                  )\n",
    "        $(GlobalRef(JET, :report_result))(stdout::IO, res; $(map(esc, jetconfigs)...))\n",
    "    end)\n",
    "end"
   ]
  },
  {
   "cell_type": "markdown",
   "id": "0f44877b",
   "metadata": {
    "slideshow": {
     "slide_type": "slide"
    }
   },
   "source": [
    "### Type-Level Analysis"
   ]
  },
  {
   "cell_type": "markdown",
   "id": "b9f1bf1e",
   "metadata": {},
   "source": [
    "As the first example, let's run JET on a simple function that calculates nth number of the Fibonacci series."
   ]
  },
  {
   "cell_type": "code",
   "execution_count": 3,
   "id": "b4422032",
   "metadata": {
    "slideshow": {
     "slide_type": "subslide"
    }
   },
   "outputs": [
    {
     "name": "stdout",
     "output_type": "stream",
     "text": [
      "\u001b[7m═════ 1 possible error found ═════\u001b[27m\n",
      "\u001b[35m┌ @ In[3]:7 \u001b[39m\u001b[0mfib\u001b[0m(\u001b[0m\"1000\"\u001b[0m)\n",
      "\u001b[35m│\u001b[39m\u001b[34m┌ @ In[3]:2 \u001b[39m\u001b[0m≤\u001b[0m(\u001b[0mn\u001b[0m, \u001b[0m2\u001b[0m)\n",
      "\u001b[35m│\u001b[39m\u001b[34m│\u001b[39m\u001b[33m┌ @ operators.jl:401 \u001b[39m\u001b[0mBase.<\u001b[0m(\u001b[0mx\u001b[0m, \u001b[0my\u001b[0m)\n",
      "\u001b[35m│\u001b[39m\u001b[34m│\u001b[39m\u001b[33m│\u001b[39m\u001b[91m┌ @ operators.jl:352 \u001b[39m\u001b[0mBase.isless\u001b[0m(\u001b[0mx\u001b[0m, \u001b[0my\u001b[0m)\n",
      "\u001b[35m│\u001b[39m\u001b[34m│\u001b[39m\u001b[33m│\u001b[39m\u001b[91m│ no matching method found for call signature (Tuple{typeof(isless), String, Int64}): \u001b[39m\u001b[0m\u001b[1mBase.isless\u001b[22m\u001b[0m\u001b[1m(\u001b[22m\u001b[0m\u001b[1mx\u001b[22m\u001b[96m\u001b[1m::String\u001b[22m\u001b[39m\u001b[0m\u001b[1m, \u001b[22m\u001b[0m\u001b[1my\u001b[22m\u001b[96m\u001b[1m::Int64\u001b[22m\u001b[39m\u001b[0m\u001b[1m)\u001b[22m\n",
      "\u001b[35m│\u001b[39m\u001b[34m│\u001b[39m\u001b[33m│\u001b[39m\u001b[91m└────────────────────\u001b[39m\n"
     ]
    },
    {
     "data": {
      "text/plain": [
       "(included_files = Set{String}(), nreported = 1)"
      ]
     },
     "execution_count": 3,
     "metadata": {},
     "output_type": "execute_result"
    }
   ],
   "source": [
    "@report_toplevel begin\n",
    "    fib(n) = n ≤ 2 ? n : fib(n-1) + fib(n-2)\n",
    "\n",
    "    fib(1000)\n",
    "    fib(1000.0)\n",
    "    fib(BigInt(1000))\n",
    "    fib(\"1000\")       # error !\n",
    "end"
   ]
  },
  {
   "cell_type": "markdown",
   "id": "7bc7c141",
   "metadata": {},
   "source": [
    "- JET successfully found an error on `fib(\"1000\")`\n",
    "- But `fib` is very inefficient, so `fib(1000)` won't terminate in actual execution\n",
    "\n",
    "How is that possible ?"
   ]
  },
  {
   "cell_type": "markdown",
   "id": "46c1c13d",
   "metadata": {},
   "source": [
    "- JET analyzes an input program only on _type-level_ (so this is a \"static analysis\" using the technique called \"abstract interpretation\")\n",
    "- JET's analysis is really different from actually running the program\n",
    "\n",
    "To see the difference better, let's consider the next example."
   ]
  },
  {
   "cell_type": "code",
   "execution_count": 4,
   "id": "a04bfda8",
   "metadata": {
    "slideshow": {
     "slide_type": "subslide"
    }
   },
   "outputs": [
    {
     "data": {
      "text/plain": [
       "42.0"
      ]
     },
     "execution_count": 4,
     "metadata": {},
     "output_type": "execute_result"
    }
   ],
   "source": [
    "# takes an iterator, and tries to parse its elements into floating numbers,\n",
    "# and then sum up succesfully parsed elements\n",
    "function parsesum(args)\n",
    "    argvals = []\n",
    "    for arg in args\n",
    "        try\n",
    "            push!(argvals, parse(Float64, arg))\n",
    "        catch\n",
    "        end\n",
    "    end\n",
    "    return sum(argvals)\n",
    "end\n",
    "\n",
    "parsesum([\"20\", \"foo\", \"22.\"])"
   ]
  },
  {
   "cell_type": "markdown",
   "id": "aff21740",
   "metadata": {},
   "source": [
    "It works ! Let's see what JET says on it:"
   ]
  },
  {
   "cell_type": "code",
   "execution_count": 5,
   "id": "f672c4d4",
   "metadata": {},
   "outputs": [
    {
     "name": "stdout",
     "output_type": "stream",
     "text": [
      "\u001b[7m═════ 1 possible error found ═════\u001b[27m\n",
      "\u001b[35m┌ @ In[5]:13 \u001b[39m\u001b[0mparsesum\u001b[0m(\u001b[0mBase.vect\u001b[0m(\u001b[0m\"20\"\u001b[0m, \u001b[0m\"foo\"\u001b[0m, \u001b[0m\"22.\"\u001b[0m)\u001b[0m)\n",
      "\u001b[35m│\u001b[39m\u001b[34m┌ @ In[5]:10 \u001b[39m\u001b[0msum\u001b[0m(\u001b[0margvals\u001b[0m)\n",
      "\u001b[35m│\u001b[39m\u001b[34m│\u001b[39m\u001b[33m┌ @ reducedim.jl:889 \u001b[39m\u001b[0mBase.#sum#738\u001b[0m(\u001b[0mBase.:\u001b[0m, \u001b[0mBase.pairs\u001b[0m(\u001b[0mCore.NamedTuple\u001b[0m(\u001b[0m)\u001b[0m)\u001b[0m, \u001b[0m#self#\u001b[0m, \u001b[0ma\u001b[0m)\n",
      "\u001b[35m│\u001b[39m\u001b[34m│\u001b[39m\u001b[33m│\u001b[39m\u001b[32m┌ @ reducedim.jl:889 \u001b[39m\u001b[0mBase._sum\u001b[0m(\u001b[0ma\u001b[0m, \u001b[0mdims\u001b[0m)\n",
      "\u001b[35m│\u001b[39m\u001b[34m│\u001b[39m\u001b[33m│\u001b[39m\u001b[32m│\u001b[39m\u001b[35m┌ @ reducedim.jl:893 \u001b[39m\u001b[0mBase.#_sum#740\u001b[0m(\u001b[0mBase.pairs\u001b[0m(\u001b[0mCore.NamedTuple\u001b[0m(\u001b[0m)\u001b[0m)\u001b[0m, \u001b[0m#self#\u001b[0m, \u001b[0ma\u001b[0m, \u001b[0m_3\u001b[0m)\n",
      "\u001b[35m│\u001b[39m\u001b[34m│\u001b[39m\u001b[33m│\u001b[39m\u001b[32m│\u001b[39m\u001b[35m│\u001b[39m\u001b[34m┌ @ reducedim.jl:893 \u001b[39m\u001b[0mBase._sum\u001b[0m(\u001b[0mBase.identity\u001b[0m, \u001b[0ma\u001b[0m, \u001b[0mBase.:\u001b[0m)\n",
      "\u001b[35m│\u001b[39m\u001b[34m│\u001b[39m\u001b[33m│\u001b[39m\u001b[32m│\u001b[39m\u001b[35m│\u001b[39m\u001b[34m│\u001b[39m\u001b[33m┌ @ reducedim.jl:894 \u001b[39m\u001b[0mBase.#_sum#741\u001b[0m(\u001b[0mBase.pairs\u001b[0m(\u001b[0mCore.NamedTuple\u001b[0m(\u001b[0m)\u001b[0m)\u001b[0m, \u001b[0m#self#\u001b[0m, \u001b[0mf\u001b[0m, \u001b[0ma\u001b[0m, \u001b[0m_4\u001b[0m)\n",
      "\u001b[35m│\u001b[39m\u001b[34m│\u001b[39m\u001b[33m│\u001b[39m\u001b[32m│\u001b[39m\u001b[35m│\u001b[39m\u001b[34m│\u001b[39m\u001b[33m│\u001b[39m\u001b[32m┌ @ reducedim.jl:894 \u001b[39m\u001b[0mBase.mapreduce\u001b[0m(\u001b[0mf\u001b[0m, \u001b[0mBase.add_sum\u001b[0m, \u001b[0ma\u001b[0m)\n",
      "\u001b[35m│\u001b[39m\u001b[34m│\u001b[39m\u001b[33m│\u001b[39m\u001b[32m│\u001b[39m\u001b[35m│\u001b[39m\u001b[34m│\u001b[39m\u001b[33m│\u001b[39m\u001b[32m│\u001b[39m\u001b[35m┌ @ reducedim.jl:322 \u001b[39m\u001b[0mBase.#mapreduce#731\u001b[0m(\u001b[0mBase.:\u001b[0m, \u001b[0mBase._InitialValue\u001b[0m(\u001b[0m)\u001b[0m, \u001b[0m#self#\u001b[0m, \u001b[0mf\u001b[0m, \u001b[0mop\u001b[0m, \u001b[0mA\u001b[0m)\n",
      "\u001b[35m│\u001b[39m\u001b[34m│\u001b[39m\u001b[33m│\u001b[39m\u001b[32m│\u001b[39m\u001b[35m│\u001b[39m\u001b[34m│\u001b[39m\u001b[33m│\u001b[39m\u001b[32m│\u001b[39m\u001b[35m│\u001b[39m\u001b[34m┌ @ reducedim.jl:322 \u001b[39m\u001b[0mBase._mapreduce_dim\u001b[0m(\u001b[0mf\u001b[0m, \u001b[0mop\u001b[0m, \u001b[0minit\u001b[0m, \u001b[0mA\u001b[0m, \u001b[0mdims\u001b[0m)\n",
      "\u001b[35m│\u001b[39m\u001b[34m│\u001b[39m\u001b[33m│\u001b[39m\u001b[32m│\u001b[39m\u001b[35m│\u001b[39m\u001b[34m│\u001b[39m\u001b[33m│\u001b[39m\u001b[32m│\u001b[39m\u001b[35m│\u001b[39m\u001b[34m│\u001b[39m\u001b[33m┌ @ reducedim.jl:330 \u001b[39m\u001b[0mBase._mapreduce\u001b[0m(\u001b[0mf\u001b[0m, \u001b[0mop\u001b[0m, \u001b[0mBase.IndexStyle\u001b[0m(\u001b[0mA\u001b[0m)\u001b[0m, \u001b[0mA\u001b[0m)\n",
      "\u001b[35m│\u001b[39m\u001b[34m│\u001b[39m\u001b[33m│\u001b[39m\u001b[32m│\u001b[39m\u001b[35m│\u001b[39m\u001b[34m│\u001b[39m\u001b[33m│\u001b[39m\u001b[32m│\u001b[39m\u001b[35m│\u001b[39m\u001b[34m│\u001b[39m\u001b[33m│\u001b[39m\u001b[32m┌ @ reduce.jl:402 \u001b[39m\u001b[0mBase.mapreduce_empty_iter\u001b[0m(\u001b[0mf\u001b[0m, \u001b[0mop\u001b[0m, \u001b[0mA\u001b[0m, \u001b[0mBase.IteratorEltype\u001b[0m(\u001b[0mA\u001b[0m)\u001b[0m)\n",
      "\u001b[35m│\u001b[39m\u001b[34m│\u001b[39m\u001b[33m│\u001b[39m\u001b[32m│\u001b[39m\u001b[35m│\u001b[39m\u001b[34m│\u001b[39m\u001b[33m│\u001b[39m\u001b[32m│\u001b[39m\u001b[35m│\u001b[39m\u001b[34m│\u001b[39m\u001b[33m│\u001b[39m\u001b[32m│\u001b[39m\u001b[35m┌ @ reduce.jl:353 \u001b[39m\u001b[0mBase.reduce_empty_iter\u001b[0m(\u001b[0mBase.MappingRF\u001b[0m(\u001b[0mf\u001b[0m, \u001b[0mop\u001b[0m)\u001b[0m, \u001b[0mitr\u001b[0m, \u001b[0mItrEltype\u001b[0m)\n",
      "\u001b[35m│\u001b[39m\u001b[34m│\u001b[39m\u001b[33m│\u001b[39m\u001b[32m│\u001b[39m\u001b[35m│\u001b[39m\u001b[34m│\u001b[39m\u001b[33m│\u001b[39m\u001b[32m│\u001b[39m\u001b[35m│\u001b[39m\u001b[34m│\u001b[39m\u001b[33m│\u001b[39m\u001b[32m│\u001b[39m\u001b[35m│\u001b[39m\u001b[34m┌ @ reduce.jl:357 \u001b[39m\u001b[0mBase.reduce_empty\u001b[0m(\u001b[0mop\u001b[0m, \u001b[0mBase.eltype\u001b[0m(\u001b[0mitr\u001b[0m)\u001b[0m)\n",
      "\u001b[35m│\u001b[39m\u001b[34m│\u001b[39m\u001b[33m│\u001b[39m\u001b[32m│\u001b[39m\u001b[35m│\u001b[39m\u001b[34m│\u001b[39m\u001b[33m│\u001b[39m\u001b[32m│\u001b[39m\u001b[35m│\u001b[39m\u001b[34m│\u001b[39m\u001b[33m│\u001b[39m\u001b[32m│\u001b[39m\u001b[35m│\u001b[39m\u001b[34m│\u001b[39m\u001b[33m┌ @ reduce.jl:331 \u001b[39m\u001b[0mBase.mapreduce_empty\u001b[0m(\u001b[0mBase.getproperty\u001b[0m(\u001b[0mop\u001b[0m, \u001b[0m:f\u001b[0m)\u001b[0m, \u001b[0mBase.getproperty\u001b[0m(\u001b[0mop\u001b[0m, \u001b[0m:rf\u001b[0m)\u001b[0m, \u001b[0m_\u001b[0m)\n",
      "\u001b[35m│\u001b[39m\u001b[34m│\u001b[39m\u001b[33m│\u001b[39m\u001b[32m│\u001b[39m\u001b[35m│\u001b[39m\u001b[34m│\u001b[39m\u001b[33m│\u001b[39m\u001b[32m│\u001b[39m\u001b[35m│\u001b[39m\u001b[34m│\u001b[39m\u001b[33m│\u001b[39m\u001b[32m│\u001b[39m\u001b[35m│\u001b[39m\u001b[34m│\u001b[39m\u001b[33m│\u001b[39m\u001b[32m┌ @ reduce.jl:345 \u001b[39m\u001b[0mBase.reduce_empty\u001b[0m(\u001b[0mop\u001b[0m, \u001b[0mT\u001b[0m)\n",
      "\u001b[35m│\u001b[39m\u001b[34m│\u001b[39m\u001b[33m│\u001b[39m\u001b[32m│\u001b[39m\u001b[35m│\u001b[39m\u001b[34m│\u001b[39m\u001b[33m│\u001b[39m\u001b[32m│\u001b[39m\u001b[35m│\u001b[39m\u001b[34m│\u001b[39m\u001b[33m│\u001b[39m\u001b[32m│\u001b[39m\u001b[35m│\u001b[39m\u001b[34m│\u001b[39m\u001b[33m│\u001b[39m\u001b[32m│\u001b[39m\u001b[35m┌ @ reduce.jl:322 \u001b[39m\u001b[0mBase.reduce_empty\u001b[0m(\u001b[0mBase.+\u001b[0m, \u001b[0m_\u001b[0m)\n",
      "\u001b[35m│\u001b[39m\u001b[34m│\u001b[39m\u001b[33m│\u001b[39m\u001b[32m│\u001b[39m\u001b[35m│\u001b[39m\u001b[34m│\u001b[39m\u001b[33m│\u001b[39m\u001b[32m│\u001b[39m\u001b[35m│\u001b[39m\u001b[34m│\u001b[39m\u001b[33m│\u001b[39m\u001b[32m│\u001b[39m\u001b[35m│\u001b[39m\u001b[34m│\u001b[39m\u001b[33m│\u001b[39m\u001b[32m│\u001b[39m\u001b[35m│\u001b[39m\u001b[34m┌ @ reduce.jl:313 \u001b[39m\u001b[0mBase.zero\u001b[0m(\u001b[0m_\u001b[0m)\n",
      "\u001b[35m│\u001b[39m\u001b[34m│\u001b[39m\u001b[33m│\u001b[39m\u001b[32m│\u001b[39m\u001b[35m│\u001b[39m\u001b[34m│\u001b[39m\u001b[33m│\u001b[39m\u001b[32m│\u001b[39m\u001b[35m│\u001b[39m\u001b[34m│\u001b[39m\u001b[33m│\u001b[39m\u001b[32m│\u001b[39m\u001b[35m│\u001b[39m\u001b[34m│\u001b[39m\u001b[33m│\u001b[39m\u001b[32m│\u001b[39m\u001b[35m│\u001b[39m\u001b[34m│\u001b[39m\u001b[91m┌ @ missing.jl:106 \u001b[39m\u001b[0mBase.throw\u001b[0m(\u001b[0mBase.MethodError\u001b[0m(\u001b[0mBase.zero\u001b[0m, \u001b[0mCore.tuple\u001b[0m(\u001b[0mBase.Any\u001b[0m)\u001b[0m)\u001b[0m)\n",
      "\u001b[35m│\u001b[39m\u001b[34m│\u001b[39m\u001b[33m│\u001b[39m\u001b[32m│\u001b[39m\u001b[35m│\u001b[39m\u001b[34m│\u001b[39m\u001b[33m│\u001b[39m\u001b[32m│\u001b[39m\u001b[35m│\u001b[39m\u001b[34m│\u001b[39m\u001b[33m│\u001b[39m\u001b[32m│\u001b[39m\u001b[35m│\u001b[39m\u001b[34m│\u001b[39m\u001b[33m│\u001b[39m\u001b[32m│\u001b[39m\u001b[35m│\u001b[39m\u001b[34m│\u001b[39m\u001b[91m│ MethodError: no method matching zero(::Type{Any})\u001b[39m\n",
      "\u001b[35m│\u001b[39m\u001b[34m│\u001b[39m\u001b[33m│\u001b[39m\u001b[32m│\u001b[39m\u001b[35m│\u001b[39m\u001b[34m│\u001b[39m\u001b[33m│\u001b[39m\u001b[32m│\u001b[39m\u001b[35m│\u001b[39m\u001b[34m│\u001b[39m\u001b[33m│\u001b[39m\u001b[32m│\u001b[39m\u001b[35m│\u001b[39m\u001b[34m│\u001b[39m\u001b[33m│\u001b[39m\u001b[32m│\u001b[39m\u001b[35m│\u001b[39m\u001b[34m│\u001b[39m\u001b[91m└──────────────────\u001b[39m\n"
     ]
    },
    {
     "data": {
      "text/plain": [
       "(included_files = Set{String}(), nreported = 1)"
      ]
     },
     "execution_count": 5,
     "metadata": {},
     "output_type": "execute_result"
    }
   ],
   "source": [
    "@report_toplevel begin\n",
    "    function parsesum(args)\n",
    "        argvals = []\n",
    "        for arg in args\n",
    "            try\n",
    "                push!(argvals, parse(Float64, arg))\n",
    "            catch\n",
    "            end\n",
    "        end\n",
    "        return sum(argvals)\n",
    "    end\n",
    "    \n",
    "    parsesum([\"20\", \"foo\", \"22.\"])\n",
    "end"
   ]
  },
  {
   "cell_type": "markdown",
   "id": "11f010fe",
   "metadata": {},
   "source": [
    "Why does JET complain something here ?\n",
    "\n",
    "=> `argvals` is an untyped vector (i.e. `Vector{Any}`), so Julia doesn't know what `sum(argvals)` should return when it's empty."
   ]
  },
  {
   "cell_type": "code",
   "execution_count": 6,
   "id": "4740c48c",
   "metadata": {},
   "outputs": [
    {
     "ename": "LoadError",
     "evalue": "MethodError: no method matching zero(::Type{Any})\n\u001b[0mClosest candidates are:\n\u001b[0m  zero(::Type{Union{Missing, T}}) where T at missing.jl:105\n\u001b[0m  zero(\u001b[91m::Union{Type{P}, P}\u001b[39m) where P<:Dates.Period at /Users/aviatesk/julia/julia/usr/share/julia/stdlib/v1.8/Dates/src/periods.jl:53\n\u001b[0m  zero(\u001b[91m::LinearAlgebra.UniformScaling{T}\u001b[39m) where T at /Users/aviatesk/julia/julia/usr/share/julia/stdlib/v1.8/LinearAlgebra/src/uniformscaling.jl:136\n\u001b[0m  ...",
     "output_type": "error",
     "traceback": [
      "MethodError: no method matching zero(::Type{Any})\n\u001b[0mClosest candidates are:\n\u001b[0m  zero(::Type{Union{Missing, T}}) where T at missing.jl:105\n\u001b[0m  zero(\u001b[91m::Union{Type{P}, P}\u001b[39m) where P<:Dates.Period at /Users/aviatesk/julia/julia/usr/share/julia/stdlib/v1.8/Dates/src/periods.jl:53\n\u001b[0m  zero(\u001b[91m::LinearAlgebra.UniformScaling{T}\u001b[39m) where T at /Users/aviatesk/julia/julia/usr/share/julia/stdlib/v1.8/LinearAlgebra/src/uniformscaling.jl:136\n\u001b[0m  ...",
      "",
      "Stacktrace:",
      "  [1] zero(#unused#::Type{Any})",
      "    @ Base ./missing.jl:106",
      "  [2] reduce_empty(#unused#::typeof(+), #unused#::Type{Any})",
      "    @ Base ./reduce.jl:313",
      "  [3] reduce_empty(#unused#::typeof(Base.add_sum), #unused#::Type{Any})",
      "    @ Base ./reduce.jl:322",
      "  [4] mapreduce_empty(#unused#::typeof(identity), op::Function, T::Type)",
      "    @ Base ./reduce.jl:345",
      "  [5] reduce_empty(op::Base.MappingRF{typeof(identity), typeof(Base.add_sum)}, #unused#::Type{Any})",
      "    @ Base ./reduce.jl:331",
      "  [6] reduce_empty_iter",
      "    @ ./reduce.jl:357 [inlined]",
      "  [7] mapreduce_empty_iter(f::Function, op::Function, itr::Vector{Any}, ItrEltype::Base.HasEltype)",
      "    @ Base ./reduce.jl:353",
      "  [8] _mapreduce(f::typeof(identity), op::typeof(Base.add_sum), #unused#::IndexLinear, A::Vector{Any})",
      "    @ Base ./reduce.jl:402",
      "  [9] _mapreduce_dim",
      "    @ ./reducedim.jl:330 [inlined]",
      " [10] #mapreduce#731",
      "    @ ./reducedim.jl:322 [inlined]",
      " [11] mapreduce",
      "    @ ./reducedim.jl:322 [inlined]",
      " [12] #_sum#741",
      "    @ ./reducedim.jl:894 [inlined]",
      " [13] _sum",
      "    @ ./reducedim.jl:894 [inlined]",
      " [14] #_sum#740",
      "    @ ./reducedim.jl:893 [inlined]",
      " [15] _sum",
      "    @ ./reducedim.jl:893 [inlined]",
      " [16] #sum#738",
      "    @ ./reducedim.jl:889 [inlined]",
      " [17] sum",
      "    @ ./reducedim.jl:889 [inlined]",
      " [18] parsesum(args::Vector{String})",
      "    @ Main ./In[4]:11",
      " [19] top-level scope",
      "    @ In[6]:2",
      " [20] eval",
      "    @ ./boot.jl:373 [inlined]",
      " [21] include_string(mapexpr::typeof(REPL.softscope), mod::Module, code::String, filename::String)",
      "    @ Base ./loading.jl:1207"
     ]
    }
   ],
   "source": [
    "# JET found this error ahead of time !\n",
    "parsesum([\"twenty\", \"foo\", \"twenty-two\"])"
   ]
  },
  {
   "cell_type": "markdown",
   "id": "afffe1f4",
   "metadata": {},
   "source": [
    "- JET reasons about _all the possible program executions_\n",
    "- so it can detect possible errors that test cases may not cover yet"
   ]
  },
  {
   "cell_type": "code",
   "execution_count": 7,
   "id": "ed9569f5",
   "metadata": {},
   "outputs": [
    {
     "name": "stdout",
     "output_type": "stream",
     "text": [
      "\u001b[92mNo errors !\u001b[39m\n"
     ]
    },
    {
     "data": {
      "text/plain": [
       "(included_files = Set{String}(), nreported = 0)"
      ]
     },
     "execution_count": 7,
     "metadata": {},
     "output_type": "execute_result"
    }
   ],
   "source": [
    "@report_toplevel begin\n",
    "    function parsesum(args)\n",
    "        argvals = Float64[] # tell the compiler about the element types\n",
    "        for arg in args\n",
    "            try\n",
    "                push!(argvals, parse(Float64, arg))\n",
    "            catch\n",
    "            end\n",
    "        end\n",
    "        return sum(argvals)\n",
    "    end\n",
    "    \n",
    "    parsesum([\"twenty\", \"foo\", \"twenty-two\"])\n",
    "end"
   ]
  },
  {
   "cell_type": "markdown",
   "id": "ed6e2c73",
   "metadata": {},
   "source": [
    "This feature of JET is particularly useful when you're defining a new type that implements some interfaces so that we can use it for existing generic functions."
   ]
  },
  {
   "cell_type": "code",
   "execution_count": 8,
   "id": "b0a7a644",
   "metadata": {},
   "outputs": [
    {
     "data": {
      "text/plain": [
       "385"
      ]
     },
     "execution_count": 8,
     "metadata": {},
     "output_type": "execute_result"
    }
   ],
   "source": [
    "mutable struct Squares\n",
    "    count::Int\n",
    "end\n",
    "Base.iterate(S::Squares, s=1) =\n",
    "    s > S.count ? nothing : (s^2, s+1)\n",
    "Base.length(S::Squares) = S.count\n",
    "\n",
    "sum(Squares(10))"
   ]
  },
  {
   "cell_type": "markdown",
   "id": "6f94a57d",
   "metadata": {},
   "source": [
    "`Squares` behaves like an iterator that yields squared numbers.\n",
    "It seemingly works well for the `sum` function, but JET should tell us that it has the same problem as `parsesum`."
   ]
  },
  {
   "cell_type": "code",
   "execution_count": 9,
   "id": "d0610670",
   "metadata": {},
   "outputs": [
    {
     "name": "stdout",
     "output_type": "stream",
     "text": [
      "\u001b[7m═════ 1 possible error found ═════\u001b[27m\n",
      "\u001b[35m┌ @ In[9]:9 \u001b[39m\u001b[0mMain.__JET_VMOD__.sum\u001b[0m(\u001b[0mMain.__JET_VMOD__.Squares\u001b[0m(\u001b[0m10\u001b[0m)\u001b[0m)\n",
      "\u001b[35m│\u001b[39m\u001b[34m┌ @ reduce.jl:532 \u001b[39m\u001b[0mBase.#sum#256\u001b[0m(\u001b[0mBase.pairs\u001b[0m(\u001b[0mCore.NamedTuple\u001b[0m(\u001b[0m)\u001b[0m)\u001b[0m, \u001b[0m#self#\u001b[0m, \u001b[0ma\u001b[0m)\n",
      "\u001b[35m│\u001b[39m\u001b[34m│\u001b[39m\u001b[33m┌ @ reduce.jl:532 \u001b[39m\u001b[0mBase.sum\u001b[0m(\u001b[0mBase.identity\u001b[0m, \u001b[0ma\u001b[0m)\n",
      "\u001b[35m│\u001b[39m\u001b[34m│\u001b[39m\u001b[33m│\u001b[39m\u001b[32m┌ @ reduce.jl:503 \u001b[39m\u001b[0mBase.#sum#255\u001b[0m(\u001b[0mBase.pairs\u001b[0m(\u001b[0mCore.NamedTuple\u001b[0m(\u001b[0m)\u001b[0m)\u001b[0m, \u001b[0m#self#\u001b[0m, \u001b[0mf\u001b[0m, \u001b[0ma\u001b[0m)\n",
      "\u001b[35m│\u001b[39m\u001b[34m│\u001b[39m\u001b[33m│\u001b[39m\u001b[32m│\u001b[39m\u001b[35m┌ @ reduce.jl:503 \u001b[39m\u001b[0mBase.mapreduce\u001b[0m(\u001b[0mf\u001b[0m, \u001b[0mBase.add_sum\u001b[0m, \u001b[0ma\u001b[0m)\n",
      "\u001b[35m│\u001b[39m\u001b[34m│\u001b[39m\u001b[33m│\u001b[39m\u001b[32m│\u001b[39m\u001b[35m│\u001b[39m\u001b[34m┌ @ reduce.jl:289 \u001b[39m\u001b[0mBase.#mapreduce#252\u001b[0m(\u001b[0mBase.pairs\u001b[0m(\u001b[0mCore.NamedTuple\u001b[0m(\u001b[0m)\u001b[0m)\u001b[0m, \u001b[0m#self#\u001b[0m, \u001b[0mf\u001b[0m, \u001b[0mop\u001b[0m, \u001b[0mitr\u001b[0m)\n",
      "\u001b[35m│\u001b[39m\u001b[34m│\u001b[39m\u001b[33m│\u001b[39m\u001b[32m│\u001b[39m\u001b[35m│\u001b[39m\u001b[34m│\u001b[39m\u001b[33m┌ @ reduce.jl:289 \u001b[39m\u001b[0mBase.mapfoldl\u001b[0m(\u001b[0mf\u001b[0m, \u001b[0mop\u001b[0m, \u001b[0mitr\u001b[0m)\n",
      "\u001b[35m│\u001b[39m\u001b[34m│\u001b[39m\u001b[33m│\u001b[39m\u001b[32m│\u001b[39m\u001b[35m│\u001b[39m\u001b[34m│\u001b[39m\u001b[33m│\u001b[39m\u001b[32m┌ @ reduce.jl:162 \u001b[39m\u001b[0mBase.#mapfoldl#248\u001b[0m(\u001b[0mBase._InitialValue\u001b[0m(\u001b[0m)\u001b[0m, \u001b[0m#self#\u001b[0m, \u001b[0mf\u001b[0m, \u001b[0mop\u001b[0m, \u001b[0mitr\u001b[0m)\n",
      "\u001b[35m│\u001b[39m\u001b[34m│\u001b[39m\u001b[33m│\u001b[39m\u001b[32m│\u001b[39m\u001b[35m│\u001b[39m\u001b[34m│\u001b[39m\u001b[33m│\u001b[39m\u001b[32m│\u001b[39m\u001b[35m┌ @ reduce.jl:162 \u001b[39m\u001b[0mBase.mapfoldl_impl\u001b[0m(\u001b[0mf\u001b[0m, \u001b[0mop\u001b[0m, \u001b[0minit\u001b[0m, \u001b[0mitr\u001b[0m)\n",
      "\u001b[35m│\u001b[39m\u001b[34m│\u001b[39m\u001b[33m│\u001b[39m\u001b[32m│\u001b[39m\u001b[35m│\u001b[39m\u001b[34m│\u001b[39m\u001b[33m│\u001b[39m\u001b[32m│\u001b[39m\u001b[35m│\u001b[39m\u001b[34m┌ @ reduce.jl:44 \u001b[39m\u001b[0mBase.foldl_impl\u001b[0m(\u001b[0mop′\u001b[0m, \u001b[0mnt\u001b[0m, \u001b[0mitr′\u001b[0m)\n",
      "\u001b[35m│\u001b[39m\u001b[34m│\u001b[39m\u001b[33m│\u001b[39m\u001b[32m│\u001b[39m\u001b[35m│\u001b[39m\u001b[34m│\u001b[39m\u001b[33m│\u001b[39m\u001b[32m│\u001b[39m\u001b[35m│\u001b[39m\u001b[34m│\u001b[39m\u001b[33m┌ @ reduce.jl:49 \u001b[39m\u001b[0mBase.reduce_empty_iter\u001b[0m(\u001b[0mop\u001b[0m, \u001b[0mitr\u001b[0m)\n",
      "\u001b[35m│\u001b[39m\u001b[34m│\u001b[39m\u001b[33m│\u001b[39m\u001b[32m│\u001b[39m\u001b[35m│\u001b[39m\u001b[34m│\u001b[39m\u001b[33m│\u001b[39m\u001b[32m│\u001b[39m\u001b[35m│\u001b[39m\u001b[34m│\u001b[39m\u001b[33m│\u001b[39m\u001b[32m┌ @ reduce.jl:356 \u001b[39m\u001b[0mBase.reduce_empty_iter\u001b[0m(\u001b[0mop\u001b[0m, \u001b[0mitr\u001b[0m, \u001b[0mBase.IteratorEltype\u001b[0m(\u001b[0mitr\u001b[0m)\u001b[0m)\n",
      "\u001b[35m│\u001b[39m\u001b[34m│\u001b[39m\u001b[33m│\u001b[39m\u001b[32m│\u001b[39m\u001b[35m│\u001b[39m\u001b[34m│\u001b[39m\u001b[33m│\u001b[39m\u001b[32m│\u001b[39m\u001b[35m│\u001b[39m\u001b[34m│\u001b[39m\u001b[33m│\u001b[39m\u001b[32m│\u001b[39m\u001b[35m┌ @ reduce.jl:357 \u001b[39m\u001b[0mBase.reduce_empty\u001b[0m(\u001b[0mop\u001b[0m, \u001b[0mBase.eltype\u001b[0m(\u001b[0mitr\u001b[0m)\u001b[0m)\n",
      "\u001b[35m│\u001b[39m\u001b[34m│\u001b[39m\u001b[33m│\u001b[39m\u001b[32m│\u001b[39m\u001b[35m│\u001b[39m\u001b[34m│\u001b[39m\u001b[33m│\u001b[39m\u001b[32m│\u001b[39m\u001b[35m│\u001b[39m\u001b[34m│\u001b[39m\u001b[33m│\u001b[39m\u001b[32m│\u001b[39m\u001b[35m│\u001b[39m\u001b[34m┌ @ reduce.jl:330 \u001b[39m\u001b[0mBase.reduce_empty\u001b[0m(\u001b[0mBase.getproperty\u001b[0m(\u001b[0mop\u001b[0m, \u001b[0m:rf\u001b[0m)\u001b[0m, \u001b[0m_\u001b[0m)\n",
      "\u001b[35m│\u001b[39m\u001b[34m│\u001b[39m\u001b[33m│\u001b[39m\u001b[32m│\u001b[39m\u001b[35m│\u001b[39m\u001b[34m│\u001b[39m\u001b[33m│\u001b[39m\u001b[32m│\u001b[39m\u001b[35m│\u001b[39m\u001b[34m│\u001b[39m\u001b[33m│\u001b[39m\u001b[32m│\u001b[39m\u001b[35m│\u001b[39m\u001b[34m│\u001b[39m\u001b[33m┌ @ reduce.jl:322 \u001b[39m\u001b[0mBase.reduce_empty\u001b[0m(\u001b[0mBase.+\u001b[0m, \u001b[0m_\u001b[0m)\n",
      "\u001b[35m│\u001b[39m\u001b[34m│\u001b[39m\u001b[33m│\u001b[39m\u001b[32m│\u001b[39m\u001b[35m│\u001b[39m\u001b[34m│\u001b[39m\u001b[33m│\u001b[39m\u001b[32m│\u001b[39m\u001b[35m│\u001b[39m\u001b[34m│\u001b[39m\u001b[33m│\u001b[39m\u001b[32m│\u001b[39m\u001b[35m│\u001b[39m\u001b[34m│\u001b[39m\u001b[33m│\u001b[39m\u001b[32m┌ @ reduce.jl:313 \u001b[39m\u001b[0mBase.zero\u001b[0m(\u001b[0m_\u001b[0m)\n",
      "\u001b[35m│\u001b[39m\u001b[34m│\u001b[39m\u001b[33m│\u001b[39m\u001b[32m│\u001b[39m\u001b[35m│\u001b[39m\u001b[34m│\u001b[39m\u001b[33m│\u001b[39m\u001b[32m│\u001b[39m\u001b[35m│\u001b[39m\u001b[34m│\u001b[39m\u001b[33m│\u001b[39m\u001b[32m│\u001b[39m\u001b[35m│\u001b[39m\u001b[34m│\u001b[39m\u001b[33m│\u001b[39m\u001b[32m│\u001b[39m\u001b[91m┌ @ missing.jl:106 \u001b[39m\u001b[0mBase.throw\u001b[0m(\u001b[0mBase.MethodError\u001b[0m(\u001b[0mBase.zero\u001b[0m, \u001b[0mCore.tuple\u001b[0m(\u001b[0mBase.Any\u001b[0m)\u001b[0m)\u001b[0m)\n",
      "\u001b[35m│\u001b[39m\u001b[34m│\u001b[39m\u001b[33m│\u001b[39m\u001b[32m│\u001b[39m\u001b[35m│\u001b[39m\u001b[34m│\u001b[39m\u001b[33m│\u001b[39m\u001b[32m│\u001b[39m\u001b[35m│\u001b[39m\u001b[34m│\u001b[39m\u001b[33m│\u001b[39m\u001b[32m│\u001b[39m\u001b[35m│\u001b[39m\u001b[34m│\u001b[39m\u001b[33m│\u001b[39m\u001b[32m│\u001b[39m\u001b[91m│ MethodError: no method matching zero(::Type{Any})\u001b[39m\n",
      "\u001b[35m│\u001b[39m\u001b[34m│\u001b[39m\u001b[33m│\u001b[39m\u001b[32m│\u001b[39m\u001b[35m│\u001b[39m\u001b[34m│\u001b[39m\u001b[33m│\u001b[39m\u001b[32m│\u001b[39m\u001b[35m│\u001b[39m\u001b[34m│\u001b[39m\u001b[33m│\u001b[39m\u001b[32m│\u001b[39m\u001b[35m│\u001b[39m\u001b[34m│\u001b[39m\u001b[33m│\u001b[39m\u001b[32m│\u001b[39m\u001b[91m└──────────────────\u001b[39m\n"
     ]
    },
    {
     "data": {
      "text/plain": [
       "(included_files = Set{String}(), nreported = 1)"
      ]
     },
     "execution_count": 9,
     "metadata": {},
     "output_type": "execute_result"
    }
   ],
   "source": [
    "@report_toplevel context=__JET_VMOD__ virtualize=false begin\n",
    "    mutable struct Squares\n",
    "        count::Int\n",
    "    end\n",
    "    Base.iterate(S::Squares, s=1) =\n",
    "        s > S.count ? nothing : (s^2, s+1)\n",
    "    Base.length(S::Squares) = S.count\n",
    "\n",
    "    sum(Squares(10))\n",
    "end"
   ]
  },
  {
   "cell_type": "markdown",
   "id": "76dd1313",
   "metadata": {},
   "source": [
    "This is essentially because `Squared` actually missed to implement one more required interface;\n",
    "we can implement the `eltype` interface so that Julia can understand the return value for `sum(Squares(0))`."
   ]
  },
  {
   "cell_type": "code",
   "execution_count": 10,
   "id": "d495c9bc",
   "metadata": {},
   "outputs": [
    {
     "name": "stdout",
     "output_type": "stream",
     "text": [
      "\u001b[92mNo errors !\u001b[39m\n"
     ]
    },
    {
     "data": {
      "text/plain": [
       "(included_files = Set{String}(), nreported = 0)"
      ]
     },
     "execution_count": 10,
     "metadata": {},
     "output_type": "execute_result"
    }
   ],
   "source": [
    "@report_toplevel context=__JET_VMOD__ virtualize=false begin\n",
    "    Base.eltype(::Squares) = Int\n",
    "\n",
    "    sum(Squares(10))\n",
    "end"
   ]
  },
  {
   "cell_type": "markdown",
   "id": "f0274c99",
   "metadata": {},
   "source": [
    "- Julia doesn't guarantee the functionality of an input program — Julia programmers have to make sure it works by themselves\n",
    "- But test may not cover all the possible cases\n",
    "- JET can check the quality of generic code in a way that doesn't rely on runtime !"
   ]
  },
  {
   "cell_type": "markdown",
   "id": "de598d2b",
   "metadata": {},
   "source": [
    "### First-Class Metaprogramming Support"
   ]
  },
  {
   "cell_type": "markdown",
   "id": "e141d9b4",
   "metadata": {},
   "source": [
    "Julia offers various forms of metaprogramming.\n",
    "\n",
    "Currently we have:\n",
    "- `eval` and macros for abstract syntax level code generation\n",
    "- `@generated` function for code generation at inference stage"
   ]
  },
  {
   "cell_type": "markdown",
   "id": "04b1fa93",
   "metadata": {},
   "source": [
    "- `eval` is great for eliminating syntax-level duplications\n",
    "- Macros are great for providing simple DSLs and/or optimizations\n",
    "\n",
    "For example, let's see the code snippet below adapted from [Julia base](https://github.com/JuliaLang/julia/blob/9cf1c3a795e5ca40101ffd3670511041145a415c/base/reducedim.jl#L885-L896):\n",
    "```julia\n",
    "for (fname, _fname, op) in [(:sum,     :_sum,     :add_sum),\n",
    "                            (:prod,    :_prod,    :mul_prod),\n",
    "                            (:maximum, :_maximum, :max),\n",
    "                            (:minimum, :_minimum, :min)]\n",
    "    @eval begin\n",
    "        @inline ($fname)(a::AbstractArray; dims=:, kw...) =\n",
    "            ($_fname)(a, dims; kw...)\n",
    "        @inline ($fname)(f, a::AbstractArray; dims=:, kw...) = \n",
    "            ($_fname)(f, a, dims; kw...)\n",
    "\n",
    "        ($_fname)(a, ::Colon; kw...) = ($_fname)(identity, a, :; kw...)\n",
    "        ($_fname)(f, a, ::Colon; kw...) = mapreduce(f, $(GlobalRef(Base, op)), a; kw...)\n",
    "    end\n",
    "end\n",
    "```"
   ]
  },
  {
   "cell_type": "markdown",
   "id": "c9d433b7",
   "metadata": {},
   "source": [
    "But static analyzers in general suffers from this kind of code:\n",
    "- it has to actually _execute_ a program construction that involves `eval`\n",
    "- it needs to reason on programs after macros are expanded"
   ]
  },
  {
   "cell_type": "markdown",
   "id": "809f7abd",
   "metadata": {},
   "source": [
    "JET deals with this using the technique called \"partial evaluation\".\n",
    "That is, JET selectively executes parts of input program that include \"definitions\".\n",
    "But at the same time, it won't execute the \"usages\" of those definitions, but analyze them statically instead."
   ]
  },
  {
   "cell_type": "markdown",
   "id": "c581495f",
   "metadata": {},
   "source": [
    "Since JET's static analysis uses \"abstract interpretation\", I use \"concretization\" when referring to JET's partial evaluations of \"definitions\"."
   ]
  },
  {
   "cell_type": "code",
   "execution_count": 11,
   "id": "6e9c5b79",
   "metadata": {},
   "outputs": [
    {
     "name": "stdout",
     "output_type": "stream",
     "text": [
      "\u001b[92mNo errors !\u001b[39m\n"
     ]
    },
    {
     "data": {
      "text/plain": [
       "(included_files = Set{String}(), nreported = 0)"
      ]
     },
     "execution_count": 11,
     "metadata": {},
     "output_type": "execute_result"
    }
   ],
   "source": [
    "@report_toplevel begin\n",
    "    # JET actually evaluates this top-level code block (\"definitions\")\n",
    "    for (fname, _fname, op) in [(:sum,     :_sum,     :add_sum),\n",
    "                                (:prod,    :_prod,    :mul_prod),\n",
    "                                (:maximum, :_maximum, :max),\n",
    "                                (:minimum, :_minimum, :min)]\n",
    "        fname, _fname = Symbol.(string.(\"my\", (fname, _fname)))\n",
    "        @eval begin\n",
    "            @inline ($fname)(a::AbstractArray; dims=:, kw...) =\n",
    "                ($_fname)(a, dims; kw...)\n",
    "            @inline ($fname)(f, a::AbstractArray; dims=:, kw...) = \n",
    "                ($_fname)(f, a, dims; kw...)\n",
    "\n",
    "            ($_fname)(a, ::Colon; kw...) = ($_fname)(identity, a, :; kw...)\n",
    "            ($_fname)(f, a, ::Colon; kw...) = mapreduce(f, $(GlobalRef(Base, op)), a; kw...)\n",
    "        end\n",
    "    end\n",
    "\n",
    "    # JET analyzes these top-level calls (\"usages\")\n",
    "    mysum([0,1,2,3])\n",
    "    myprod(rand(1000000000))\n",
    "    ary = rand(1000000000)\n",
    "    mymaximum(ary)\n",
    "    myminimum(ary)\n",
    "end"
   ]
  },
  {
   "cell_type": "markdown",
   "id": "3f70b4df",
   "metadata": {},
   "source": [
    "Similarly, macros are fully supported. JET understands macro definitions, and expand all the macro calls appearing within input program."
   ]
  },
  {
   "cell_type": "code",
   "execution_count": 12,
   "id": "54a7d55c",
   "metadata": {},
   "outputs": [
    {
     "name": "stdout",
     "output_type": "stream",
     "text": [
      "\u001b[92mNo errors !\u001b[39m\n"
     ]
    },
    {
     "data": {
      "text/plain": [
       "(included_files = Set{String}(), nreported = 0)"
      ]
     },
     "execution_count": 12,
     "metadata": {},
     "output_type": "execute_result"
    }
   ],
   "source": [
    "@report_toplevel begin\n",
    "    macro defv(v)\n",
    "        return :(global v = $v)\n",
    "    end\n",
    "\n",
    "    @defv 1000\n",
    "    println(v)\n",
    "end"
   ]
  },
  {
   "cell_type": "markdown",
   "id": "af737502",
   "metadata": {},
   "source": [
    "Caveat: so JET isn't \"safe\" – it's not fully static and its analysis involves actual program execution of user code.\n",
    "So for example, if a macro expansion never terminates, JET's analysis also never terminates.\n",
    "\n",
    "```julia\n",
    "# this analysis won't terminate until 10000 seconds elapsed ...\n",
    "@report_toplevel begin\n",
    "    macro defv(v)\n",
    "        sleep(10000)\n",
    "        return :(global v = $v)\n",
    "    end\n",
    "\n",
    "    @defv 1000\n",
    "    println(v)\n",
    "end\n",
    "```"
   ]
  },
  {
   "cell_type": "markdown",
   "id": "bfd25777",
   "metadata": {},
   "source": [
    "If an error happened during concretization, JET simply reports the error that actually happened."
   ]
  },
  {
   "cell_type": "code",
   "execution_count": 13,
   "id": "966055f3",
   "metadata": {},
   "outputs": [
    {
     "name": "stdout",
     "output_type": "stream",
     "text": [
      "\u001b[7m═════ 1 toplevel error found ═════\u001b[27m\n",
      "\u001b[91m┌ @ In[13]:6 \u001b[39m\n",
      "\u001b[91m│ \u001b[39mUndefVarError: value not defined\n",
      "\u001b[91m│ \u001b[39mStacktrace:\n",
      "\u001b[91m│ \u001b[39m [1] \u001b[0m\u001b[1mvar\"@badshow\"\u001b[22m\u001b[0m\u001b[1m(\u001b[22m\u001b[90m__source__\u001b[39m::\u001b[0mLineNumberNode, \u001b[90m__module__\u001b[39m::\u001b[0mModule, \u001b[90mval\u001b[39m::\u001b[0mAny\u001b[0m\u001b[1m)\u001b[22m\n",
      "\u001b[91m│ \u001b[39m\u001b[90m   @ \u001b[39m\u001b[35mMain\u001b[39m \u001b[90m./\u001b[39m\u001b[90m\u001b[4mIn[13]:3\u001b[24m\u001b[39m\n",
      "\u001b[91m└────────────\u001b[39m\n"
     ]
    },
    {
     "data": {
      "text/plain": [
       "(included_files = Set{String}(), nreported = 1)"
      ]
     },
     "execution_count": 13,
     "metadata": {},
     "output_type": "execute_result"
    }
   ],
   "source": [
    "@report_toplevel begin\n",
    "    macro badshow(val)\n",
    "        :(@show $value) # typo: val\n",
    "    end\n",
    "    \n",
    "    @badshow sin(10)\n",
    "end"
   ]
  },
  {
   "cell_type": "markdown",
   "id": "753e2d87",
   "metadata": {},
   "source": [
    "- `@generated` allows us to intervene into inference, do some code generation using type information\n",
    "- it's used for advanced optimizations, or customized code execution (e.g. autodiff)"
   ]
  },
  {
   "cell_type": "markdown",
   "id": "2c7660d7",
   "metadata": {},
   "source": [
    "An example usage adapted from [Julia base](https://github.com/JuliaLang/julia/blob/018977209bb4fd707ec61c59dfd31860abaa6717/base/namedtuple.jl#L253):\n",
    "```julia\n",
    "@generated function merge(a::NamedTuple{an}, b::NamedTuple{bn}) where {an, bn}\n",
    "    names = Base.merge_names(an, bn)\n",
    "    types = Base.merge_types(names, a, b)\n",
    "    vals = Any[ \n",
    "    :(getfield($(Base.sym_in(names[n], bn) ? :b : :a),\n",
    "               $(QuoteNode(names[n])))) \n",
    "    for n in 1:length(names)]\n",
    "        return :( NamedTuple{$names,$types}(($(vals...),)) )\n",
    "    end\n",
    "end\n",
    "```"
   ]
  },
  {
   "cell_type": "markdown",
   "id": "c95ab2e1",
   "metadata": {},
   "source": [
    "But staged programming (rather, metaprogramming in general) is very tricky.\n",
    "For instance, if we've forgot to add `QuoteNode` within the `merge` function, then it simply doesn't work:"
   ]
  },
  {
   "cell_type": "code",
   "execution_count": 14,
   "id": "d74e5a2e",
   "metadata": {},
   "outputs": [
    {
     "ename": "LoadError",
     "evalue": "TypeError: in getfield, expected Symbol, got a value of type NamedTuple{(:a,), Tuple{Int64}}",
     "output_type": "error",
     "traceback": [
      "TypeError: in getfield, expected Symbol, got a value of type NamedTuple{(:a,), Tuple{Int64}}",
      "",
      "Stacktrace:",
      " [1] macro expansion",
      "   @ ./In[14]:0 [inlined]",
      " [2] merge(a::NamedTuple{(:a,), Tuple{Int64}}, b::NamedTuple{(:a, :b), Tuple{Int64, Int64}})",
      "   @ Main ./In[14]:1",
      " [3] top-level scope",
      "   @ In[14]:11",
      " [4] eval",
      "   @ ./boot.jl:373 [inlined]",
      " [5] include_string(mapexpr::typeof(REPL.softscope), mod::Module, code::String, filename::String)",
      "   @ Base ./loading.jl:1207"
     ]
    }
   ],
   "source": [
    "@generated function merge(a::NamedTuple{an}, b::NamedTuple{bn}) where {an, bn}\n",
    "    names = Base.merge_names(an, bn)\n",
    "    types = Base.merge_types(names, a, b)\n",
    "    vals = Any[ \n",
    "        :(getfield($(Base.sym_in(names[n], bn) ? :b : :a),\n",
    "                   $(names[n]))) # we forgot to quote these names !\n",
    "        for n in 1:length(names)]\n",
    "    return :( NamedTuple{$names,$types}(($(vals...),)) )\n",
    "end\n",
    "\n",
    "merge((; a = 10), (; a = 2, b = 10))"
   ]
  },
  {
   "cell_type": "markdown",
   "id": "bdb3ed40",
   "metadata": {},
   "source": [
    "JET reuses Julia's native type inference, so it can also perfectly reason about `@generated` functions and detect possible errors within them !"
   ]
  },
  {
   "cell_type": "code",
   "execution_count": 15,
   "id": "dba41350",
   "metadata": {},
   "outputs": [
    {
     "name": "stdout",
     "output_type": "stream",
     "text": [
      "\u001b[7m═════ 1 possible error found ═════\u001b[27m\n",
      "\u001b[35m┌ @ In[15]:12 \u001b[39m\u001b[0mmerge\u001b[0m(\u001b[0mCore.apply_type\u001b[0m(\u001b[0mCore.NamedTuple\u001b[0m, \u001b[0mCore.tuple\u001b[0m(\u001b[0m:a\u001b[0m)\u001b[0m)\u001b[0m(\u001b[0mCore.tuple\u001b[0m(\u001b[0m10\u001b[0m)\u001b[0m)\u001b[0m, \u001b[0mCore.apply_type\u001b[0m(\u001b[0mCore.NamedTuple\u001b[0m, \u001b[0mCore.tuple\u001b[0m(\u001b[0m:a\u001b[0m, \u001b[0m:b\u001b[0m)\u001b[0m)\u001b[0m(\u001b[0mCore.tuple\u001b[0m(\u001b[0m2\u001b[0m, \u001b[0m10\u001b[0m)\u001b[0m)\u001b[0m)\n",
      "\u001b[35m│\u001b[39m\u001b[91m┌ @ In[15]:0 \u001b[39m\u001b[0mgetfield\u001b[0m(\u001b[0mb\u001b[0m, \u001b[0ma\u001b[0m)\n",
      "\u001b[35m│\u001b[39m\u001b[91m│ invalid builtin function call: \u001b[39m\u001b[0m\u001b[1mgetfield\u001b[22m\u001b[0m\u001b[1m(\u001b[22m\u001b[0m\u001b[1mb\u001b[22m\u001b[96m\u001b[1m::NamedTuple{(:a, :b), Tuple{Int64, Int64}}\u001b[22m\u001b[39m\u001b[0m\u001b[1m, \u001b[22m\u001b[0m\u001b[1ma\u001b[22m\u001b[96m\u001b[1m::NamedTuple{(:a,), Tuple{Int64}}\u001b[22m\u001b[39m\u001b[0m\u001b[1m)\u001b[22m\n",
      "\u001b[35m│\u001b[39m\u001b[91m└────────────\u001b[39m\n"
     ]
    },
    {
     "data": {
      "text/plain": [
       "(included_files = Set{String}(), nreported = 1)"
      ]
     },
     "execution_count": 15,
     "metadata": {},
     "output_type": "execute_result"
    }
   ],
   "source": [
    "@report_toplevel begin\n",
    "    @generated function merge(a::NamedTuple{an}, b::NamedTuple{bn}) where {an, bn}\n",
    "        names = Base.merge_names(an, bn)\n",
    "        types = Base.merge_types(names, a, b)\n",
    "        vals = Any[ \n",
    "            :(getfield($(Base.sym_in(names[n], bn) ? :b : :a),\n",
    "                       $(names[n])))\n",
    "            for n in 1:length(names)]\n",
    "        return :( NamedTuple{$names,$types}(($(vals...),)) )\n",
    "    end\n",
    "    \n",
    "    merge((; a = 10), (; a = 2, b = 10))\n",
    "end"
   ]
  },
  {
   "cell_type": "markdown",
   "id": "c713aee0",
   "metadata": {},
   "source": [
    "- Metaprogramming is one of the most important features of Julia, and it brings Julia's extreme expressivity\n",
    "- Metaprogramming is tricky and can be a nest of bugs – but static analyzer in general suffers from it\n",
    "- JET's partial concretization allows us to analyze Julia programs effectively no matter how heavily they use metaprogramming features !"
   ]
  },
  {
   "cell_type": "markdown",
   "id": "58b95c86",
   "metadata": {},
   "source": [
    "### Entry Points\n",
    "\n",
    "- `report_file(\"path/to/file\")`: analyzes a script (it's supposed to include both \"definitions\" and \"usages\")\n",
    "- `report_package(\"package_name\")`: analyzers a package (it's okay if it only includes \"definitions\")\n",
    "- `report_call(f, argtypes)` / `@report_call f(args...)`: analyzes a generic function call (similar to `code_typed` and its family, and very handy for interactive analysis)"
   ]
  },
  {
   "cell_type": "code",
   "execution_count": 16,
   "id": "adf63c43",
   "metadata": {},
   "outputs": [
    {
     "name": "stdout",
     "output_type": "stream",
     "text": [
      "\u001b[7m═════ 2 possible errors found ═════\u001b[27m\n",
      "\u001b[35m┌ @ reduce.jl:532 \u001b[39m\u001b[0mBase.#sum#256\u001b[0m(\u001b[0mBase.pairs\u001b[0m(\u001b[0mCore.NamedTuple\u001b[0m(\u001b[0m)\u001b[0m)\u001b[0m, \u001b[0m#self#\u001b[0m, \u001b[0ma\u001b[0m)\n",
      "\u001b[35m│\u001b[39m\u001b[34m┌ @ reduce.jl:532 \u001b[39m\u001b[0mBase.sum\u001b[0m(\u001b[0mBase.identity\u001b[0m, \u001b[0ma\u001b[0m)\n",
      "\u001b[35m│\u001b[39m\u001b[34m│\u001b[39m\u001b[33m┌ @ reduce.jl:503 \u001b[39m\u001b[0mBase.#sum#255\u001b[0m(\u001b[0mBase.pairs\u001b[0m(\u001b[0mCore.NamedTuple\u001b[0m(\u001b[0m)\u001b[0m)\u001b[0m, \u001b[0m#self#\u001b[0m, \u001b[0mf\u001b[0m, \u001b[0ma\u001b[0m)\n",
      "\u001b[35m│\u001b[39m\u001b[34m│\u001b[39m\u001b[33m│\u001b[39m\u001b[32m┌ @ reduce.jl:503 \u001b[39m\u001b[0mBase.mapreduce\u001b[0m(\u001b[0mf\u001b[0m, \u001b[0mBase.add_sum\u001b[0m, \u001b[0ma\u001b[0m)\n",
      "\u001b[35m│\u001b[39m\u001b[34m│\u001b[39m\u001b[33m│\u001b[39m\u001b[32m│\u001b[39m\u001b[35m┌ @ reduce.jl:289 \u001b[39m\u001b[0mBase.#mapreduce#252\u001b[0m(\u001b[0mBase.pairs\u001b[0m(\u001b[0mCore.NamedTuple\u001b[0m(\u001b[0m)\u001b[0m)\u001b[0m, \u001b[0m#self#\u001b[0m, \u001b[0mf\u001b[0m, \u001b[0mop\u001b[0m, \u001b[0mitr\u001b[0m)\n",
      "\u001b[35m│\u001b[39m\u001b[34m│\u001b[39m\u001b[33m│\u001b[39m\u001b[32m│\u001b[39m\u001b[35m│\u001b[39m\u001b[34m┌ @ reduce.jl:289 \u001b[39m\u001b[0mBase.mapfoldl\u001b[0m(\u001b[0mf\u001b[0m, \u001b[0mop\u001b[0m, \u001b[0mitr\u001b[0m)\n",
      "\u001b[35m│\u001b[39m\u001b[34m│\u001b[39m\u001b[33m│\u001b[39m\u001b[32m│\u001b[39m\u001b[35m│\u001b[39m\u001b[34m│\u001b[39m\u001b[33m┌ @ reduce.jl:162 \u001b[39m\u001b[0mBase.#mapfoldl#248\u001b[0m(\u001b[0mBase._InitialValue\u001b[0m(\u001b[0m)\u001b[0m, \u001b[0m#self#\u001b[0m, \u001b[0mf\u001b[0m, \u001b[0mop\u001b[0m, \u001b[0mitr\u001b[0m)\n",
      "\u001b[35m│\u001b[39m\u001b[34m│\u001b[39m\u001b[33m│\u001b[39m\u001b[32m│\u001b[39m\u001b[35m│\u001b[39m\u001b[34m│\u001b[39m\u001b[33m│\u001b[39m\u001b[32m┌ @ reduce.jl:162 \u001b[39m\u001b[0mBase.mapfoldl_impl\u001b[0m(\u001b[0mf\u001b[0m, \u001b[0mop\u001b[0m, \u001b[0minit\u001b[0m, \u001b[0mitr\u001b[0m)\n",
      "\u001b[35m│\u001b[39m\u001b[34m│\u001b[39m\u001b[33m│\u001b[39m\u001b[32m│\u001b[39m\u001b[35m│\u001b[39m\u001b[34m│\u001b[39m\u001b[33m│\u001b[39m\u001b[32m│\u001b[39m\u001b[35m┌ @ reduce.jl:44 \u001b[39m\u001b[0mBase.foldl_impl\u001b[0m(\u001b[0mop′\u001b[0m, \u001b[0mnt\u001b[0m, \u001b[0mitr′\u001b[0m)\n",
      "\u001b[35m│\u001b[39m\u001b[34m│\u001b[39m\u001b[33m│\u001b[39m\u001b[32m│\u001b[39m\u001b[35m│\u001b[39m\u001b[34m│\u001b[39m\u001b[33m│\u001b[39m\u001b[32m│\u001b[39m\u001b[35m│\u001b[39m\u001b[34m┌ @ reduce.jl:48 \u001b[39m\u001b[0mBase._foldl_impl\u001b[0m(\u001b[0mop\u001b[0m, \u001b[0mnt\u001b[0m, \u001b[0mitr\u001b[0m)\n",
      "\u001b[35m│\u001b[39m\u001b[34m│\u001b[39m\u001b[33m│\u001b[39m\u001b[32m│\u001b[39m\u001b[35m│\u001b[39m\u001b[34m│\u001b[39m\u001b[33m│\u001b[39m\u001b[32m│\u001b[39m\u001b[35m│\u001b[39m\u001b[34m│\u001b[39m\u001b[33m┌ @ reduce.jl:62 \u001b[39m\u001b[0mop\u001b[0m(\u001b[0mv\u001b[0m, \u001b[0mBase.getindex\u001b[0m(\u001b[0my\u001b[0m, \u001b[0m1\u001b[0m)\u001b[0m)\n",
      "\u001b[35m│\u001b[39m\u001b[34m│\u001b[39m\u001b[33m│\u001b[39m\u001b[32m│\u001b[39m\u001b[35m│\u001b[39m\u001b[34m│\u001b[39m\u001b[33m│\u001b[39m\u001b[32m│\u001b[39m\u001b[35m│\u001b[39m\u001b[34m│\u001b[39m\u001b[33m│\u001b[39m\u001b[32m┌ @ reduce.jl:81 \u001b[39m\u001b[0mBase.getproperty\u001b[0m(\u001b[0mop\u001b[0m, \u001b[0m:rf\u001b[0m)\u001b[0m(\u001b[0macc\u001b[0m, \u001b[0mx\u001b[0m)\n",
      "\u001b[35m│\u001b[39m\u001b[34m│\u001b[39m\u001b[33m│\u001b[39m\u001b[32m│\u001b[39m\u001b[35m│\u001b[39m\u001b[34m│\u001b[39m\u001b[33m│\u001b[39m\u001b[32m│\u001b[39m\u001b[35m│\u001b[39m\u001b[34m│\u001b[39m\u001b[33m│\u001b[39m\u001b[32m│\u001b[39m\u001b[91m┌ @ reduce.jl:24 \u001b[39m\u001b[0mBase.+\u001b[0m(\u001b[0mx\u001b[0m, \u001b[0my\u001b[0m)\n",
      "\u001b[35m│\u001b[39m\u001b[34m│\u001b[39m\u001b[33m│\u001b[39m\u001b[32m│\u001b[39m\u001b[35m│\u001b[39m\u001b[34m│\u001b[39m\u001b[33m│\u001b[39m\u001b[32m│\u001b[39m\u001b[35m│\u001b[39m\u001b[34m│\u001b[39m\u001b[33m│\u001b[39m\u001b[32m│\u001b[39m\u001b[91m│ no matching method found for call signature (Tuple{typeof(+), Char, Char}): \u001b[39m\u001b[0m\u001b[1mBase.+\u001b[22m\u001b[0m\u001b[1m(\u001b[22m\u001b[0m\u001b[1mx\u001b[22m\u001b[96m\u001b[1m::Char\u001b[22m\u001b[39m\u001b[0m\u001b[1m, \u001b[22m\u001b[0m\u001b[1my\u001b[22m\u001b[96m\u001b[1m::Char\u001b[22m\u001b[39m\u001b[0m\u001b[1m)\u001b[22m\n",
      "\u001b[35m│\u001b[39m\u001b[34m│\u001b[39m\u001b[33m│\u001b[39m\u001b[32m│\u001b[39m\u001b[35m│\u001b[39m\u001b[34m│\u001b[39m\u001b[33m│\u001b[39m\u001b[32m│\u001b[39m\u001b[35m│\u001b[39m\u001b[34m│\u001b[39m\u001b[33m│\u001b[39m\u001b[32m│\u001b[39m\u001b[91m└────────────────\u001b[39m\n",
      "\u001b[35m│\u001b[39m\u001b[34m│\u001b[39m\u001b[33m│\u001b[39m\u001b[32m│\u001b[39m\u001b[35m│\u001b[39m\u001b[34m│\u001b[39m\u001b[33m│\u001b[39m\u001b[32m│\u001b[39m\u001b[35m│\u001b[39m\u001b[34m┌ @ reduce.jl:49 \u001b[39m\u001b[0mBase.reduce_empty_iter\u001b[0m(\u001b[0mop\u001b[0m, \u001b[0mitr\u001b[0m)\n",
      "\u001b[35m│\u001b[39m\u001b[34m│\u001b[39m\u001b[33m│\u001b[39m\u001b[32m│\u001b[39m\u001b[35m│\u001b[39m\u001b[34m│\u001b[39m\u001b[33m│\u001b[39m\u001b[32m│\u001b[39m\u001b[35m│\u001b[39m\u001b[34m│\u001b[39m\u001b[33m┌ @ reduce.jl:356 \u001b[39m\u001b[0mBase.reduce_empty_iter\u001b[0m(\u001b[0mop\u001b[0m, \u001b[0mitr\u001b[0m, \u001b[0mBase.IteratorEltype\u001b[0m(\u001b[0mitr\u001b[0m)\u001b[0m)\n",
      "\u001b[35m│\u001b[39m\u001b[34m│\u001b[39m\u001b[33m│\u001b[39m\u001b[32m│\u001b[39m\u001b[35m│\u001b[39m\u001b[34m│\u001b[39m\u001b[33m│\u001b[39m\u001b[32m│\u001b[39m\u001b[35m│\u001b[39m\u001b[34m│\u001b[39m\u001b[33m│\u001b[39m\u001b[32m┌ @ reduce.jl:357 \u001b[39m\u001b[0mBase.reduce_empty\u001b[0m(\u001b[0mop\u001b[0m, \u001b[0mBase.eltype\u001b[0m(\u001b[0mitr\u001b[0m)\u001b[0m)\n",
      "\u001b[35m│\u001b[39m\u001b[34m│\u001b[39m\u001b[33m│\u001b[39m\u001b[32m│\u001b[39m\u001b[35m│\u001b[39m\u001b[34m│\u001b[39m\u001b[33m│\u001b[39m\u001b[32m│\u001b[39m\u001b[35m│\u001b[39m\u001b[34m│\u001b[39m\u001b[33m│\u001b[39m\u001b[32m│\u001b[39m\u001b[35m┌ @ reduce.jl:330 \u001b[39m\u001b[0mBase.reduce_empty\u001b[0m(\u001b[0mBase.getproperty\u001b[0m(\u001b[0mop\u001b[0m, \u001b[0m:rf\u001b[0m)\u001b[0m, \u001b[0m_\u001b[0m)\n",
      "\u001b[35m│\u001b[39m\u001b[34m│\u001b[39m\u001b[33m│\u001b[39m\u001b[32m│\u001b[39m\u001b[35m│\u001b[39m\u001b[34m│\u001b[39m\u001b[33m│\u001b[39m\u001b[32m│\u001b[39m\u001b[35m│\u001b[39m\u001b[34m│\u001b[39m\u001b[33m│\u001b[39m\u001b[32m│\u001b[39m\u001b[35m│\u001b[39m\u001b[34m┌ @ reduce.jl:322 \u001b[39m\u001b[0mBase.reduce_empty\u001b[0m(\u001b[0mBase.+\u001b[0m, \u001b[0m_\u001b[0m)\n",
      "\u001b[35m│\u001b[39m\u001b[34m│\u001b[39m\u001b[33m│\u001b[39m\u001b[32m│\u001b[39m\u001b[35m│\u001b[39m\u001b[34m│\u001b[39m\u001b[33m│\u001b[39m\u001b[32m│\u001b[39m\u001b[35m│\u001b[39m\u001b[34m│\u001b[39m\u001b[33m│\u001b[39m\u001b[32m│\u001b[39m\u001b[35m│\u001b[39m\u001b[34m│\u001b[39m\u001b[91m┌ @ reduce.jl:313 \u001b[39m\u001b[0mBase.zero\u001b[0m(\u001b[0m_\u001b[0m)\n",
      "\u001b[35m│\u001b[39m\u001b[34m│\u001b[39m\u001b[33m│\u001b[39m\u001b[32m│\u001b[39m\u001b[35m│\u001b[39m\u001b[34m│\u001b[39m\u001b[33m│\u001b[39m\u001b[32m│\u001b[39m\u001b[35m│\u001b[39m\u001b[34m│\u001b[39m\u001b[33m│\u001b[39m\u001b[32m│\u001b[39m\u001b[35m│\u001b[39m\u001b[34m│\u001b[39m\u001b[91m│ no matching method found for call signature (Tuple{typeof(zero), Type{Char}}): \u001b[39m\u001b[0m\u001b[1mBase.zero\u001b[22m\u001b[0m\u001b[1m(\u001b[22m\u001b[0m\u001b[1m_\u001b[22m\u001b[96m\u001b[1m::Type{Char}\u001b[22m\u001b[39m\u001b[0m\u001b[1m)\u001b[22m\n",
      "\u001b[35m│\u001b[39m\u001b[34m│\u001b[39m\u001b[33m│\u001b[39m\u001b[32m│\u001b[39m\u001b[35m│\u001b[39m\u001b[34m│\u001b[39m\u001b[33m│\u001b[39m\u001b[32m│\u001b[39m\u001b[35m│\u001b[39m\u001b[34m│\u001b[39m\u001b[33m│\u001b[39m\u001b[32m│\u001b[39m\u001b[35m│\u001b[39m\u001b[34m│\u001b[39m\u001b[91m└─────────────────\u001b[39m\n"
     ]
    },
    {
     "data": {
      "text/plain": [
       "(Char, 2)"
      ]
     },
     "execution_count": 16,
     "metadata": {},
     "output_type": "execute_result"
    }
   ],
   "source": [
    "@report_call sum(\"julia\") # equivalent to report_call(sum, (String,))"
   ]
  },
  {
   "cell_type": "markdown",
   "id": "72c4d9a9",
   "metadata": {},
   "source": [
    "## JET on Real-world Package"
   ]
  },
  {
   "cell_type": "markdown",
   "id": "ccd0adc8",
   "metadata": {},
   "source": [
    "Now let's run JET on a package in the wild.\n",
    "\n",
    "In this workshop I will take [MacroTools.jl](https://github.com/FluxML/MacroTools.jl) as the target.\n",
    "This is a very useful package for developing complex macros or general manipulations of Julia AST.\n",
    "And it's also very important for the ecosystem – there are more than [1000 direct/indirect dependents](https://juliahub.com/ui/Packages/MacroTools/38lnR/0.5.6?t=2) of the package !"
   ]
  },
  {
   "cell_type": "markdown",
   "id": "7431d4f6",
   "metadata": {},
   "source": [
    "We will use the `report_package` entry to analyze a package:\n",
    "- it tries to find a package in the active environment, and then analyzes its code base\n",
    "- after collecting \"definitions\", JET enters analysis from the \"stub usages\" using the signatures of methods (so there is no need for test cases)\n",
    "\n",
    "```julia\n",
    "g(a) = compute(a) # => analyze g(::Any)\n",
    "f() = g(10)       # => analyze f() (, which includes analysis of g(::Int))\n",
    "```"
   ]
  },
  {
   "cell_type": "code",
   "execution_count": 17,
   "id": "2cc10dc4",
   "metadata": {},
   "outputs": [
    {
     "name": "stderr",
     "output_type": "stream",
     "text": [
      "\u001b[32m\u001b[1m   Resolving\u001b[22m\u001b[39m package versions...\n",
      "\u001b[32m\u001b[1m    Updating\u001b[22m\u001b[39m `~/julia/juliacon2021/workshop/Project.toml`\n",
      " \u001b[90m [1914dd2f] \u001b[39m\u001b[93m~ MacroTools v0.5.6 ⇒ v0.5.6 `~/julia/packages/MacroTools`\u001b[39m\n",
      "\u001b[32m\u001b[1m    Updating\u001b[22m\u001b[39m `~/julia/juliacon2021/workshop/Manifest.toml`\n",
      " \u001b[90m [1914dd2f] \u001b[39m\u001b[93m~ MacroTools v0.5.6 ⇒ v0.5.6 `~/julia/packages/MacroTools`\u001b[39m\n",
      " \u001b[90m [0dad84c5] \u001b[39m\u001b[93m~ ArgTools ⇒ v1.1.1\u001b[39m\n",
      " \u001b[90m [f43a241f] \u001b[39m\u001b[93m~ Downloads ⇒ v1.4.0\u001b[39m\n",
      " \u001b[90m [b27032c2] \u001b[39m\u001b[93m~ LibCURL ⇒ v0.6.2\u001b[39m\n",
      " \u001b[90m [ca575930] \u001b[39m\u001b[93m~ NetworkOptions ⇒ v1.2.0\u001b[39m\n",
      " \u001b[90m [44cfe95a] \u001b[39m\u001b[93m~ Pkg ⇒ v1.6.0\u001b[39m\n",
      " \u001b[90m [fa267f1f] \u001b[39m\u001b[93m~ TOML ⇒ v1.0.0\u001b[39m\n",
      " \u001b[90m [a4e569a6] \u001b[39m\u001b[93m~ Tar ⇒ v1.9.1\u001b[39m\n",
      " \u001b[90m [e66e0078] \u001b[39m\u001b[93m~ CompilerSupportLibraries_jll ⇒ v0.4.0+1\u001b[39m\n",
      " \u001b[90m [deac9b47] \u001b[39m\u001b[93m~ LibCURL_jll ⇒ v7.73.0+4\u001b[39m\n",
      " \u001b[90m [29816b5a] \u001b[39m\u001b[93m~ LibSSH2_jll ⇒ v1.9.1+2\u001b[39m\n",
      " \u001b[90m [c8ffd9c3] \u001b[39m\u001b[93m~ MbedTLS_jll ⇒ v2.24.0+2\u001b[39m\n",
      " \u001b[90m [14a3606d] \u001b[39m\u001b[93m~ MozillaCACerts_jll ⇒ v2020.7.22\u001b[39m\n",
      " \u001b[90m [4536629a] \u001b[39m\u001b[91m- OpenBLAS_jll\u001b[39m\n",
      " \u001b[90m [83775a58] \u001b[39m\u001b[93m~ Zlib_jll ⇒ v1.2.12+1\u001b[39m\n",
      " \u001b[90m [8e850b90] \u001b[39m\u001b[93m~ libblastrampoline_jll ⇒ v3.0.4+0\u001b[39m\n",
      " \u001b[90m [8e850ede] \u001b[39m\u001b[93m~ nghttp2_jll ⇒ v1.41.0+1\u001b[39m\n",
      " \u001b[90m [3f19e933] \u001b[39m\u001b[93m~ p7zip_jll ⇒ v16.2.1+1\u001b[39m\n",
      "Switched to a new branch 'juliacon'\n"
     ]
    },
    {
     "data": {
      "text/plain": [
       "Process(`\u001b[4mgit\u001b[24m \u001b[4mcheckout\u001b[24m \u001b[4m-b\u001b[24m \u001b[4mjuliacon\u001b[24m \u001b[4mfef1c6fab11f30d6ae1c1fff6c42be49ccef5d10\u001b[24m`, ProcessExited(0))"
      ]
     },
     "execution_count": 17,
     "metadata": {},
     "output_type": "execute_result"
    }
   ],
   "source": [
    "using Pkg\n",
    "\n",
    "let back = pwd()\n",
    "    try \n",
    "        Pkg.develop(\"MacroTools\")\n",
    "        path = Base.find_package(\"MacroTools\")\n",
    "        cd(dirname(dirname(path)))\n",
    "        run(`git checkout -b juliacon fef1c6fab11f30d6ae1c1fff6c42be49ccef5d10`)\n",
    "    catch err\n",
    "        @warn \"please manually checkout to fef1c6fab11f30d6ae1c1fff6c42be49ccef5d10\"\n",
    "        throw(err)\n",
    "    finally\n",
    "        cd(back)\n",
    "    end\n",
    "end"
   ]
  },
  {
   "cell_type": "code",
   "execution_count": 18,
   "id": "eb6c8799",
   "metadata": {},
   "outputs": [
    {
     "name": "stdout",
     "output_type": "stream",
     "text": [
      "[toplevel-info] applied JET configurations in /Users/aviatesk/julia/packages/.JET.toml\n",
      "[toplevel-info] virtualized the context of Main (took 0.007 sec)\n",
      "[toplevel-info] entered into /Users/aviatesk/julia/packages/MacroTools/src/MacroTools.jl\n",
      "[toplevel-info] entered into /Users/aviatesk/julia/packages/MacroTools/src/match/match.jl\n",
      "[toplevel-info]  exited from /Users/aviatesk/julia/packages/MacroTools/src/match/match.jl (took 0.04 sec)\n",
      "[toplevel-info] entered into /Users/aviatesk/julia/packages/MacroTools/src/match/types.jl\n",
      "[toplevel-info]  exited from /Users/aviatesk/julia/packages/MacroTools/src/match/types.jl (took 0.014 sec)\n",
      "[toplevel-info] entered into /Users/aviatesk/julia/packages/MacroTools/src/match/union.jl\n",
      "[toplevel-info]  exited from /Users/aviatesk/julia/packages/MacroTools/src/match/union.jl (took 0.007 sec)\n",
      "[toplevel-info] entered into /Users/aviatesk/julia/packages/MacroTools/src/match/macro.jl\n",
      "[toplevel-info]  exited from /Users/aviatesk/julia/packages/MacroTools/src/match/macro.jl (took 0.044 sec)\n",
      "[toplevel-info] entered into /Users/aviatesk/julia/packages/MacroTools/src/utils.jl\n",
      "[toplevel-info]  exited from /Users/aviatesk/julia/packages/MacroTools/src/utils.jl (took 3.304 sec)\n",
      "[toplevel-info] entered into /Users/aviatesk/julia/packages/MacroTools/src/structdef.jl\n",
      "[toplevel-info]  exited from /Users/aviatesk/julia/packages/MacroTools/src/structdef.jl (took 0.2 sec)\n",
      "[toplevel-info] entered into /Users/aviatesk/julia/packages/MacroTools/src/examples/destruct.jl\n",
      "[toplevel-info]  exited from /Users/aviatesk/julia/packages/MacroTools/src/examples/destruct.jl (took 0.065 sec)\n",
      "[toplevel-info] entered into /Users/aviatesk/julia/packages/MacroTools/src/examples/threading.jl\n",
      "[toplevel-info]  exited from /Users/aviatesk/julia/packages/MacroTools/src/examples/threading.jl (took 0.158 sec)\n",
      "[toplevel-info] entered into /Users/aviatesk/julia/packages/MacroTools/src/examples/forward.jl\n",
      "[toplevel-info]  exited from /Users/aviatesk/julia/packages/MacroTools/src/examples/forward.jl (took 0.066 sec)\n",
      "[toplevel-info]  exited from /Users/aviatesk/julia/packages/MacroTools/src/MacroTools.jl (took 4.207 sec)\n"
     ]
    },
    {
     "name": "stdout",
     "output_type": "stream",
     "text": [
      "\r",
      "[toplevel-info] analyzing from top-level definitions ... 1/156\r",
      "[toplevel-info] analyzing from top-level definitions ... 2/156\r",
      "[toplevel-info] analyzing from top-level definitions ... 3/156\r",
      "[toplevel-info] analyzing from top-level definitions ... 4/156\r",
      "[toplevel-info] analyzing from top-level definitions ... 5/156\r",
      "[toplevel-info] analyzing from top-level definitions ... 6/156\r",
      "[toplevel-info] analyzing from top-level definitions ... 7/156\r",
      "[toplevel-info] analyzing from top-level definitions ... 8/156\r",
      "[toplevel-info] analyzing from top-level definitions ... 9/156\r",
      "[toplevel-info] analyzing from top-level definitions ... 10/156\r",
      "[toplevel-info] analyzing from top-level definitions ... 11/156\r",
      "[toplevel-info] analyzing from top-level definitions ... 12/156\r",
      "[toplevel-info] analyzing from top-level definitions ... 13/156\r",
      "[toplevel-info] analyzing from top-level definitions ... 14/156\r",
      "[toplevel-info] analyzing from top-level definitions ... 15/156\r",
      "[toplevel-info] analyzing from top-level definitions ... 16/156\r",
      "[toplevel-info] analyzing from top-level definitions ... 17/156\r",
      "[toplevel-info] analyzing from top-level definitions ... 18/156\r",
      "[toplevel-info] analyzing from top-level definitions ... 19/156\r",
      "[toplevel-info] analyzing from top-level definitions ... 20/156\r",
      "[toplevel-info] analyzing from top-level definitions ... 21/156\r",
      "[toplevel-info] analyzing from top-level definitions ... 22/156\r",
      "[toplevel-info] analyzing from top-level definitions ... 23/156\r",
      "[toplevel-info] analyzing from top-level definitions ... 24/156\r",
      "[toplevel-info] analyzing from top-level definitions ... 25/156\r",
      "[toplevel-info] analyzing from top-level definitions ... 26/156\r",
      "[toplevel-info] analyzing from top-level definitions ... 27/156\r",
      "[toplevel-info] analyzing from top-level definitions ... 28/156\r",
      "[toplevel-info] analyzing from top-level definitions ... 29/156\r",
      "[toplevel-info] analyzing from top-level definitions ... 30/156\r",
      "[toplevel-info] analyzing from top-level definitions ... 31/156\r",
      "[toplevel-info] analyzing from top-level definitions ... 32/156\r",
      "[toplevel-info] analyzing from top-level definitions ... 33/156\r",
      "[toplevel-info] analyzing from top-level definitions ... 34/156\r",
      "[toplevel-info] analyzing from top-level definitions ... 35/156\r",
      "[toplevel-info] analyzing from top-level definitions ... 36/156\r",
      "[toplevel-info] analyzing from top-level definitions ... 37/156\r",
      "[toplevel-info] analyzing from top-level definitions ... 38/156\r",
      "[toplevel-info] analyzing from top-level definitions ... 39/156\r",
      "[toplevel-info] analyzing from top-level definitions ... 40/156\r",
      "[toplevel-info] analyzing from top-level definitions ... 41/156\r",
      "[toplevel-info] analyzing from top-level definitions ... 42/156\r",
      "[toplevel-info] analyzing from top-level definitions ... 43/156\r",
      "[toplevel-info] analyzing from top-level definitions ... 44/156\r",
      "[toplevel-info] analyzing from top-level definitions ... 45/156\r",
      "[toplevel-info] analyzing from top-level definitions ... 46/156\r",
      "[toplevel-info] analyzing from top-level definitions ... 47/156\r",
      "[toplevel-info] analyzing from top-level definitions ... 48/156\r",
      "[toplevel-info] analyzing from top-level definitions ... 49/156\r",
      "[toplevel-info] analyzing from top-level definitions ... 50/156\r",
      "[toplevel-info] analyzing from top-level definitions ... 51/156\r",
      "[toplevel-info] analyzing from top-level definitions ... 52/156\r",
      "[toplevel-info] analyzing from top-level definitions ... 53/156\r",
      "[toplevel-info] analyzing from top-level definitions ... 54/156\r",
      "[toplevel-info] analyzing from top-level definitions ... 55/156\r",
      "[toplevel-info] analyzing from top-level definitions ... 56/156\r",
      "[toplevel-info] analyzing from top-level definitions ... 57/156\r",
      "[toplevel-info] analyzing from top-level definitions ... 58/156\r",
      "[toplevel-info] analyzing from top-level definitions ... 59/156\r",
      "[toplevel-info] analyzing from top-level definitions ... 60/156\r",
      "[toplevel-info] analyzing from top-level definitions ... 61/156\r",
      "[toplevel-info] analyzing from top-level definitions ... 62/156\r",
      "[toplevel-info] analyzing from top-level definitions ... 63/156\r",
      "[toplevel-info] analyzing from top-level definitions ... 64/156\r",
      "[toplevel-info] analyzing from top-level definitions ... 65/156\r",
      "[toplevel-info] analyzing from top-level definitions ... 66/156\r",
      "[toplevel-info] analyzing from top-level definitions ... 67/156\r",
      "[toplevel-info] analyzing from top-level definitions ... 68/156\r",
      "[toplevel-info] analyzing from top-level definitions ... 69/156\r",
      "[toplevel-info] analyzing from top-level definitions ... 70/156\r",
      "[toplevel-info] analyzing from top-level definitions ... 71/156\r",
      "[toplevel-info] analyzing from top-level definitions ... 72/156\r",
      "[toplevel-info] analyzing from top-level definitions ... 73/156\r",
      "[toplevel-info] analyzing from top-level definitions ... 74/156\r",
      "[toplevel-info] analyzing from top-level definitions ... 75/156\r",
      "[toplevel-info] analyzing from top-level definitions ... 76/156\r",
      "[toplevel-info] analyzing from top-level definitions ... 77/156\r",
      "[toplevel-info] analyzing from top-level definitions ... 78/156\r",
      "[toplevel-info] analyzing from top-level definitions ... 79/156\r",
      "[toplevel-info] analyzing from top-level definitions ... 80/156\r",
      "[toplevel-info] analyzing from top-level definitions ... 81/156\r",
      "[toplevel-info] analyzing from top-level definitions ... 82/156\r",
      "[toplevel-info] analyzing from top-level definitions ... 83/156\r",
      "[toplevel-info] analyzing from top-level definitions ... 84/156\r",
      "[toplevel-info] analyzing from top-level definitions ... 85/156\r",
      "[toplevel-info] analyzing from top-level definitions ... 86/156\r",
      "[toplevel-info] analyzing from top-level definitions ... 87/156\r",
      "[toplevel-info] analyzing from top-level definitions ... 88/156\r",
      "[toplevel-info] analyzing from top-level definitions ... 89/156\r",
      "[toplevel-info] analyzing from top-level definitions ... 90/156\r",
      "[toplevel-info] analyzing from top-level definitions ... 91/156\r",
      "[toplevel-info] analyzing from top-level definitions ... 92/156\r",
      "[toplevel-info] analyzing from top-level definitions ... 93/156\r",
      "[toplevel-info] analyzing from top-level definitions ... 94/156\r",
      "[toplevel-info] analyzing from top-level definitions ... 95/156\r",
      "[toplevel-info] analyzing from top-level definitions ... 96/156\r",
      "[toplevel-info] analyzing from top-level definitions ... 97/156\r",
      "[toplevel-info] analyzing from top-level definitions ... 98/156\r",
      "[toplevel-info] analyzing from top-level definitions ... 99/156\r",
      "[toplevel-info] analyzing from top-level definitions ... 100/156\r",
      "[toplevel-info] analyzing from top-level definitions ... 101/156\r",
      "[toplevel-info] analyzing from top-level definitions ... 102/156\r",
      "[toplevel-info] analyzing from top-level definitions ... 103/156\r",
      "[toplevel-info] analyzing from top-level definitions ... 104/156\r",
      "[toplevel-info] analyzing from top-level definitions ... 105/156\r",
      "[toplevel-info] analyzing from top-level definitions ... 106/156\r",
      "[toplevel-info] analyzing from top-level definitions ... 107/156\r",
      "[toplevel-info] analyzing from top-level definitions ... 108/156\r",
      "[toplevel-info] analyzing from top-level definitions ... 109/156\r",
      "[toplevel-info] analyzing from top-level definitions ... 110/156\r",
      "[toplevel-info] analyzing from top-level definitions ... 111/156\r",
      "[toplevel-info] analyzing from top-level definitions ... 112/156\r",
      "[toplevel-info] analyzing from top-level definitions ... 113/156\r",
      "[toplevel-info] analyzing from top-level definitions ... 114/156\r",
      "[toplevel-info] analyzing from top-level definitions ... 115/156\r",
      "[toplevel-info] analyzing from top-level definitions ... 116/156\r",
      "[toplevel-info] analyzing from top-level definitions ... 117/156\r",
      "[toplevel-info] analyzing from top-level definitions ... 118/156\r",
      "[toplevel-info] analyzing from top-level definitions ... 119/156\r",
      "[toplevel-info] analyzing from top-level definitions ... 120/156\r",
      "[toplevel-info] analyzing from top-level definitions ... 121/156\r",
      "[toplevel-info] analyzing from top-level definitions ... 122/156\r",
      "[toplevel-info] analyzing from top-level definitions ... 123/156\r",
      "[toplevel-info] analyzing from top-level definitions ... 124/156\r",
      "[toplevel-info] analyzing from top-level definitions ... 125/156\r",
      "[toplevel-info] analyzing from top-level definitions ... 126/156\r",
      "[toplevel-info] analyzing from top-level definitions ... 127/156\r",
      "[toplevel-info] analyzing from top-level definitions ... 128/156\r",
      "[toplevel-info] analyzing from top-level definitions ... 129/156\r",
      "[toplevel-info] analyzing from top-level definitions ... 130/156\r",
      "[toplevel-info] analyzing from top-level definitions ... 131/156\r",
      "[toplevel-info] analyzing from top-level definitions ... 132/156\r",
      "[toplevel-info] analyzing from top-level definitions ... 133/156\r",
      "[toplevel-info] analyzing from top-level definitions ... 134/156\r",
      "[toplevel-info] analyzing from top-level definitions ... 135/156\r",
      "[toplevel-info] analyzing from top-level definitions ... 136/156\r",
      "[toplevel-info] analyzing from top-level definitions ... 137/156\r",
      "[toplevel-info] analyzing from top-level definitions ... 138/156\r",
      "[toplevel-info] analyzing from top-level definitions ... 139/156\r",
      "[toplevel-info] analyzing from top-level definitions ... 140/156\r",
      "[toplevel-info] analyzing from top-level definitions ... 141/156\r",
      "[toplevel-info] analyzing from top-level definitions ... 142/156\r",
      "[toplevel-info] analyzing from top-level definitions ... 143/156\r",
      "[toplevel-info] analyzing from top-level definitions ... 144/156\r",
      "[toplevel-info] analyzing from top-level definitions ... 145/156\r",
      "[toplevel-info] analyzing from top-level definitions ... 146/156\r",
      "[toplevel-info] analyzing from top-level definitions ... 147/156\r",
      "[toplevel-info] analyzing from top-level definitions ... 148/156\r",
      "[toplevel-info] analyzing from top-level definitions ... 149/156\r",
      "[toplevel-info] analyzing from top-level definitions ... 150/156\r",
      "[toplevel-info] analyzing from top-level definitions ... 151/156\r",
      "[toplevel-info] analyzing from top-level definitions ... 152/156\r",
      "[toplevel-info] analyzing from top-level definitions ... 153/156\r",
      "[toplevel-info] analyzing from top-level definitions ... 154/156\r",
      "[toplevel-info] analyzing from top-level definitions ... 155/156\r",
      "[toplevel-info] analyzing from top-level definitions ... 156/156\n",
      "\u001b[7m═════ 11 possible errors found ═════\u001b[27m\n",
      "\u001b[35m┌ @ /Users/aviatesk/julia/packages/MacroTools/src/match/match.jl:27 \u001b[39m\u001b[0mBase.getproperty\u001b[0m(\u001b[0mBase.getproperty\u001b[0m(\u001b[0mMacroTools.Base\u001b[0m, \u001b[0m:match\u001b[96m::Symbol\u001b[39m\u001b[0m)\u001b[96m::typeof(match)\u001b[39m\u001b[0m(\u001b[0mr\"^@?(.*?)_+(_str)?$\"\u001b[0m, \u001b[0mMacroTools.string\u001b[0m(\u001b[0ms\u001b[96m::Symbol\u001b[39m\u001b[0m)\u001b[96m::String\u001b[39m\u001b[0m)\u001b[96m::Union{Nothing, RegexMatch}\u001b[39m\u001b[0m, \u001b[0m:captures\u001b[96m::Symbol\u001b[39m\u001b[0m)\n",
      "\u001b[35m│\u001b[39m\u001b[91m┌ @ Base.jl:42 \u001b[39m\u001b[0mBase.getfield\u001b[0m(\u001b[0mx\u001b[96m::Nothing\u001b[39m\u001b[0m, \u001b[0mf\u001b[96m::Symbol\u001b[39m\u001b[0m)\n",
      "\u001b[35m│\u001b[39m\u001b[91m│ type Nothing has no field captures\u001b[39m\n",
      "\u001b[35m│\u001b[39m\u001b[91m└──────────────\u001b[39m\n",
      "\u001b[35m┌ @ /Users/aviatesk/julia/packages/MacroTools/src/match/types.jl:20 \u001b[39m\u001b[0mMacroTools.map\u001b[0m(\u001b[0mMacroTools.totype\u001b[0m, \u001b[0mts\u001b[96m::Vector{Symbol}\u001b[39m\u001b[0m)\n",
      "\u001b[35m│\u001b[39m\u001b[34m┌ @ abstractarray.jl:2853 \u001b[39m\u001b[0mBase.collect_similar\u001b[0m(\u001b[0mA\u001b[96m::Vector{Symbol}\u001b[39m\u001b[0m, \u001b[0mBase.Generator\u001b[0m(\u001b[0mf\u001b[96m::typeof(MacroTools.totype)\u001b[39m\u001b[0m, \u001b[0mA\u001b[96m::Vector{Symbol}\u001b[39m\u001b[0m)\u001b[96m::Base.Generator{Vector{Symbol}, typeof(MacroTools.totype)}\u001b[39m\u001b[0m)\n",
      "\u001b[35m│\u001b[39m\u001b[34m│\u001b[39m\u001b[33m┌ @ array.jl:698 \u001b[39m\u001b[0mBase._collect\u001b[0m(\u001b[0mcont\u001b[96m::Vector{Symbol}\u001b[39m\u001b[0m, \u001b[0mitr\u001b[96m::Base.Generator{Vector{Symbol}, typeof(MacroTools.totype)}\u001b[39m\u001b[0m, \u001b[0mBase.IteratorEltype\u001b[0m(\u001b[0mitr\u001b[96m::Base.Generator{Vector{Symbol}, typeof(MacroTools.totype)}\u001b[39m\u001b[0m)\u001b[96m::Base.EltypeUnknown\u001b[39m\u001b[0m, \u001b[0mBase.IteratorSize\u001b[0m(\u001b[0mitr\u001b[96m::Base.Generator{Vector{Symbol}, typeof(MacroTools.totype)}\u001b[39m\u001b[0m)\u001b[96m::Base.HasShape{1}\u001b[39m\u001b[0m)\n",
      "\u001b[35m│\u001b[39m\u001b[34m│\u001b[39m\u001b[33m│\u001b[39m\u001b[32m┌ @ array.jl:788 \u001b[39m\u001b[0mBase.collect_to_with_first!\u001b[0m(\u001b[0mBase._similar_for\u001b[0m(\u001b[0mc\u001b[96m::Vector{Symbol}\u001b[39m\u001b[0m, \u001b[0mBase.typeof\u001b[0m(\u001b[0mv1\u001b[96m::Union{Expr, Symbol}\u001b[39m\u001b[0m)\u001b[96m::Union{Type{Expr}, Type{Symbol}}\u001b[39m\u001b[0m, \u001b[0mitr\u001b[96m::Base.Generator{Vector{Symbol}, typeof(MacroTools.totype)}\u001b[39m\u001b[0m, \u001b[0misz\u001b[96m::Base.HasShape{1}\u001b[39m\u001b[0m)\u001b[96m::Union{Vector{Expr}, Vector{Symbol}}\u001b[39m\u001b[0m, \u001b[0mv1\u001b[96m::Union{Expr, Symbol}\u001b[39m\u001b[0m, \u001b[0mitr\u001b[96m::Base.Generator{Vector{Symbol}, typeof(MacroTools.totype)}\u001b[39m\u001b[0m, \u001b[0mst\u001b[96m::Int64\u001b[39m\u001b[0m)\n",
      "\u001b[35m│\u001b[39m\u001b[34m│\u001b[39m\u001b[33m│\u001b[39m\u001b[32m│\u001b[39m\u001b[35m┌ @ array.jl:793 \u001b[39m\u001b[0mBase.setindex!\u001b[0m(\u001b[0mdest\u001b[96m::Vector{Symbol}\u001b[39m\u001b[0m, \u001b[0mv1\u001b[96m::Expr\u001b[39m\u001b[0m, \u001b[0mi1\u001b[96m::Int64\u001b[39m\u001b[0m)\n",
      "\u001b[35m│\u001b[39m\u001b[34m│\u001b[39m\u001b[33m│\u001b[39m\u001b[32m│\u001b[39m\u001b[35m│\u001b[39m\u001b[91m┌ @ array.jl:937 \u001b[39m\u001b[0mBase.convert\u001b[0m(\u001b[0m_\u001b[96m::Type{Symbol}\u001b[39m\u001b[0m, \u001b[0mx\u001b[96m::Expr\u001b[39m\u001b[0m)\n",
      "\u001b[35m│\u001b[39m\u001b[34m│\u001b[39m\u001b[33m│\u001b[39m\u001b[32m│\u001b[39m\u001b[35m│\u001b[39m\u001b[91m│ no matching method found for call signature (Tuple{typeof(convert), Type{Symbol}, Expr}): \u001b[39m\u001b[0m\u001b[1mBase.convert\u001b[22m\u001b[0m\u001b[1m(\u001b[22m\u001b[0m\u001b[1m_\u001b[22m\u001b[96m\u001b[1m::Type{Symbol}\u001b[22m\u001b[39m\u001b[0m\u001b[1m, \u001b[22m\u001b[0m\u001b[1mx\u001b[22m\u001b[96m\u001b[1m::Expr\u001b[22m\u001b[39m\u001b[0m\u001b[1m)\u001b[22m\n",
      "\u001b[35m│\u001b[39m\u001b[34m│\u001b[39m\u001b[33m│\u001b[39m\u001b[32m│\u001b[39m\u001b[35m│\u001b[39m\u001b[91m└────────────────\u001b[39m\n",
      "\u001b[35m│\u001b[39m\u001b[34m│\u001b[39m\u001b[33m│\u001b[39m\u001b[32m│\u001b[39m\u001b[35m┌ @ array.jl:793 \u001b[39m\u001b[0mBase.setindex!\u001b[0m(\u001b[0mdest\u001b[96m::Vector{Expr}\u001b[39m\u001b[0m, \u001b[0mv1\u001b[96m::Symbol\u001b[39m\u001b[0m, \u001b[0mi1\u001b[96m::Int64\u001b[39m\u001b[0m)\n",
      "\u001b[35m│\u001b[39m\u001b[34m│\u001b[39m\u001b[33m│\u001b[39m\u001b[32m│\u001b[39m\u001b[35m│\u001b[39m\u001b[91m┌ @ array.jl:937 \u001b[39m\u001b[0mBase.convert\u001b[0m(\u001b[0m_\u001b[96m::Type{Expr}\u001b[39m\u001b[0m, \u001b[0mx\u001b[96m::Symbol\u001b[39m\u001b[0m)\n",
      "\u001b[35m│\u001b[39m\u001b[34m│\u001b[39m\u001b[33m│\u001b[39m\u001b[32m│\u001b[39m\u001b[35m│\u001b[39m\u001b[91m│ no matching method found for call signature (Tuple{typeof(convert), Type{Expr}, Symbol}): \u001b[39m\u001b[0m\u001b[1mBase.convert\u001b[22m\u001b[0m\u001b[1m(\u001b[22m\u001b[0m\u001b[1m_\u001b[22m\u001b[96m\u001b[1m::Type{Expr}\u001b[22m\u001b[39m\u001b[0m\u001b[1m, \u001b[22m\u001b[0m\u001b[1mx\u001b[22m\u001b[96m\u001b[1m::Symbol\u001b[22m\u001b[39m\u001b[0m\u001b[1m)\u001b[22m\n",
      "\u001b[35m│\u001b[39m\u001b[34m│\u001b[39m\u001b[33m│\u001b[39m\u001b[32m│\u001b[39m\u001b[35m│\u001b[39m\u001b[91m└────────────────\u001b[39m\n",
      "\u001b[35m┌ @ /Users/aviatesk/julia/packages/MacroTools/src/utils.jl:21 \u001b[39m\u001b[0mBase.collect\u001b[0m(\u001b[0mBase.Generator\u001b[0m(\u001b[0m#11\u001b[96m::MacroTools.var\"#11#12\"\u001b[39m\u001b[0m, \u001b[0mMacroTools.map\u001b[0m(\u001b[0mMacroTools.esc\u001b[0m, \u001b[0mxs\u001b[96m::Tuple\u001b[39m\u001b[0m)\u001b[96m::Any\u001b[39m\u001b[0m)\u001b[96m::Base.Generator{_A, MacroTools.var\"#11#12\"} where _A\u001b[39m\u001b[0m)\n",
      "\u001b[35m│\u001b[39m\u001b[34m┌ @ array.jl:775 \u001b[39m\u001b[0mBase.collect_to_with_first!\u001b[0m(\u001b[0mBase._array_for\u001b[0m(\u001b[0mBase.typeof\u001b[0m(\u001b[0mv1\u001b[96m::Expr\u001b[39m\u001b[0m)\u001b[96m::Type{Expr}\u001b[39m\u001b[0m, \u001b[0mBase.getproperty\u001b[0m(\u001b[0mitr\u001b[96m::Base.Generator{_A, MacroTools.var\"#11#12\"} where _A\u001b[39m\u001b[0m, \u001b[0m:iter\u001b[96m::Symbol\u001b[39m\u001b[0m)\u001b[96m::Any\u001b[39m\u001b[0m, \u001b[0misz\u001b[96m::Any\u001b[39m\u001b[0m)\u001b[96m::Any\u001b[39m\u001b[0m, \u001b[0mv1\u001b[96m::Expr\u001b[39m\u001b[0m, \u001b[0mitr\u001b[96m::Base.Generator{_A, MacroTools.var\"#11#12\"} where _A\u001b[39m\u001b[0m, \u001b[0mst\u001b[96m::Any\u001b[39m\u001b[0m)\n",
      "\u001b[35m│\u001b[39m\u001b[34m│\u001b[39m\u001b[33m┌ @ array.jl:799 \u001b[39m\u001b[0mBase.grow_to!\u001b[0m(\u001b[0mdest\u001b[96m::Any\u001b[39m\u001b[0m, \u001b[0mitr\u001b[96m::Base.Generator{_A, MacroTools.var\"#11#12\"} where _A\u001b[39m\u001b[0m, \u001b[0mst\u001b[96m::Any\u001b[39m\u001b[0m)\n",
      "\u001b[35m│\u001b[39m\u001b[34m│\u001b[39m\u001b[33m│\u001b[39m\u001b[32m┌ @ dict.jl:153 \u001b[39m\u001b[0mBase.indexed_iterate\u001b[0m(\u001b[0mCore.getfield\u001b[0m(\u001b[0mBase.indexed_iterate\u001b[0m(\u001b[0my\u001b[96m::Tuple{Expr, Any}\u001b[39m\u001b[0m, \u001b[0m1\u001b[0m)\u001b[96m::Tuple{Expr, Int64}\u001b[39m\u001b[0m, \u001b[0m1\u001b[0m)\u001b[96m::Expr\u001b[39m\u001b[0m, \u001b[0m1\u001b[0m)\n",
      "\u001b[35m│\u001b[39m\u001b[34m│\u001b[39m\u001b[33m│\u001b[39m\u001b[32m│\u001b[39m\u001b[91m┌ @ tuple.jl:91 \u001b[39m\u001b[0mBase.iterate\u001b[0m(\u001b[0mI\u001b[96m::Expr\u001b[39m\u001b[0m)\n",
      "\u001b[35m│\u001b[39m\u001b[34m│\u001b[39m\u001b[33m│\u001b[39m\u001b[32m│\u001b[39m\u001b[91m│ no matching method found for call signature (Tuple{typeof(iterate), Expr}): \u001b[39m\u001b[0m\u001b[1mBase.iterate\u001b[22m\u001b[0m\u001b[1m(\u001b[22m\u001b[0m\u001b[1mI\u001b[22m\u001b[96m\u001b[1m::Expr\u001b[22m\u001b[39m\u001b[0m\u001b[1m)\u001b[22m\n",
      "\u001b[35m│\u001b[39m\u001b[34m│\u001b[39m\u001b[33m│\u001b[39m\u001b[32m│\u001b[39m\u001b[91m└───────────────\u001b[39m\n",
      "\u001b[91m┌ @ /Users/aviatesk/julia/packages/MacroTools/src/utils.jl:423 \u001b[39m\u001b[0mMacroTools.rebuilddef\u001b[0m(\u001b[0mMacroTools.striplines\u001b[0m(\u001b[0mdict\u001b[96m::Dict\u001b[39m\u001b[0m)\u001b[96m::Dict\u001b[39m\u001b[0m)\n",
      "\u001b[91m│ variable MacroTools.rebuilddef is not defined: \u001b[39m\u001b[0m\u001b[1mMacroTools.rebuilddef\u001b[22m\u001b[0m\u001b[1m(\u001b[22m\u001b[0m\u001b[1mMacroTools.striplines\u001b[22m\u001b[0m\u001b[1m(\u001b[22m\u001b[0m\u001b[1mdict\u001b[22m\u001b[96m\u001b[1m::Dict\u001b[22m\u001b[39m\u001b[0m\u001b[1m)\u001b[22m\u001b[96m\u001b[1m::Dict\u001b[22m\u001b[39m\u001b[0m\u001b[1m)\u001b[22m\n",
      "\u001b[91m└──────────────────────────────────────────────────────────────\u001b[39m\n",
      "\u001b[91m┌ @ /Users/aviatesk/julia/packages/MacroTools/src/utils.jl:455 \u001b[39m\u001b[0mCore.tuple\u001b[0m(\u001b[0msplitvar\u001b[96m::MacroTools.var\"#splitvar#35\"\u001b[39m\u001b[0m(\u001b[0marg\u001b[96m::Any\u001b[39m\u001b[0m)\u001b[96m::Union{Nothing, Tuple{Any, Any}}\u001b[39m\u001b[0m, \u001b[0mCore.tuple\u001b[0m(\u001b[0mis_splat\u001b[96m::Bool\u001b[39m\u001b[0m, \u001b[0mdefault\u001b[96m::Any\u001b[39m\u001b[0m)\u001b[96m::Tuple{Bool, Any}\u001b[39m\u001b[0m...\u001b[0m)\n",
      "\u001b[91m│ no matching method found for call signature (Tuple{typeof(iterate), Nothing}): \u001b[39m\u001b[0m\u001b[1mCore.tuple\u001b[22m\u001b[0m\u001b[1m(\u001b[22m\u001b[0m\u001b[1msplitvar\u001b[22m\u001b[96m\u001b[1m::MacroTools.var\"#splitvar#35\"\u001b[22m\u001b[39m\u001b[0m\u001b[1m(\u001b[22m\u001b[0m\u001b[1marg\u001b[22m\u001b[96m\u001b[1m::Any\u001b[22m\u001b[39m\u001b[0m\u001b[1m)\u001b[22m\u001b[96m\u001b[1m::Union{Nothing, Tuple{Any, Any}}\u001b[22m\u001b[39m\u001b[0m\u001b[1m, \u001b[22m\u001b[0m\u001b[1mCore.tuple\u001b[22m\u001b[0m\u001b[1m(\u001b[22m\u001b[0m\u001b[1mis_splat\u001b[22m\u001b[96m\u001b[1m::Bool\u001b[22m\u001b[39m\u001b[0m\u001b[1m, \u001b[22m\u001b[0m\u001b[1mdefault\u001b[22m\u001b[96m\u001b[1m::Any\u001b[22m\u001b[39m\u001b[0m\u001b[1m)\u001b[22m\u001b[96m\u001b[1m::Tuple{Bool, Any}\u001b[22m\u001b[39m\u001b[0m\u001b[1m...\u001b[22m\u001b[0m\u001b[1m)\u001b[22m\n",
      "\u001b[91m└──────────────────────────────────────────────────────────────\u001b[39m\n",
      "\u001b[91m┌ @ /Users/aviatesk/julia/packages/MacroTools/src/utils.jl:457 \u001b[39m\u001b[0mCore.tuple\u001b[0m(\u001b[0msplitvar\u001b[96m::MacroTools.var\"#splitvar#35\"\u001b[39m\u001b[0m(\u001b[0marg_expr2\u001b[96m::Any\u001b[39m\u001b[0m)\u001b[96m::Union{Nothing, Tuple{Any, Any}}\u001b[39m\u001b[0m, \u001b[0mCore.tuple\u001b[0m(\u001b[0mis_splat\u001b[96m::Bool\u001b[39m\u001b[0m, \u001b[0mMacroTools.nothing\u001b[0m)\u001b[96m::Tuple{Bool, Nothing}\u001b[39m\u001b[0m...\u001b[0m)\n",
      "\u001b[91m│ no matching method found for call signature (Tuple{typeof(iterate), Nothing}): \u001b[39m\u001b[0m\u001b[1mCore.tuple\u001b[22m\u001b[0m\u001b[1m(\u001b[22m\u001b[0m\u001b[1msplitvar\u001b[22m\u001b[96m\u001b[1m::MacroTools.var\"#splitvar#35\"\u001b[22m\u001b[39m\u001b[0m\u001b[1m(\u001b[22m\u001b[0m\u001b[1marg_expr2\u001b[22m\u001b[96m\u001b[1m::Any\u001b[22m\u001b[39m\u001b[0m\u001b[1m)\u001b[22m\u001b[96m\u001b[1m::Union{Nothing, Tuple{Any, Any}}\u001b[22m\u001b[39m\u001b[0m\u001b[1m, \u001b[22m\u001b[0m\u001b[1mCore.tuple\u001b[22m\u001b[0m\u001b[1m(\u001b[22m\u001b[0m\u001b[1mis_splat\u001b[22m\u001b[96m\u001b[1m::Bool\u001b[22m\u001b[39m\u001b[0m\u001b[1m, \u001b[22m\u001b[0m\u001b[1mMacroTools.nothing\u001b[22m\u001b[0m\u001b[1m)\u001b[22m\u001b[96m\u001b[1m::Tuple{Bool, Nothing}\u001b[22m\u001b[39m\u001b[0m\u001b[1m...\u001b[22m\u001b[0m\u001b[1m)\u001b[22m\n",
      "\u001b[91m└──────────────────────────────────────────────────────────────\u001b[39m\n",
      "\u001b[91m┌ @ /Users/aviatesk/julia/packages/MacroTools/src/structdef.jl:13 \u001b[39m\u001b[0mMacroTools.parse_error\u001b[0m(\u001b[0mex\u001b[96m::Any\u001b[39m\u001b[0m)\n",
      "\u001b[91m│ variable MacroTools.parse_error is not defined: \u001b[39m\u001b[0m\u001b[1mMacroTools.parse_error\u001b[22m\u001b[0m\u001b[1m(\u001b[22m\u001b[0m\u001b[1mex\u001b[22m\u001b[96m\u001b[1m::Any\u001b[22m\u001b[39m\u001b[0m\u001b[1m)\u001b[22m\n",
      "\u001b[91m└─────────────────────────────────────────────────────────────────\u001b[39m\n",
      "\u001b[91m┌ @ /Users/aviatesk/julia/packages/MacroTools/src/structdef.jl:21 \u001b[39m\u001b[0mMacroTools.parse_error\u001b[0m(\u001b[0mex\u001b[96m::Any\u001b[39m\u001b[0m)\n",
      "\u001b[91m│ variable MacroTools.parse_error is not defined: \u001b[39m\u001b[0m\u001b[1mMacroTools.parse_error\u001b[22m\u001b[0m\u001b[1m(\u001b[22m\u001b[0m\u001b[1mex\u001b[22m\u001b[96m\u001b[1m::Any\u001b[22m\u001b[39m\u001b[0m\u001b[1m)\u001b[22m\n",
      "\u001b[91m└─────────────────────────────────────────────────────────────────\u001b[39m\n",
      "\u001b[91m┌ @ /Users/aviatesk/julia/packages/MacroTools/src/structdef.jl:29 \u001b[39m\u001b[0mMacroTools.parse_error\u001b[0m(\u001b[0mex\u001b[96m::Any\u001b[39m\u001b[0m)\n",
      "\u001b[91m│ variable MacroTools.parse_error is not defined: \u001b[39m\u001b[0m\u001b[1mMacroTools.parse_error\u001b[22m\u001b[0m\u001b[1m(\u001b[22m\u001b[0m\u001b[1mex\u001b[22m\u001b[96m\u001b[1m::Any\u001b[22m\u001b[39m\u001b[0m\u001b[1m)\u001b[22m\n",
      "\u001b[91m└─────────────────────────────────────────────────────────────────\u001b[39m\n",
      "\u001b[35m┌ @ /Users/aviatesk/julia/packages/MacroTools/src/examples/destruct.jl:24 \u001b[39m\u001b[0mMacroTools.error\u001b[0m(\u001b[0m\"Can't destructure fields with default values\"\u001b[0m)\n",
      "\u001b[35m│\u001b[39m\u001b[91m┌ @ error.jl:33 \u001b[39m\u001b[0merror(::String)\n",
      "\u001b[35m│\u001b[39m\u001b[91m│ may throw: \u001b[39m\u001b[0m\u001b[1mBase.throw\u001b[22m\u001b[0m\u001b[1m(\u001b[22m\u001b[0m\u001b[1mBase.ErrorException\u001b[22m\u001b[0m\u001b[1m(\u001b[22m\u001b[0m\u001b[1ms\u001b[22m\u001b[96m\u001b[1m::String\u001b[22m\u001b[39m\u001b[0m\u001b[1m)\u001b[22m\u001b[96m\u001b[1m::ErrorException\u001b[22m\u001b[39m\u001b[0m\u001b[1m)\u001b[22m\n",
      "\u001b[35m│\u001b[39m\u001b[91m└───────────────\u001b[39m\n"
     ]
    },
    {
     "data": {
      "text/plain": [
       "(included_files = Set([\"/Users/aviatesk/julia/packages/MacroTools/src/examples/threading.jl\", \"/Users/aviatesk/julia/packages/MacroTools/src/examples/forward.jl\", \"/Users/aviatesk/julia/packages/MacroTools/src/MacroTools.jl\", \"/Users/aviatesk/julia/packages/MacroTools/src/match/match.jl\", \"/Users/aviatesk/julia/packages/MacroTools/src/utils.jl\", \"/Users/aviatesk/julia/packages/MacroTools/src/match/macro.jl\", \"/Users/aviatesk/julia/packages/MacroTools/src/structdef.jl\", \"/Users/aviatesk/julia/packages/MacroTools/src/match/union.jl\", \"/Users/aviatesk/julia/packages/MacroTools/src/examples/destruct.jl\", \"/Users/aviatesk/julia/packages/MacroTools/src/match/types.jl\"]), nreported = 11)"
      ]
     },
     "execution_count": 18,
     "metadata": {},
     "output_type": "execute_result"
    }
   ],
   "source": [
    "report_package(\"MacroTools\")"
   ]
  },
  {
   "cell_type": "markdown",
   "id": "655d58c2",
   "metadata": {},
   "source": [
    "There are bunch of errors ! Let's fix them.\n",
    "\n",
    "_Live coding (5 mins)_"
   ]
  },
  {
   "cell_type": "code",
   "execution_count": 19,
   "id": "158d1ac2",
   "metadata": {},
   "outputs": [
    {
     "name": "stdout",
     "output_type": "stream",
     "text": [
      "[toplevel-info] applied JET configurations in /Users/aviatesk/julia/packages/.JET.toml\n",
      "[toplevel-info] virtualized the context of Main (took 0.002 sec)\n",
      "[toplevel-info] entered into /Users/aviatesk/julia/packages/MacroTools/src/MacroTools.jl\n",
      "[toplevel-info] entered into /Users/aviatesk/julia/packages/MacroTools/src/match/match.jl\n",
      "[toplevel-info]  exited from /Users/aviatesk/julia/packages/MacroTools/src/match/match.jl (took 0.06 sec)\n",
      "[toplevel-info] entered into /Users/aviatesk/julia/packages/MacroTools/src/match/types.jl\n",
      "[toplevel-info]  exited from /Users/aviatesk/julia/packages/MacroTools/src/match/types.jl (took 0.026 sec)\n",
      "[toplevel-info] entered into /Users/aviatesk/julia/packages/MacroTools/src/match/union.jl\n",
      "[toplevel-info]  exited from /Users/aviatesk/julia/packages/MacroTools/src/match/union.jl (took 0.01 sec)\n",
      "[toplevel-info] entered into /Users/aviatesk/julia/packages/MacroTools/src/match/macro.jl\n",
      "[toplevel-info]  exited from /Users/aviatesk/julia/packages/MacroTools/src/match/macro.jl (took 0.024 sec)\n",
      "[toplevel-info] entered into /Users/aviatesk/julia/packages/MacroTools/src/utils.jl\n",
      "[toplevel-info]  exited from /Users/aviatesk/julia/packages/MacroTools/src/utils.jl (took 2.374 sec)\n",
      "[toplevel-info] entered into /Users/aviatesk/julia/packages/MacroTools/src/structdef.jl\n",
      "[toplevel-info]  exited from /Users/aviatesk/julia/packages/MacroTools/src/structdef.jl (took 0.065 sec)\n",
      "[toplevel-info] entered into /Users/aviatesk/julia/packages/MacroTools/src/examples/destruct.jl\n",
      "[toplevel-info]  exited from /Users/aviatesk/julia/packages/MacroTools/src/examples/destruct.jl (took 0.046 sec)\n",
      "[toplevel-info] entered into /Users/aviatesk/julia/packages/MacroTools/src/examples/threading.jl\n",
      "[toplevel-info]  exited from /Users/aviatesk/julia/packages/MacroTools/src/examples/threading.jl (took 0.101 sec)\n",
      "[toplevel-info] entered into /Users/aviatesk/julia/packages/MacroTools/src/examples/forward.jl\n",
      "[toplevel-info]  exited from /Users/aviatesk/julia/packages/MacroTools/src/examples/forward.jl (took 0.056 sec)\n",
      "[toplevel-info]  exited from /Users/aviatesk/julia/packages/MacroTools/src/MacroTools.jl (took 2.774 sec)\n"
     ]
    },
    {
     "name": "stdout",
     "output_type": "stream",
     "text": [
      "\r",
      "[toplevel-info] analyzing from top-level definitions ... 1/156\r",
      "[toplevel-info] analyzing from top-level definitions ... 2/156\r",
      "[toplevel-info] analyzing from top-level definitions ... 3/156\r",
      "[toplevel-info] analyzing from top-level definitions ... 4/156\r",
      "[toplevel-info] analyzing from top-level definitions ... 5/156\r",
      "[toplevel-info] analyzing from top-level definitions ... 6/156\r",
      "[toplevel-info] analyzing from top-level definitions ... 7/156\r",
      "[toplevel-info] analyzing from top-level definitions ... 8/156\r",
      "[toplevel-info] analyzing from top-level definitions ... 9/156\r",
      "[toplevel-info] analyzing from top-level definitions ... 10/156\r",
      "[toplevel-info] analyzing from top-level definitions ... 11/156\r",
      "[toplevel-info] analyzing from top-level definitions ... 12/156\r",
      "[toplevel-info] analyzing from top-level definitions ... 13/156\r",
      "[toplevel-info] analyzing from top-level definitions ... 14/156\r",
      "[toplevel-info] analyzing from top-level definitions ... 15/156\r",
      "[toplevel-info] analyzing from top-level definitions ... 16/156\r",
      "[toplevel-info] analyzing from top-level definitions ... 17/156\r",
      "[toplevel-info] analyzing from top-level definitions ... 18/156\r",
      "[toplevel-info] analyzing from top-level definitions ... 19/156\r",
      "[toplevel-info] analyzing from top-level definitions ... 20/156\r",
      "[toplevel-info] analyzing from top-level definitions ... 21/156\r",
      "[toplevel-info] analyzing from top-level definitions ... 22/156\r",
      "[toplevel-info] analyzing from top-level definitions ... 23/156\r",
      "[toplevel-info] analyzing from top-level definitions ... 24/156\r",
      "[toplevel-info] analyzing from top-level definitions ... 25/156\r",
      "[toplevel-info] analyzing from top-level definitions ... 26/156\r",
      "[toplevel-info] analyzing from top-level definitions ... 27/156\r",
      "[toplevel-info] analyzing from top-level definitions ... 28/156\r",
      "[toplevel-info] analyzing from top-level definitions ... 29/156\r",
      "[toplevel-info] analyzing from top-level definitions ... 30/156\r",
      "[toplevel-info] analyzing from top-level definitions ... 31/156\r",
      "[toplevel-info] analyzing from top-level definitions ... 32/156\r",
      "[toplevel-info] analyzing from top-level definitions ... 33/156\r",
      "[toplevel-info] analyzing from top-level definitions ... 34/156\r",
      "[toplevel-info] analyzing from top-level definitions ... 35/156\r",
      "[toplevel-info] analyzing from top-level definitions ... 36/156\r",
      "[toplevel-info] analyzing from top-level definitions ... 37/156\r",
      "[toplevel-info] analyzing from top-level definitions ... 38/156\r",
      "[toplevel-info] analyzing from top-level definitions ... 39/156\r",
      "[toplevel-info] analyzing from top-level definitions ... 40/156\r",
      "[toplevel-info] analyzing from top-level definitions ... 41/156\r",
      "[toplevel-info] analyzing from top-level definitions ... 42/156\r",
      "[toplevel-info] analyzing from top-level definitions ... 43/156\r",
      "[toplevel-info] analyzing from top-level definitions ... 44/156\r",
      "[toplevel-info] analyzing from top-level definitions ... 45/156\r",
      "[toplevel-info] analyzing from top-level definitions ... 46/156\r",
      "[toplevel-info] analyzing from top-level definitions ... 47/156\r",
      "[toplevel-info] analyzing from top-level definitions ... 48/156\r",
      "[toplevel-info] analyzing from top-level definitions ... 49/156\r",
      "[toplevel-info] analyzing from top-level definitions ... 50/156\r",
      "[toplevel-info] analyzing from top-level definitions ... 51/156\r",
      "[toplevel-info] analyzing from top-level definitions ... 52/156\r",
      "[toplevel-info] analyzing from top-level definitions ... 53/156\r",
      "[toplevel-info] analyzing from top-level definitions ... 54/156\r",
      "[toplevel-info] analyzing from top-level definitions ... 55/156\r",
      "[toplevel-info] analyzing from top-level definitions ... 56/156\r",
      "[toplevel-info] analyzing from top-level definitions ... 57/156\r",
      "[toplevel-info] analyzing from top-level definitions ... 58/156\r",
      "[toplevel-info] analyzing from top-level definitions ... 59/156\r",
      "[toplevel-info] analyzing from top-level definitions ... 60/156\r",
      "[toplevel-info] analyzing from top-level definitions ... 61/156\r",
      "[toplevel-info] analyzing from top-level definitions ... 62/156\r",
      "[toplevel-info] analyzing from top-level definitions ... 63/156\r",
      "[toplevel-info] analyzing from top-level definitions ... 64/156\r",
      "[toplevel-info] analyzing from top-level definitions ... 65/156\r",
      "[toplevel-info] analyzing from top-level definitions ... 66/156\r",
      "[toplevel-info] analyzing from top-level definitions ... 67/156\r",
      "[toplevel-info] analyzing from top-level definitions ... 68/156\r",
      "[toplevel-info] analyzing from top-level definitions ... 69/156\r",
      "[toplevel-info] analyzing from top-level definitions ... 70/156\r",
      "[toplevel-info] analyzing from top-level definitions ... 71/156\r",
      "[toplevel-info] analyzing from top-level definitions ... 72/156\r",
      "[toplevel-info] analyzing from top-level definitions ... 73/156\r",
      "[toplevel-info] analyzing from top-level definitions ... 74/156\r",
      "[toplevel-info] analyzing from top-level definitions ... 75/156\r",
      "[toplevel-info] analyzing from top-level definitions ... 76/156\r",
      "[toplevel-info] analyzing from top-level definitions ... 77/156\r",
      "[toplevel-info] analyzing from top-level definitions ... 78/156\r",
      "[toplevel-info] analyzing from top-level definitions ... 79/156\r",
      "[toplevel-info] analyzing from top-level definitions ... 80/156\r",
      "[toplevel-info] analyzing from top-level definitions ... 81/156\r",
      "[toplevel-info] analyzing from top-level definitions ... 82/156\r",
      "[toplevel-info] analyzing from top-level definitions ... 83/156\r",
      "[toplevel-info] analyzing from top-level definitions ... 84/156\r",
      "[toplevel-info] analyzing from top-level definitions ... 85/156\r",
      "[toplevel-info] analyzing from top-level definitions ... 86/156\r",
      "[toplevel-info] analyzing from top-level definitions ... 87/156\r",
      "[toplevel-info] analyzing from top-level definitions ... 88/156\r",
      "[toplevel-info] analyzing from top-level definitions ... 89/156\r",
      "[toplevel-info] analyzing from top-level definitions ... 90/156\r",
      "[toplevel-info] analyzing from top-level definitions ... 91/156\r",
      "[toplevel-info] analyzing from top-level definitions ... 92/156\r",
      "[toplevel-info] analyzing from top-level definitions ... 93/156\r",
      "[toplevel-info] analyzing from top-level definitions ... 94/156\r",
      "[toplevel-info] analyzing from top-level definitions ... 95/156\r",
      "[toplevel-info] analyzing from top-level definitions ... 96/156\r",
      "[toplevel-info] analyzing from top-level definitions ... 97/156\r",
      "[toplevel-info] analyzing from top-level definitions ... 98/156\r",
      "[toplevel-info] analyzing from top-level definitions ... 99/156\r",
      "[toplevel-info] analyzing from top-level definitions ... 100/156\r",
      "[toplevel-info] analyzing from top-level definitions ... 101/156\r",
      "[toplevel-info] analyzing from top-level definitions ... 102/156\r",
      "[toplevel-info] analyzing from top-level definitions ... 103/156\r",
      "[toplevel-info] analyzing from top-level definitions ... 104/156\r",
      "[toplevel-info] analyzing from top-level definitions ... 105/156\r",
      "[toplevel-info] analyzing from top-level definitions ... 106/156\r",
      "[toplevel-info] analyzing from top-level definitions ... 107/156\r",
      "[toplevel-info] analyzing from top-level definitions ... 108/156\r",
      "[toplevel-info] analyzing from top-level definitions ... 109/156\r",
      "[toplevel-info] analyzing from top-level definitions ... 110/156\r",
      "[toplevel-info] analyzing from top-level definitions ... 111/156\r",
      "[toplevel-info] analyzing from top-level definitions ... 112/156\r",
      "[toplevel-info] analyzing from top-level definitions ... 113/156\r",
      "[toplevel-info] analyzing from top-level definitions ... 114/156\r",
      "[toplevel-info] analyzing from top-level definitions ... 115/156\r",
      "[toplevel-info] analyzing from top-level definitions ... 116/156\r",
      "[toplevel-info] analyzing from top-level definitions ... 117/156\r",
      "[toplevel-info] analyzing from top-level definitions ... 118/156\r",
      "[toplevel-info] analyzing from top-level definitions ... 119/156\r",
      "[toplevel-info] analyzing from top-level definitions ... 120/156\r",
      "[toplevel-info] analyzing from top-level definitions ... 121/156\r",
      "[toplevel-info] analyzing from top-level definitions ... 122/156\r",
      "[toplevel-info] analyzing from top-level definitions ... 123/156\r",
      "[toplevel-info] analyzing from top-level definitions ... 124/156\r",
      "[toplevel-info] analyzing from top-level definitions ... 125/156\r",
      "[toplevel-info] analyzing from top-level definitions ... 126/156\r",
      "[toplevel-info] analyzing from top-level definitions ... 127/156\r",
      "[toplevel-info] analyzing from top-level definitions ... 128/156\r",
      "[toplevel-info] analyzing from top-level definitions ... 129/156\r",
      "[toplevel-info] analyzing from top-level definitions ... 130/156\r",
      "[toplevel-info] analyzing from top-level definitions ... 131/156\r",
      "[toplevel-info] analyzing from top-level definitions ... 132/156\r",
      "[toplevel-info] analyzing from top-level definitions ... 133/156\r",
      "[toplevel-info] analyzing from top-level definitions ... 134/156\r",
      "[toplevel-info] analyzing from top-level definitions ... 135/156\r",
      "[toplevel-info] analyzing from top-level definitions ... 136/156\r",
      "[toplevel-info] analyzing from top-level definitions ... 137/156\r",
      "[toplevel-info] analyzing from top-level definitions ... 138/156\r",
      "[toplevel-info] analyzing from top-level definitions ... 139/156\r",
      "[toplevel-info] analyzing from top-level definitions ... 140/156\r",
      "[toplevel-info] analyzing from top-level definitions ... 141/156\r",
      "[toplevel-info] analyzing from top-level definitions ... 142/156\r",
      "[toplevel-info] analyzing from top-level definitions ... 143/156\r",
      "[toplevel-info] analyzing from top-level definitions ... 144/156\r",
      "[toplevel-info] analyzing from top-level definitions ... 145/156\r",
      "[toplevel-info] analyzing from top-level definitions ... 146/156\r",
      "[toplevel-info] analyzing from top-level definitions ... 147/156\r",
      "[toplevel-info] analyzing from top-level definitions ... 148/156\r",
      "[toplevel-info] analyzing from top-level definitions ... 149/156\r",
      "[toplevel-info] analyzing from top-level definitions ... 150/156\r",
      "[toplevel-info] analyzing from top-level definitions ... 151/156\r",
      "[toplevel-info] analyzing from top-level definitions ... 152/156\r",
      "[toplevel-info] analyzing from top-level definitions ... 153/156\r",
      "[toplevel-info] analyzing from top-level definitions ... 154/156\r",
      "[toplevel-info] analyzing from top-level definitions ... 155/156\r",
      "[toplevel-info] analyzing from top-level definitions ... 156/156\n",
      "\u001b[7m═════ 2 possible errors found ═════\u001b[27m\n",
      "\u001b[35m┌ @ /Users/aviatesk/julia/packages/MacroTools/src/utils.jl:21 \u001b[39m\u001b[0mBase.collect\u001b[0m(\u001b[0mBase.Generator\u001b[0m(\u001b[0m#13\u001b[96m::MacroTools.var\"#13#14\"\u001b[39m\u001b[0m, \u001b[0mMacroTools.map\u001b[0m(\u001b[0mMacroTools.esc\u001b[0m, \u001b[0mxs\u001b[96m::Tuple\u001b[39m\u001b[0m)\u001b[96m::Any\u001b[39m\u001b[0m)\u001b[96m::Base.Generator{_A, MacroTools.var\"#13#14\"} where _A\u001b[39m\u001b[0m)\n",
      "\u001b[35m│\u001b[39m\u001b[34m┌ @ array.jl:775 \u001b[39m\u001b[0mBase.collect_to_with_first!\u001b[0m(\u001b[0mBase._array_for\u001b[0m(\u001b[0mBase.typeof\u001b[0m(\u001b[0mv1\u001b[96m::Expr\u001b[39m\u001b[0m)\u001b[96m::Type{Expr}\u001b[39m\u001b[0m, \u001b[0mBase.getproperty\u001b[0m(\u001b[0mitr\u001b[96m::Base.Generator{_A, MacroTools.var\"#13#14\"} where _A\u001b[39m\u001b[0m, \u001b[0m:iter\u001b[96m::Symbol\u001b[39m\u001b[0m)\u001b[96m::Any\u001b[39m\u001b[0m, \u001b[0misz\u001b[96m::Any\u001b[39m\u001b[0m)\u001b[96m::Any\u001b[39m\u001b[0m, \u001b[0mv1\u001b[96m::Expr\u001b[39m\u001b[0m, \u001b[0mitr\u001b[96m::Base.Generator{_A, MacroTools.var\"#13#14\"} where _A\u001b[39m\u001b[0m, \u001b[0mst\u001b[96m::Any\u001b[39m\u001b[0m)\n",
      "\u001b[35m│\u001b[39m\u001b[34m│\u001b[39m\u001b[33m┌ @ array.jl:799 \u001b[39m\u001b[0mBase.grow_to!\u001b[0m(\u001b[0mdest\u001b[96m::Any\u001b[39m\u001b[0m, \u001b[0mitr\u001b[96m::Base.Generator{_A, MacroTools.var\"#13#14\"} where _A\u001b[39m\u001b[0m, \u001b[0mst\u001b[96m::Any\u001b[39m\u001b[0m)\n",
      "\u001b[35m│\u001b[39m\u001b[34m│\u001b[39m\u001b[33m│\u001b[39m\u001b[32m┌ @ dict.jl:153 \u001b[39m\u001b[0mBase.indexed_iterate\u001b[0m(\u001b[0mCore.getfield\u001b[0m(\u001b[0mBase.indexed_iterate\u001b[0m(\u001b[0my\u001b[96m::Tuple{Expr, Any}\u001b[39m\u001b[0m, \u001b[0m1\u001b[0m)\u001b[96m::Tuple{Expr, Int64}\u001b[39m\u001b[0m, \u001b[0m1\u001b[0m)\u001b[96m::Expr\u001b[39m\u001b[0m, \u001b[0m1\u001b[0m)\n",
      "\u001b[35m│\u001b[39m\u001b[34m│\u001b[39m\u001b[33m│\u001b[39m\u001b[32m│\u001b[39m\u001b[91m┌ @ tuple.jl:91 \u001b[39m\u001b[0mBase.iterate\u001b[0m(\u001b[0mI\u001b[96m::Expr\u001b[39m\u001b[0m)\n",
      "\u001b[35m│\u001b[39m\u001b[34m│\u001b[39m\u001b[33m│\u001b[39m\u001b[32m│\u001b[39m\u001b[91m│ no matching method found for call signature (Tuple{typeof(iterate), Expr}): \u001b[39m\u001b[0m\u001b[1mBase.iterate\u001b[22m\u001b[0m\u001b[1m(\u001b[22m\u001b[0m\u001b[1mI\u001b[22m\u001b[96m\u001b[1m::Expr\u001b[22m\u001b[39m\u001b[0m\u001b[1m)\u001b[22m\n",
      "\u001b[35m│\u001b[39m\u001b[34m│\u001b[39m\u001b[33m│\u001b[39m\u001b[32m│\u001b[39m\u001b[91m└───────────────\u001b[39m\n",
      "\u001b[35m┌ @ /Users/aviatesk/julia/packages/MacroTools/src/examples/destruct.jl:24 \u001b[39m\u001b[0mMacroTools.error\u001b[0m(\u001b[0m\"Can't destructure fields with default values\"\u001b[0m)\n",
      "\u001b[35m│\u001b[39m\u001b[91m┌ @ error.jl:33 \u001b[39m\u001b[0merror(::String)\n",
      "\u001b[35m│\u001b[39m\u001b[91m│ may throw: \u001b[39m\u001b[0m\u001b[1mBase.throw\u001b[22m\u001b[0m\u001b[1m(\u001b[22m\u001b[0m\u001b[1mBase.ErrorException\u001b[22m\u001b[0m\u001b[1m(\u001b[22m\u001b[0m\u001b[1ms\u001b[22m\u001b[96m\u001b[1m::String\u001b[22m\u001b[39m\u001b[0m\u001b[1m)\u001b[22m\u001b[96m\u001b[1m::ErrorException\u001b[22m\u001b[39m\u001b[0m\u001b[1m)\u001b[22m\n",
      "\u001b[35m│\u001b[39m\u001b[91m└───────────────\u001b[39m\n"
     ]
    },
    {
     "data": {
      "text/plain": [
       "(included_files = Set([\"/Users/aviatesk/julia/packages/MacroTools/src/examples/threading.jl\", \"/Users/aviatesk/julia/packages/MacroTools/src/examples/forward.jl\", \"/Users/aviatesk/julia/packages/MacroTools/src/MacroTools.jl\", \"/Users/aviatesk/julia/packages/MacroTools/src/match/match.jl\", \"/Users/aviatesk/julia/packages/MacroTools/src/utils.jl\", \"/Users/aviatesk/julia/packages/MacroTools/src/match/macro.jl\", \"/Users/aviatesk/julia/packages/MacroTools/src/structdef.jl\", \"/Users/aviatesk/julia/packages/MacroTools/src/match/union.jl\", \"/Users/aviatesk/julia/packages/MacroTools/src/examples/destruct.jl\", \"/Users/aviatesk/julia/packages/MacroTools/src/match/types.jl\"]), nreported = 2)"
      ]
     },
     "execution_count": 19,
     "metadata": {},
     "output_type": "execute_result"
    }
   ],
   "source": [
    "report_package(\"MacroTools\")"
   ]
  },
  {
   "cell_type": "markdown",
   "id": "12275eeb",
   "metadata": {},
   "source": [
    "Yay, now we've greatly improved the quality of MacroTools.jl by fixing the actual bugs and improving type stabilities !"
   ]
  },
  {
   "cell_type": "markdown",
   "id": "bcfeae9d",
   "metadata": {},
   "source": [
    "## Performance Linting"
   ]
  },
  {
   "cell_type": "markdown",
   "id": "61889213",
   "metadata": {},
   "source": [
    "- JET offers an infrastructure for \"plugin\" analyzers\n",
    "- JET's default error analyzer (, which we've used so far) is actually one specific instance of them\n",
    "- Another example: [JETTest.jl's Performance Linter](https://github.com/aviatesk/JETTest.jl)"
   ]
  },
  {
   "cell_type": "markdown",
   "id": "029b0ed7",
   "metadata": {},
   "source": [
    "- JET's error analyzer aims at finding possible \"error\"s, by analyzing type inference\n",
    "- The performance linter aims at finding possible performance pitfalls (currently it mostly accounts for runtime dispatches), by analyzing optimizations"
   ]
  },
  {
   "cell_type": "code",
   "execution_count": 20,
   "id": "3446ed1b",
   "metadata": {},
   "outputs": [
    {
     "name": "stdout",
     "output_type": "stream",
     "text": [
      "  0.915732 seconds (20.00 M allocations: 451.999 MiB, 41.18% gc time)\n"
     ]
    }
   ],
   "source": [
    "# calculates cumulative sum starting from 1 to n\n",
    "function f(n::Integer)\n",
    "    ary = [] # ::Vector{Any}\n",
    "    push!(ary, 1)\n",
    "    for i in 2:n\n",
    "        push!(ary, i+ary[i-1]) # valid call, but not performative\n",
    "    end\n",
    "    return ary\n",
    "end\n",
    "\n",
    "f(10)\n",
    "@time f(10000000);"
   ]
  },
  {
   "cell_type": "code",
   "execution_count": 21,
   "id": "f3c40229",
   "metadata": {},
   "outputs": [
    {
     "name": "stdout",
     "output_type": "stream",
     "text": [
      "\u001b[92mNo errors !\u001b[39m\n"
     ]
    },
    {
     "data": {
      "text/plain": [
       "(Vector{Any}, 0)"
      ]
     },
     "execution_count": 21,
     "metadata": {},
     "output_type": "execute_result"
    }
   ],
   "source": [
    "@report_call f(10000000)"
   ]
  },
  {
   "cell_type": "code",
   "execution_count": 22,
   "id": "09af635e",
   "metadata": {},
   "outputs": [
    {
     "name": "stdout",
     "output_type": "stream",
     "text": [
      "\u001b[7m═════ 1 possible error found ═════\u001b[27m\n",
      "\u001b[91m┌ @ In[20]:6 \u001b[39m\u001b[0mMain.+\u001b[0m(\u001b[0m%31\u001b[0m, \u001b[0m%34\u001b[0m)\n",
      "\u001b[91m│ runtime dispatch detected: \u001b[39m\u001b[0m\u001b[1mMain.+\u001b[22m\u001b[0m\u001b[1m(\u001b[22m\u001b[0m\u001b[1m%31\u001b[22m\u001b[96m\u001b[1m::Int64\u001b[22m\u001b[39m\u001b[0m\u001b[1m, \u001b[22m\u001b[0m\u001b[1m%34\u001b[22m\u001b[96m\u001b[1m::Any\u001b[22m\u001b[39m\u001b[0m\u001b[1m)\u001b[22m\n",
      "\u001b[91m└────────────\u001b[39m\n"
     ]
    },
    {
     "data": {
      "text/plain": [
       "(Vector{Any}, 1)"
      ]
     },
     "execution_count": 22,
     "metadata": {},
     "output_type": "execute_result"
    }
   ],
   "source": [
    "using JETTest\n",
    "\n",
    "@report_dispatch f(10000000)"
   ]
  },
  {
   "cell_type": "code",
   "execution_count": 23,
   "id": "330f7061",
   "metadata": {},
   "outputs": [
    {
     "data": {
      "text/plain": [
       "f2 (generic function with 1 method)"
      ]
     },
     "execution_count": 23,
     "metadata": {},
     "output_type": "execute_result"
    }
   ],
   "source": [
    "function f2(n::T) where T<:Integer\n",
    "    ary = T[] # very type stable !\n",
    "    push!(ary, 1)\n",
    "    for i in 2:n\n",
    "        push!(ary, i+ary[i-1]) # performative !\n",
    "    end\n",
    "    return ary\n",
    "end"
   ]
  },
  {
   "cell_type": "code",
   "execution_count": 24,
   "id": "cf934fd1",
   "metadata": {},
   "outputs": [
    {
     "name": "stdout",
     "output_type": "stream",
     "text": [
      "\u001b[92mNo errors !\u001b[39m\n"
     ]
    },
    {
     "data": {
      "text/plain": [
       "(Vector{Int64}, 0)"
      ]
     },
     "execution_count": 24,
     "metadata": {},
     "output_type": "execute_result"
    }
   ],
   "source": [
    "@report_dispatch f2(10000000)"
   ]
  },
  {
   "cell_type": "code",
   "execution_count": 25,
   "id": "7996e306",
   "metadata": {},
   "outputs": [
    {
     "name": "stdout",
     "output_type": "stream",
     "text": [
      "  0.224100 seconds (18 allocations: 146.831 MiB, 4.46% gc time)\n"
     ]
    }
   ],
   "source": [
    "f2(10)\n",
    "@time f2(10000000);"
   ]
  },
  {
   "cell_type": "markdown",
   "id": "a908bfcc",
   "metadata": {},
   "source": [
    "The performance linter is more powerful than a manual inspection with `code_typed` or `code_warntype`; it can analyze the entire call graph rather than just look at the final output of the compilation pipeline."
   ]
  },
  {
   "cell_type": "code",
   "execution_count": 26,
   "id": "0430bd09",
   "metadata": {},
   "outputs": [
    {
     "data": {
      "text/plain": [
       "callf (generic function with 1 method)"
      ]
     },
     "execution_count": 26,
     "metadata": {},
     "output_type": "execute_result"
    }
   ],
   "source": [
    "callf(n) = f(n)"
   ]
  },
  {
   "cell_type": "code",
   "execution_count": 27,
   "id": "eda69b43",
   "metadata": {},
   "outputs": [
    {
     "name": "stdout",
     "output_type": "stream",
     "text": [
      "MethodInstance for callf(::\u001b[0mInt64)\n",
      "  from callf(n) in Main at In[26]:1\n",
      "Arguments\n",
      "  #self#\u001b[36m::Core.Const(callf)\u001b[39m\n",
      "  n\u001b[36m::Int64\u001b[39m\n",
      "Body\u001b[36m::Vector{Any}\u001b[39m\n",
      "\u001b[90m1 ─\u001b[39m %1 = Main.f(n)\u001b[36m::Vector{Any}\u001b[39m\n",
      "\u001b[90m└──\u001b[39m      return %1\n",
      "\n"
     ]
    }
   ],
   "source": [
    "@code_warntype callf(10000000)"
   ]
  },
  {
   "cell_type": "code",
   "execution_count": 28,
   "id": "5c237372",
   "metadata": {},
   "outputs": [
    {
     "name": "stdout",
     "output_type": "stream",
     "text": [
      "\u001b[7m═════ 1 possible error found ═════\u001b[27m\n",
      "\u001b[35m┌ @ In[26]:1 \u001b[39m\u001b[0mMain.f\u001b[0m(\u001b[0mn\u001b[0m)\n",
      "\u001b[35m│\u001b[39m\u001b[91m┌ @ In[20]:6 \u001b[39m\u001b[0mMain.+\u001b[0m(\u001b[0m%31\u001b[0m, \u001b[0m%34\u001b[0m)\n",
      "\u001b[35m│\u001b[39m\u001b[91m│ runtime dispatch detected: \u001b[39m\u001b[0m\u001b[1mMain.+\u001b[22m\u001b[0m\u001b[1m(\u001b[22m\u001b[0m\u001b[1m%31\u001b[22m\u001b[96m\u001b[1m::Int64\u001b[22m\u001b[39m\u001b[0m\u001b[1m, \u001b[22m\u001b[0m\u001b[1m%34\u001b[22m\u001b[96m\u001b[1m::Any\u001b[22m\u001b[39m\u001b[0m\u001b[1m)\u001b[22m\n",
      "\u001b[35m│\u001b[39m\u001b[91m└────────────\u001b[39m\n"
     ]
    },
    {
     "data": {
      "text/plain": [
       "(Vector{Any}, 1)"
      ]
     },
     "execution_count": 28,
     "metadata": {},
     "output_type": "execute_result"
    }
   ],
   "source": [
    "@report_dispatch callf(10000000)"
   ]
  },
  {
   "cell_type": "markdown",
   "id": "07cebad1",
   "metadata": {},
   "source": [
    "## Performance Linting Example: Improve The Performance of Julia Compiler"
   ]
  },
  {
   "cell_type": "markdown",
   "id": "181adc07",
   "metadata": {},
   "source": [
    "Let's run the performance linter on Julia compiler itself – we all want to JIT to be faster !"
   ]
  },
  {
   "cell_type": "code",
   "execution_count": 1,
   "id": "08852f15",
   "metadata": {},
   "outputs": [
    {
     "name": "stdout",
     "output_type": "stream",
     "text": [
      "\u001b[7m═════ 148 possible errors found ═════\u001b[27m\n",
      "\u001b[35m┌ @ compiler/typeinfer.jl:205 \u001b[39m\u001b[0mCore.Compiler._typeinf\u001b[0m(\u001b[0minterp\u001b[0m, \u001b[0mframe\u001b[0m)\n",
      "\u001b[35m│\u001b[39m\u001b[34m┌ @ compiler/typeinfer.jl:226 \u001b[39m\u001b[0mCore.Compiler.typeinf_nocycle\u001b[0m(\u001b[0minterp\u001b[0m, \u001b[0mframe\u001b[0m)\n",
      "\u001b[35m│\u001b[39m\u001b[34m│\u001b[39m\u001b[33m┌ @ compiler/abstractinterpretation.jl:1968 \u001b[39m\u001b[0mCore.Compiler.typeinf_local\u001b[0m(\u001b[0minterp\u001b[0m, \u001b[0mframe\u001b[0m)\n",
      "\u001b[35m│\u001b[39m\u001b[34m│\u001b[39m\u001b[33m│\u001b[39m\u001b[32m┌ @ compiler/abstractinterpretation.jl:1758 \u001b[39m\u001b[0mCore.Compiler.abstract_eval_value\u001b[0m(\u001b[0minterp\u001b[0m, \u001b[0mcondx\u001b[0m, \u001b[0mchanges\u001b[0m, \u001b[0mframe\u001b[0m)\n",
      "\u001b[35m│\u001b[39m\u001b[34m│\u001b[39m\u001b[33m│\u001b[39m\u001b[32m│\u001b[39m\u001b[35m┌ @ compiler/abstractinterpretation.jl:1451 \u001b[39m\u001b[0mCore.Compiler.abstract_eval_special_value\u001b[0m(\u001b[0minterp\u001b[0m, \u001b[0me\u001b[0m, \u001b[0mvtypes\u001b[0m, \u001b[0msv\u001b[0m)\n",
      "\u001b[35m│\u001b[39m\u001b[34m│\u001b[39m\u001b[33m│\u001b[39m\u001b[32m│\u001b[39m\u001b[35m│\u001b[39m\u001b[34m┌ @ compiler/abstractinterpretation.jl:1437 \u001b[39m\u001b[0mCore.Compiler.abstract_eval_ssavalue\u001b[0m(\u001b[0mCore.typeassert\u001b[0m(\u001b[0me\u001b[0m, \u001b[0mCore.Compiler.SSAValue\u001b[0m)\u001b[0m, \u001b[0mCore.Compiler.getproperty\u001b[0m(\u001b[0msv\u001b[0m, \u001b[0m:src\u001b[0m)\u001b[0m)\n",
      "\u001b[35m│\u001b[39m\u001b[34m│\u001b[39m\u001b[33m│\u001b[39m\u001b[32m│\u001b[39m\u001b[35m│\u001b[39m\u001b[34m│\u001b[39m\u001b[91m┌ @ compiler/abstractinterpretation.jl:1640 \u001b[39m\u001b[0mCore.Compiler.getindex\u001b[0m(\u001b[0m%1\u001b[0m, \u001b[0m%2\u001b[0m)\n",
      "\u001b[35m│\u001b[39m\u001b[34m│\u001b[39m\u001b[33m│\u001b[39m\u001b[32m│\u001b[39m\u001b[35m│\u001b[39m\u001b[34m│\u001b[39m\u001b[91m│ runtime dispatch detected: \u001b[39m\u001b[0m\u001b[1mCore.Compiler.getindex\u001b[22m\u001b[0m\u001b[1m(\u001b[22m\u001b[0m\u001b[1m%1\u001b[22m\u001b[96m\u001b[1m::Any\u001b[22m\u001b[39m\u001b[0m\u001b[1m, \u001b[22m\u001b[0m\u001b[1m%2\u001b[22m\u001b[96m\u001b[1m::Int64\u001b[22m\u001b[39m\u001b[0m\u001b[1m)\u001b[22m\n",
      "\u001b[35m│\u001b[39m\u001b[34m│\u001b[39m\u001b[33m│\u001b[39m\u001b[32m│\u001b[39m\u001b[35m│\u001b[39m\u001b[34m│\u001b[39m\u001b[91m└───────────────────────────────────────────\u001b[39m\n",
      "\u001b[35m│\u001b[39m\u001b[34m│\u001b[39m\u001b[33m│\u001b[39m\u001b[32m┌ @ compiler/abstractinterpretation.jl:1786 \u001b[39m\u001b[0mCore.Compiler.conditional_changes\u001b[0m(\u001b[0mchanges_else\u001b[0m, \u001b[0mCore.Compiler.getproperty\u001b[0m(\u001b[0mcondt\u001b[0m, \u001b[0m:elsetype\u001b[0m)\u001b[0m, \u001b[0mCore.Compiler.getproperty\u001b[0m(\u001b[0mcondt\u001b[0m, \u001b[0m:var\u001b[0m)\u001b[0m)\n",
      "\u001b[35m│\u001b[39m\u001b[34m│\u001b[39m\u001b[33m│\u001b[39m\u001b[32m│\u001b[39m\u001b[35m┌ @ compiler/abstractinterpretation.jl:1942 \u001b[39m\u001b[0mCore.Compiler.tmerge\u001b[0m(\u001b[0mtyp\u001b[0m, \u001b[0mCore.Compiler.LimitedAccuracy\u001b[0m(\u001b[0mCore.Compiler.Bottom\u001b[0m, \u001b[0mCore.Compiler.getproperty\u001b[0m(\u001b[0moldtyp\u001b[0m, \u001b[0m:causes\u001b[0m)\u001b[0m)\u001b[0m)\n",
      "\u001b[35m│\u001b[39m\u001b[34m│\u001b[39m\u001b[33m│\u001b[39m\u001b[32m│\u001b[39m\u001b[35m│\u001b[39m\u001b[34m┌ @ compiler/typelimits.jl:292 \u001b[39m\u001b[0mCore.Compiler.issimpleenoughtype\u001b[0m(\u001b[0mtypeb\u001b[0m)\n",
      "\u001b[35m│\u001b[39m\u001b[34m│\u001b[39m\u001b[33m│\u001b[39m\u001b[32m│\u001b[39m\u001b[35m│\u001b[39m\u001b[34m│\u001b[39m\u001b[91m┌ @ compiler/typelimits.jl:280 \u001b[39m\u001b[0mCore.Compiler.unionlen\u001b[0m(\u001b[0m%1\u001b[0m)\n",
      "\u001b[35m│\u001b[39m\u001b[34m│\u001b[39m\u001b[33m│\u001b[39m\u001b[32m│\u001b[39m\u001b[35m│\u001b[39m\u001b[34m│\u001b[39m\u001b[91m│ runtime dispatch detected: \u001b[39m\u001b[0m\u001b[1mCore.Compiler.unionlen\u001b[22m\u001b[0m\u001b[1m(\u001b[22m\u001b[0m\u001b[1m%1\u001b[22m\u001b[96m\u001b[1m::Any\u001b[22m\u001b[39m\u001b[0m\u001b[1m)\u001b[22m\n",
      "\u001b[35m│\u001b[39m\u001b[34m│\u001b[39m\u001b[33m│\u001b[39m\u001b[32m│\u001b[39m\u001b[35m│\u001b[39m\u001b[34m│\u001b[39m\u001b[91m└──────────────────────────────\u001b[39m\n",
      "\u001b[35m│\u001b[39m\u001b[34m│\u001b[39m\u001b[33m│\u001b[39m\u001b[32m│\u001b[39m\u001b[35m│\u001b[39m\u001b[34m│\u001b[39m\u001b[91m┌ @ compiler/typelimits.jl:280 \u001b[39m\u001b[0mCore.Compiler.union_count_abstract\u001b[0m(\u001b[0m%1\u001b[0m)\n",
      "\u001b[35m│\u001b[39m\u001b[34m│\u001b[39m\u001b[33m│\u001b[39m\u001b[32m│\u001b[39m\u001b[35m│\u001b[39m\u001b[34m│\u001b[39m\u001b[91m│ runtime dispatch detected: \u001b[39m\u001b[0m\u001b[1mCore.Compiler.union_count_abstract\u001b[22m\u001b[0m\u001b[1m(\u001b[22m\u001b[0m\u001b[1m%1\u001b[22m\u001b[96m\u001b[1m::Any\u001b[22m\u001b[39m\u001b[0m\u001b[1m)\u001b[22m\n",
      "\u001b[35m│\u001b[39m\u001b[34m│\u001b[39m\u001b[33m│\u001b[39m\u001b[32m│\u001b[39m\u001b[35m│\u001b[39m\u001b[34m│\u001b[39m\u001b[91m└──────────────────────────────\u001b[39m\n",
      "\u001b[35m│\u001b[39m\u001b[34m│\u001b[39m\u001b[33m│\u001b[39m\u001b[32m│\u001b[39m\u001b[35m│\u001b[39m\u001b[34m│\u001b[39m\u001b[91m┌ @ compiler/typelimits.jl:280 \u001b[39m\u001b[0mCore.Compiler.unioncomplexity\u001b[0m(\u001b[0m%1\u001b[0m)\n",
      "\u001b[35m│\u001b[39m\u001b[34m│\u001b[39m\u001b[33m│\u001b[39m\u001b[32m│\u001b[39m\u001b[35m│\u001b[39m\u001b[34m│\u001b[39m\u001b[91m│ runtime dispatch detected: \u001b[39m\u001b[0m\u001b[1mCore.Compiler.unioncomplexity\u001b[22m\u001b[0m\u001b[1m(\u001b[22m\u001b[0m\u001b[1m%1\u001b[22m\u001b[96m\u001b[1m::Any\u001b[22m\u001b[39m\u001b[0m\u001b[1m)\u001b[22m\n",
      "\u001b[35m│\u001b[39m\u001b[34m│\u001b[39m\u001b[33m│\u001b[39m\u001b[32m│\u001b[39m\u001b[35m│\u001b[39m\u001b[34m│\u001b[39m\u001b[91m└──────────────────────────────\u001b[39m\n",
      "\u001b[35m│\u001b[39m\u001b[34m│\u001b[39m\u001b[33m│\u001b[39m\u001b[32m│\u001b[39m\u001b[35m│\u001b[39m\u001b[34m│\u001b[39m\u001b[91m┌ @ compiler/typelimits.jl:280 \u001b[39m\u001b[0mCore.Compiler.<=\u001b[0m(\u001b[0m%22\u001b[0m, \u001b[0mCore.Compiler.MAX_TYPEUNION_COMPLEXITY\u001b[0m)\n",
      "\u001b[35m│\u001b[39m\u001b[34m│\u001b[39m\u001b[33m│\u001b[39m\u001b[32m│\u001b[39m\u001b[35m│\u001b[39m\u001b[34m│\u001b[39m\u001b[91m│ runtime dispatch detected: \u001b[39m\u001b[0m\u001b[1mCore.Compiler.<=\u001b[22m\u001b[0m\u001b[1m(\u001b[22m\u001b[0m\u001b[1m%22\u001b[22m\u001b[96m\u001b[1m::Any\u001b[22m\u001b[39m\u001b[0m\u001b[1m, \u001b[22m\u001b[0m\u001b[1mCore.Compiler.MAX_TYPEUNION_COMPLEXITY\u001b[22m\u001b[0m\u001b[1m)\u001b[22m\n",
      "\u001b[35m│\u001b[39m\u001b[34m│\u001b[39m\u001b[33m│\u001b[39m\u001b[32m│\u001b[39m\u001b[35m│\u001b[39m\u001b[34m│\u001b[39m\u001b[91m└──────────────────────────────\u001b[39m\n",
      "\u001b[35m│\u001b[39m\u001b[34m│\u001b[39m\u001b[33m│\u001b[39m\u001b[32m┌ @ compiler/abstractinterpretation.jl:1789 \u001b[39m\u001b[0mCore.Compiler.stupdate!\u001b[0m(\u001b[0mCore.Compiler.getindex\u001b[0m(\u001b[0mstates\u001b[0m, \u001b[0ml\u001b[0m)\u001b[0m, \u001b[0mchanges_else\u001b[0m)\n",
      "\u001b[35m│\u001b[39m\u001b[34m│\u001b[39m\u001b[33m│\u001b[39m\u001b[32m│\u001b[39m\u001b[91m┌ @ compiler/typelattice.jl:302 \u001b[39m\u001b[0mCore.Compiler.issubstate\u001b[0m(\u001b[0m%65\u001b[0m, \u001b[0m%27\u001b[0m)\n",
      "\u001b[35m│\u001b[39m\u001b[34m│\u001b[39m\u001b[33m│\u001b[39m\u001b[32m│\u001b[39m\u001b[91m│ runtime dispatch detected: \u001b[39m\u001b[0m\u001b[1mCore.Compiler.issubstate\u001b[22m\u001b[0m\u001b[1m(\u001b[22m\u001b[0m\u001b[1m%65\u001b[22m\u001b[96m\u001b[1m::Any\u001b[22m\u001b[39m\u001b[0m\u001b[1m, \u001b[22m\u001b[0m\u001b[1m%27\u001b[22m\u001b[96m\u001b[1m::Any\u001b[22m\u001b[39m\u001b[0m\u001b[1m)\u001b[22m\n",
      "\u001b[35m│\u001b[39m\u001b[34m│\u001b[39m\u001b[33m│\u001b[39m\u001b[32m│\u001b[39m\u001b[91m└───────────────────────────────\u001b[39m\n",
      "\u001b[35m│\u001b[39m\u001b[34m│\u001b[39m\u001b[33m│\u001b[39m\u001b[32m│\u001b[39m\u001b[91m┌ @ compiler/typelattice.jl:364 \u001b[39m\u001b[0mCore.Compiler.smerge\u001b[0m(\u001b[0m%27\u001b[0m, \u001b[0m%65\u001b[0m)\n",
      "\u001b[35m│\u001b[39m\u001b[34m│\u001b[39m\u001b[33m│\u001b[39m\u001b[32m│\u001b[39m\u001b[91m│ runtime dispatch detected: \u001b[39m\u001b[0m\u001b[1mCore.Compiler.smerge\u001b[22m\u001b[0m\u001b[1m(\u001b[22m\u001b[0m\u001b[1m%27\u001b[22m\u001b[96m\u001b[1m::Any\u001b[22m\u001b[39m\u001b[0m\u001b[1m, \u001b[22m\u001b[0m\u001b[1m%65\u001b[22m\u001b[96m\u001b[1m::Any\u001b[22m\u001b[39m\u001b[0m\u001b[1m)\u001b[22m\n",
      "\u001b[35m│\u001b[39m\u001b[34m│\u001b[39m\u001b[33m│\u001b[39m\u001b[32m│\u001b[39m\u001b[91m└───────────────────────────────\u001b[39m\n",
      "\u001b[35m│\u001b[39m\u001b[34m│\u001b[39m\u001b[33m│\u001b[39m\u001b[32m│\u001b[39m\u001b[91m┌ @ compiler/typelattice.jl:302 \u001b[39m\u001b[0mCore.Compiler.issubstate\u001b[0m(\u001b[0m%18\u001b[0m, \u001b[0m%19\u001b[0m)\n",
      "\u001b[35m│\u001b[39m\u001b[34m│\u001b[39m\u001b[33m│\u001b[39m\u001b[32m│\u001b[39m\u001b[91m│ runtime dispatch detected: \u001b[39m\u001b[0m\u001b[1mCore.Compiler.issubstate\u001b[22m\u001b[0m\u001b[1m(\u001b[22m\u001b[0m\u001b[1m%18\u001b[22m\u001b[96m\u001b[1m::Any\u001b[22m\u001b[39m\u001b[0m\u001b[1m, \u001b[22m\u001b[0m\u001b[1m%19\u001b[22m\u001b[96m\u001b[1m::Any\u001b[22m\u001b[39m\u001b[0m\u001b[1m)\u001b[22m\n",
      "\u001b[35m│\u001b[39m\u001b[34m│\u001b[39m\u001b[33m│\u001b[39m\u001b[32m│\u001b[39m\u001b[91m└───────────────────────────────\u001b[39m\n",
      "\u001b[35m│\u001b[39m\u001b[34m│\u001b[39m\u001b[33m│\u001b[39m\u001b[32m│\u001b[39m\u001b[91m┌ @ compiler/typelattice.jl:377 \u001b[39m\u001b[0mCore.Compiler.smerge\u001b[0m(\u001b[0m%19\u001b[0m, \u001b[0m%18\u001b[0m)\n",
      "\u001b[35m│\u001b[39m\u001b[34m│\u001b[39m\u001b[33m│\u001b[39m\u001b[32m│\u001b[39m\u001b[91m│ runtime dispatch detected: \u001b[39m\u001b[0m\u001b[1mCore.Compiler.smerge\u001b[22m\u001b[0m\u001b[1m(\u001b[22m\u001b[0m\u001b[1m%19\u001b[22m\u001b[96m\u001b[1m::Any\u001b[22m\u001b[39m\u001b[0m\u001b[1m, \u001b[22m\u001b[0m\u001b[1m%18\u001b[22m\u001b[96m\u001b[1m::Any\u001b[22m\u001b[39m\u001b[0m\u001b[1m)\u001b[22m\n",
      "\u001b[35m│\u001b[39m\u001b[34m│\u001b[39m\u001b[33m│\u001b[39m\u001b[32m│\u001b[39m\u001b[91m└───────────────────────────────\u001b[39m\n",
      "\u001b[35m│\u001b[39m\u001b[34m│\u001b[39m\u001b[33m│\u001b[39m\u001b[32m┌ @ compiler/abstractinterpretation.jl:1861 \u001b[39m\u001b[0mCore.Compiler.abstract_eval_statement\u001b[0m(\u001b[0minterp\u001b[0m, \u001b[0mCore.Compiler.getindex\u001b[0m(\u001b[0mCore.Compiler.getproperty\u001b[0m(\u001b[0mstmt\u001b[0m, \u001b[0m:args\u001b[0m)\u001b[0m, \u001b[0m2\u001b[0m)\u001b[0m, \u001b[0mchanges\u001b[0m, \u001b[0mframe\u001b[0m)\n",
      "\u001b[35m│\u001b[39m\u001b[34m│\u001b[39m\u001b[33m│\u001b[39m\u001b[32m│\u001b[39m\u001b[35m┌ @ compiler/abstractinterpretation.jl:1491 \u001b[39m\u001b[0mCore.Compiler.abstract_call\u001b[0m(\u001b[0minterp\u001b[0m, \u001b[0mea\u001b[0m, \u001b[0margtypes\u001b[0m, \u001b[0msv\u001b[0m)\n",
      "\u001b[35m│\u001b[39m\u001b[34m│\u001b[39m\u001b[33m│\u001b[39m\u001b[32m│\u001b[39m\u001b[35m│\u001b[39m\u001b[34m┌ @ compiler/abstractinterpretation.jl:1337 \u001b[39m\u001b[0m#self#\u001b[0m(\u001b[0minterp\u001b[0m, \u001b[0mfargs\u001b[0m, \u001b[0margtypes\u001b[0m, \u001b[0msv\u001b[0m, \u001b[0mCore.Compiler.getproperty\u001b[0m(\u001b[0mCore.Compiler.InferenceParams\u001b[0m(\u001b[0minterp\u001b[0m)\u001b[0m, \u001b[0m:MAX_METHODS\u001b[0m)\u001b[0m)\n",
      "\u001b[35m│\u001b[39m\u001b[34m│\u001b[39m\u001b[33m│\u001b[39m\u001b[32m│\u001b[39m\u001b[35m│\u001b[39m\u001b[34m│\u001b[39m\u001b[33m┌ @ compiler/abstractinterpretation.jl:1340 \u001b[39m\u001b[0mCore.Compiler.abstract_call_opaque_closure\u001b[0m(\u001b[0minterp\u001b[0m, \u001b[0mft\u001b[0m, \u001b[0mCore.Compiler.getindex\u001b[0m(\u001b[0margtypes\u001b[0m, \u001b[0mCore.Compiler.:\u001b[0m(\u001b[0m2\u001b[0m, \u001b[0mCore.Compiler.lastindex\u001b[0m(\u001b[0margtypes\u001b[0m)\u001b[0m)\u001b[0m)\u001b[0m, \u001b[0msv\u001b[0m)\n",
      "\u001b[35m│\u001b[39m\u001b[34m│\u001b[39m\u001b[33m│\u001b[39m\u001b[32m│\u001b[39m\u001b[35m│\u001b[39m\u001b[34m│\u001b[39m\u001b[33m│\u001b[39m\u001b[32m┌ @ compiler/abstractinterpretation.jl:1304 \u001b[39m\u001b[0mCore.Compiler.abstract_call_method\u001b[0m(\u001b[0minterp\u001b[0m, \u001b[0mCore.typeassert\u001b[0m(\u001b[0mCore.Compiler.getproperty\u001b[0m(\u001b[0mclosure\u001b[0m, \u001b[0m:source\u001b[0m)\u001b[0m, \u001b[0mCore.Compiler.Method\u001b[0m)\u001b[0m, \u001b[0msig\u001b[0m, \u001b[0mCore.svec\u001b[0m(\u001b[0m)\u001b[0m, \u001b[0mfalse\u001b[0m, \u001b[0msv\u001b[0m)\n",
      "\u001b[35m│\u001b[39m\u001b[34m│\u001b[39m\u001b[33m│\u001b[39m\u001b[32m│\u001b[39m\u001b[35m│\u001b[39m\u001b[34m│\u001b[39m\u001b[33m│\u001b[39m\u001b[32m│\u001b[39m\u001b[35m┌ @ compiler/abstractinterpretation.jl:451 \u001b[39m\u001b[0mCore.Compiler.limit_type_size\u001b[0m(\u001b[0mCore.getfield\u001b[0m(\u001b[0msig\u001b[0m, \u001b[0m:contents\u001b[0m)\u001b[0m, \u001b[0mcomparison\u001b[0m, \u001b[0m_41\u001b[0m, \u001b[0mCore.Compiler.getproperty\u001b[0m(\u001b[0mCore.Compiler.InferenceParams\u001b[0m(\u001b[0minterp\u001b[0m)\u001b[0m, \u001b[0m:TUPLE_COMPLEXITY_LIMIT_DEPTH\u001b[0m)\u001b[0m, \u001b[0mspec_len\u001b[0m)\n",
      "\u001b[35m│\u001b[39m\u001b[34m│\u001b[39m\u001b[33m│\u001b[39m\u001b[32m│\u001b[39m\u001b[35m│\u001b[39m\u001b[34m│\u001b[39m\u001b[33m│\u001b[39m\u001b[32m│\u001b[39m\u001b[35m│\u001b[39m\u001b[34m┌ @ compiler/typelimits.jl:22 \u001b[39m\u001b[0mCore.Compiler._limit_type_size\u001b[0m(\u001b[0mt\u001b[0m, \u001b[0mcompare\u001b[0m, \u001b[0msource\u001b[0m, \u001b[0m1\u001b[0m, \u001b[0mallowed_tuplelen\u001b[0m)\n",
      "\u001b[35m│\u001b[39m\u001b[34m│\u001b[39m\u001b[33m│\u001b[39m\u001b[32m│\u001b[39m\u001b[35m│\u001b[39m\u001b[34m│\u001b[39m\u001b[33m│\u001b[39m\u001b[32m│\u001b[39m\u001b[35m│\u001b[39m\u001b[34m│\u001b[39m\u001b[33m┌ @ compiler/typelimits.jl:133 \u001b[39m\u001b[0mCore.Compiler._limit_type_size\u001b[0m(\u001b[0mt\u001b[0m, \u001b[0mCore.Compiler.getproperty\u001b[0m(\u001b[0mc\u001b[0m, \u001b[0m:T\u001b[0m)\u001b[0m, \u001b[0msources\u001b[0m, \u001b[0mdepth\u001b[0m, \u001b[0m0\u001b[0m)\n",
      "\u001b[35m│\u001b[39m\u001b[34m│\u001b[39m\u001b[33m│\u001b[39m\u001b[32m│\u001b[39m\u001b[35m│\u001b[39m\u001b[34m│\u001b[39m\u001b[33m│\u001b[39m\u001b[32m│\u001b[39m\u001b[35m│\u001b[39m\u001b[34m│\u001b[39m\u001b[33m│\u001b[39m\u001b[32m┌ @ compiler/typelimits.jl:152 \u001b[39m\u001b[0mCore.Compiler.tuple_tail_elem\u001b[0m(\u001b[0mCore.Compiler.Bottom\u001b[0m, \u001b[0m_27\u001b[0m)\n",
      "\u001b[35m│\u001b[39m\u001b[34m│\u001b[39m\u001b[33m│\u001b[39m\u001b[32m│\u001b[39m\u001b[35m│\u001b[39m\u001b[34m│\u001b[39m\u001b[33m│\u001b[39m\u001b[32m│\u001b[39m\u001b[35m│\u001b[39m\u001b[34m│\u001b[39m\u001b[33m│\u001b[39m\u001b[32m│\u001b[39m\u001b[91m┌ @ compiler/typeutils.jl:185 \u001b[39m\u001b[0mCore.Compiler.unwrapva\u001b[0m(\u001b[0m%20\u001b[0m)\n",
      "\u001b[35m│\u001b[39m\u001b[34m│\u001b[39m\u001b[33m│\u001b[39m\u001b[32m│\u001b[39m\u001b[35m│\u001b[39m\u001b[34m│\u001b[39m\u001b[33m│\u001b[39m\u001b[32m│\u001b[39m\u001b[35m│\u001b[39m\u001b[34m│\u001b[39m\u001b[33m│\u001b[39m\u001b[32m│\u001b[39m\u001b[91m│ runtime dispatch detected: \u001b[39m\u001b[0m\u001b[1mCore.Compiler.unwrapva\u001b[22m\u001b[0m\u001b[1m(\u001b[22m\u001b[0m\u001b[1m%20\u001b[22m\u001b[96m\u001b[1m::Any\u001b[22m\u001b[39m\u001b[0m\u001b[1m)\u001b[22m\n",
      "\u001b[35m│\u001b[39m\u001b[34m│\u001b[39m\u001b[33m│\u001b[39m\u001b[32m│\u001b[39m\u001b[35m│\u001b[39m\u001b[34m│\u001b[39m\u001b[33m│\u001b[39m\u001b[32m│\u001b[39m\u001b[35m│\u001b[39m\u001b[34m│\u001b[39m\u001b[33m│\u001b[39m\u001b[32m│\u001b[39m\u001b[91m└─────────────────────────────\u001b[39m\n",
      "\u001b[35m│\u001b[39m\u001b[34m│\u001b[39m\u001b[33m│\u001b[39m\u001b[32m│\u001b[39m\u001b[35m│\u001b[39m\u001b[34m│\u001b[39m\u001b[33m│\u001b[39m\u001b[32m│\u001b[39m\u001b[35m┌ @ compiler/abstractinterpretation.jl:501 \u001b[39m\u001b[0mCore.Compiler.typeinf_edge\u001b[0m(\u001b[0minterp\u001b[0m, \u001b[0mmethod\u001b[0m, \u001b[0mCore.getfield\u001b[0m(\u001b[0msig\u001b[0m, \u001b[0m:contents\u001b[0m)\u001b[0m, \u001b[0msparams\u001b[0m, \u001b[0msv\u001b[0m)\n",
      "\u001b[35m│\u001b[39m\u001b[34m│\u001b[39m\u001b[33m│\u001b[39m\u001b[32m│\u001b[39m\u001b[35m│\u001b[39m\u001b[34m│\u001b[39m\u001b[33m│\u001b[39m\u001b[32m│\u001b[39m\u001b[35m│\u001b[39m\u001b[34m┌ @ compiler/typeinfer.jl:813 \u001b[39m\u001b[0mCore.Compiler.InferenceResult\u001b[0m(\u001b[0mmi\u001b[0m)\n",
      "\u001b[35m│\u001b[39m\u001b[34m│\u001b[39m\u001b[33m│\u001b[39m\u001b[32m│\u001b[39m\u001b[35m│\u001b[39m\u001b[34m│\u001b[39m\u001b[33m│\u001b[39m\u001b[32m│\u001b[39m\u001b[35m│\u001b[39m\u001b[34m│\u001b[39m\u001b[33m┌ @ compiler/types.jl:33 \u001b[39m\u001b[0m#self#\u001b[0m(\u001b[0mlinfo\u001b[0m, \u001b[0mCore.Compiler.nothing\u001b[0m, \u001b[0mfalse\u001b[0m)\n",
      "\u001b[35m│\u001b[39m\u001b[34m│\u001b[39m\u001b[33m│\u001b[39m\u001b[32m│\u001b[39m\u001b[35m│\u001b[39m\u001b[34m│\u001b[39m\u001b[33m│\u001b[39m\u001b[32m│\u001b[39m\u001b[35m│\u001b[39m\u001b[34m│\u001b[39m\u001b[33m│\u001b[39m\u001b[32m┌ @ compiler/types.jl:33 \u001b[39m\u001b[0mCore.Compiler.matching_cache_argtypes\u001b[0m(\u001b[0mlinfo\u001b[0m, \u001b[0mgiven_argtypes\u001b[0m, \u001b[0mva_override\u001b[0m)\n",
      "\u001b[35m│\u001b[39m\u001b[34m│\u001b[39m\u001b[33m│\u001b[39m\u001b[32m│\u001b[39m\u001b[35m│\u001b[39m\u001b[34m│\u001b[39m\u001b[33m│\u001b[39m\u001b[32m│\u001b[39m\u001b[35m│\u001b[39m\u001b[34m│\u001b[39m\u001b[33m│\u001b[39m\u001b[32m│\u001b[39m\u001b[91m┌ @ compiler/inferenceresult.jl:139 \u001b[39m\u001b[0mCore.Compiler.most_general_argtypes\u001b[0m(\u001b[0m%9\u001b[0m, \u001b[0m%10\u001b[0m, \u001b[0m%21\u001b[0m)\n",
      "\u001b[35m│\u001b[39m\u001b[34m│\u001b[39m\u001b[33m│\u001b[39m\u001b[32m│\u001b[39m\u001b[35m│\u001b[39m\u001b[34m│\u001b[39m\u001b[33m│\u001b[39m\u001b[32m│\u001b[39m\u001b[35m│\u001b[39m\u001b[34m│\u001b[39m\u001b[33m│\u001b[39m\u001b[32m│\u001b[39m\u001b[91m│ runtime dispatch detected: \u001b[39m\u001b[0m\u001b[1mCore.Compiler.most_general_argtypes\u001b[22m\u001b[0m\u001b[1m(\u001b[22m\u001b[0m\u001b[1m%9\u001b[22m\u001b[96m\u001b[1m::Union{Nothing, Method}\u001b[22m\u001b[39m\u001b[0m\u001b[1m, \u001b[22m\u001b[0m\u001b[1m%10\u001b[22m\u001b[96m\u001b[1m::Any\u001b[22m\u001b[39m\u001b[0m\u001b[1m, \u001b[22m\u001b[0m\u001b[1m%21\u001b[22m\u001b[96m\u001b[1m::Bool\u001b[22m\u001b[39m\u001b[0m\u001b[1m)\u001b[22m\n",
      "\u001b[35m│\u001b[39m\u001b[34m│\u001b[39m\u001b[33m│\u001b[39m\u001b[32m│\u001b[39m\u001b[35m│\u001b[39m\u001b[34m│\u001b[39m\u001b[33m│\u001b[39m\u001b[32m│\u001b[39m\u001b[35m│\u001b[39m\u001b[34m│\u001b[39m\u001b[33m│\u001b[39m\u001b[32m│\u001b[39m\u001b[91m└───────────────────────────────────\u001b[39m\n",
      "\u001b[35m│\u001b[39m\u001b[34m│\u001b[39m\u001b[33m│\u001b[39m\u001b[32m│\u001b[39m\u001b[35m│\u001b[39m\u001b[34m│\u001b[39m\u001b[33m│\u001b[39m\u001b[32m│\u001b[39m\u001b[35m│\u001b[39m\u001b[34m┌ @ compiler/typeinfer.jl:814 \u001b[39m\u001b[0mCore.Compiler.InferenceState\u001b[0m(\u001b[0mresult\u001b[0m, \u001b[0mtrue\u001b[0m, \u001b[0minterp\u001b[0m)\n",
      "\u001b[35m│\u001b[39m\u001b[34m│\u001b[39m\u001b[33m│\u001b[39m\u001b[32m│\u001b[39m\u001b[35m│\u001b[39m\u001b[34m│\u001b[39m\u001b[33m│\u001b[39m\u001b[32m│\u001b[39m\u001b[35m│\u001b[39m\u001b[34m│\u001b[39m\u001b[33m┌ @ compiler/inferencestate.jl:150 \u001b[39m\u001b[0mCore.Compiler.validate_code_in_debug_mode\u001b[0m(\u001b[0mCore.Compiler.getproperty\u001b[0m(\u001b[0mresult\u001b[0m, \u001b[0m:linfo\u001b[0m)\u001b[0m, \u001b[0msrc\u001b[0m, \u001b[0m\"lowered\"\u001b[0m)\n",
      "\u001b[35m│\u001b[39m\u001b[34m│\u001b[39m\u001b[33m│\u001b[39m\u001b[32m│\u001b[39m\u001b[35m│\u001b[39m\u001b[34m│\u001b[39m\u001b[33m│\u001b[39m\u001b[32m│\u001b[39m\u001b[35m│\u001b[39m\u001b[34m│\u001b[39m\u001b[33m│\u001b[39m\u001b[32m┌ @ compiler/validation.jl:62 \u001b[39m\u001b[0mCore.Compiler.validate_code\u001b[0m(\u001b[0mlinfo\u001b[0m, \u001b[0msrc\u001b[0m)\n",
      "\u001b[35m│\u001b[39m\u001b[34m│\u001b[39m\u001b[33m│\u001b[39m\u001b[32m│\u001b[39m\u001b[35m│\u001b[39m\u001b[34m│\u001b[39m\u001b[33m│\u001b[39m\u001b[32m│\u001b[39m\u001b[35m│\u001b[39m\u001b[34m│\u001b[39m\u001b[33m│\u001b[39m\u001b[32m│\u001b[39m\u001b[35m┌ @ compiler/validation.jl:220 \u001b[39m\u001b[0mCore.Compiler.validate_code!\u001b[0m(\u001b[0mCore.tuple\u001b[0m(\u001b[0mCore.apply_type\u001b[0m(\u001b[0mCore.Compiler.Vector\u001b[0m, \u001b[0mCore.Compiler.InvalidCodeError\u001b[0m)\u001b[0m(\u001b[0m)\u001b[0m)\u001b[0m, \u001b[0margs\u001b[0m...\u001b[0m)\n",
      "\u001b[35m│\u001b[39m\u001b[34m│\u001b[39m\u001b[33m│\u001b[39m\u001b[32m│\u001b[39m\u001b[35m│\u001b[39m\u001b[34m│\u001b[39m\u001b[33m│\u001b[39m\u001b[32m│\u001b[39m\u001b[35m│\u001b[39m\u001b[34m│\u001b[39m\u001b[33m│\u001b[39m\u001b[32m│\u001b[39m\u001b[35m│\u001b[39m\u001b[34m┌ @ compiler/validation.jl:215 \u001b[39m\u001b[0mCore.Compiler.validate_code!\u001b[0m(\u001b[0merrors\u001b[0m, \u001b[0mc\u001b[0m, \u001b[0mis_top_level\u001b[0m)\n",
      "\u001b[35m│\u001b[39m\u001b[34m│\u001b[39m\u001b[33m│\u001b[39m\u001b[32m│\u001b[39m\u001b[35m│\u001b[39m\u001b[34m│\u001b[39m\u001b[33m│\u001b[39m\u001b[32m│\u001b[39m\u001b[35m│\u001b[39m\u001b[34m│\u001b[39m\u001b[33m│\u001b[39m\u001b[32m│\u001b[39m\u001b[35m│\u001b[39m\u001b[34m│\u001b[39m\u001b[91m┌ @ compiler/validation.jl:122 \u001b[39m\u001b[0mCore.Compiler.==\u001b[0m(\u001b[0m%159\u001b[0m, \u001b[0m$(QuoteNode(-1:-1))\u001b[0m)\n",
      "\u001b[35m│\u001b[39m\u001b[34m│\u001b[39m\u001b[33m│\u001b[39m\u001b[32m│\u001b[39m\u001b[35m│\u001b[39m\u001b[34m│\u001b[39m\u001b[33m│\u001b[39m\u001b[32m│\u001b[39m\u001b[35m│\u001b[39m\u001b[34m│\u001b[39m\u001b[33m│\u001b[39m\u001b[32m│\u001b[39m\u001b[35m│\u001b[39m\u001b[34m│\u001b[39m\u001b[91m│ runtime dispatch detected: \u001b[39m\u001b[0m\u001b[1mCore.Compiler.==\u001b[22m\u001b[0m\u001b[1m(\u001b[22m\u001b[0m\u001b[1m%159\u001b[22m\u001b[96m\u001b[1m::Core.Compiler.UnitRange\u001b[22m\u001b[39m\u001b[0m\u001b[1m, \u001b[22m\u001b[0m\u001b[1m$(QuoteNode(-1:-1))\u001b[22m\u001b[96m\u001b[1m::Core.Compiler.UnitRange{Int64}\u001b[22m\u001b[39m\u001b[0m\u001b[1m)\u001b[22m\n",
      "\u001b[35m│\u001b[39m\u001b[34m│\u001b[39m\u001b[33m│\u001b[39m\u001b[32m│\u001b[39m\u001b[35m│\u001b[39m\u001b[34m│\u001b[39m\u001b[33m│\u001b[39m\u001b[32m│\u001b[39m\u001b[35m│\u001b[39m\u001b[34m│\u001b[39m\u001b[33m│\u001b[39m\u001b[32m│\u001b[39m\u001b[35m│\u001b[39m\u001b[34m│\u001b[39m\u001b[91m└──────────────────────────────\u001b[39m\n",
      "\u001b[35m│\u001b[39m\u001b[34m│\u001b[39m\u001b[33m│\u001b[39m\u001b[32m│\u001b[39m\u001b[35m│\u001b[39m\u001b[34m│\u001b[39m\u001b[33m│\u001b[39m\u001b[32m│\u001b[39m\u001b[35m│\u001b[39m\u001b[34m│\u001b[39m\u001b[33m│\u001b[39m\u001b[32m│\u001b[39m\u001b[35m│\u001b[39m\u001b[34m│\u001b[39m\u001b[91m┌ @ compiler/validation.jl:124 \u001b[39m\u001b[0mCore.Compiler.in\u001b[0m(\u001b[0m%162\u001b[0m, \u001b[0m%159\u001b[0m)\n",
      "\u001b[35m│\u001b[39m\u001b[34m│\u001b[39m\u001b[33m│\u001b[39m\u001b[32m│\u001b[39m\u001b[35m│\u001b[39m\u001b[34m│\u001b[39m\u001b[33m│\u001b[39m\u001b[32m│\u001b[39m\u001b[35m│\u001b[39m\u001b[34m│\u001b[39m\u001b[33m│\u001b[39m\u001b[32m│\u001b[39m\u001b[35m│\u001b[39m\u001b[34m│\u001b[39m\u001b[91m│ runtime dispatch detected: \u001b[39m\u001b[0m\u001b[1mCore.Compiler.in\u001b[22m\u001b[0m\u001b[1m(\u001b[22m\u001b[0m\u001b[1m%162\u001b[22m\u001b[96m\u001b[1m::Int64\u001b[22m\u001b[39m\u001b[0m\u001b[1m, \u001b[22m\u001b[0m\u001b[1m%159\u001b[22m\u001b[96m\u001b[1m::Core.Compiler.UnitRange\u001b[22m\u001b[39m\u001b[0m\u001b[1m)\u001b[22m\n",
      "\u001b[35m│\u001b[39m\u001b[34m│\u001b[39m\u001b[33m│\u001b[39m\u001b[32m│\u001b[39m\u001b[35m│\u001b[39m\u001b[34m│\u001b[39m\u001b[33m│\u001b[39m\u001b[32m│\u001b[39m\u001b[35m│\u001b[39m\u001b[34m│\u001b[39m\u001b[33m│\u001b[39m\u001b[32m│\u001b[39m\u001b[35m│\u001b[39m\u001b[34m│\u001b[39m\u001b[91m└──────────────────────────────\u001b[39m\n",
      "\u001b[35m│\u001b[39m\u001b[34m│\u001b[39m\u001b[33m│\u001b[39m\u001b[32m│\u001b[39m\u001b[35m│\u001b[39m\u001b[34m│\u001b[39m\u001b[33m│\u001b[39m\u001b[32m│\u001b[39m\u001b[35m│\u001b[39m\u001b[34m│\u001b[39m\u001b[33m│\u001b[39m\u001b[32m│\u001b[39m\u001b[35m│\u001b[39m\u001b[34m│\u001b[39m\u001b[91m┌ @ compiler/validation.jl:124 \u001b[39m\u001b[0mCore.Compiler.!\u001b[0m(\u001b[0m%189\u001b[0m)\n",
      "\u001b[35m│\u001b[39m\u001b[34m│\u001b[39m\u001b[33m│\u001b[39m\u001b[32m│\u001b[39m\u001b[35m│\u001b[39m\u001b[34m│\u001b[39m\u001b[33m│\u001b[39m\u001b[32m│\u001b[39m\u001b[35m│\u001b[39m\u001b[34m│\u001b[39m\u001b[33m│\u001b[39m\u001b[32m│\u001b[39m\u001b[35m│\u001b[39m\u001b[34m│\u001b[39m\u001b[91m│ runtime dispatch detected: \u001b[39m\u001b[0m\u001b[1mCore.Compiler.!\u001b[22m\u001b[0m\u001b[1m(\u001b[22m\u001b[0m\u001b[1m%189\u001b[22m\u001b[96m\u001b[1m::Any\u001b[22m\u001b[39m\u001b[0m\u001b[1m)\u001b[22m\n",
      "\u001b[35m│\u001b[39m\u001b[34m│\u001b[39m\u001b[33m│\u001b[39m\u001b[32m│\u001b[39m\u001b[35m│\u001b[39m\u001b[34m│\u001b[39m\u001b[33m│\u001b[39m\u001b[32m│\u001b[39m\u001b[35m│\u001b[39m\u001b[34m│\u001b[39m\u001b[33m│\u001b[39m\u001b[32m│\u001b[39m\u001b[35m│\u001b[39m\u001b[34m│\u001b[39m\u001b[91m└──────────────────────────────\u001b[39m\n",
      "\u001b[35m│\u001b[39m\u001b[34m│\u001b[39m\u001b[33m│\u001b[39m\u001b[32m│\u001b[39m\u001b[35m│\u001b[39m\u001b[34m│\u001b[39m\u001b[33m│\u001b[39m\u001b[32m│\u001b[39m\u001b[35m│\u001b[39m\u001b[34m│\u001b[39m\u001b[33m│\u001b[39m\u001b[32m│\u001b[39m\u001b[35m│\u001b[39m\u001b[34m│\u001b[39m\u001b[91m┌ @ compiler/validation.jl:183 \u001b[39m\u001b[0mCore.Compiler.length\u001b[0m(\u001b[0m%917\u001b[0m)\n",
      "\u001b[35m│\u001b[39m\u001b[34m│\u001b[39m\u001b[33m│\u001b[39m\u001b[32m│\u001b[39m\u001b[35m│\u001b[39m\u001b[34m│\u001b[39m\u001b[33m│\u001b[39m\u001b[32m│\u001b[39m\u001b[35m│\u001b[39m\u001b[34m│\u001b[39m\u001b[33m│\u001b[39m\u001b[32m│\u001b[39m\u001b[35m│\u001b[39m\u001b[34m│\u001b[39m\u001b[91m│ runtime dispatch detected: \u001b[39m\u001b[0m\u001b[1mCore.Compiler.length\u001b[22m\u001b[0m\u001b[1m(\u001b[22m\u001b[0m\u001b[1m%917\u001b[22m\u001b[96m\u001b[1m::Any\u001b[22m\u001b[39m\u001b[0m\u001b[1m)\u001b[22m\n",
      "\u001b[35m│\u001b[39m\u001b[34m│\u001b[39m\u001b[33m│\u001b[39m\u001b[32m│\u001b[39m\u001b[35m│\u001b[39m\u001b[34m│\u001b[39m\u001b[33m│\u001b[39m\u001b[32m│\u001b[39m\u001b[35m│\u001b[39m\u001b[34m│\u001b[39m\u001b[33m│\u001b[39m\u001b[32m│\u001b[39m\u001b[35m│\u001b[39m\u001b[34m│\u001b[39m\u001b[91m└──────────────────────────────\u001b[39m\n",
      "\u001b[35m│\u001b[39m\u001b[34m│\u001b[39m\u001b[33m│\u001b[39m\u001b[32m│\u001b[39m\u001b[35m│\u001b[39m\u001b[34m│\u001b[39m\u001b[33m│\u001b[39m\u001b[32m│\u001b[39m\u001b[35m│\u001b[39m\u001b[34m│\u001b[39m\u001b[33m│\u001b[39m\u001b[32m│\u001b[39m\u001b[35m│\u001b[39m\u001b[34m│\u001b[39m\u001b[91m┌ @ compiler/validation.jl:184 \u001b[39m\u001b[0mCore.Compiler.<\u001b[0m(\u001b[0m%918\u001b[0m, \u001b[0m%861\u001b[0m)\n",
      "\u001b[35m│\u001b[39m\u001b[34m│\u001b[39m\u001b[33m│\u001b[39m\u001b[32m│\u001b[39m\u001b[35m│\u001b[39m\u001b[34m│\u001b[39m\u001b[33m│\u001b[39m\u001b[32m│\u001b[39m\u001b[35m│\u001b[39m\u001b[34m│\u001b[39m\u001b[33m│\u001b[39m\u001b[32m│\u001b[39m\u001b[35m│\u001b[39m\u001b[34m│\u001b[39m\u001b[91m│ runtime dispatch detected: \u001b[39m\u001b[0m\u001b[1mCore.Compiler.<\u001b[22m\u001b[0m\u001b[1m(\u001b[22m\u001b[0m\u001b[1m%918\u001b[22m\u001b[96m\u001b[1m::Any\u001b[22m\u001b[39m\u001b[0m\u001b[1m, \u001b[22m\u001b[0m\u001b[1m%861\u001b[22m\u001b[96m\u001b[1m::Int64\u001b[22m\u001b[39m\u001b[0m\u001b[1m)\u001b[22m\n",
      "\u001b[35m│\u001b[39m\u001b[34m│\u001b[39m\u001b[33m│\u001b[39m\u001b[32m│\u001b[39m\u001b[35m│\u001b[39m\u001b[34m│\u001b[39m\u001b[33m│\u001b[39m\u001b[32m│\u001b[39m\u001b[35m│\u001b[39m\u001b[34m│\u001b[39m\u001b[33m│\u001b[39m\u001b[32m│\u001b[39m\u001b[35m│\u001b[39m\u001b[34m│\u001b[39m\u001b[91m└──────────────────────────────\u001b[39m\n",
      "\u001b[35m│\u001b[39m\u001b[34m│\u001b[39m\u001b[33m│\u001b[39m\u001b[32m│\u001b[39m\u001b[35m│\u001b[39m\u001b[34m│\u001b[39m\u001b[33m│\u001b[39m\u001b[32m│\u001b[39m\u001b[35m│\u001b[39m\u001b[34m│\u001b[39m\u001b[33m│\u001b[39m\u001b[32m│\u001b[39m\u001b[35m│\u001b[39m\u001b[34m│\u001b[39m\u001b[91m┌ @ compiler/validation.jl:186 \u001b[39m\u001b[0mCore.Compiler.!=\u001b[0m(\u001b[0m%945\u001b[0m, \u001b[0m%861\u001b[0m)\n",
      "\u001b[35m│\u001b[39m\u001b[34m│\u001b[39m\u001b[33m│\u001b[39m\u001b[32m│\u001b[39m\u001b[35m│\u001b[39m\u001b[34m│\u001b[39m\u001b[33m│\u001b[39m\u001b[32m│\u001b[39m\u001b[35m│\u001b[39m\u001b[34m│\u001b[39m\u001b[33m│\u001b[39m\u001b[32m│\u001b[39m\u001b[35m│\u001b[39m\u001b[34m│\u001b[39m\u001b[91m│ runtime dispatch detected: \u001b[39m\u001b[0m\u001b[1mCore.Compiler.!=\u001b[22m\u001b[0m\u001b[1m(\u001b[22m\u001b[0m\u001b[1m%945\u001b[22m\u001b[96m\u001b[1m::Any\u001b[22m\u001b[39m\u001b[0m\u001b[1m, \u001b[22m\u001b[0m\u001b[1m%861\u001b[22m\u001b[96m\u001b[1m::Int64\u001b[22m\u001b[39m\u001b[0m\u001b[1m)\u001b[22m\n",
      "\u001b[35m│\u001b[39m\u001b[34m│\u001b[39m\u001b[33m│\u001b[39m\u001b[32m│\u001b[39m\u001b[35m│\u001b[39m\u001b[34m│\u001b[39m\u001b[33m│\u001b[39m\u001b[32m│\u001b[39m\u001b[35m│\u001b[39m\u001b[34m│\u001b[39m\u001b[33m│\u001b[39m\u001b[32m│\u001b[39m\u001b[35m│\u001b[39m\u001b[34m│\u001b[39m\u001b[91m└──────────────────────────────\u001b[39m\n",
      "\u001b[35m│\u001b[39m\u001b[34m│\u001b[39m\u001b[33m│\u001b[39m\u001b[32m│\u001b[39m\u001b[35m│\u001b[39m\u001b[34m│\u001b[39m\u001b[33m│\u001b[39m\u001b[32m│\u001b[39m\u001b[35m│\u001b[39m\u001b[34m│\u001b[39m\u001b[33m│\u001b[39m\u001b[32m│\u001b[39m\u001b[35m│\u001b[39m\u001b[91m┌ @ compiler/validation.jl:208 \u001b[39m\u001b[0mCore.Compiler.length\u001b[0m(\u001b[0m%17\u001b[0m)\n",
      "\u001b[35m│\u001b[39m\u001b[34m│\u001b[39m\u001b[33m│\u001b[39m\u001b[32m│\u001b[39m\u001b[35m│\u001b[39m\u001b[34m│\u001b[39m\u001b[33m│\u001b[39m\u001b[32m│\u001b[39m\u001b[35m│\u001b[39m\u001b[34m│\u001b[39m\u001b[33m│\u001b[39m\u001b[32m│\u001b[39m\u001b[35m│\u001b[39m\u001b[91m│ runtime dispatch detected: \u001b[39m\u001b[0m\u001b[1mCore.Compiler.length\u001b[22m\u001b[0m\u001b[1m(\u001b[22m\u001b[0m\u001b[1m%17\u001b[22m\u001b[96m\u001b[1m::Any\u001b[22m\u001b[39m\u001b[0m\u001b[1m)\u001b[22m\n",
      "\u001b[35m│\u001b[39m\u001b[34m│\u001b[39m\u001b[33m│\u001b[39m\u001b[32m│\u001b[39m\u001b[35m│\u001b[39m\u001b[34m│\u001b[39m\u001b[33m│\u001b[39m\u001b[32m│\u001b[39m\u001b[35m│\u001b[39m\u001b[34m│\u001b[39m\u001b[33m│\u001b[39m\u001b[32m│\u001b[39m\u001b[35m│\u001b[39m\u001b[91m└──────────────────────────────\u001b[39m\n",
      "\u001b[35m│\u001b[39m\u001b[34m│\u001b[39m\u001b[33m│\u001b[39m\u001b[32m│\u001b[39m\u001b[35m│\u001b[39m\u001b[34m│\u001b[39m\u001b[33m│\u001b[39m\u001b[32m│\u001b[39m\u001b[35m│\u001b[39m\u001b[34m│\u001b[39m\u001b[33m│\u001b[39m\u001b[32m│\u001b[39m\u001b[35m│\u001b[39m\u001b[91m┌ @ compiler/validation.jl:209 \u001b[39m\u001b[0mCore.Compiler.<\u001b[0m(\u001b[0m%18\u001b[0m, \u001b[0m%22\u001b[0m)\n",
      "\u001b[35m│\u001b[39m\u001b[34m│\u001b[39m\u001b[33m│\u001b[39m\u001b[32m│\u001b[39m\u001b[35m│\u001b[39m\u001b[34m│\u001b[39m\u001b[33m│\u001b[39m\u001b[32m│\u001b[39m\u001b[35m│\u001b[39m\u001b[34m│\u001b[39m\u001b[33m│\u001b[39m\u001b[32m│\u001b[39m\u001b[35m│\u001b[39m\u001b[91m│ runtime dispatch detected: \u001b[39m\u001b[0m\u001b[1mCore.Compiler.<\u001b[22m\u001b[0m\u001b[1m(\u001b[22m\u001b[0m\u001b[1m%18\u001b[22m\u001b[96m\u001b[1m::Any\u001b[22m\u001b[39m\u001b[0m\u001b[1m, \u001b[22m\u001b[0m\u001b[1m%22\u001b[22m\u001b[96m\u001b[1m::Int64\u001b[22m\u001b[39m\u001b[0m\u001b[1m)\u001b[22m\n",
      "\u001b[35m│\u001b[39m\u001b[34m│\u001b[39m\u001b[33m│\u001b[39m\u001b[32m│\u001b[39m\u001b[35m│\u001b[39m\u001b[34m│\u001b[39m\u001b[33m│\u001b[39m\u001b[32m│\u001b[39m\u001b[35m│\u001b[39m\u001b[34m│\u001b[39m\u001b[33m│\u001b[39m\u001b[32m│\u001b[39m\u001b[35m│\u001b[39m\u001b[91m└──────────────────────────────\u001b[39m\n",
      "\u001b[35m│\u001b[39m\u001b[34m│\u001b[39m\u001b[33m│\u001b[39m\u001b[32m│\u001b[39m\u001b[35m│\u001b[39m\u001b[34m│\u001b[39m\u001b[33m│\u001b[39m\u001b[32m│\u001b[39m\u001b[35m│\u001b[39m\u001b[34m│\u001b[39m\u001b[33m│\u001b[39m\u001b[32m│\u001b[39m\u001b[35m│\u001b[39m\u001b[91m┌ @ compiler/validation.jl:209 \u001b[39m\u001b[0mCore.Compiler.!=\u001b[0m(\u001b[0m%18\u001b[0m, \u001b[0m%8\u001b[0m)\n",
      "\u001b[35m│\u001b[39m\u001b[34m│\u001b[39m\u001b[33m│\u001b[39m\u001b[32m│\u001b[39m\u001b[35m│\u001b[39m\u001b[34m│\u001b[39m\u001b[33m│\u001b[39m\u001b[32m│\u001b[39m\u001b[35m│\u001b[39m\u001b[34m│\u001b[39m\u001b[33m│\u001b[39m\u001b[32m│\u001b[39m\u001b[35m│\u001b[39m\u001b[91m│ runtime dispatch detected: \u001b[39m\u001b[0m\u001b[1mCore.Compiler.!=\u001b[22m\u001b[0m\u001b[1m(\u001b[22m\u001b[0m\u001b[1m%18\u001b[22m\u001b[96m\u001b[1m::Any\u001b[22m\u001b[39m\u001b[0m\u001b[1m, \u001b[22m\u001b[0m\u001b[1m%8\u001b[22m\u001b[96m\u001b[1m::Int32\u001b[22m\u001b[39m\u001b[0m\u001b[1m)\u001b[22m\n",
      "\u001b[35m│\u001b[39m\u001b[34m│\u001b[39m\u001b[33m│\u001b[39m\u001b[32m│\u001b[39m\u001b[35m│\u001b[39m\u001b[34m│\u001b[39m\u001b[33m│\u001b[39m\u001b[32m│\u001b[39m\u001b[35m│\u001b[39m\u001b[34m│\u001b[39m\u001b[33m│\u001b[39m\u001b[32m│\u001b[39m\u001b[35m│\u001b[39m\u001b[91m└──────────────────────────────\u001b[39m\n",
      "\u001b[35m│\u001b[39m\u001b[34m│\u001b[39m\u001b[33m│\u001b[39m\u001b[32m│\u001b[39m\u001b[35m│\u001b[39m\u001b[34m│\u001b[39m\u001b[33m│\u001b[39m\u001b[32m│\u001b[39m\u001b[35m│\u001b[39m\u001b[34m│\u001b[39m\u001b[33m┌ @ compiler/inferencestate.jl:151 \u001b[39m\u001b[0mCore.Compiler.InferenceState\u001b[0m(\u001b[0mresult\u001b[0m, \u001b[0msrc\u001b[0m, \u001b[0mcached\u001b[0m, \u001b[0minterp\u001b[0m)\n",
      "\u001b[35m│\u001b[39m\u001b[34m│\u001b[39m\u001b[33m│\u001b[39m\u001b[32m│\u001b[39m\u001b[35m│\u001b[39m\u001b[34m│\u001b[39m\u001b[33m│\u001b[39m\u001b[32m│\u001b[39m\u001b[35m│\u001b[39m\u001b[34m│\u001b[39m\u001b[33m│\u001b[39m\u001b[32m┌ @ compiler/inferencestate.jl:62 \u001b[39m\u001b[0mCore.Compiler.sptypes_from_meth_instance\u001b[0m(\u001b[0mCore.typeassert\u001b[0m(\u001b[0mlinfo\u001b[0m, \u001b[0mCore.Compiler.MethodInstance\u001b[0m)\u001b[0m)\n",
      "\u001b[35m│\u001b[39m\u001b[34m│\u001b[39m\u001b[33m│\u001b[39m\u001b[32m│\u001b[39m\u001b[35m│\u001b[39m\u001b[34m│\u001b[39m\u001b[33m│\u001b[39m\u001b[32m│\u001b[39m\u001b[35m│\u001b[39m\u001b[34m│\u001b[39m\u001b[33m│\u001b[39m\u001b[32m│\u001b[39m\u001b[91m┌ @ compiler/inferencestate.jl:183 \u001b[39m\u001b[0mCore.Compiler.length\u001b[0m(\u001b[0m%102\u001b[0m)\n",
      "\u001b[35m│\u001b[39m\u001b[34m│\u001b[39m\u001b[33m│\u001b[39m\u001b[32m│\u001b[39m\u001b[35m│\u001b[39m\u001b[34m│\u001b[39m\u001b[33m│\u001b[39m\u001b[32m│\u001b[39m\u001b[35m│\u001b[39m\u001b[34m│\u001b[39m\u001b[33m│\u001b[39m\u001b[32m│\u001b[39m\u001b[91m│ runtime dispatch detected: \u001b[39m\u001b[0m\u001b[1mCore.Compiler.length\u001b[22m\u001b[0m\u001b[1m(\u001b[22m\u001b[0m\u001b[1m%102\u001b[22m\u001b[96m\u001b[1m::Any\u001b[22m\u001b[39m\u001b[0m\u001b[1m)\u001b[22m\n",
      "\u001b[35m│\u001b[39m\u001b[34m│\u001b[39m\u001b[33m│\u001b[39m\u001b[32m│\u001b[39m\u001b[35m│\u001b[39m\u001b[34m│\u001b[39m\u001b[33m│\u001b[39m\u001b[32m│\u001b[39m\u001b[35m│\u001b[39m\u001b[34m│\u001b[39m\u001b[33m│\u001b[39m\u001b[32m│\u001b[39m\u001b[91m└──────────────────────────────────\u001b[39m\n",
      "\u001b[35m│\u001b[39m\u001b[34m│\u001b[39m\u001b[33m│\u001b[39m\u001b[32m│\u001b[39m\u001b[35m│\u001b[39m\u001b[34m│\u001b[39m\u001b[33m│\u001b[39m\u001b[32m│\u001b[39m\u001b[35m│\u001b[39m\u001b[34m│\u001b[39m\u001b[33m│\u001b[39m\u001b[32m│\u001b[39m\u001b[91m┌ @ compiler/inferencestate.jl:183 \u001b[39m\u001b[0mCore.Compiler.:\u001b[0m(\u001b[0m1\u001b[0m, \u001b[0m%103\u001b[0m)\n",
      "\u001b[35m│\u001b[39m\u001b[34m│\u001b[39m\u001b[33m│\u001b[39m\u001b[32m│\u001b[39m\u001b[35m│\u001b[39m\u001b[34m│\u001b[39m\u001b[33m│\u001b[39m\u001b[32m│\u001b[39m\u001b[35m│\u001b[39m\u001b[34m│\u001b[39m\u001b[33m│\u001b[39m\u001b[32m│\u001b[39m\u001b[91m│ runtime dispatch detected: \u001b[39m\u001b[0m\u001b[1mCore.Compiler.:\u001b[22m\u001b[0m\u001b[1m(\u001b[22m\u001b[0m\u001b[1m1\u001b[22m\u001b[0m\u001b[1m, \u001b[22m\u001b[0m\u001b[1m%103\u001b[22m\u001b[96m\u001b[1m::Any\u001b[22m\u001b[39m\u001b[0m\u001b[1m)\u001b[22m\n",
      "\u001b[35m│\u001b[39m\u001b[34m│\u001b[39m\u001b[33m│\u001b[39m\u001b[32m│\u001b[39m\u001b[35m│\u001b[39m\u001b[34m│\u001b[39m\u001b[33m│\u001b[39m\u001b[32m│\u001b[39m\u001b[35m│\u001b[39m\u001b[34m│\u001b[39m\u001b[33m│\u001b[39m\u001b[32m│\u001b[39m\u001b[91m└──────────────────────────────────\u001b[39m\n",
      "\u001b[35m│\u001b[39m\u001b[34m│\u001b[39m\u001b[33m│\u001b[39m\u001b[32m│\u001b[39m\u001b[35m│\u001b[39m\u001b[34m│\u001b[39m\u001b[33m│\u001b[39m\u001b[32m│\u001b[39m\u001b[35m│\u001b[39m\u001b[34m│\u001b[39m\u001b[33m│\u001b[39m\u001b[32m│\u001b[39m\u001b[91m┌ @ compiler/inferencestate.jl:183 \u001b[39m\u001b[0mCore.Compiler.iterate\u001b[0m(\u001b[0m%114\u001b[0m)\n",
      "\u001b[35m│\u001b[39m\u001b[34m│\u001b[39m\u001b[33m│\u001b[39m\u001b[32m│\u001b[39m\u001b[35m│\u001b[39m\u001b[34m│\u001b[39m\u001b[33m│\u001b[39m\u001b[32m│\u001b[39m\u001b[35m│\u001b[39m\u001b[34m│\u001b[39m\u001b[33m│\u001b[39m\u001b[32m│\u001b[39m\u001b[91m│ runtime dispatch detected: \u001b[39m\u001b[0m\u001b[1mCore.Compiler.iterate\u001b[22m\u001b[0m\u001b[1m(\u001b[22m\u001b[0m\u001b[1m%114\u001b[22m\u001b[96m\u001b[1m::Any\u001b[22m\u001b[39m\u001b[0m\u001b[1m)\u001b[22m\n",
      "\u001b[35m│\u001b[39m\u001b[34m│\u001b[39m\u001b[33m│\u001b[39m\u001b[32m│\u001b[39m\u001b[35m│\u001b[39m\u001b[34m│\u001b[39m\u001b[33m│\u001b[39m\u001b[32m│\u001b[39m\u001b[35m│\u001b[39m\u001b[34m│\u001b[39m\u001b[33m│\u001b[39m\u001b[32m│\u001b[39m\u001b[91m└──────────────────────────────────\u001b[39m\n",
      "\u001b[35m│\u001b[39m\u001b[34m│\u001b[39m\u001b[33m│\u001b[39m\u001b[32m│\u001b[39m\u001b[35m│\u001b[39m\u001b[34m│\u001b[39m\u001b[33m│\u001b[39m\u001b[32m│\u001b[39m\u001b[35m│\u001b[39m\u001b[34m│\u001b[39m\u001b[33m│\u001b[39m\u001b[32m│\u001b[39m\u001b[91m┌ @ compiler/inferencestate.jl:184 \u001b[39m\u001b[0mCore.Compiler.getindex\u001b[0m(\u001b[0m%102\u001b[0m, \u001b[0m%120\u001b[0m)\n",
      "\u001b[35m│\u001b[39m\u001b[34m│\u001b[39m\u001b[33m│\u001b[39m\u001b[32m│\u001b[39m\u001b[35m│\u001b[39m\u001b[34m│\u001b[39m\u001b[33m│\u001b[39m\u001b[32m│\u001b[39m\u001b[35m│\u001b[39m\u001b[34m│\u001b[39m\u001b[33m│\u001b[39m\u001b[32m│\u001b[39m\u001b[91m│ runtime dispatch detected: \u001b[39m\u001b[0m\u001b[1mCore.Compiler.getindex\u001b[22m\u001b[0m\u001b[1m(\u001b[22m\u001b[0m\u001b[1m%102\u001b[22m\u001b[96m\u001b[1m::Any\u001b[22m\u001b[39m\u001b[0m\u001b[1m, \u001b[22m\u001b[0m\u001b[1m%120\u001b[22m\u001b[96m\u001b[1m::Any\u001b[22m\u001b[39m\u001b[0m\u001b[1m)\u001b[22m\n",
      "\u001b[35m│\u001b[39m\u001b[34m│\u001b[39m\u001b[33m│\u001b[39m\u001b[32m│\u001b[39m\u001b[35m│\u001b[39m\u001b[34m│\u001b[39m\u001b[33m│\u001b[39m\u001b[32m│\u001b[39m\u001b[35m│\u001b[39m\u001b[34m│\u001b[39m\u001b[33m│\u001b[39m\u001b[32m│\u001b[39m\u001b[91m└──────────────────────────────────\u001b[39m\n",
      "\u001b[35m│\u001b[39m\u001b[34m│\u001b[39m\u001b[33m│\u001b[39m\u001b[32m│\u001b[39m\u001b[35m│\u001b[39m\u001b[34m│\u001b[39m\u001b[33m│\u001b[39m\u001b[32m│\u001b[39m\u001b[35m│\u001b[39m\u001b[34m│\u001b[39m\u001b[33m│\u001b[39m\u001b[32m│\u001b[39m\u001b[91m┌ @ compiler/inferencestate.jl:187 \u001b[39m\u001b[0mCore.Compiler.iterate\u001b[0m(\u001b[0m%114\u001b[0m, \u001b[0m%121\u001b[0m)\n",
      "\u001b[35m│\u001b[39m\u001b[34m│\u001b[39m\u001b[33m│\u001b[39m\u001b[32m│\u001b[39m\u001b[35m│\u001b[39m\u001b[34m│\u001b[39m\u001b[33m│\u001b[39m\u001b[32m│\u001b[39m\u001b[35m│\u001b[39m\u001b[34m│\u001b[39m\u001b[33m│\u001b[39m\u001b[32m│\u001b[39m\u001b[91m│ runtime dispatch detected: \u001b[39m\u001b[0m\u001b[1mCore.Compiler.iterate\u001b[22m\u001b[0m\u001b[1m(\u001b[22m\u001b[0m\u001b[1m%114\u001b[22m\u001b[96m\u001b[1m::Any\u001b[22m\u001b[39m\u001b[0m\u001b[1m, \u001b[22m\u001b[0m\u001b[1m%121\u001b[22m\u001b[96m\u001b[1m::Any\u001b[22m\u001b[39m\u001b[0m\u001b[1m)\u001b[22m\n",
      "\u001b[35m│\u001b[39m\u001b[34m│\u001b[39m\u001b[33m│\u001b[39m\u001b[32m│\u001b[39m\u001b[35m│\u001b[39m\u001b[34m│\u001b[39m\u001b[33m│\u001b[39m\u001b[32m│\u001b[39m\u001b[35m│\u001b[39m\u001b[34m│\u001b[39m\u001b[33m│\u001b[39m\u001b[32m│\u001b[39m\u001b[91m└──────────────────────────────────\u001b[39m\n",
      "\u001b[35m│\u001b[39m\u001b[34m│\u001b[39m\u001b[33m│\u001b[39m\u001b[32m│\u001b[39m\u001b[35m│\u001b[39m\u001b[34m│\u001b[39m\u001b[33m│\u001b[39m\u001b[32m│\u001b[39m\u001b[35m│\u001b[39m\u001b[34m│\u001b[39m\u001b[33m│\u001b[39m\u001b[32m│\u001b[39m\u001b[91m┌ @ compiler/inferencestate.jl:190 \u001b[39m\u001b[0mCore.Compiler.>\u001b[0m(\u001b[0m%152\u001b[0m, \u001b[0m0\u001b[0m)\n",
      "\u001b[35m│\u001b[39m\u001b[34m│\u001b[39m\u001b[33m│\u001b[39m\u001b[32m│\u001b[39m\u001b[35m│\u001b[39m\u001b[34m│\u001b[39m\u001b[33m│\u001b[39m\u001b[32m│\u001b[39m\u001b[35m│\u001b[39m\u001b[34m│\u001b[39m\u001b[33m│\u001b[39m\u001b[32m│\u001b[39m\u001b[91m│ runtime dispatch detected: \u001b[39m\u001b[0m\u001b[1mCore.Compiler.>\u001b[22m\u001b[0m\u001b[1m(\u001b[22m\u001b[0m\u001b[1m%152\u001b[22m\u001b[96m\u001b[1m::Any\u001b[22m\u001b[39m\u001b[0m\u001b[1m, \u001b[22m\u001b[0m\u001b[1m0\u001b[22m\u001b[0m\u001b[1m)\u001b[22m\n",
      "\u001b[35m│\u001b[39m\u001b[34m│\u001b[39m\u001b[33m│\u001b[39m\u001b[32m│\u001b[39m\u001b[35m│\u001b[39m\u001b[34m│\u001b[39m\u001b[33m│\u001b[39m\u001b[32m│\u001b[39m\u001b[35m│\u001b[39m\u001b[34m│\u001b[39m\u001b[33m│\u001b[39m\u001b[32m│\u001b[39m\u001b[91m└──────────────────────────────────\u001b[39m\n",
      "\u001b[35m│\u001b[39m\u001b[34m│\u001b[39m\u001b[33m│\u001b[39m\u001b[32m│\u001b[39m\u001b[35m│\u001b[39m\u001b[34m│\u001b[39m\u001b[33m│\u001b[39m\u001b[32m│\u001b[39m\u001b[35m│\u001b[39m\u001b[34m│\u001b[39m\u001b[33m│\u001b[39m\u001b[32m│\u001b[39m\u001b[91m┌ @ compiler/inferencestate.jl:211 \u001b[39m\u001b[0mCore.Compiler.UnionAll\u001b[0m(\u001b[0m%196\u001b[0m, \u001b[0m%197\u001b[0m)\n",
      "\u001b[35m│\u001b[39m\u001b[34m│\u001b[39m\u001b[33m│\u001b[39m\u001b[32m│\u001b[39m\u001b[35m│\u001b[39m\u001b[34m│\u001b[39m\u001b[33m│\u001b[39m\u001b[32m│\u001b[39m\u001b[35m│\u001b[39m\u001b[34m│\u001b[39m\u001b[33m│\u001b[39m\u001b[32m│\u001b[39m\u001b[91m│ runtime dispatch detected: \u001b[39m\u001b[0m\u001b[1mCore.Compiler.UnionAll\u001b[22m\u001b[0m\u001b[1m(\u001b[22m\u001b[0m\u001b[1m%196\u001b[22m\u001b[96m\u001b[1m::TypeVar\u001b[22m\u001b[39m\u001b[0m\u001b[1m, \u001b[22m\u001b[0m\u001b[1m%197\u001b[22m\u001b[96m\u001b[1m::Type{Type{_A}} where _A\u001b[22m\u001b[39m\u001b[0m\u001b[1m)\u001b[22m\n",
      "\u001b[35m│\u001b[39m\u001b[34m│\u001b[39m\u001b[33m│\u001b[39m\u001b[32m│\u001b[39m\u001b[35m│\u001b[39m\u001b[34m│\u001b[39m\u001b[33m│\u001b[39m\u001b[32m│\u001b[39m\u001b[35m│\u001b[39m\u001b[34m│\u001b[39m\u001b[33m│\u001b[39m\u001b[32m│\u001b[39m\u001b[91m└──────────────────────────────────\u001b[39m\n",
      "\u001b[35m│\u001b[39m\u001b[34m│\u001b[39m\u001b[33m│\u001b[39m\u001b[32m│\u001b[39m\u001b[35m│\u001b[39m\u001b[34m│\u001b[39m\u001b[33m│\u001b[39m\u001b[32m┌ @ compiler/abstractinterpretation.jl:1311 \u001b[39m\u001b[0mCore.Compiler.abstract_call_method_with_const_args\u001b[0m(\u001b[0minterp\u001b[0m, \u001b[0mresult\u001b[0m, \u001b[0mclosure\u001b[0m, \u001b[0margtypes\u001b[0m, \u001b[0mmatch\u001b[0m, \u001b[0msv\u001b[0m, \u001b[0mCore.Compiler.getproperty\u001b[0m(\u001b[0mclosure\u001b[0m, \u001b[0m:isva\u001b[0m)\u001b[0m)\n",
      "\u001b[35m│\u001b[39m\u001b[34m│\u001b[39m\u001b[33m│\u001b[39m\u001b[32m│\u001b[39m\u001b[35m│\u001b[39m\u001b[34m│\u001b[39m\u001b[33m│\u001b[39m\u001b[32m│\u001b[39m\u001b[35m┌ @ compiler/abstractinterpretation.jl:543 \u001b[39m\u001b[0mCore.Compiler.InferenceResult\u001b[0m(\u001b[0mmi\u001b[0m, \u001b[0margtypes\u001b[0m, \u001b[0mva_override\u001b[0m)\n",
      "\u001b[35m│\u001b[39m\u001b[34m│\u001b[39m\u001b[33m│\u001b[39m\u001b[32m│\u001b[39m\u001b[35m│\u001b[39m\u001b[34m│\u001b[39m\u001b[33m│\u001b[39m\u001b[32m│\u001b[39m\u001b[35m│\u001b[39m\u001b[34m┌ @ compiler/types.jl:33 \u001b[39m\u001b[0mCore.Compiler.matching_cache_argtypes\u001b[0m(\u001b[0mlinfo\u001b[0m, \u001b[0mgiven_argtypes\u001b[0m, \u001b[0mva_override\u001b[0m)\n",
      "\u001b[35m│\u001b[39m\u001b[34m│\u001b[39m\u001b[33m│\u001b[39m\u001b[32m│\u001b[39m\u001b[35m│\u001b[39m\u001b[34m│\u001b[39m\u001b[33m│\u001b[39m\u001b[32m│\u001b[39m\u001b[35m│\u001b[39m\u001b[34m│\u001b[39m\u001b[91m┌ @ compiler/inferenceresult.jl:18 \u001b[39m\u001b[0mCore.Compiler.convert\u001b[0m(\u001b[0mCore.Compiler.Int\u001b[0m, \u001b[0m%6\u001b[0m)\n",
      "\u001b[35m│\u001b[39m\u001b[34m│\u001b[39m\u001b[33m│\u001b[39m\u001b[32m│\u001b[39m\u001b[35m│\u001b[39m\u001b[34m│\u001b[39m\u001b[33m│\u001b[39m\u001b[32m│\u001b[39m\u001b[35m│\u001b[39m\u001b[34m│\u001b[39m\u001b[91m│ runtime dispatch detected: \u001b[39m\u001b[0m\u001b[1mCore.Compiler.convert\u001b[22m\u001b[0m\u001b[1m(\u001b[22m\u001b[0m\u001b[1mCore.Compiler.Int\u001b[22m\u001b[0m\u001b[1m, \u001b[22m\u001b[0m\u001b[1m%6\u001b[22m\u001b[96m\u001b[1m::Any\u001b[22m\u001b[39m\u001b[0m\u001b[1m)\u001b[22m\n",
      "\u001b[35m│\u001b[39m\u001b[34m│\u001b[39m\u001b[33m│\u001b[39m\u001b[32m│\u001b[39m\u001b[35m│\u001b[39m\u001b[34m│\u001b[39m\u001b[33m│\u001b[39m\u001b[32m│\u001b[39m\u001b[35m│\u001b[39m\u001b[34m│\u001b[39m\u001b[91m└──────────────────────────────────\u001b[39m\n",
      "\u001b[35m│\u001b[39m\u001b[34m│\u001b[39m\u001b[33m│\u001b[39m\u001b[32m│\u001b[39m\u001b[35m│\u001b[39m\u001b[34m│\u001b[39m\u001b[33m┌ @ compiler/abstractinterpretation.jl:1350 \u001b[39m\u001b[0mCore.Compiler.abstract_call_gf_by_type\u001b[0m(\u001b[0minterp\u001b[0m, \u001b[0mCore.Compiler.nothing\u001b[0m, \u001b[0mfargs\u001b[0m, \u001b[0margtypes\u001b[0m, \u001b[0mCore.Compiler.argtypes_to_type\u001b[0m(\u001b[0margtypes\u001b[0m)\u001b[0m, \u001b[0msv\u001b[0m, \u001b[0mmax_methods\u001b[0m)\n",
      "\u001b[35m│\u001b[39m\u001b[34m│\u001b[39m\u001b[33m│\u001b[39m\u001b[32m│\u001b[39m\u001b[35m│\u001b[39m\u001b[34m│\u001b[39m\u001b[33m│\u001b[39m\u001b[32m┌ @ compiler/abstractinterpretation.jl:39 \u001b[39m\u001b[0mCore.Compiler.find_matching_methods\u001b[0m(\u001b[0margtypes\u001b[0m, \u001b[0matype\u001b[0m, \u001b[0mCore.Compiler.method_table\u001b[0m(\u001b[0minterp\u001b[0m, \u001b[0msv\u001b[0m)\u001b[0m, \u001b[0mCore.Compiler.getproperty\u001b[0m(\u001b[0mCore.Compiler.InferenceParams\u001b[0m(\u001b[0minterp\u001b[0m)\u001b[0m, \u001b[0m:MAX_UNION_SPLITTING\u001b[0m)\u001b[0m, \u001b[0mmax_methods\u001b[0m)\n",
      "\u001b[35m│\u001b[39m\u001b[34m│\u001b[39m\u001b[33m│\u001b[39m\u001b[32m│\u001b[39m\u001b[35m│\u001b[39m\u001b[34m│\u001b[39m\u001b[33m│\u001b[39m\u001b[32m│\u001b[39m\u001b[35m┌ @ compiler/abstractinterpretation.jl:269 \u001b[39m\u001b[0mCore.kwfunc\u001b[0m(\u001b[0mCore.Compiler.findall\u001b[0m)\u001b[0m(\u001b[0mCore.apply_type\u001b[0m(\u001b[0mCore.NamedTuple\u001b[0m, \u001b[0m(:limit,)\u001b[0m)\u001b[0m(\u001b[0mCore.tuple\u001b[0m(\u001b[0mmax_methods\u001b[0m)\u001b[0m)\u001b[0m, \u001b[0mCore.Compiler.findall\u001b[0m, \u001b[0msig_n\u001b[0m, \u001b[0mmethod_table\u001b[0m)\n",
      "\u001b[35m│\u001b[39m\u001b[34m│\u001b[39m\u001b[33m│\u001b[39m\u001b[32m│\u001b[39m\u001b[35m│\u001b[39m\u001b[34m│\u001b[39m\u001b[33m│\u001b[39m\u001b[32m│\u001b[39m\u001b[35m│\u001b[39m\u001b[34m┌ @ compiler/methodtable.jl:95 \u001b[39m\u001b[0mCore.Compiler.#findall#252\u001b[0m(\u001b[0mlimit\u001b[0m, \u001b[0m_3\u001b[0m, \u001b[0msig\u001b[0m, \u001b[0mtable\u001b[0m)\n",
      "\u001b[35m│\u001b[39m\u001b[34m│\u001b[39m\u001b[33m│\u001b[39m\u001b[32m│\u001b[39m\u001b[35m│\u001b[39m\u001b[34m│\u001b[39m\u001b[33m│\u001b[39m\u001b[32m│\u001b[39m\u001b[35m│\u001b[39m\u001b[34m│\u001b[39m\u001b[33m┌ @ compiler/methodtable.jl:96 \u001b[39m\u001b[0mCore.Compiler.get!\u001b[0m(\u001b[0m#253\u001b[0m, \u001b[0mCore.Compiler.getproperty\u001b[0m(\u001b[0mtable\u001b[0m, \u001b[0m:cache\u001b[0m)\u001b[0m, \u001b[0msig\u001b[0m)\n",
      "\u001b[35m│\u001b[39m\u001b[34m│\u001b[39m\u001b[33m│\u001b[39m\u001b[32m│\u001b[39m\u001b[35m│\u001b[39m\u001b[34m│\u001b[39m\u001b[33m│\u001b[39m\u001b[32m│\u001b[39m\u001b[35m│\u001b[39m\u001b[34m│\u001b[39m\u001b[33m│\u001b[39m\u001b[32m┌ @ iddict.jl:178 \u001b[39m\u001b[0mdefault\u001b[0m(\u001b[0m)\n",
      "\u001b[35m│\u001b[39m\u001b[34m│\u001b[39m\u001b[33m│\u001b[39m\u001b[32m│\u001b[39m\u001b[35m│\u001b[39m\u001b[34m│\u001b[39m\u001b[33m│\u001b[39m\u001b[32m│\u001b[39m\u001b[35m│\u001b[39m\u001b[34m│\u001b[39m\u001b[33m│\u001b[39m\u001b[32m│\u001b[39m\u001b[91m┌ @ compiler/methodtable.jl:97 \u001b[39m\u001b[0mfindall##kw\u001b[0m(\u001b[0m%2\u001b[0m, \u001b[0mCore.Compiler.findall\u001b[0m, \u001b[0m%4\u001b[0m, \u001b[0m%6\u001b[0m)\n",
      "\u001b[35m│\u001b[39m\u001b[34m│\u001b[39m\u001b[33m│\u001b[39m\u001b[32m│\u001b[39m\u001b[35m│\u001b[39m\u001b[34m│\u001b[39m\u001b[33m│\u001b[39m\u001b[32m│\u001b[39m\u001b[35m│\u001b[39m\u001b[34m│\u001b[39m\u001b[33m│\u001b[39m\u001b[32m│\u001b[39m\u001b[91m│ runtime dispatch detected: \u001b[39m\u001b[0m\u001b[1mfindall##kw\u001b[22m\u001b[0m\u001b[1m(\u001b[22m\u001b[0m\u001b[1m%2\u001b[22m\u001b[96m\u001b[1m::NamedTuple{(:limit,), Tuple{Int64}}\u001b[22m\u001b[39m\u001b[0m\u001b[1m, \u001b[22m\u001b[0m\u001b[1mCore.Compiler.findall\u001b[22m\u001b[0m\u001b[1m, \u001b[22m\u001b[0m\u001b[1m%4\u001b[22m\u001b[96m\u001b[1m::Any\u001b[22m\u001b[39m\u001b[0m\u001b[1m, \u001b[22m\u001b[0m\u001b[1m%6\u001b[22m\u001b[96m\u001b[1m::Core.Compiler.InternalMethodTable\u001b[22m\u001b[39m\u001b[0m\u001b[1m)\u001b[22m\n",
      "\u001b[35m│\u001b[39m\u001b[34m│\u001b[39m\u001b[33m│\u001b[39m\u001b[32m│\u001b[39m\u001b[35m│\u001b[39m\u001b[34m│\u001b[39m\u001b[33m│\u001b[39m\u001b[32m│\u001b[39m\u001b[35m│\u001b[39m\u001b[34m│\u001b[39m\u001b[33m│\u001b[39m\u001b[32m│\u001b[39m\u001b[91m└──────────────────────────────\u001b[39m\n",
      "\u001b[35m│\u001b[39m\u001b[34m│\u001b[39m\u001b[33m│\u001b[39m\u001b[32m│\u001b[39m\u001b[35m│\u001b[39m\u001b[34m│\u001b[39m\u001b[33m┌ @ compiler/abstractinterpretation.jl:1352 \u001b[39m\u001b[0mCore.Compiler.abstract_call_known\u001b[0m(\u001b[0minterp\u001b[0m, \u001b[0mf\u001b[0m, \u001b[0mfargs\u001b[0m, \u001b[0margtypes\u001b[0m, \u001b[0msv\u001b[0m, \u001b[0mmax_methods\u001b[0m)\n",
      "\u001b[35m│\u001b[39m\u001b[34m│\u001b[39m\u001b[33m│\u001b[39m\u001b[32m│\u001b[39m\u001b[35m│\u001b[39m\u001b[34m│\u001b[39m\u001b[33m│\u001b[39m\u001b[32m┌ @ compiler/abstractinterpretation.jl:1217 \u001b[39m\u001b[0mCore.Compiler.abstract_apply\u001b[0m(\u001b[0minterp\u001b[0m, \u001b[0margtypes\u001b[0m, \u001b[0msv\u001b[0m, \u001b[0mmax_methods\u001b[0m)\n",
      "\u001b[35m│\u001b[39m\u001b[34m│\u001b[39m\u001b[33m│\u001b[39m\u001b[32m│\u001b[39m\u001b[35m│\u001b[39m\u001b[34m│\u001b[39m\u001b[33m│\u001b[39m\u001b[32m│\u001b[39m\u001b[35m┌ @ compiler/abstractinterpretation.jl:905 \u001b[39m\u001b[0mCore.Compiler.precise_container_type\u001b[0m(\u001b[0minterp\u001b[0m, \u001b[0mitft\u001b[0m, \u001b[0mti\u001b[0m, \u001b[0msv\u001b[0m)\n",
      "\u001b[35m│\u001b[39m\u001b[34m│\u001b[39m\u001b[33m│\u001b[39m\u001b[32m│\u001b[39m\u001b[35m│\u001b[39m\u001b[34m│\u001b[39m\u001b[33m│\u001b[39m\u001b[32m│\u001b[39m\u001b[35m│\u001b[39m\u001b[34m┌ @ compiler/abstractinterpretation.jl:803 \u001b[39m\u001b[0mCore.Compiler.abstract_iteration\u001b[0m(\u001b[0minterp\u001b[0m, \u001b[0mitft\u001b[0m, \u001b[0mtyp\u001b[0m, \u001b[0msv\u001b[0m)\n",
      "\u001b[35m│\u001b[39m\u001b[34m│\u001b[39m\u001b[33m│\u001b[39m\u001b[32m│\u001b[39m\u001b[35m│\u001b[39m\u001b[34m│\u001b[39m\u001b[33m│\u001b[39m\u001b[32m│\u001b[39m\u001b[35m│\u001b[39m\u001b[34m│\u001b[39m\u001b[33m┌ @ compiler/abstractinterpretation.jl:815 \u001b[39m\u001b[0mCore.Compiler.abstract_call_known\u001b[0m(\u001b[0minterp\u001b[0m, \u001b[0miteratef\u001b[0m, \u001b[0mCore.Compiler.nothing\u001b[0m, \u001b[0mCore.Compiler.getindex\u001b[0m(\u001b[0mCore.Compiler.Any\u001b[0m, \u001b[0mitft\u001b[0m, \u001b[0mitertype\u001b[0m)\u001b[0m, \u001b[0msv\u001b[0m)\n",
      "\u001b[35m│\u001b[39m\u001b[34m│\u001b[39m\u001b[33m│\u001b[39m\u001b[32m│\u001b[39m\u001b[35m│\u001b[39m\u001b[34m│\u001b[39m\u001b[33m│\u001b[39m\u001b[32m│\u001b[39m\u001b[35m│\u001b[39m\u001b[34m│\u001b[39m\u001b[33m│\u001b[39m\u001b[32m┌ @ compiler/abstractinterpretation.jl:1213 \u001b[39m\u001b[0m#self#\u001b[0m(\u001b[0minterp\u001b[0m, \u001b[0mf\u001b[0m, \u001b[0mfargs\u001b[0m, \u001b[0margtypes\u001b[0m, \u001b[0msv\u001b[0m, \u001b[0mCore.Compiler.getproperty\u001b[0m(\u001b[0mCore.Compiler.InferenceParams\u001b[0m(\u001b[0minterp\u001b[0m)\u001b[0m, \u001b[0m:MAX_METHODS\u001b[0m)\u001b[0m)\n",
      "\u001b[35m│\u001b[39m\u001b[34m│\u001b[39m\u001b[33m│\u001b[39m\u001b[32m│\u001b[39m\u001b[35m│\u001b[39m\u001b[34m│\u001b[39m\u001b[33m│\u001b[39m\u001b[32m│\u001b[39m\u001b[35m│\u001b[39m\u001b[34m│\u001b[39m\u001b[33m│\u001b[39m\u001b[32m│\u001b[39m\u001b[35m┌ @ compiler/abstractinterpretation.jl:1221 \u001b[39m\u001b[0mCore.Compiler.abstract_call_builtin\u001b[0m(\u001b[0minterp\u001b[0m, \u001b[0mf\u001b[0m, \u001b[0mfargs\u001b[0m, \u001b[0margtypes\u001b[0m, \u001b[0msv\u001b[0m, \u001b[0mmax_methods\u001b[0m)\n",
      "\u001b[35m│\u001b[39m\u001b[34m│\u001b[39m\u001b[33m│\u001b[39m\u001b[32m│\u001b[39m\u001b[35m│\u001b[39m\u001b[34m│\u001b[39m\u001b[33m│\u001b[39m\u001b[32m│\u001b[39m\u001b[35m│\u001b[39m\u001b[34m│\u001b[39m\u001b[33m│\u001b[39m\u001b[32m│\u001b[39m\u001b[35m│\u001b[39m\u001b[34m┌ @ compiler/abstractinterpretation.jl:1050 \u001b[39m\u001b[0mCore.Compiler.builtin_tfunction\u001b[0m(\u001b[0minterp\u001b[0m, \u001b[0mf\u001b[0m, \u001b[0mCore.Compiler.getindex\u001b[0m(\u001b[0margtypes\u001b[0m, \u001b[0mCore.Compiler.:\u001b[0m(\u001b[0m2\u001b[0m, \u001b[0mCore.Compiler.lastindex\u001b[0m(\u001b[0margtypes\u001b[0m)\u001b[0m)\u001b[0m)\u001b[0m, \u001b[0msv\u001b[0m)\n",
      "\u001b[35m│\u001b[39m\u001b[34m│\u001b[39m\u001b[33m│\u001b[39m\u001b[32m│\u001b[39m\u001b[35m│\u001b[39m\u001b[34m│\u001b[39m\u001b[33m│\u001b[39m\u001b[32m│\u001b[39m\u001b[35m│\u001b[39m\u001b[34m│\u001b[39m\u001b[33m│\u001b[39m\u001b[32m│\u001b[39m\u001b[35m│\u001b[39m\u001b[34m│\u001b[39m\u001b[33m┌ @ compiler/tfuncs.jl:1538 \u001b[39m\u001b[0mCore.Compiler.anymap\u001b[0m(\u001b[0m#290\u001b[0m, \u001b[0margtypes\u001b[0m)\n",
      "\u001b[35m│\u001b[39m\u001b[34m│\u001b[39m\u001b[33m│\u001b[39m\u001b[32m│\u001b[39m\u001b[35m│\u001b[39m\u001b[34m│\u001b[39m\u001b[33m│\u001b[39m\u001b[32m│\u001b[39m\u001b[35m│\u001b[39m\u001b[34m│\u001b[39m\u001b[33m│\u001b[39m\u001b[32m│\u001b[39m\u001b[35m│\u001b[39m\u001b[34m│\u001b[39m\u001b[33m│\u001b[39m\u001b[91m┌ @ compiler/utilities.jl:39 \u001b[39m\u001b[0mf\u001b[0m(\u001b[0m%23\u001b[0m)\n",
      "\u001b[35m│\u001b[39m\u001b[34m│\u001b[39m\u001b[33m│\u001b[39m\u001b[32m│\u001b[39m\u001b[35m│\u001b[39m\u001b[34m│\u001b[39m\u001b[33m│\u001b[39m\u001b[32m│\u001b[39m\u001b[35m│\u001b[39m\u001b[34m│\u001b[39m\u001b[33m│\u001b[39m\u001b[32m│\u001b[39m\u001b[35m│\u001b[39m\u001b[34m│\u001b[39m\u001b[33m│\u001b[39m\u001b[91m│ runtime dispatch detected: \u001b[39m\u001b[0m\u001b[1mf\u001b[22m\u001b[96m\u001b[1m::Core.Compiler.var\"#290#292\"\u001b[22m\u001b[39m\u001b[0m\u001b[1m(\u001b[22m\u001b[0m\u001b[1m%23\u001b[22m\u001b[96m\u001b[1m::Any\u001b[22m\u001b[39m\u001b[0m\u001b[1m)\u001b[22m\n",
      "\u001b[35m│\u001b[39m\u001b[34m│\u001b[39m\u001b[33m│\u001b[39m\u001b[32m│\u001b[39m\u001b[35m│\u001b[39m\u001b[34m│\u001b[39m\u001b[33m│\u001b[39m\u001b[32m│\u001b[39m\u001b[35m│\u001b[39m\u001b[34m│\u001b[39m\u001b[33m│\u001b[39m\u001b[32m│\u001b[39m\u001b[35m│\u001b[39m\u001b[34m│\u001b[39m\u001b[33m│\u001b[39m\u001b[91m└────────────────────────────\u001b[39m\n",
      "\u001b[35m│\u001b[39m\u001b[34m│\u001b[39m\u001b[33m│\u001b[39m\u001b[32m│\u001b[39m\u001b[35m│\u001b[39m\u001b[34m│\u001b[39m\u001b[33m│\u001b[39m\u001b[32m│\u001b[39m\u001b[35m│\u001b[39m\u001b[34m│\u001b[39m\u001b[33m│\u001b[39m\u001b[32m│\u001b[39m\u001b[35m┌ @ compiler/abstractinterpretation.jl:1245 \u001b[39m\u001b[0mCore.Compiler.abstract_call_unionall\u001b[0m(\u001b[0margtypes\u001b[0m)\n",
      "\u001b[35m│\u001b[39m\u001b[34m│\u001b[39m\u001b[33m│\u001b[39m\u001b[32m│\u001b[39m\u001b[35m│\u001b[39m\u001b[34m│\u001b[39m\u001b[33m│\u001b[39m\u001b[32m│\u001b[39m\u001b[35m│\u001b[39m\u001b[34m│\u001b[39m\u001b[33m│\u001b[39m\u001b[32m│\u001b[39m\u001b[35m│\u001b[39m\u001b[91m┌ @ compiler/abstractinterpretation.jl:1146 \u001b[39m\u001b[0mCore.Compiler.has_free_typevars\u001b[0m(\u001b[0m%42\u001b[0m)\n",
      "\u001b[35m│\u001b[39m\u001b[34m│\u001b[39m\u001b[33m│\u001b[39m\u001b[32m│\u001b[39m\u001b[35m│\u001b[39m\u001b[34m│\u001b[39m\u001b[33m│\u001b[39m\u001b[32m│\u001b[39m\u001b[35m│\u001b[39m\u001b[34m│\u001b[39m\u001b[33m│\u001b[39m\u001b[32m│\u001b[39m\u001b[35m│\u001b[39m\u001b[91m│ runtime dispatch detected: \u001b[39m\u001b[0m\u001b[1mCore.Compiler.has_free_typevars\u001b[22m\u001b[0m\u001b[1m(\u001b[22m\u001b[0m\u001b[1m%42\u001b[22m\u001b[96m\u001b[1m::Union{TypeVar, Type}\u001b[22m\u001b[39m\u001b[0m\u001b[1m)\u001b[22m\n",
      "\u001b[35m│\u001b[39m\u001b[34m│\u001b[39m\u001b[33m│\u001b[39m\u001b[32m│\u001b[39m\u001b[35m│\u001b[39m\u001b[34m│\u001b[39m\u001b[33m│\u001b[39m\u001b[32m│\u001b[39m\u001b[35m│\u001b[39m\u001b[34m│\u001b[39m\u001b[33m│\u001b[39m\u001b[32m│\u001b[39m\u001b[35m│\u001b[39m\u001b[91m└───────────────────────────────────────────\u001b[39m\n",
      "\u001b[35m│\u001b[39m\u001b[34m│\u001b[39m\u001b[33m│\u001b[39m\u001b[32m│\u001b[39m\u001b[35m│\u001b[39m\u001b[34m│\u001b[39m\u001b[33m│\u001b[39m\u001b[32m│\u001b[39m\u001b[35m│\u001b[39m\u001b[34m│\u001b[39m\u001b[33m│\u001b[39m\u001b[32m│\u001b[39m\u001b[35m│\u001b[39m\u001b[91m┌ @ compiler/abstractinterpretation.jl:1157 \u001b[39m\u001b[0mCore.Compiler.UnionAll\u001b[0m(\u001b[0m%73\u001b[0m, \u001b[0m%74\u001b[0m)\n",
      "\u001b[35m│\u001b[39m\u001b[34m│\u001b[39m\u001b[33m│\u001b[39m\u001b[32m│\u001b[39m\u001b[35m│\u001b[39m\u001b[34m│\u001b[39m\u001b[33m│\u001b[39m\u001b[32m│\u001b[39m\u001b[35m│\u001b[39m\u001b[34m│\u001b[39m\u001b[33m│\u001b[39m\u001b[32m│\u001b[39m\u001b[35m│\u001b[39m\u001b[91m│ runtime dispatch detected: \u001b[39m\u001b[0m\u001b[1mCore.Compiler.UnionAll\u001b[22m\u001b[0m\u001b[1m(\u001b[22m\u001b[0m\u001b[1m%73\u001b[22m\u001b[96m\u001b[1m::TypeVar\u001b[22m\u001b[39m\u001b[0m\u001b[1m, \u001b[22m\u001b[0m\u001b[1m%74\u001b[22m\u001b[96m\u001b[1m::Union{TypeVar, Type}\u001b[22m\u001b[39m\u001b[0m\u001b[1m)\u001b[22m\n",
      "\u001b[35m│\u001b[39m\u001b[34m│\u001b[39m\u001b[33m│\u001b[39m\u001b[32m│\u001b[39m\u001b[35m│\u001b[39m\u001b[34m│\u001b[39m\u001b[33m│\u001b[39m\u001b[32m│\u001b[39m\u001b[35m│\u001b[39m\u001b[34m│\u001b[39m\u001b[33m│\u001b[39m\u001b[32m│\u001b[39m\u001b[35m│\u001b[39m\u001b[91m└───────────────────────────────────────────\u001b[39m\n",
      "\u001b[35m│\u001b[39m\u001b[34m│\u001b[39m\u001b[33m│\u001b[39m\u001b[32m│\u001b[39m\u001b[35m│\u001b[39m\u001b[34m│\u001b[39m\u001b[33m│\u001b[39m\u001b[32m│\u001b[39m\u001b[35m│\u001b[39m\u001b[34m│\u001b[39m\u001b[33m│\u001b[39m\u001b[32m│\u001b[39m\u001b[35m┌ @ compiler/abstractinterpretation.jl:1259 \u001b[39m\u001b[0mCore.Compiler.abstract_call_known\u001b[0m(\u001b[0minterp\u001b[0m, \u001b[0mCore.Compiler.===\u001b[0m, \u001b[0mfargs\u001b[0m, \u001b[0margtypes\u001b[0m, \u001b[0msv\u001b[0m)\n",
      "\u001b[35m│\u001b[39m\u001b[34m│\u001b[39m\u001b[33m│\u001b[39m\u001b[32m│\u001b[39m\u001b[35m│\u001b[39m\u001b[34m│\u001b[39m\u001b[33m│\u001b[39m\u001b[32m│\u001b[39m\u001b[35m│\u001b[39m\u001b[34m│\u001b[39m\u001b[33m│\u001b[39m\u001b[32m│\u001b[39m\u001b[35m│\u001b[39m\u001b[34m┌ @ compiler/abstractinterpretation.jl:1213 \u001b[39m\u001b[0m#self#\u001b[0m(\u001b[0minterp\u001b[0m, \u001b[0mf\u001b[0m, \u001b[0mfargs\u001b[0m, \u001b[0margtypes\u001b[0m, \u001b[0msv\u001b[0m, \u001b[0mCore.Compiler.getproperty\u001b[0m(\u001b[0mCore.Compiler.InferenceParams\u001b[0m(\u001b[0minterp\u001b[0m)\u001b[0m, \u001b[0m:MAX_METHODS\u001b[0m)\u001b[0m)\n",
      "\u001b[35m│\u001b[39m\u001b[34m│\u001b[39m\u001b[33m│\u001b[39m\u001b[32m│\u001b[39m\u001b[35m│\u001b[39m\u001b[34m│\u001b[39m\u001b[33m│\u001b[39m\u001b[32m│\u001b[39m\u001b[35m│\u001b[39m\u001b[34m│\u001b[39m\u001b[33m│\u001b[39m\u001b[32m│\u001b[39m\u001b[35m│\u001b[39m\u001b[34m│\u001b[39m\u001b[33m┌ @ compiler/abstractinterpretation.jl:1221 \u001b[39m\u001b[0mCore.Compiler.abstract_call_builtin\u001b[0m(\u001b[0minterp\u001b[0m, \u001b[0mf\u001b[0m, \u001b[0mfargs\u001b[0m, \u001b[0margtypes\u001b[0m, \u001b[0msv\u001b[0m, \u001b[0mmax_methods\u001b[0m)\n",
      "\u001b[35m│\u001b[39m\u001b[34m│\u001b[39m\u001b[33m│\u001b[39m\u001b[32m│\u001b[39m\u001b[35m│\u001b[39m\u001b[34m│\u001b[39m\u001b[33m│\u001b[39m\u001b[32m│\u001b[39m\u001b[35m│\u001b[39m\u001b[34m│\u001b[39m\u001b[33m│\u001b[39m\u001b[32m│\u001b[39m\u001b[35m│\u001b[39m\u001b[34m│\u001b[39m\u001b[33m│\u001b[39m\u001b[32m┌ @ compiler/abstractinterpretation.jl:1050 \u001b[39m\u001b[0mCore.Compiler.builtin_tfunction\u001b[0m(\u001b[0minterp\u001b[0m, \u001b[0mf\u001b[0m, \u001b[0mCore.Compiler.getindex\u001b[0m(\u001b[0margtypes\u001b[0m, \u001b[0mCore.Compiler.:\u001b[0m(\u001b[0m2\u001b[0m, \u001b[0mCore.Compiler.lastindex\u001b[0m(\u001b[0margtypes\u001b[0m)\u001b[0m)\u001b[0m)\u001b[0m, \u001b[0msv\u001b[0m)\n",
      "\u001b[35m│\u001b[39m\u001b[34m│\u001b[39m\u001b[33m│\u001b[39m\u001b[32m│\u001b[39m\u001b[35m│\u001b[39m\u001b[34m│\u001b[39m\u001b[33m│\u001b[39m\u001b[32m│\u001b[39m\u001b[35m│\u001b[39m\u001b[34m│\u001b[39m\u001b[33m│\u001b[39m\u001b[32m│\u001b[39m\u001b[35m│\u001b[39m\u001b[34m│\u001b[39m\u001b[33m│\u001b[39m\u001b[32m│\u001b[39m\u001b[91m┌ @ compiler/tfuncs.jl:1570 \u001b[39m\u001b[0mCore.Compiler.unwrapva\u001b[0m(\u001b[0m%112\u001b[0m)\n",
      "\u001b[35m│\u001b[39m\u001b[34m│\u001b[39m\u001b[33m│\u001b[39m\u001b[32m│\u001b[39m\u001b[35m│\u001b[39m\u001b[34m│\u001b[39m\u001b[33m│\u001b[39m\u001b[32m│\u001b[39m\u001b[35m│\u001b[39m\u001b[34m│\u001b[39m\u001b[33m│\u001b[39m\u001b[32m│\u001b[39m\u001b[35m│\u001b[39m\u001b[34m│\u001b[39m\u001b[33m│\u001b[39m\u001b[32m│\u001b[39m\u001b[91m│ runtime dispatch detected: \u001b[39m\u001b[0m\u001b[1mCore.Compiler.unwrapva\u001b[22m\u001b[0m\u001b[1m(\u001b[22m\u001b[0m\u001b[1m%112\u001b[22m\u001b[96m\u001b[1m::Any\u001b[22m\u001b[39m\u001b[0m\u001b[1m)\u001b[22m\n",
      "\u001b[35m│\u001b[39m\u001b[34m│\u001b[39m\u001b[33m│\u001b[39m\u001b[32m│\u001b[39m\u001b[35m│\u001b[39m\u001b[34m│\u001b[39m\u001b[33m│\u001b[39m\u001b[32m│\u001b[39m\u001b[35m│\u001b[39m\u001b[34m│\u001b[39m\u001b[33m│\u001b[39m\u001b[32m│\u001b[39m\u001b[35m│\u001b[39m\u001b[34m│\u001b[39m\u001b[33m│\u001b[39m\u001b[32m│\u001b[39m\u001b[91m└───────────────────────────\u001b[39m\n",
      "\u001b[35m│\u001b[39m\u001b[34m│\u001b[39m\u001b[33m│\u001b[39m\u001b[32m│\u001b[39m\u001b[35m│\u001b[39m\u001b[34m│\u001b[39m\u001b[33m│\u001b[39m\u001b[32m│\u001b[39m\u001b[35m│\u001b[39m\u001b[34m│\u001b[39m\u001b[33m│\u001b[39m\u001b[32m│\u001b[39m\u001b[35m│\u001b[39m\u001b[34m│\u001b[39m\u001b[33m│\u001b[39m\u001b[32m│\u001b[39m\u001b[91m┌ @ compiler/tfuncs.jl:1573 \u001b[39m\u001b[0mCore.Compiler.unconstrain_vararg_length\u001b[0m(\u001b[0m%112\u001b[0m)\n",
      "\u001b[35m│\u001b[39m\u001b[34m│\u001b[39m\u001b[33m│\u001b[39m\u001b[32m│\u001b[39m\u001b[35m│\u001b[39m\u001b[34m│\u001b[39m\u001b[33m│\u001b[39m\u001b[32m│\u001b[39m\u001b[35m│\u001b[39m\u001b[34m│\u001b[39m\u001b[33m│\u001b[39m\u001b[32m│\u001b[39m\u001b[35m│\u001b[39m\u001b[34m│\u001b[39m\u001b[33m│\u001b[39m\u001b[32m│\u001b[39m\u001b[91m│ runtime dispatch detected: \u001b[39m\u001b[0m\u001b[1mCore.Compiler.unconstrain_vararg_length\u001b[22m\u001b[0m\u001b[1m(\u001b[22m\u001b[0m\u001b[1m%112\u001b[22m\u001b[96m\u001b[1m::Any\u001b[22m\u001b[39m\u001b[0m\u001b[1m)\u001b[22m\n",
      "\u001b[35m│\u001b[39m\u001b[34m│\u001b[39m\u001b[33m│\u001b[39m\u001b[32m│\u001b[39m\u001b[35m│\u001b[39m\u001b[34m│\u001b[39m\u001b[33m│\u001b[39m\u001b[32m│\u001b[39m\u001b[35m│\u001b[39m\u001b[34m│\u001b[39m\u001b[33m│\u001b[39m\u001b[32m│\u001b[39m\u001b[35m│\u001b[39m\u001b[34m│\u001b[39m\u001b[33m│\u001b[39m\u001b[32m│\u001b[39m\u001b[91m└───────────────────────────\u001b[39m\n",
      "\u001b[35m│\u001b[39m\u001b[34m│\u001b[39m\u001b[33m│\u001b[39m\u001b[32m│\u001b[39m\u001b[35m┌ @ compiler/abstractinterpretation.jl:1558 \u001b[39m\u001b[0mCore.Compiler.most_general_argtypes\u001b[0m(\u001b[0mt\u001b[0m)\n",
      "\u001b[35m│\u001b[39m\u001b[34m│\u001b[39m\u001b[33m│\u001b[39m\u001b[32m│\u001b[39m\u001b[35m│\u001b[39m\u001b[91m┌ @ compiler/abstractinterpretation.jl:1326 \u001b[39m\u001b[0mCore.Compiler.getindex\u001b[0m(\u001b[0m%10\u001b[0m, \u001b[0m1\u001b[0m)\n",
      "\u001b[35m│\u001b[39m\u001b[34m│\u001b[39m\u001b[33m│\u001b[39m\u001b[32m│\u001b[39m\u001b[35m│\u001b[39m\u001b[91m│ runtime dispatch detected: \u001b[39m\u001b[0m\u001b[1mCore.Compiler.getindex\u001b[22m\u001b[0m\u001b[1m(\u001b[22m\u001b[0m\u001b[1m%10\u001b[22m\u001b[96m\u001b[1m::Any\u001b[22m\u001b[39m\u001b[0m\u001b[1m, \u001b[22m\u001b[0m\u001b[1m1\u001b[22m\u001b[0m\u001b[1m)\u001b[22m\n",
      "\u001b[35m│\u001b[39m\u001b[34m│\u001b[39m\u001b[33m│\u001b[39m\u001b[32m│\u001b[39m\u001b[35m│\u001b[39m\u001b[91m└───────────────────────────────────────────\u001b[39m\n",
      "\u001b[35m│\u001b[39m\u001b[34m│\u001b[39m\u001b[33m│\u001b[39m\u001b[32m│\u001b[39m\u001b[35m│\u001b[39m\u001b[91m┌ @ compiler/abstractinterpretation.jl:1327 \u001b[39m\u001b[0mCore.Compiler.typename\u001b[0m(\u001b[0mCore.Compiler.Tuple\u001b[0m)\n",
      "\u001b[35m│\u001b[39m\u001b[34m│\u001b[39m\u001b[33m│\u001b[39m\u001b[32m│\u001b[39m\u001b[35m│\u001b[39m\u001b[91m│ runtime dispatch detected: \u001b[39m\u001b[0m\u001b[1mCore.Compiler.typename\u001b[22m\u001b[0m\u001b[1m(\u001b[22m\u001b[0m\u001b[1mCore.Compiler.Tuple\u001b[22m\u001b[0m\u001b[1m)\u001b[22m\n",
      "\u001b[35m│\u001b[39m\u001b[34m│\u001b[39m\u001b[33m│\u001b[39m\u001b[32m│\u001b[39m\u001b[35m│\u001b[39m\u001b[91m└───────────────────────────────────────────\u001b[39m\n",
      "\u001b[35m│\u001b[39m\u001b[34m│\u001b[39m\u001b[33m│\u001b[39m\u001b[32m┌ @ compiler/abstractinterpretation.jl:1893 \u001b[39m\u001b[0mCore.Compiler.stupdate1!\u001b[0m(\u001b[0mCore.typeassert\u001b[0m(\u001b[0mCore.Compiler.getindex\u001b[0m(\u001b[0mstates\u001b[0m, \u001b[0ml\u001b[0m)\u001b[0m, \u001b[0mCore.Compiler.VarTable\u001b[0m)\u001b[0m, \u001b[0mCore.typeassert\u001b[0m(\u001b[0mchanges\u001b[0m, \u001b[0mCore.Compiler.StateUpdate\u001b[0m)\u001b[0m)\n",
      "\u001b[35m│\u001b[39m\u001b[34m│\u001b[39m\u001b[33m│\u001b[39m\u001b[32m│\u001b[39m\u001b[91m┌ @ compiler/typelattice.jl:399 \u001b[39m\u001b[0mCore.Compiler.LimitedAccuracy\u001b[0m(\u001b[0m%52\u001b[0m, \u001b[0m%59\u001b[0m)\n",
      "\u001b[35m│\u001b[39m\u001b[34m│\u001b[39m\u001b[33m│\u001b[39m\u001b[32m│\u001b[39m\u001b[91m│ runtime dispatch detected: \u001b[39m\u001b[0m\u001b[1mCore.Compiler.LimitedAccuracy\u001b[22m\u001b[0m\u001b[1m(\u001b[22m\u001b[0m\u001b[1m%52\u001b[22m\u001b[96m\u001b[1m::Union{Core.Const, Type{Bool}}\u001b[22m\u001b[39m\u001b[0m\u001b[1m, \u001b[22m\u001b[0m\u001b[1m%59\u001b[22m\u001b[96m\u001b[1m::Any\u001b[22m\u001b[39m\u001b[0m\u001b[1m)\u001b[22m\n",
      "\u001b[35m│\u001b[39m\u001b[34m│\u001b[39m\u001b[33m│\u001b[39m\u001b[32m│\u001b[39m\u001b[91m└───────────────────────────────\u001b[39m\n",
      "\u001b[35m│\u001b[39m\u001b[34m│\u001b[39m\u001b[33m│\u001b[39m\u001b[32m│\u001b[39m\u001b[91m┌ @ compiler/typelattice.jl:302 \u001b[39m\u001b[0mCore.Compiler.issubstate\u001b[0m(\u001b[0m%118\u001b[0m, \u001b[0m%119\u001b[0m)\n",
      "\u001b[35m│\u001b[39m\u001b[34m│\u001b[39m\u001b[33m│\u001b[39m\u001b[32m│\u001b[39m\u001b[91m│ runtime dispatch detected: \u001b[39m\u001b[0m\u001b[1mCore.Compiler.issubstate\u001b[22m\u001b[0m\u001b[1m(\u001b[22m\u001b[0m\u001b[1m%118\u001b[22m\u001b[96m\u001b[1m::Core.Compiler.VarState\u001b[22m\u001b[39m\u001b[0m\u001b[1m, \u001b[22m\u001b[0m\u001b[1m%119\u001b[22m\u001b[96m\u001b[1m::Any\u001b[22m\u001b[39m\u001b[0m\u001b[1m)\u001b[22m\n",
      "\u001b[35m│\u001b[39m\u001b[34m│\u001b[39m\u001b[33m│\u001b[39m\u001b[32m│\u001b[39m\u001b[91m└───────────────────────────────\u001b[39m\n",
      "\u001b[35m│\u001b[39m\u001b[34m┌ @ compiler/typeinfer.jl:239 \u001b[39m\u001b[0mCore.Compiler.finish\u001b[0m(\u001b[0mcaller\u001b[0m, \u001b[0minterp\u001b[0m)\n",
      "\u001b[35m│\u001b[39m\u001b[34m│\u001b[39m\u001b[33m┌ @ compiler/typeinfer.jl:475 \u001b[39m\u001b[0mCore.Compiler.type_annotate!\u001b[0m(\u001b[0mme\u001b[0m, \u001b[0mdoopt\u001b[0m)\n",
      "\u001b[35m│\u001b[39m\u001b[34m│\u001b[39m\u001b[33m│\u001b[39m\u001b[32m┌ @ compiler/typeinfer.jl:621 \u001b[39m\u001b[0mCore.Compiler.record_slot_assign!\u001b[0m(\u001b[0msv\u001b[0m)\n",
      "\u001b[35m│\u001b[39m\u001b[34m│\u001b[39m\u001b[33m│\u001b[39m\u001b[32m│\u001b[39m\u001b[91m┌ @ compiler/typeinfer.jl:588 \u001b[39m\u001b[0mCore.Compiler.getindex\u001b[0m(\u001b[0m%39\u001b[0m, \u001b[0m%18\u001b[0m)\n",
      "\u001b[35m│\u001b[39m\u001b[34m│\u001b[39m\u001b[33m│\u001b[39m\u001b[32m│\u001b[39m\u001b[91m│ runtime dispatch detected: \u001b[39m\u001b[0m\u001b[1mCore.Compiler.getindex\u001b[22m\u001b[0m\u001b[1m(\u001b[22m\u001b[0m\u001b[1m%39\u001b[22m\u001b[96m\u001b[1m::Any\u001b[22m\u001b[39m\u001b[0m\u001b[1m, \u001b[22m\u001b[0m\u001b[1m%18\u001b[22m\u001b[96m\u001b[1m::Int64\u001b[22m\u001b[39m\u001b[0m\u001b[1m)\u001b[22m\n",
      "\u001b[35m│\u001b[39m\u001b[34m│\u001b[39m\u001b[33m│\u001b[39m\u001b[32m│\u001b[39m\u001b[91m└─────────────────────────────\u001b[39m\n",
      "\u001b[35m│\u001b[39m\u001b[34m│\u001b[39m\u001b[33m│\u001b[39m\u001b[91m┌ @ compiler/typeinfer.jl:612 \u001b[39m\u001b[0mCore.Compiler.length\u001b[0m(\u001b[0m%2\u001b[0m)\n",
      "\u001b[35m│\u001b[39m\u001b[34m│\u001b[39m\u001b[33m│\u001b[39m\u001b[91m│ runtime dispatch detected: \u001b[39m\u001b[0m\u001b[1mCore.Compiler.length\u001b[22m\u001b[0m\u001b[1m(\u001b[22m\u001b[0m\u001b[1m%2\u001b[22m\u001b[96m\u001b[1m::Any\u001b[22m\u001b[39m\u001b[0m\u001b[1m)\u001b[22m\n",
      "\u001b[35m│\u001b[39m\u001b[34m│\u001b[39m\u001b[33m│\u001b[39m\u001b[91m└─────────────────────────────\u001b[39m\n",
      "\u001b[35m│\u001b[39m\u001b[34m│\u001b[39m\u001b[33m│\u001b[39m\u001b[91m┌ @ compiler/typeinfer.jl:612 \u001b[39m\u001b[0mCore.Compiler.:\u001b[0m(\u001b[0m1\u001b[0m, \u001b[0m%3\u001b[0m)\n",
      "\u001b[35m│\u001b[39m\u001b[34m│\u001b[39m\u001b[33m│\u001b[39m\u001b[91m│ runtime dispatch detected: \u001b[39m\u001b[0m\u001b[1mCore.Compiler.:\u001b[22m\u001b[0m\u001b[1m(\u001b[22m\u001b[0m\u001b[1m1\u001b[22m\u001b[0m\u001b[1m, \u001b[22m\u001b[0m\u001b[1m%3\u001b[22m\u001b[96m\u001b[1m::Any\u001b[22m\u001b[39m\u001b[0m\u001b[1m)\u001b[22m\n",
      "\u001b[35m│\u001b[39m\u001b[34m│\u001b[39m\u001b[33m│\u001b[39m\u001b[91m└─────────────────────────────\u001b[39m\n",
      "\u001b[35m│\u001b[39m\u001b[34m│\u001b[39m\u001b[33m│\u001b[39m\u001b[91m┌ @ compiler/typeinfer.jl:612 \u001b[39m\u001b[0mCore.Compiler.iterate\u001b[0m(\u001b[0m%14\u001b[0m)\n",
      "\u001b[35m│\u001b[39m\u001b[34m│\u001b[39m\u001b[33m│\u001b[39m\u001b[91m│ runtime dispatch detected: \u001b[39m\u001b[0m\u001b[1mCore.Compiler.iterate\u001b[22m\u001b[0m\u001b[1m(\u001b[22m\u001b[0m\u001b[1m%14\u001b[22m\u001b[96m\u001b[1m::Any\u001b[22m\u001b[39m\u001b[0m\u001b[1m)\u001b[22m\n",
      "\u001b[35m│\u001b[39m\u001b[34m│\u001b[39m\u001b[33m│\u001b[39m\u001b[91m└─────────────────────────────\u001b[39m\n",
      "\u001b[35m│\u001b[39m\u001b[34m│\u001b[39m\u001b[33m│\u001b[39m\u001b[91m┌ @ compiler/typeinfer.jl:613 \u001b[39m\u001b[0mCore.Compiler.getindex\u001b[0m(\u001b[0m%2\u001b[0m, \u001b[0m%20\u001b[0m)\n",
      "\u001b[35m│\u001b[39m\u001b[34m│\u001b[39m\u001b[33m│\u001b[39m\u001b[91m│ runtime dispatch detected: \u001b[39m\u001b[0m\u001b[1mCore.Compiler.getindex\u001b[22m\u001b[0m\u001b[1m(\u001b[22m\u001b[0m\u001b[1m%2\u001b[22m\u001b[96m\u001b[1m::Any\u001b[22m\u001b[39m\u001b[0m\u001b[1m, \u001b[22m\u001b[0m\u001b[1m%20\u001b[22m\u001b[96m\u001b[1m::Any\u001b[22m\u001b[39m\u001b[0m\u001b[1m)\u001b[22m\n",
      "\u001b[35m│\u001b[39m\u001b[34m│\u001b[39m\u001b[33m│\u001b[39m\u001b[91m└─────────────────────────────\u001b[39m\n",
      "\u001b[35m│\u001b[39m\u001b[34m│\u001b[39m\u001b[33m│\u001b[39m\u001b[91m┌ @ compiler/typeinfer.jl:614 \u001b[39m\u001b[0mCore.Compiler.setindex!\u001b[0m(\u001b[0m%2\u001b[0m, \u001b[0mUnion{}\u001b[0m, \u001b[0m%20\u001b[0m)\n",
      "\u001b[35m│\u001b[39m\u001b[34m│\u001b[39m\u001b[33m│\u001b[39m\u001b[91m│ runtime dispatch detected: \u001b[39m\u001b[0m\u001b[1mCore.Compiler.setindex!\u001b[22m\u001b[0m\u001b[1m(\u001b[22m\u001b[0m\u001b[1m%2\u001b[22m\u001b[96m\u001b[1m::Any\u001b[22m\u001b[39m\u001b[0m\u001b[1m, \u001b[22m\u001b[0m\u001b[1mUnion{}\u001b[22m\u001b[0m\u001b[1m, \u001b[22m\u001b[0m\u001b[1m%20\u001b[22m\u001b[96m\u001b[1m::Any\u001b[22m\u001b[39m\u001b[0m\u001b[1m)\u001b[22m\n",
      "\u001b[35m│\u001b[39m\u001b[34m│\u001b[39m\u001b[33m│\u001b[39m\u001b[91m└─────────────────────────────\u001b[39m\n",
      "\u001b[35m│\u001b[39m\u001b[34m│\u001b[39m\u001b[33m│\u001b[39m\u001b[91m┌ @ compiler/typeinfer.jl:616 \u001b[39m\u001b[0mCore.Compiler.getindex\u001b[0m(\u001b[0m%2\u001b[0m, \u001b[0m%20\u001b[0m)\n",
      "\u001b[35m│\u001b[39m\u001b[34m│\u001b[39m\u001b[33m│\u001b[39m\u001b[91m│ runtime dispatch detected: \u001b[39m\u001b[0m\u001b[1mCore.Compiler.getindex\u001b[22m\u001b[0m\u001b[1m(\u001b[22m\u001b[0m\u001b[1m%2\u001b[22m\u001b[96m\u001b[1m::Any\u001b[22m\u001b[39m\u001b[0m\u001b[1m, \u001b[22m\u001b[0m\u001b[1m%20\u001b[22m\u001b[96m\u001b[1m::Any\u001b[22m\u001b[39m\u001b[0m\u001b[1m)\u001b[22m\n",
      "\u001b[35m│\u001b[39m\u001b[34m│\u001b[39m\u001b[33m│\u001b[39m\u001b[91m└─────────────────────────────\u001b[39m\n",
      "\u001b[35m│\u001b[39m\u001b[34m│\u001b[39m\u001b[33m│\u001b[39m\u001b[91m┌ @ compiler/typeinfer.jl:616 \u001b[39m\u001b[0mCore.Compiler.setindex!\u001b[0m(\u001b[0m%2\u001b[0m, \u001b[0m%35\u001b[0m, \u001b[0m%20\u001b[0m)\n",
      "\u001b[35m│\u001b[39m\u001b[34m│\u001b[39m\u001b[33m│\u001b[39m\u001b[91m│ runtime dispatch detected: \u001b[39m\u001b[0m\u001b[1mCore.Compiler.setindex!\u001b[22m\u001b[0m\u001b[1m(\u001b[22m\u001b[0m\u001b[1m%2\u001b[22m\u001b[96m\u001b[1m::Any\u001b[22m\u001b[39m\u001b[0m\u001b[1m, \u001b[22m\u001b[0m\u001b[1m%35\u001b[22m\u001b[96m\u001b[1m::Any\u001b[22m\u001b[39m\u001b[0m\u001b[1m, \u001b[22m\u001b[0m\u001b[1m%20\u001b[22m\u001b[96m\u001b[1m::Any\u001b[22m\u001b[39m\u001b[0m\u001b[1m)\u001b[22m\n",
      "\u001b[35m│\u001b[39m\u001b[34m│\u001b[39m\u001b[33m│\u001b[39m\u001b[91m└─────────────────────────────\u001b[39m\n",
      "\u001b[35m│\u001b[39m\u001b[34m│\u001b[39m\u001b[33m│\u001b[39m\u001b[91m┌ @ compiler/typeinfer.jl:616 \u001b[39m\u001b[0mCore.Compiler.iterate\u001b[0m(\u001b[0m%14\u001b[0m, \u001b[0m%21\u001b[0m)\n",
      "\u001b[35m│\u001b[39m\u001b[34m│\u001b[39m\u001b[33m│\u001b[39m\u001b[91m│ runtime dispatch detected: \u001b[39m\u001b[0m\u001b[1mCore.Compiler.iterate\u001b[22m\u001b[0m\u001b[1m(\u001b[22m\u001b[0m\u001b[1m%14\u001b[22m\u001b[96m\u001b[1m::Any\u001b[22m\u001b[39m\u001b[0m\u001b[1m, \u001b[22m\u001b[0m\u001b[1m%21\u001b[22m\u001b[96m\u001b[1m::Any\u001b[22m\u001b[39m\u001b[0m\u001b[1m)\u001b[22m\n",
      "\u001b[35m│\u001b[39m\u001b[34m│\u001b[39m\u001b[33m│\u001b[39m\u001b[91m└─────────────────────────────\u001b[39m\n",
      "\u001b[35m│\u001b[39m\u001b[34m│\u001b[39m\u001b[33m│\u001b[39m\u001b[91m┌ @ compiler/typeinfer.jl:672 \u001b[39m\u001b[0mCore.Compiler.deleteat!\u001b[0m(\u001b[0m%296\u001b[0m, \u001b[0m%166\u001b[0m)\n",
      "\u001b[35m│\u001b[39m\u001b[34m│\u001b[39m\u001b[33m│\u001b[39m\u001b[91m│ runtime dispatch detected: \u001b[39m\u001b[0m\u001b[1mCore.Compiler.deleteat!\u001b[22m\u001b[0m\u001b[1m(\u001b[22m\u001b[0m\u001b[1m%296\u001b[22m\u001b[96m\u001b[1m::Any\u001b[22m\u001b[39m\u001b[0m\u001b[1m, \u001b[22m\u001b[0m\u001b[1m%166\u001b[22m\u001b[96m\u001b[1m::Int64\u001b[22m\u001b[39m\u001b[0m\u001b[1m)\u001b[22m\n",
      "\u001b[35m│\u001b[39m\u001b[34m│\u001b[39m\u001b[33m│\u001b[39m\u001b[91m└─────────────────────────────\u001b[39m\n",
      "\u001b[35m│\u001b[39m\u001b[34m│\u001b[39m\u001b[91m┌ @ compiler/typeinfer.jl:441 \u001b[39m\u001b[0mCore.Compiler.append!\u001b[0m(\u001b[0m%105\u001b[0m, \u001b[0m%107\u001b[0m)\n",
      "\u001b[35m│\u001b[39m\u001b[34m│\u001b[39m\u001b[91m│ runtime dispatch detected: \u001b[39m\u001b[0m\u001b[1mCore.Compiler.append!\u001b[22m\u001b[0m\u001b[1m(\u001b[22m\u001b[0m\u001b[1m%105\u001b[22m\u001b[96m\u001b[1m::Vector{Any}\u001b[22m\u001b[39m\u001b[0m\u001b[1m, \u001b[22m\u001b[0m\u001b[1m%107\u001b[22m\u001b[96m\u001b[1m::Any\u001b[22m\u001b[39m\u001b[0m\u001b[1m)\u001b[22m\n",
      "\u001b[35m│\u001b[39m\u001b[34m│\u001b[39m\u001b[91m└─────────────────────────────\u001b[39m\n",
      "\u001b[35m│\u001b[39m\u001b[34m│\u001b[39m\u001b[91m┌ @ compiler/typeinfer.jl:451 \u001b[39m\u001b[0mCore.Compiler.length\u001b[0m(\u001b[0m%119\u001b[0m)\n",
      "\u001b[35m│\u001b[39m\u001b[34m│\u001b[39m\u001b[91m│ runtime dispatch detected: \u001b[39m\u001b[0m\u001b[1mCore.Compiler.length\u001b[22m\u001b[0m\u001b[1m(\u001b[22m\u001b[0m\u001b[1m%119\u001b[22m\u001b[96m\u001b[1m::Any\u001b[22m\u001b[39m\u001b[0m\u001b[1m)\u001b[22m\n",
      "\u001b[35m│\u001b[39m\u001b[34m│\u001b[39m\u001b[91m└─────────────────────────────\u001b[39m\n",
      "\u001b[35m│\u001b[39m\u001b[34m│\u001b[39m\u001b[91m┌ @ compiler/typeinfer.jl:451 \u001b[39m\u001b[0mCore.Compiler.:\u001b[0m(\u001b[0m1\u001b[0m, \u001b[0m%120\u001b[0m)\n",
      "\u001b[35m│\u001b[39m\u001b[34m│\u001b[39m\u001b[91m│ runtime dispatch detected: \u001b[39m\u001b[0m\u001b[1mCore.Compiler.:\u001b[22m\u001b[0m\u001b[1m(\u001b[22m\u001b[0m\u001b[1m1\u001b[22m\u001b[0m\u001b[1m, \u001b[22m\u001b[0m\u001b[1m%120\u001b[22m\u001b[96m\u001b[1m::Any\u001b[22m\u001b[39m\u001b[0m\u001b[1m)\u001b[22m\n",
      "\u001b[35m│\u001b[39m\u001b[34m│\u001b[39m\u001b[91m└─────────────────────────────\u001b[39m\n",
      "\u001b[35m│\u001b[39m\u001b[34m│\u001b[39m\u001b[91m┌ @ compiler/typeinfer.jl:451 \u001b[39m\u001b[0mCore.Compiler.iterate\u001b[0m(\u001b[0m%131\u001b[0m)\n",
      "\u001b[35m│\u001b[39m\u001b[34m│\u001b[39m\u001b[91m│ runtime dispatch detected: \u001b[39m\u001b[0m\u001b[1mCore.Compiler.iterate\u001b[22m\u001b[0m\u001b[1m(\u001b[22m\u001b[0m\u001b[1m%131\u001b[22m\u001b[96m\u001b[1m::Any\u001b[22m\u001b[39m\u001b[0m\u001b[1m)\u001b[22m\n",
      "\u001b[35m│\u001b[39m\u001b[34m│\u001b[39m\u001b[91m└─────────────────────────────\u001b[39m\n",
      "\u001b[35m│\u001b[39m\u001b[34m│\u001b[39m\u001b[91m┌ @ compiler/typeinfer.jl:452 \u001b[39m\u001b[0mCore.Compiler.getindex\u001b[0m(\u001b[0m%119\u001b[0m, \u001b[0m%137\u001b[0m)\n",
      "\u001b[35m│\u001b[39m\u001b[34m│\u001b[39m\u001b[91m│ runtime dispatch detected: \u001b[39m\u001b[0m\u001b[1mCore.Compiler.getindex\u001b[22m\u001b[0m\u001b[1m(\u001b[22m\u001b[0m\u001b[1m%119\u001b[22m\u001b[96m\u001b[1m::Any\u001b[22m\u001b[39m\u001b[0m\u001b[1m, \u001b[22m\u001b[0m\u001b[1m%137\u001b[22m\u001b[96m\u001b[1m::Any\u001b[22m\u001b[39m\u001b[0m\u001b[1m)\u001b[22m\n",
      "\u001b[35m│\u001b[39m\u001b[34m│\u001b[39m\u001b[91m└─────────────────────────────\u001b[39m\n",
      "\u001b[35m│\u001b[39m\u001b[34m│\u001b[39m\u001b[91m┌ @ compiler/typeinfer.jl:452 \u001b[39m\u001b[0mCore.Compiler.setindex!\u001b[0m(\u001b[0m%119\u001b[0m, \u001b[0m%140\u001b[0m, \u001b[0m%137\u001b[0m)\n",
      "\u001b[35m│\u001b[39m\u001b[34m│\u001b[39m\u001b[91m│ runtime dispatch detected: \u001b[39m\u001b[0m\u001b[1mCore.Compiler.setindex!\u001b[22m\u001b[0m\u001b[1m(\u001b[22m\u001b[0m\u001b[1m%119\u001b[22m\u001b[96m\u001b[1m::Any\u001b[22m\u001b[39m\u001b[0m\u001b[1m, \u001b[22m\u001b[0m\u001b[1m%140\u001b[22m\u001b[96m\u001b[1m::Any\u001b[22m\u001b[39m\u001b[0m\u001b[1m, \u001b[22m\u001b[0m\u001b[1m%137\u001b[22m\u001b[96m\u001b[1m::Any\u001b[22m\u001b[39m\u001b[0m\u001b[1m)\u001b[22m\n",
      "\u001b[35m│\u001b[39m\u001b[34m│\u001b[39m\u001b[91m└─────────────────────────────\u001b[39m\n",
      "\u001b[35m│\u001b[39m\u001b[34m│\u001b[39m\u001b[91m┌ @ compiler/typeinfer.jl:455 \u001b[39m\u001b[0mCore.Compiler.iterate\u001b[0m(\u001b[0m%131\u001b[0m, \u001b[0m%138\u001b[0m)\n",
      "\u001b[35m│\u001b[39m\u001b[34m│\u001b[39m\u001b[91m│ runtime dispatch detected: \u001b[39m\u001b[0m\u001b[1mCore.Compiler.iterate\u001b[22m\u001b[0m\u001b[1m(\u001b[22m\u001b[0m\u001b[1m%131\u001b[22m\u001b[96m\u001b[1m::Any\u001b[22m\u001b[39m\u001b[0m\u001b[1m, \u001b[22m\u001b[0m\u001b[1m%138\u001b[22m\u001b[96m\u001b[1m::Any\u001b[22m\u001b[39m\u001b[0m\u001b[1m)\u001b[22m\n",
      "\u001b[35m│\u001b[39m\u001b[34m│\u001b[39m\u001b[91m└─────────────────────────────\u001b[39m\n",
      "\u001b[35m│\u001b[39m\u001b[34m┌ @ compiler/typeinfer.jl:255 \u001b[39m\u001b[0mCore.Compiler.optimize\u001b[0m(\u001b[0minterp\u001b[0m, \u001b[0mopt\u001b[0m, \u001b[0mCore.Compiler.OptimizationParams\u001b[0m(\u001b[0minterp\u001b[0m)\u001b[0m, \u001b[0mresult_type\u001b[0m)\n",
      "\u001b[35m│\u001b[39m\u001b[34m│\u001b[39m\u001b[33m┌ @ compiler/optimize.jl:289 \u001b[39m\u001b[0mCore.Compiler.run_passes\u001b[0m(\u001b[0mCore.Compiler.getproperty\u001b[0m(\u001b[0mopt\u001b[0m, \u001b[0m:src\u001b[0m)\u001b[0m, \u001b[0mnargs\u001b[0m, \u001b[0mopt\u001b[0m)\n",
      "\u001b[35m│\u001b[39m\u001b[34m│\u001b[39m\u001b[33m│\u001b[39m\u001b[32m┌ @ compiler/optimize.jl:296 \u001b[39m\u001b[0mCore.Compiler.slot2reg\u001b[0m(\u001b[0mir\u001b[0m, \u001b[0mci\u001b[0m, \u001b[0mnargs\u001b[0m, \u001b[0msv\u001b[0m)\n",
      "\u001b[35m│\u001b[39m\u001b[34m│\u001b[39m\u001b[33m│\u001b[39m\u001b[32m│\u001b[39m\u001b[35m┌ @ compiler/optimize.jl:412 \u001b[39m\u001b[0mCore.Compiler.construct_ssa!\u001b[0m(\u001b[0mci\u001b[0m, \u001b[0mir\u001b[0m, \u001b[0mdomtree\u001b[0m, \u001b[0mdefuse_insts\u001b[0m, \u001b[0mnargs\u001b[0m, \u001b[0mCore.Compiler.getproperty\u001b[0m(\u001b[0msv\u001b[0m, \u001b[0m:slottypes\u001b[0m)\u001b[0m)\n",
      "\u001b[35m│\u001b[39m\u001b[34m│\u001b[39m\u001b[33m│\u001b[39m\u001b[32m│\u001b[39m\u001b[35m│\u001b[39m\u001b[34m┌ @ compiler/ssair/slot2ssa.jl:652 \u001b[39m\u001b[0mCore.Compiler.insert_node!\u001b[0m(\u001b[0mir\u001b[0m, \u001b[0mCore.Compiler.first_insert_for_bb\u001b[0m(\u001b[0mcode\u001b[0m, \u001b[0mcfg\u001b[0m, \u001b[0mli\u001b[0m)\u001b[0m, \u001b[0mCore.Compiler.NewInstruction\u001b[0m(\u001b[0mnode\u001b[0m, \u001b[0mCore.apply_type\u001b[0m(\u001b[0mCore.Compiler.Union\u001b[0m)\u001b[0m)\u001b[0m)\n",
      "\u001b[35m│\u001b[39m\u001b[34m│\u001b[39m\u001b[33m│\u001b[39m\u001b[32m│\u001b[39m\u001b[35m│\u001b[39m\u001b[34m│\u001b[39m\u001b[33m┌ @ compiler/ssair/ir.jl:523 \u001b[39m\u001b[0m#self#\u001b[0m(\u001b[0mir\u001b[0m, \u001b[0mpos\u001b[0m, \u001b[0minst\u001b[0m, \u001b[0mfalse\u001b[0m)\n",
      "\u001b[35m│\u001b[39m\u001b[34m│\u001b[39m\u001b[33m│\u001b[39m\u001b[32m│\u001b[39m\u001b[35m│\u001b[39m\u001b[34m│\u001b[39m\u001b[33m│\u001b[39m\u001b[32m┌ @ compiler/ssair/ir.jl:527 \u001b[39m\u001b[0mCore.Compiler.stmt_effect_free\u001b[0m(\u001b[0mCore.Compiler.getproperty\u001b[0m(\u001b[0minst\u001b[0m, \u001b[0m:stmt\u001b[0m)\u001b[0m, \u001b[0mCore.Compiler.getproperty\u001b[0m(\u001b[0minst\u001b[0m, \u001b[0m:type\u001b[0m)\u001b[0m, \u001b[0mir\u001b[0m, \u001b[0mCore.Compiler.getproperty\u001b[0m(\u001b[0mir\u001b[0m, \u001b[0m:sptypes\u001b[0m)\u001b[0m)\n",
      "\u001b[35m│\u001b[39m\u001b[34m│\u001b[39m\u001b[33m│\u001b[39m\u001b[32m│\u001b[39m\u001b[35m│\u001b[39m\u001b[34m│\u001b[39m\u001b[33m│\u001b[39m\u001b[32m│\u001b[39m\u001b[35m┌ @ compiler/ssair/queries.jl:30 \u001b[39m\u001b[0mCore.Compiler.intrinsic_nothrow\u001b[0m(\u001b[0mf\u001b[0m, \u001b[0m_22\u001b[0m)\n",
      "\u001b[35m│\u001b[39m\u001b[34m│\u001b[39m\u001b[33m│\u001b[39m\u001b[32m│\u001b[39m\u001b[35m│\u001b[39m\u001b[34m│\u001b[39m\u001b[33m│\u001b[39m\u001b[32m│\u001b[39m\u001b[35m│\u001b[39m\u001b[91m┌ @ compiler/tfuncs.jl:1647 \u001b[39m\u001b[0mCore.Compiler.isprimitivetype\u001b[0m(\u001b[0m%653\u001b[0m)\n",
      "\u001b[35m│\u001b[39m\u001b[34m│\u001b[39m\u001b[33m│\u001b[39m\u001b[32m│\u001b[39m\u001b[35m│\u001b[39m\u001b[34m│\u001b[39m\u001b[33m│\u001b[39m\u001b[32m│\u001b[39m\u001b[35m│\u001b[39m\u001b[91m│ runtime dispatch detected: \u001b[39m\u001b[0m\u001b[1mCore.Compiler.isprimitivetype\u001b[22m\u001b[0m\u001b[1m(\u001b[22m\u001b[0m\u001b[1m%653\u001b[22m\u001b[96m\u001b[1m::Any\u001b[22m\u001b[39m\u001b[0m\u001b[1m)\u001b[22m\n",
      "\u001b[35m│\u001b[39m\u001b[34m│\u001b[39m\u001b[33m│\u001b[39m\u001b[32m│\u001b[39m\u001b[35m│\u001b[39m\u001b[34m│\u001b[39m\u001b[33m│\u001b[39m\u001b[32m│\u001b[39m\u001b[35m│\u001b[39m\u001b[91m└───────────────────────────\u001b[39m\n",
      "\u001b[35m│\u001b[39m\u001b[34m│\u001b[39m\u001b[33m│\u001b[39m\u001b[32m│\u001b[39m\u001b[35m│\u001b[39m\u001b[34m│\u001b[39m\u001b[33m│\u001b[39m\u001b[32m│\u001b[39m\u001b[35m│\u001b[39m\u001b[91m┌ @ compiler/tfuncs.jl:1656 \u001b[39m\u001b[0mCore.Compiler.isprimitivetype\u001b[0m(\u001b[0m%691\u001b[0m)\n",
      "\u001b[35m│\u001b[39m\u001b[34m│\u001b[39m\u001b[33m│\u001b[39m\u001b[32m│\u001b[39m\u001b[35m│\u001b[39m\u001b[34m│\u001b[39m\u001b[33m│\u001b[39m\u001b[32m│\u001b[39m\u001b[35m│\u001b[39m\u001b[91m│ runtime dispatch detected: \u001b[39m\u001b[0m\u001b[1mCore.Compiler.isprimitivetype\u001b[22m\u001b[0m\u001b[1m(\u001b[22m\u001b[0m\u001b[1m%691\u001b[22m\u001b[96m\u001b[1m::Any\u001b[22m\u001b[39m\u001b[0m\u001b[1m)\u001b[22m\n",
      "\u001b[35m│\u001b[39m\u001b[34m│\u001b[39m\u001b[33m│\u001b[39m\u001b[32m│\u001b[39m\u001b[35m│\u001b[39m\u001b[34m│\u001b[39m\u001b[33m│\u001b[39m\u001b[32m│\u001b[39m\u001b[35m│\u001b[39m\u001b[91m└───────────────────────────\u001b[39m\n",
      "\u001b[35m│\u001b[39m\u001b[34m│\u001b[39m\u001b[33m│\u001b[39m\u001b[32m│\u001b[39m\u001b[35m│\u001b[39m\u001b[34m│\u001b[39m\u001b[33m│\u001b[39m\u001b[32m│\u001b[39m\u001b[35m│\u001b[39m\u001b[91m┌ @ compiler/tfuncs.jl:1653 \u001b[39m\u001b[0mCore.Compiler.isprimitivetype\u001b[0m(\u001b[0m%671\u001b[0m)\n",
      "\u001b[35m│\u001b[39m\u001b[34m│\u001b[39m\u001b[33m│\u001b[39m\u001b[32m│\u001b[39m\u001b[35m│\u001b[39m\u001b[34m│\u001b[39m\u001b[33m│\u001b[39m\u001b[32m│\u001b[39m\u001b[35m│\u001b[39m\u001b[91m│ runtime dispatch detected: \u001b[39m\u001b[0m\u001b[1mCore.Compiler.isprimitivetype\u001b[22m\u001b[0m\u001b[1m(\u001b[22m\u001b[0m\u001b[1m%671\u001b[22m\u001b[96m\u001b[1m::Any\u001b[22m\u001b[39m\u001b[0m\u001b[1m)\u001b[22m\n",
      "\u001b[35m│\u001b[39m\u001b[34m│\u001b[39m\u001b[33m│\u001b[39m\u001b[32m│\u001b[39m\u001b[35m│\u001b[39m\u001b[34m│\u001b[39m\u001b[33m│\u001b[39m\u001b[32m│\u001b[39m\u001b[35m│\u001b[39m\u001b[91m└───────────────────────────\u001b[39m\n",
      "\u001b[35m│\u001b[39m\u001b[34m│\u001b[39m\u001b[33m│\u001b[39m\u001b[32m│\u001b[39m\u001b[35m│\u001b[39m\u001b[34m│\u001b[39m\u001b[33m│\u001b[39m\u001b[32m│\u001b[39m\u001b[35m│\u001b[39m\u001b[91m┌ @ compiler/tfuncs.jl:1638 \u001b[39m\u001b[0mCore.Compiler.isprimitivetype\u001b[0m(\u001b[0m%604\u001b[0m)\n",
      "\u001b[35m│\u001b[39m\u001b[34m│\u001b[39m\u001b[33m│\u001b[39m\u001b[32m│\u001b[39m\u001b[35m│\u001b[39m\u001b[34m│\u001b[39m\u001b[33m│\u001b[39m\u001b[32m│\u001b[39m\u001b[35m│\u001b[39m\u001b[91m│ runtime dispatch detected: \u001b[39m\u001b[0m\u001b[1mCore.Compiler.isprimitivetype\u001b[22m\u001b[0m\u001b[1m(\u001b[22m\u001b[0m\u001b[1m%604\u001b[22m\u001b[96m\u001b[1m::Any\u001b[22m\u001b[39m\u001b[0m\u001b[1m)\u001b[22m\n",
      "\u001b[35m│\u001b[39m\u001b[34m│\u001b[39m\u001b[33m│\u001b[39m\u001b[32m│\u001b[39m\u001b[35m│\u001b[39m\u001b[34m│\u001b[39m\u001b[33m│\u001b[39m\u001b[32m│\u001b[39m\u001b[35m│\u001b[39m\u001b[91m└───────────────────────────\u001b[39m\n",
      "\u001b[35m│\u001b[39m\u001b[34m│\u001b[39m\u001b[33m│\u001b[39m\u001b[32m│\u001b[39m\u001b[35m│\u001b[39m\u001b[34m│\u001b[39m\u001b[33m│\u001b[39m\u001b[32m│\u001b[39m\u001b[35m│\u001b[39m\u001b[91m┌ @ compiler/tfuncs.jl:1638 \u001b[39m\u001b[0mCore.Compiler.isprimitivetype\u001b[0m(\u001b[0m%601\u001b[0m)\n",
      "\u001b[35m│\u001b[39m\u001b[34m│\u001b[39m\u001b[33m│\u001b[39m\u001b[32m│\u001b[39m\u001b[35m│\u001b[39m\u001b[34m│\u001b[39m\u001b[33m│\u001b[39m\u001b[32m│\u001b[39m\u001b[35m│\u001b[39m\u001b[91m│ runtime dispatch detected: \u001b[39m\u001b[0m\u001b[1mCore.Compiler.isprimitivetype\u001b[22m\u001b[0m\u001b[1m(\u001b[22m\u001b[0m\u001b[1m%601\u001b[22m\u001b[96m\u001b[1m::Any\u001b[22m\u001b[39m\u001b[0m\u001b[1m)\u001b[22m\n",
      "\u001b[35m│\u001b[39m\u001b[34m│\u001b[39m\u001b[33m│\u001b[39m\u001b[32m│\u001b[39m\u001b[35m│\u001b[39m\u001b[34m│\u001b[39m\u001b[33m│\u001b[39m\u001b[32m│\u001b[39m\u001b[35m│\u001b[39m\u001b[91m└───────────────────────────\u001b[39m\n",
      "\u001b[35m│\u001b[39m\u001b[34m│\u001b[39m\u001b[33m│\u001b[39m\u001b[32m│\u001b[39m\u001b[35m│\u001b[39m\u001b[34m│\u001b[39m\u001b[33m│\u001b[39m\u001b[32m│\u001b[39m\u001b[35m│\u001b[39m\u001b[91m┌ @ compiler/tfuncs.jl:1647 \u001b[39m\u001b[0mCore.Compiler.isprimitivetype\u001b[0m(\u001b[0m%650\u001b[0m)\n",
      "\u001b[35m│\u001b[39m\u001b[34m│\u001b[39m\u001b[33m│\u001b[39m\u001b[32m│\u001b[39m\u001b[35m│\u001b[39m\u001b[34m│\u001b[39m\u001b[33m│\u001b[39m\u001b[32m│\u001b[39m\u001b[35m│\u001b[39m\u001b[91m│ runtime dispatch detected: \u001b[39m\u001b[0m\u001b[1mCore.Compiler.isprimitivetype\u001b[22m\u001b[0m\u001b[1m(\u001b[22m\u001b[0m\u001b[1m%650\u001b[22m\u001b[96m\u001b[1m::Any\u001b[22m\u001b[39m\u001b[0m\u001b[1m)\u001b[22m\n",
      "\u001b[35m│\u001b[39m\u001b[34m│\u001b[39m\u001b[33m│\u001b[39m\u001b[32m│\u001b[39m\u001b[35m│\u001b[39m\u001b[34m│\u001b[39m\u001b[33m│\u001b[39m\u001b[32m│\u001b[39m\u001b[35m│\u001b[39m\u001b[91m└───────────────────────────\u001b[39m\n",
      "\u001b[35m│\u001b[39m\u001b[34m│\u001b[39m\u001b[33m│\u001b[39m\u001b[32m│\u001b[39m\u001b[35m│\u001b[39m\u001b[34m│\u001b[39m\u001b[33m│\u001b[39m\u001b[32m│\u001b[39m\u001b[35m│\u001b[39m\u001b[91m┌ @ compiler/tfuncs.jl:1629 \u001b[39m\u001b[0mCore.Compiler.isprimitivetype\u001b[0m(\u001b[0m%278\u001b[0m)\n",
      "\u001b[35m│\u001b[39m\u001b[34m│\u001b[39m\u001b[33m│\u001b[39m\u001b[32m│\u001b[39m\u001b[35m│\u001b[39m\u001b[34m│\u001b[39m\u001b[33m│\u001b[39m\u001b[32m│\u001b[39m\u001b[35m│\u001b[39m\u001b[91m│ runtime dispatch detected: \u001b[39m\u001b[0m\u001b[1mCore.Compiler.isprimitivetype\u001b[22m\u001b[0m\u001b[1m(\u001b[22m\u001b[0m\u001b[1m%278\u001b[22m\u001b[96m\u001b[1m::Any\u001b[22m\u001b[39m\u001b[0m\u001b[1m)\u001b[22m\n",
      "\u001b[35m│\u001b[39m\u001b[34m│\u001b[39m\u001b[33m│\u001b[39m\u001b[32m│\u001b[39m\u001b[35m│\u001b[39m\u001b[34m│\u001b[39m\u001b[33m│\u001b[39m\u001b[32m│\u001b[39m\u001b[35m│\u001b[39m\u001b[91m└───────────────────────────\u001b[39m\n",
      "\u001b[35m│\u001b[39m\u001b[34m│\u001b[39m\u001b[33m│\u001b[39m\u001b[32m│\u001b[39m\u001b[35m│\u001b[39m\u001b[34m│\u001b[39m\u001b[33m│\u001b[39m\u001b[32m│\u001b[39m\u001b[35m│\u001b[39m\u001b[91m┌ @ compiler/tfuncs.jl:1610 \u001b[39m\u001b[0mCore.Compiler.isprimitivetype\u001b[0m(\u001b[0m%721\u001b[0m)\n",
      "\u001b[35m│\u001b[39m\u001b[34m│\u001b[39m\u001b[33m│\u001b[39m\u001b[32m│\u001b[39m\u001b[35m│\u001b[39m\u001b[34m│\u001b[39m\u001b[33m│\u001b[39m\u001b[32m│\u001b[39m\u001b[35m│\u001b[39m\u001b[91m│ runtime dispatch detected: \u001b[39m\u001b[0m\u001b[1mCore.Compiler.isprimitivetype\u001b[22m\u001b[0m\u001b[1m(\u001b[22m\u001b[0m\u001b[1m%721\u001b[22m\u001b[96m\u001b[1m::Any\u001b[22m\u001b[39m\u001b[0m\u001b[1m)\u001b[22m\n",
      "\u001b[35m│\u001b[39m\u001b[34m│\u001b[39m\u001b[33m│\u001b[39m\u001b[32m│\u001b[39m\u001b[35m│\u001b[39m\u001b[34m│\u001b[39m\u001b[33m│\u001b[39m\u001b[32m│\u001b[39m\u001b[35m│\u001b[39m\u001b[91m└───────────────────────────\u001b[39m\n",
      "\u001b[35m│\u001b[39m\u001b[34m│\u001b[39m\u001b[33m│\u001b[39m\u001b[32m│\u001b[39m\u001b[35m│\u001b[39m\u001b[91m┌ @ compiler/ssair/slot2ssa.jl:876 \u001b[39m\u001b[0mCore.Compiler.recompute_type\u001b[0m(\u001b[0m%3730\u001b[0m, \u001b[0mci\u001b[0m, \u001b[0mir\u001b[0m, \u001b[0m%3731\u001b[0m, \u001b[0mslottypes\u001b[0m)\n",
      "\u001b[35m│\u001b[39m\u001b[34m│\u001b[39m\u001b[33m│\u001b[39m\u001b[32m│\u001b[39m\u001b[35m│\u001b[39m\u001b[91m│ runtime dispatch detected: \u001b[39m\u001b[0m\u001b[1mCore.Compiler.recompute_type\u001b[22m\u001b[0m\u001b[1m(\u001b[22m\u001b[0m\u001b[1m%3730\u001b[22m\u001b[96m\u001b[1m::Any\u001b[22m\u001b[39m\u001b[0m\u001b[1m, \u001b[22m\u001b[0m\u001b[1mci\u001b[22m\u001b[96m\u001b[1m::Core.CodeInfo\u001b[22m\u001b[39m\u001b[0m\u001b[1m, \u001b[22m\u001b[0m\u001b[1mir\u001b[22m\u001b[96m\u001b[1m::Core.Compiler.IRCode\u001b[22m\u001b[39m\u001b[0m\u001b[1m, \u001b[22m\u001b[0m\u001b[1m%3731\u001b[22m\u001b[96m\u001b[1m::Vector{Any}\u001b[22m\u001b[39m\u001b[0m\u001b[1m, \u001b[22m\u001b[0m\u001b[1mslottypes\u001b[22m\u001b[96m\u001b[1m::Vector{Any}\u001b[22m\u001b[39m\u001b[0m\u001b[1m)\u001b[22m\n",
      "\u001b[35m│\u001b[39m\u001b[34m│\u001b[39m\u001b[33m│\u001b[39m\u001b[32m│\u001b[39m\u001b[35m│\u001b[39m\u001b[91m└──────────────────────────────────\u001b[39m\n",
      "\u001b[35m│\u001b[39m\u001b[34m│\u001b[39m\u001b[33m│\u001b[39m\u001b[32m┌ @ compiler/optimize.jl:304 \u001b[39m\u001b[0mCore.Compiler.getfield_elim_pass!\u001b[0m(\u001b[0mir\u001b[0m)\n",
      "\u001b[35m│\u001b[39m\u001b[34m│\u001b[39m\u001b[33m│\u001b[39m\u001b[32m│\u001b[39m\u001b[35m┌ @ compiler/ssair/passes.jl:631 \u001b[39m\u001b[0mCore.Compiler.process_immutable_preserve\u001b[0m(\u001b[0mnew_preserves\u001b[0m, \u001b[0mcompact\u001b[0m, \u001b[0mdef\u001b[0m)\n",
      "\u001b[35m│\u001b[39m\u001b[34m│\u001b[39m\u001b[33m│\u001b[39m\u001b[32m│\u001b[39m\u001b[35m│\u001b[39m\u001b[91m┌ @ compiler/ssair/passes.jl:249 \u001b[39m\u001b[0mCore.Compiler.isbitstype\u001b[0m(\u001b[0m%69\u001b[0m)\n",
      "\u001b[35m│\u001b[39m\u001b[34m│\u001b[39m\u001b[33m│\u001b[39m\u001b[32m│\u001b[39m\u001b[35m│\u001b[39m\u001b[91m│ runtime dispatch detected: \u001b[39m\u001b[0m\u001b[1mCore.Compiler.isbitstype\u001b[22m\u001b[0m\u001b[1m(\u001b[22m\u001b[0m\u001b[1m%69\u001b[22m\u001b[96m\u001b[1m::Any\u001b[22m\u001b[39m\u001b[0m\u001b[1m)\u001b[22m\n",
      "\u001b[35m│\u001b[39m\u001b[34m│\u001b[39m\u001b[33m│\u001b[39m\u001b[32m│\u001b[39m\u001b[35m│\u001b[39m\u001b[91m└────────────────────────────────\u001b[39m\n",
      "\u001b[35m│\u001b[39m\u001b[34m│\u001b[39m\u001b[33m│\u001b[39m\u001b[32m│\u001b[39m\u001b[91m┌ @ compiler/ssair/passes.jl:794 \u001b[39m\u001b[0mCore.Compiler.ismutabletype\u001b[0m(\u001b[0m%1136\u001b[0m)\n",
      "\u001b[35m│\u001b[39m\u001b[34m│\u001b[39m\u001b[33m│\u001b[39m\u001b[32m│\u001b[39m\u001b[91m│ runtime dispatch detected: \u001b[39m\u001b[0m\u001b[1mCore.Compiler.ismutabletype\u001b[22m\u001b[0m\u001b[1m(\u001b[22m\u001b[0m\u001b[1m%1136\u001b[22m\u001b[96m\u001b[1m::Any\u001b[22m\u001b[39m\u001b[0m\u001b[1m)\u001b[22m\n",
      "\u001b[35m│\u001b[39m\u001b[34m│\u001b[39m\u001b[33m│\u001b[39m\u001b[32m│\u001b[39m\u001b[91m└────────────────────────────────\u001b[39m\n"
     ]
    },
    {
     "name": "stdout",
     "output_type": "stream",
     "text": [
      "\u001b[35m│\u001b[39m\u001b[34m│\u001b[39m\u001b[33m│\u001b[39m\u001b[32m│\u001b[39m\u001b[91m┌ @ compiler/ssair/passes.jl:850 \u001b[39m\u001b[0mCore.Compiler.isbitstype\u001b[0m(\u001b[0m%1465\u001b[0m)\n",
      "\u001b[35m│\u001b[39m\u001b[34m│\u001b[39m\u001b[33m│\u001b[39m\u001b[32m│\u001b[39m\u001b[91m│ runtime dispatch detected: \u001b[39m\u001b[0m\u001b[1mCore.Compiler.isbitstype\u001b[22m\u001b[0m\u001b[1m(\u001b[22m\u001b[0m\u001b[1m%1465\u001b[22m\u001b[96m\u001b[1m::Any\u001b[22m\u001b[39m\u001b[0m\u001b[1m)\u001b[22m\n",
      "\u001b[35m│\u001b[39m\u001b[34m│\u001b[39m\u001b[33m│\u001b[39m\u001b[32m│\u001b[39m\u001b[91m└────────────────────────────────\u001b[39m\n",
      "\u001b[35m│\u001b[39m\u001b[34m│\u001b[39m\u001b[33m│\u001b[39m\u001b[32m┌ @ compiler/optimize.jl:309 \u001b[39m\u001b[0mCore.Compiler.type_lift_pass!\u001b[0m(\u001b[0mir\u001b[0m)\n",
      "\u001b[35m│\u001b[39m\u001b[34m│\u001b[39m\u001b[33m│\u001b[39m\u001b[32m│\u001b[39m\u001b[91m┌ @ compiler/ssair/passes.jl:1062 \u001b[39m\u001b[0mCore.Compiler.convert\u001b[0m(\u001b[0mCore.Compiler.Int\u001b[0m, \u001b[0m%320\u001b[0m)\n",
      "\u001b[35m│\u001b[39m\u001b[34m│\u001b[39m\u001b[33m│\u001b[39m\u001b[32m│\u001b[39m\u001b[91m│ runtime dispatch detected: \u001b[39m\u001b[0m\u001b[1mCore.Compiler.convert\u001b[22m\u001b[0m\u001b[1m(\u001b[22m\u001b[0m\u001b[1mCore.Compiler.Int\u001b[22m\u001b[0m\u001b[1m, \u001b[22m\u001b[0m\u001b[1m%320\u001b[22m\u001b[96m\u001b[1m::Any\u001b[22m\u001b[39m\u001b[0m\u001b[1m)\u001b[22m\n",
      "\u001b[35m│\u001b[39m\u001b[34m│\u001b[39m\u001b[33m│\u001b[39m\u001b[32m│\u001b[39m\u001b[91m└─────────────────────────────────\u001b[39m\n",
      "\u001b[35m│\u001b[39m\u001b[34m│\u001b[39m\u001b[33m│\u001b[39m\u001b[32m│\u001b[39m\u001b[91m┌ @ compiler/ssair/passes.jl:1069 \u001b[39m\u001b[0mCore.Compiler.push!\u001b[0m(\u001b[0m%114\u001b[0m, \u001b[0m%362\u001b[0m)\n",
      "\u001b[35m│\u001b[39m\u001b[34m│\u001b[39m\u001b[33m│\u001b[39m\u001b[32m│\u001b[39m\u001b[91m│ runtime dispatch detected: \u001b[39m\u001b[0m\u001b[1mCore.Compiler.push!\u001b[22m\u001b[0m\u001b[1m(\u001b[22m\u001b[0m\u001b[1m%114\u001b[22m\u001b[96m\u001b[1m::Vector{Tuple{Int64, Int64, Core.SSAValue, Int64}}\u001b[22m\u001b[39m\u001b[0m\u001b[1m, \u001b[22m\u001b[0m\u001b[1m%362\u001b[22m\u001b[96m\u001b[1m::Tuple{Int64, Int64, Union{Bool, Core.SSAValue}, Int64}\u001b[22m\u001b[39m\u001b[0m\u001b[1m)\u001b[22m\n",
      "\u001b[35m│\u001b[39m\u001b[34m│\u001b[39m\u001b[33m│\u001b[39m\u001b[32m│\u001b[39m\u001b[91m└─────────────────────────────────\u001b[39m\n",
      "\u001b[35m│\u001b[39m\u001b[34m│\u001b[39m\u001b[33m│\u001b[39m\u001b[32m┌ @ compiler/optimize.jl:313 \u001b[39m\u001b[0mCore.Compiler.verify_ir\u001b[0m(\u001b[0mir\u001b[0m)\n",
      "\u001b[35m│\u001b[39m\u001b[34m│\u001b[39m\u001b[33m│\u001b[39m\u001b[32m│\u001b[39m\u001b[35m┌ @ compiler/ssair/verify.jl:67 \u001b[39m\u001b[0m#self#\u001b[0m(\u001b[0mir\u001b[0m, \u001b[0mtrue\u001b[0m)\n",
      "\u001b[35m│\u001b[39m\u001b[34m│\u001b[39m\u001b[33m│\u001b[39m\u001b[32m│\u001b[39m\u001b[35m│\u001b[39m\u001b[91m┌ @ array.jl:413 \u001b[39m\u001b[0mCore.Compiler.setindex!\u001b[0m(\u001b[0m%414\u001b[0m, \u001b[0m%412\u001b[0m, \u001b[0m1\u001b[0m)\n",
      "\u001b[35m│\u001b[39m\u001b[34m│\u001b[39m\u001b[33m│\u001b[39m\u001b[32m│\u001b[39m\u001b[35m│\u001b[39m\u001b[91m│ runtime dispatch detected: \u001b[39m\u001b[0m\u001b[1mCore.Compiler.setindex!\u001b[22m\u001b[0m\u001b[1m(\u001b[22m\u001b[0m\u001b[1m%414\u001b[22m\u001b[96m\u001b[1m::Vector{Int64}\u001b[22m\u001b[39m\u001b[0m\u001b[1m, \u001b[22m\u001b[0m\u001b[1m%412\u001b[22m\u001b[96m\u001b[1m::Any\u001b[22m\u001b[39m\u001b[0m\u001b[1m, \u001b[22m\u001b[0m\u001b[1m1\u001b[22m\u001b[0m\u001b[1m)\u001b[22m\n",
      "\u001b[35m│\u001b[39m\u001b[34m│\u001b[39m\u001b[33m│\u001b[39m\u001b[32m│\u001b[39m\u001b[35m│\u001b[39m\u001b[91m└────────────────\u001b[39m\n",
      "\u001b[35m│\u001b[39m\u001b[34m│\u001b[39m\u001b[33m│\u001b[39m\u001b[32m│\u001b[39m\u001b[35m│\u001b[39m\u001b[91m┌ @ array.jl:413 \u001b[39m\u001b[0mCore.Compiler.setindex!\u001b[0m(\u001b[0m%441\u001b[0m, \u001b[0m%440\u001b[0m, \u001b[0m2\u001b[0m)\n",
      "\u001b[35m│\u001b[39m\u001b[34m│\u001b[39m\u001b[33m│\u001b[39m\u001b[32m│\u001b[39m\u001b[35m│\u001b[39m\u001b[91m│ runtime dispatch detected: \u001b[39m\u001b[0m\u001b[1mCore.Compiler.setindex!\u001b[22m\u001b[0m\u001b[1m(\u001b[22m\u001b[0m\u001b[1m%441\u001b[22m\u001b[96m\u001b[1m::Vector{Int64}\u001b[22m\u001b[39m\u001b[0m\u001b[1m, \u001b[22m\u001b[0m\u001b[1m%440\u001b[22m\u001b[96m\u001b[1m::Any\u001b[22m\u001b[39m\u001b[0m\u001b[1m, \u001b[22m\u001b[0m\u001b[1m2\u001b[22m\u001b[0m\u001b[1m)\u001b[22m\n",
      "\u001b[35m│\u001b[39m\u001b[34m│\u001b[39m\u001b[33m│\u001b[39m\u001b[32m│\u001b[39m\u001b[35m│\u001b[39m\u001b[91m└────────────────\u001b[39m\n",
      "\u001b[35m│\u001b[39m\u001b[34m│\u001b[39m\u001b[33m│\u001b[39m\u001b[91m┌ @ compiler/optimize.jl:300 \u001b[39m\u001b[0mCore.Compiler.ssa_inlining_pass!\u001b[0m(\u001b[0m%48\u001b[0m, \u001b[0m%49\u001b[0m, \u001b[0m%50\u001b[0m, \u001b[0m%51\u001b[0m)\n",
      "\u001b[35m│\u001b[39m\u001b[34m│\u001b[39m\u001b[33m│\u001b[39m\u001b[91m│ runtime dispatch detected: \u001b[39m\u001b[0m\u001b[1mCore.Compiler.ssa_inlining_pass!\u001b[22m\u001b[0m\u001b[1m(\u001b[22m\u001b[0m\u001b[1m%48\u001b[22m\u001b[96m\u001b[1m::Core.Compiler.IRCode\u001b[22m\u001b[39m\u001b[0m\u001b[1m, \u001b[22m\u001b[0m\u001b[1m%49\u001b[22m\u001b[96m\u001b[1m::Vector{Core.LineInfoNode}\u001b[22m\u001b[39m\u001b[0m\u001b[1m, \u001b[22m\u001b[0m\u001b[1m%50\u001b[22m\u001b[96m\u001b[1m::Core.Compiler.InliningState\u001b[22m\u001b[39m\u001b[0m\u001b[1m, \u001b[22m\u001b[0m\u001b[1m%51\u001b[22m\u001b[96m\u001b[1m::Bool\u001b[22m\u001b[39m\u001b[0m\u001b[1m)\u001b[22m\n",
      "\u001b[35m│\u001b[39m\u001b[34m│\u001b[39m\u001b[33m│\u001b[39m\u001b[91m└────────────────────────────\u001b[39m\n",
      "\u001b[35m│\u001b[39m\u001b[34m│\u001b[39m\u001b[33m┌ @ compiler/optimize.jl:290 \u001b[39m\u001b[0mCore.Compiler.finish\u001b[0m(\u001b[0minterp\u001b[0m, \u001b[0mopt\u001b[0m, \u001b[0mparams\u001b[0m, \u001b[0mir\u001b[0m, \u001b[0mresult\u001b[0m)\n",
      "\u001b[35m│\u001b[39m\u001b[34m│\u001b[39m\u001b[33m│\u001b[39m\u001b[32m┌ @ compiler/optimize.jl:279 \u001b[39m\u001b[0mCore.Compiler.isinlineable\u001b[0m(\u001b[0mdef\u001b[0m, \u001b[0mopt\u001b[0m, \u001b[0mparams\u001b[0m, \u001b[0munion_penalties\u001b[0m, \u001b[0mbonus\u001b[0m)\n",
      "\u001b[35m│\u001b[39m\u001b[34m│\u001b[39m\u001b[33m│\u001b[39m\u001b[32m│\u001b[39m\u001b[35m┌ @ compiler/optimize.jl:170 \u001b[39m\u001b[0mCore.Compiler.inline_worthy\u001b[0m(\u001b[0mCore.typeassert\u001b[0m(\u001b[0mCore.Compiler.getproperty\u001b[0m(\u001b[0mme\u001b[0m, \u001b[0m:ir\u001b[0m)\u001b[0m, \u001b[0mCore.Compiler.IRCode\u001b[0m)\u001b[0m, \u001b[0mparams\u001b[0m, \u001b[0munion_penalties\u001b[0m, \u001b[0mCore.Compiler.+\u001b[0m(\u001b[0mcost_threshold\u001b[0m, \u001b[0mbonus\u001b[0m)\u001b[0m)\n",
      "\u001b[35m│\u001b[39m\u001b[34m│\u001b[39m\u001b[33m│\u001b[39m\u001b[32m│\u001b[39m\u001b[35m│\u001b[39m\u001b[91m┌ @ compiler/optimize.jl:555 \u001b[39m\u001b[0mCore.Compiler.statement_or_branch_cost\u001b[0m(\u001b[0m%30\u001b[0m, \u001b[0m%25\u001b[0m, \u001b[0mir\u001b[0m, \u001b[0m%31\u001b[0m, \u001b[0m%32\u001b[0m, \u001b[0munion_penalties\u001b[0m, \u001b[0mparams\u001b[0m, \u001b[0m%9\u001b[0m)\n",
      "\u001b[35m│\u001b[39m\u001b[34m│\u001b[39m\u001b[33m│\u001b[39m\u001b[32m│\u001b[39m\u001b[35m│\u001b[39m\u001b[91m│ runtime dispatch detected: \u001b[39m\u001b[0m\u001b[1mCore.Compiler.statement_or_branch_cost\u001b[22m\u001b[0m\u001b[1m(\u001b[22m\u001b[0m\u001b[1m%30\u001b[22m\u001b[96m\u001b[1m::Any\u001b[22m\u001b[39m\u001b[0m\u001b[1m, \u001b[22m\u001b[0m\u001b[1m%25\u001b[22m\u001b[96m\u001b[1m::Int64\u001b[22m\u001b[39m\u001b[0m\u001b[1m, \u001b[22m\u001b[0m\u001b[1mir\u001b[22m\u001b[96m\u001b[1m::Core.Compiler.IRCode\u001b[22m\u001b[39m\u001b[0m\u001b[1m, \u001b[22m\u001b[0m\u001b[1m%31\u001b[22m\u001b[96m\u001b[1m::Vector{Any}\u001b[22m\u001b[39m\u001b[0m\u001b[1m, \u001b[22m\u001b[0m\u001b[1m%32\u001b[22m\u001b[96m\u001b[1m::Vector{Any}\u001b[22m\u001b[39m\u001b[0m\u001b[1m, \u001b[22m\u001b[0m\u001b[1munion_penalties\u001b[22m\u001b[96m\u001b[1m::Bool\u001b[22m\u001b[39m\u001b[0m\u001b[1m, \u001b[22m\u001b[0m\u001b[1mparams\u001b[22m\u001b[96m\u001b[1m::Core.Compiler.OptimizationParams\u001b[22m\u001b[39m\u001b[0m\u001b[1m, \u001b[22m\u001b[0m\u001b[1m%9\u001b[22m\u001b[96m\u001b[1m::Union{Nothing, Core.Compiler.BitSet}\u001b[22m\u001b[39m\u001b[0m\u001b[1m)\u001b[22m\n",
      "\u001b[35m│\u001b[39m\u001b[34m│\u001b[39m\u001b[33m│\u001b[39m\u001b[32m│\u001b[39m\u001b[35m│\u001b[39m\u001b[91m└────────────────────────────\u001b[39m\n",
      "\u001b[35m│\u001b[39m\u001b[34m┌ @ compiler/typeinfer.jl:261 \u001b[39m\u001b[0mCore.Compiler.ir_to_codeinf!\u001b[0m(\u001b[0mopt\u001b[0m)\n",
      "\u001b[35m│\u001b[39m\u001b[34m│\u001b[39m\u001b[33m┌ @ compiler/optimize.jl:103 \u001b[39m\u001b[0mCore.Compiler.replace_code_newstyle!\u001b[0m(\u001b[0mCore.Compiler.getproperty\u001b[0m(\u001b[0mopt\u001b[0m, \u001b[0m:src\u001b[0m)\u001b[0m, \u001b[0mCore.typeassert\u001b[0m(\u001b[0mCore.Compiler.getproperty\u001b[0m(\u001b[0mopt\u001b[0m, \u001b[0m:ir\u001b[0m)\u001b[0m, \u001b[0mCore.Compiler.IRCode\u001b[0m)\u001b[0m, \u001b[0mCore.Compiler.-\u001b[0m(\u001b[0mCore.Compiler.getproperty\u001b[0m(\u001b[0mopt\u001b[0m, \u001b[0m:nargs\u001b[0m)\u001b[0m, \u001b[0m1\u001b[0m)\u001b[0m)\n",
      "\u001b[35m│\u001b[39m\u001b[34m│\u001b[39m\u001b[33m│\u001b[39m\u001b[91m┌ @ compiler/ssair/legacy.jl:50 \u001b[39m\u001b[0mCore.Compiler.push!\u001b[0m(\u001b[0m%125\u001b[0m, \u001b[0mCore.Compiler.Any\u001b[0m)\n",
      "\u001b[35m│\u001b[39m\u001b[34m│\u001b[39m\u001b[33m│\u001b[39m\u001b[91m│ runtime dispatch detected: \u001b[39m\u001b[0m\u001b[1mCore.Compiler.push!\u001b[22m\u001b[0m\u001b[1m(\u001b[22m\u001b[0m\u001b[1m%125\u001b[22m\u001b[96m\u001b[1m::Any\u001b[22m\u001b[39m\u001b[0m\u001b[1m, \u001b[22m\u001b[0m\u001b[1mCore.Compiler.Any\u001b[22m\u001b[0m\u001b[1m)\u001b[22m\n",
      "\u001b[35m│\u001b[39m\u001b[34m│\u001b[39m\u001b[33m│\u001b[39m\u001b[91m└───────────────────────────────\u001b[39m\n",
      "\u001b[35m│\u001b[39m\u001b[34m│\u001b[39m\u001b[33m┌ @ compiler/optimize.jl:106 \u001b[39m\u001b[0mCore.Compiler.widen_all_consts!\u001b[0m(\u001b[0msrc\u001b[0m)\n",
      "\u001b[35m│\u001b[39m\u001b[34m│\u001b[39m\u001b[33m│\u001b[39m\u001b[91m┌ @ compiler/typeinfer.jl:514 \u001b[39m\u001b[0mCore.Compiler.length\u001b[0m(\u001b[0m%1\u001b[0m)\n",
      "\u001b[35m│\u001b[39m\u001b[34m│\u001b[39m\u001b[33m│\u001b[39m\u001b[91m│ runtime dispatch detected: \u001b[39m\u001b[0m\u001b[1mCore.Compiler.length\u001b[22m\u001b[0m\u001b[1m(\u001b[22m\u001b[0m\u001b[1m%1\u001b[22m\u001b[96m\u001b[1m::Any\u001b[22m\u001b[39m\u001b[0m\u001b[1m)\u001b[22m\n",
      "\u001b[35m│\u001b[39m\u001b[34m│\u001b[39m\u001b[33m│\u001b[39m\u001b[91m└─────────────────────────────\u001b[39m\n",
      "\u001b[35m│\u001b[39m\u001b[34m│\u001b[39m\u001b[33m│\u001b[39m\u001b[91m┌ @ compiler/typeinfer.jl:514 \u001b[39m\u001b[0mCore.Compiler.:\u001b[0m(\u001b[0m1\u001b[0m, \u001b[0m%2\u001b[0m)\n",
      "\u001b[35m│\u001b[39m\u001b[34m│\u001b[39m\u001b[33m│\u001b[39m\u001b[91m│ runtime dispatch detected: \u001b[39m\u001b[0m\u001b[1mCore.Compiler.:\u001b[22m\u001b[0m\u001b[1m(\u001b[22m\u001b[0m\u001b[1m1\u001b[22m\u001b[0m\u001b[1m, \u001b[22m\u001b[0m\u001b[1m%2\u001b[22m\u001b[96m\u001b[1m::Any\u001b[22m\u001b[39m\u001b[0m\u001b[1m)\u001b[22m\n",
      "\u001b[35m│\u001b[39m\u001b[34m│\u001b[39m\u001b[33m│\u001b[39m\u001b[91m└─────────────────────────────\u001b[39m\n",
      "\u001b[35m│\u001b[39m\u001b[34m│\u001b[39m\u001b[33m│\u001b[39m\u001b[91m┌ @ compiler/typeinfer.jl:514 \u001b[39m\u001b[0mCore.Compiler.iterate\u001b[0m(\u001b[0m%13\u001b[0m)\n",
      "\u001b[35m│\u001b[39m\u001b[34m│\u001b[39m\u001b[33m│\u001b[39m\u001b[91m│ runtime dispatch detected: \u001b[39m\u001b[0m\u001b[1mCore.Compiler.iterate\u001b[22m\u001b[0m\u001b[1m(\u001b[22m\u001b[0m\u001b[1m%13\u001b[22m\u001b[96m\u001b[1m::Any\u001b[22m\u001b[39m\u001b[0m\u001b[1m)\u001b[22m\n",
      "\u001b[35m│\u001b[39m\u001b[34m│\u001b[39m\u001b[33m│\u001b[39m\u001b[91m└─────────────────────────────\u001b[39m\n",
      "\u001b[35m│\u001b[39m\u001b[34m│\u001b[39m\u001b[33m│\u001b[39m\u001b[91m┌ @ compiler/typeinfer.jl:515 \u001b[39m\u001b[0mCore.Compiler.getindex\u001b[0m(\u001b[0m%21\u001b[0m, \u001b[0m%19\u001b[0m)\n",
      "\u001b[35m│\u001b[39m\u001b[34m│\u001b[39m\u001b[33m│\u001b[39m\u001b[91m│ runtime dispatch detected: \u001b[39m\u001b[0m\u001b[1mCore.Compiler.getindex\u001b[22m\u001b[0m\u001b[1m(\u001b[22m\u001b[0m\u001b[1m%21\u001b[22m\u001b[96m\u001b[1m::Any\u001b[22m\u001b[39m\u001b[0m\u001b[1m, \u001b[22m\u001b[0m\u001b[1m%19\u001b[22m\u001b[96m\u001b[1m::Any\u001b[22m\u001b[39m\u001b[0m\u001b[1m)\u001b[22m\n",
      "\u001b[35m│\u001b[39m\u001b[34m│\u001b[39m\u001b[33m│\u001b[39m\u001b[91m└─────────────────────────────\u001b[39m\n",
      "\u001b[35m│\u001b[39m\u001b[34m│\u001b[39m\u001b[33m│\u001b[39m\u001b[91m┌ @ compiler/typeinfer.jl:515 \u001b[39m\u001b[0mCore.Compiler.setindex!\u001b[0m(\u001b[0m%24\u001b[0m, \u001b[0m%23\u001b[0m, \u001b[0m%19\u001b[0m)\n",
      "\u001b[35m│\u001b[39m\u001b[34m│\u001b[39m\u001b[33m│\u001b[39m\u001b[91m│ runtime dispatch detected: \u001b[39m\u001b[0m\u001b[1mCore.Compiler.setindex!\u001b[22m\u001b[0m\u001b[1m(\u001b[22m\u001b[0m\u001b[1m%24\u001b[22m\u001b[96m\u001b[1m::Any\u001b[22m\u001b[39m\u001b[0m\u001b[1m, \u001b[22m\u001b[0m\u001b[1m%23\u001b[22m\u001b[96m\u001b[1m::Any\u001b[22m\u001b[39m\u001b[0m\u001b[1m, \u001b[22m\u001b[0m\u001b[1m%19\u001b[22m\u001b[96m\u001b[1m::Any\u001b[22m\u001b[39m\u001b[0m\u001b[1m)\u001b[22m\n",
      "\u001b[35m│\u001b[39m\u001b[34m│\u001b[39m\u001b[33m│\u001b[39m\u001b[91m└─────────────────────────────\u001b[39m\n",
      "\u001b[35m│\u001b[39m\u001b[34m│\u001b[39m\u001b[33m│\u001b[39m\u001b[91m┌ @ compiler/typeinfer.jl:515 \u001b[39m\u001b[0mCore.Compiler.iterate\u001b[0m(\u001b[0m%13\u001b[0m, \u001b[0m%20\u001b[0m)\n",
      "\u001b[35m│\u001b[39m\u001b[34m│\u001b[39m\u001b[33m│\u001b[39m\u001b[91m│ runtime dispatch detected: \u001b[39m\u001b[0m\u001b[1mCore.Compiler.iterate\u001b[22m\u001b[0m\u001b[1m(\u001b[22m\u001b[0m\u001b[1m%13\u001b[22m\u001b[96m\u001b[1m::Any\u001b[22m\u001b[39m\u001b[0m\u001b[1m, \u001b[22m\u001b[0m\u001b[1m%20\u001b[22m\u001b[96m\u001b[1m::Any\u001b[22m\u001b[39m\u001b[0m\u001b[1m)\u001b[22m\n",
      "\u001b[35m│\u001b[39m\u001b[34m│\u001b[39m\u001b[33m│\u001b[39m\u001b[91m└─────────────────────────────\u001b[39m\n",
      "\u001b[35m│\u001b[39m\u001b[34m┌ @ compiler/typeinfer.jl:280 \u001b[39m\u001b[0mCore.Compiler.cache_result!\u001b[0m(\u001b[0minterp\u001b[0m, \u001b[0mcaller\u001b[0m)\n",
      "\u001b[35m│\u001b[39m\u001b[34m│\u001b[39m\u001b[33m┌ @ compiler/typeinfer.jl:397 \u001b[39m\u001b[0mCore.Compiler.transform_result_for_cache\u001b[0m(\u001b[0minterp\u001b[0m, \u001b[0mlinfo\u001b[0m, \u001b[0mvalid_worlds\u001b[0m, \u001b[0mCore.Compiler.getproperty\u001b[0m(\u001b[0mresult\u001b[0m, \u001b[0m:src\u001b[0m)\u001b[0m)\n",
      "\u001b[35m│\u001b[39m\u001b[34m│\u001b[39m\u001b[33m│\u001b[39m\u001b[32m┌ @ compiler/typeinfer.jl:371 \u001b[39m\u001b[0mCore.Compiler.maybe_compress_codeinfo\u001b[0m(\u001b[0minterp\u001b[0m, \u001b[0mlinfo\u001b[0m, \u001b[0minferred_result\u001b[0m)\n",
      "\u001b[35m│\u001b[39m\u001b[34m│\u001b[39m\u001b[33m│\u001b[39m\u001b[32m│\u001b[39m\u001b[91m┌ @ compiler/typeinfer.jl:344 \u001b[39m\u001b[0mCore.Compiler.resize!\u001b[0m(\u001b[0m%25\u001b[0m, \u001b[0m%24\u001b[0m)\n",
      "\u001b[35m│\u001b[39m\u001b[34m│\u001b[39m\u001b[33m│\u001b[39m\u001b[32m│\u001b[39m\u001b[91m│ runtime dispatch detected: \u001b[39m\u001b[0m\u001b[1mCore.Compiler.resize!\u001b[22m\u001b[0m\u001b[1m(\u001b[22m\u001b[0m\u001b[1m%25\u001b[22m\u001b[96m\u001b[1m::Any\u001b[22m\u001b[39m\u001b[0m\u001b[1m, \u001b[22m\u001b[0m\u001b[1m%24\u001b[22m\u001b[96m\u001b[1m::Int64\u001b[22m\u001b[39m\u001b[0m\u001b[1m)\u001b[22m\n",
      "\u001b[35m│\u001b[39m\u001b[34m│\u001b[39m\u001b[33m│\u001b[39m\u001b[32m│\u001b[39m\u001b[91m└─────────────────────────────\u001b[39m\n",
      "\u001b[91m┌ @ compiler/abstractinterpretation.jl:525 \u001b[39m\u001b[0mCore.Compiler.maybe_get_const_prop_profitable\u001b[0m(\u001b[0minterp\u001b[0m, \u001b[0m%7\u001b[0m, \u001b[0mf\u001b[0m, \u001b[0margtypes\u001b[0m, \u001b[0mmatch\u001b[0m, \u001b[0msv\u001b[0m)\n",
      "\u001b[91m│ runtime dispatch detected: \u001b[39m\u001b[0m\u001b[1mCore.Compiler.maybe_get_const_prop_profitable\u001b[22m\u001b[0m\u001b[1m(\u001b[22m\u001b[0m\u001b[1minterp\u001b[22m\u001b[96m\u001b[1m::Core.Compiler.NativeInterpreter\u001b[22m\u001b[39m\u001b[0m\u001b[1m, \u001b[22m\u001b[0m\u001b[1m%7\u001b[22m\u001b[96m\u001b[1m::Any\u001b[22m\u001b[39m\u001b[0m\u001b[1m, \u001b[22m\u001b[0m\u001b[1mf\u001b[22m\u001b[96m\u001b[1m::Core.PartialOpaque\u001b[22m\u001b[39m\u001b[0m\u001b[1m, \u001b[22m\u001b[0m\u001b[1margtypes\u001b[22m\u001b[96m\u001b[1m::Vector{Any}\u001b[22m\u001b[39m\u001b[0m\u001b[1m, \u001b[22m\u001b[0m\u001b[1mmatch\u001b[22m\u001b[96m\u001b[1m::Core.MethodMatch\u001b[22m\u001b[39m\u001b[0m\u001b[1m, \u001b[22m\u001b[0m\u001b[1msv\u001b[22m\u001b[96m\u001b[1m::Core.Compiler.InferenceState\u001b[22m\u001b[39m\u001b[0m\u001b[1m)\u001b[22m\n",
      "\u001b[91m└──────────────────────────────────────────\u001b[39m\n",
      "\u001b[91m┌ @ compiler/abstractinterpretation.jl:1307 \u001b[39m\u001b[0mCore.Compiler.getindex\u001b[0m(\u001b[0m%74\u001b[0m, \u001b[0m1\u001b[0m)\n",
      "\u001b[91m│ runtime dispatch detected: \u001b[39m\u001b[0m\u001b[1mCore.Compiler.getindex\u001b[22m\u001b[0m\u001b[1m(\u001b[22m\u001b[0m\u001b[1m%74\u001b[22m\u001b[96m\u001b[1m::Any\u001b[22m\u001b[39m\u001b[0m\u001b[1m, \u001b[22m\u001b[0m\u001b[1m1\u001b[22m\u001b[0m\u001b[1m)\u001b[22m\n",
      "\u001b[91m└───────────────────────────────────────────\u001b[39m\n",
      "\u001b[91m┌ @ compiler/abstractinterpretation.jl:1308 \u001b[39m\u001b[0mCore.Compiler.rewrap_unionall\u001b[0m(\u001b[0m%75\u001b[0m, \u001b[0m%66\u001b[0m)\n",
      "\u001b[91m│ runtime dispatch detected: \u001b[39m\u001b[0m\u001b[1mCore.Compiler.rewrap_unionall\u001b[22m\u001b[0m\u001b[1m(\u001b[22m\u001b[0m\u001b[1m%75\u001b[22m\u001b[96m\u001b[1m::Any\u001b[22m\u001b[39m\u001b[0m\u001b[1m, \u001b[22m\u001b[0m\u001b[1m%66\u001b[22m\u001b[96m\u001b[1m::Type\u001b[22m\u001b[39m\u001b[0m\u001b[1m)\u001b[22m\n",
      "\u001b[91m└───────────────────────────────────────────\u001b[39m\n",
      "\u001b[91m┌ @ compiler/abstractinterpretation.jl:1311 \u001b[39m\u001b[0mCore.Compiler.indexed_iterate\u001b[0m(\u001b[0m%87\u001b[0m, \u001b[0m1\u001b[0m)\n",
      "\u001b[91m│ runtime dispatch detected: \u001b[39m\u001b[0m\u001b[1mCore.Compiler.indexed_iterate\u001b[22m\u001b[0m\u001b[1m(\u001b[22m\u001b[0m\u001b[1m%87\u001b[22m\u001b[96m\u001b[1m::Union{Tuple{Any, Core.Compiler.InferenceResult}, Tuple{DataType, Nothing}}\u001b[22m\u001b[39m\u001b[0m\u001b[1m, \u001b[22m\u001b[0m\u001b[1m1\u001b[22m\u001b[0m\u001b[1m)\u001b[22m\n",
      "\u001b[91m└───────────────────────────────────────────\u001b[39m\n",
      "\u001b[91m┌ @ compiler/abstractinterpretation.jl:1311 \u001b[39m\u001b[0mCore.Compiler.indexed_iterate\u001b[0m(\u001b[0m%87\u001b[0m, \u001b[0m2\u001b[0m, \u001b[0m2\u001b[0m)\n",
      "\u001b[91m│ runtime dispatch detected: \u001b[39m\u001b[0m\u001b[1mCore.Compiler.indexed_iterate\u001b[22m\u001b[0m\u001b[1m(\u001b[22m\u001b[0m\u001b[1m%87\u001b[22m\u001b[96m\u001b[1m::Union{Tuple{Any, Core.Compiler.InferenceResult}, Tuple{DataType, Nothing}}\u001b[22m\u001b[39m\u001b[0m\u001b[1m, \u001b[22m\u001b[0m\u001b[1m2\u001b[22m\u001b[0m\u001b[1m, \u001b[22m\u001b[0m\u001b[1m2\u001b[22m\u001b[0m\u001b[1m)\u001b[22m\n",
      "\u001b[91m└───────────────────────────────────────────\u001b[39m\n",
      "\u001b[91m┌ @ compiler/abstractinterpretation.jl:1320 \u001b[39m\u001b[0mCore.Compiler.CallMeta\u001b[0m(\u001b[0m%122\u001b[0m, \u001b[0m%121\u001b[0m)\n",
      "\u001b[91m│ runtime dispatch detected: \u001b[39m\u001b[0m\u001b[1mCore.Compiler.CallMeta\u001b[22m\u001b[0m\u001b[1m(\u001b[22m\u001b[0m\u001b[1m%122\u001b[22m\u001b[96m\u001b[1m::Any\u001b[22m\u001b[39m\u001b[0m\u001b[1m, \u001b[22m\u001b[0m\u001b[1m%121\u001b[22m\u001b[96m\u001b[1m::Union{Core.Compiler.ConstCallInfo, Core.Compiler.OpaqueClosureCallInfo}\u001b[22m\u001b[39m\u001b[0m\u001b[1m)\u001b[22m\n",
      "\u001b[91m└───────────────────────────────────────────\u001b[39m\n",
      "\u001b[91m┌ @ compiler/abstractinterpretation.jl:1341 \u001b[39m\u001b[0mCore.Compiler.typename\u001b[0m(\u001b[0m%65\u001b[0m)\n",
      "\u001b[91m│ runtime dispatch detected: \u001b[39m\u001b[0m\u001b[1mCore.Compiler.typename\u001b[22m\u001b[0m\u001b[1m(\u001b[22m\u001b[0m\u001b[1m%65\u001b[22m\u001b[96m\u001b[1m::Type{Core.OpaqueClosure}\u001b[22m\u001b[39m\u001b[0m\u001b[1m)\u001b[22m\n",
      "\u001b[91m└───────────────────────────────────────────\u001b[39m\n",
      "\u001b[91m┌ @ compiler/abstractinterpretation.jl:1342 \u001b[39m\u001b[0mCore.Compiler.getindex\u001b[0m(\u001b[0m%77\u001b[0m, \u001b[0m2\u001b[0m)\n",
      "\u001b[91m│ runtime dispatch detected: \u001b[39m\u001b[0m\u001b[1mCore.Compiler.getindex\u001b[22m\u001b[0m\u001b[1m(\u001b[22m\u001b[0m\u001b[1m%77\u001b[22m\u001b[96m\u001b[1m::Any\u001b[22m\u001b[39m\u001b[0m\u001b[1m, \u001b[22m\u001b[0m\u001b[1m2\u001b[22m\u001b[0m\u001b[1m)\u001b[22m\n",
      "\u001b[91m└───────────────────────────────────────────\u001b[39m\n",
      "\u001b[91m┌ @ compiler/abstractinterpretation.jl:1342 \u001b[39m\u001b[0mCore.Compiler.rewrap_unionall\u001b[0m(\u001b[0m%78\u001b[0m, \u001b[0m%1\u001b[0m)\n",
      "\u001b[91m│ runtime dispatch detected: \u001b[39m\u001b[0m\u001b[1mCore.Compiler.rewrap_unionall\u001b[22m\u001b[0m\u001b[1m(\u001b[22m\u001b[0m\u001b[1m%78\u001b[22m\u001b[96m\u001b[1m::Any\u001b[22m\u001b[39m\u001b[0m\u001b[1m, \u001b[22m\u001b[0m\u001b[1m%1\u001b[22m\u001b[96m\u001b[1m::Any\u001b[22m\u001b[39m\u001b[0m\u001b[1m)\u001b[22m\n",
      "\u001b[91m└───────────────────────────────────────────\u001b[39m\n",
      "\u001b[91m┌ @ compiler/abstractinterpretation.jl:1346 \u001b[39m\u001b[0mCore.Compiler.!=\u001b[0m(\u001b[0m%86\u001b[0m, \u001b[0mUnion{}\u001b[0m)\n",
      "\u001b[91m│ runtime dispatch detected: \u001b[39m\u001b[0m\u001b[1mCore.Compiler.!=\u001b[22m\u001b[0m\u001b[1m(\u001b[22m\u001b[0m\u001b[1m%86\u001b[22m\u001b[96m\u001b[1m::Any\u001b[22m\u001b[39m\u001b[0m\u001b[1m, \u001b[22m\u001b[0m\u001b[1mUnion{}\u001b[22m\u001b[0m\u001b[1m)\u001b[22m\n",
      "\u001b[91m└───────────────────────────────────────────\u001b[39m\n",
      "\u001b[91m┌ @ compiler/abstractinterpretation.jl:1537 \u001b[39m\u001b[0mCore.Compiler.length\u001b[0m(\u001b[0m%892\u001b[0m)\n",
      "\u001b[91m│ runtime dispatch detected: \u001b[39m\u001b[0m\u001b[1mCore.Compiler.length\u001b[22m\u001b[0m\u001b[1m(\u001b[22m\u001b[0m\u001b[1m%892\u001b[22m\u001b[96m\u001b[1m::Any\u001b[22m\u001b[39m\u001b[0m\u001b[1m)\u001b[22m\n",
      "\u001b[91m└───────────────────────────────────────────\u001b[39m\n",
      "\u001b[91m┌ @ compiler/abstractinterpretation.jl:1537 \u001b[39m\u001b[0mCore.Compiler.==\u001b[0m(\u001b[0m%871\u001b[0m, \u001b[0m%893\u001b[0m)\n",
      "\u001b[91m│ runtime dispatch detected: \u001b[39m\u001b[0m\u001b[1mCore.Compiler.==\u001b[22m\u001b[0m\u001b[1m(\u001b[22m\u001b[0m\u001b[1m%871\u001b[22m\u001b[96m\u001b[1m::Int64\u001b[22m\u001b[39m\u001b[0m\u001b[1m, \u001b[22m\u001b[0m\u001b[1m%893\u001b[22m\u001b[96m\u001b[1m::Any\u001b[22m\u001b[39m\u001b[0m\u001b[1m)\u001b[22m\n",
      "\u001b[91m└───────────────────────────────────────────\u001b[39m\n",
      "\u001b[91m┌ @ compiler/abstractinterpretation.jl:1540 \u001b[39m\u001b[0mCore.Compiler.length\u001b[0m(\u001b[0m%1045\u001b[0m)\n",
      "\u001b[91m│ runtime dispatch detected: \u001b[39m\u001b[0m\u001b[1mCore.Compiler.length\u001b[22m\u001b[0m\u001b[1m(\u001b[22m\u001b[0m\u001b[1m%1045\u001b[22m\u001b[96m\u001b[1m::Any\u001b[22m\u001b[39m\u001b[0m\u001b[1m)\u001b[22m\n",
      "\u001b[91m└───────────────────────────────────────────\u001b[39m\n",
      "\u001b[91m┌ @ compiler/abstractinterpretation.jl:1540 \u001b[39m\u001b[0mCore.Compiler.==\u001b[0m(\u001b[0m%871\u001b[0m, \u001b[0m%1046\u001b[0m)\n",
      "\u001b[91m│ runtime dispatch detected: \u001b[39m\u001b[0m\u001b[1mCore.Compiler.==\u001b[22m\u001b[0m\u001b[1m(\u001b[22m\u001b[0m\u001b[1m%871\u001b[22m\u001b[96m\u001b[1m::Int64\u001b[22m\u001b[39m\u001b[0m\u001b[1m, \u001b[22m\u001b[0m\u001b[1m%1046\u001b[22m\u001b[96m\u001b[1m::Any\u001b[22m\u001b[39m\u001b[0m\u001b[1m)\u001b[22m\n",
      "\u001b[91m└───────────────────────────────────────────\u001b[39m\n",
      "\u001b[91m┌ @ compiler/abstractinterpretation.jl:1542 \u001b[39m\u001b[0mCore.Compiler.PartialStruct\u001b[0m(\u001b[0m%1071\u001b[0m, \u001b[0m%1077\u001b[0m)\n",
      "\u001b[91m│ runtime dispatch detected: \u001b[39m\u001b[0m\u001b[1mCore.Compiler.PartialStruct\u001b[22m\u001b[0m\u001b[1m(\u001b[22m\u001b[0m\u001b[1m%1071\u001b[22m\u001b[96m\u001b[1m::DataType\u001b[22m\u001b[39m\u001b[0m\u001b[1m, \u001b[22m\u001b[0m\u001b[1m%1077\u001b[22m\u001b[96m\u001b[1m::Any\u001b[22m\u001b[39m\u001b[0m\u001b[1m)\u001b[22m\n",
      "\u001b[91m└───────────────────────────────────────────\u001b[39m\n",
      "\u001b[91m┌ @ compiler/abstractinterpretation.jl:1593 \u001b[39m\u001b[0mCore.Compiler.!\u001b[0m(\u001b[0m%1567\u001b[0m)\n",
      "\u001b[91m│ runtime dispatch detected: \u001b[39m\u001b[0m\u001b[1mCore.Compiler.!\u001b[22m\u001b[0m\u001b[1m(\u001b[22m\u001b[0m\u001b[1m%1567\u001b[22m\u001b[96m\u001b[1m::Any\u001b[22m\u001b[39m\u001b[0m\u001b[1m)\u001b[22m\n",
      "\u001b[91m└───────────────────────────────────────────\u001b[39m\n",
      "\u001b[91m┌ @ compiler/abstractinterpretation.jl:1606 \u001b[39m\u001b[0mCore.Compiler.<=\u001b[0m(\u001b[0m1\u001b[0m, \u001b[0m%1608\u001b[0m)\n",
      "\u001b[91m│ runtime dispatch detected: \u001b[39m\u001b[0m\u001b[1mCore.Compiler.<=\u001b[22m\u001b[0m\u001b[1m(\u001b[22m\u001b[0m\u001b[1m1\u001b[22m\u001b[0m\u001b[1m, \u001b[22m\u001b[0m\u001b[1m%1608\u001b[22m\u001b[96m\u001b[1m::Any\u001b[22m\u001b[39m\u001b[0m\u001b[1m)\u001b[22m\n",
      "\u001b[91m└───────────────────────────────────────────\u001b[39m\n",
      "\u001b[91m┌ @ compiler/abstractinterpretation.jl:1606 \u001b[39m\u001b[0mCore.Compiler.<=\u001b[0m(\u001b[0m%1608\u001b[0m, \u001b[0m%1612\u001b[0m)\n",
      "\u001b[91m│ runtime dispatch detected: \u001b[39m\u001b[0m\u001b[1mCore.Compiler.<=\u001b[22m\u001b[0m\u001b[1m(\u001b[22m\u001b[0m\u001b[1m%1608\u001b[22m\u001b[96m\u001b[1m::Any\u001b[22m\u001b[39m\u001b[0m\u001b[1m, \u001b[22m\u001b[0m\u001b[1m%1612\u001b[22m\u001b[96m\u001b[1m::Int64\u001b[22m\u001b[39m\u001b[0m\u001b[1m)\u001b[22m\n",
      "\u001b[91m└───────────────────────────────────────────\u001b[39m\n",
      "\u001b[91m┌ @ compiler/abstractinterpretation.jl:1607 \u001b[39m\u001b[0mCore.Compiler.getindex\u001b[0m(\u001b[0m%1618\u001b[0m, \u001b[0m%1608\u001b[0m)\n",
      "\u001b[91m│ runtime dispatch detected: \u001b[39m\u001b[0m\u001b[1mCore.Compiler.getindex\u001b[22m\u001b[0m\u001b[1m(\u001b[22m\u001b[0m\u001b[1m%1618\u001b[22m\u001b[96m\u001b[1m::Vector{Any}\u001b[22m\u001b[39m\u001b[0m\u001b[1m, \u001b[22m\u001b[0m\u001b[1m%1608\u001b[22m\u001b[96m\u001b[1m::Any\u001b[22m\u001b[39m\u001b[0m\u001b[1m)\u001b[22m\n",
      "\u001b[91m└───────────────────────────────────────────\u001b[39m\n",
      "\u001b[91m┌ @ compiler/abstractinterpretation.jl:1831 \u001b[39m\u001b[0mCore.Compiler.getindex\u001b[0m(\u001b[0m%790\u001b[0m, \u001b[0m%785\u001b[0m)\n",
      "\u001b[91m│ runtime dispatch detected: \u001b[39m\u001b[0m\u001b[1mCore.Compiler.getindex\u001b[22m\u001b[0m\u001b[1m(\u001b[22m\u001b[0m\u001b[1m%790\u001b[22m\u001b[96m\u001b[1m::Any\u001b[22m\u001b[39m\u001b[0m\u001b[1m, \u001b[22m\u001b[0m\u001b[1m%785\u001b[22m\u001b[96m\u001b[1m::Int64\u001b[22m\u001b[39m\u001b[0m\u001b[1m)\u001b[22m\n",
      "\u001b[91m└───────────────────────────────────────────\u001b[39m\n",
      "\u001b[91m┌ @ compiler/abstractinterpretation.jl:1841 \u001b[39m\u001b[0mCore.Compiler.getindex\u001b[0m(\u001b[0m%962\u001b[0m, \u001b[0m1\u001b[0m)\n",
      "\u001b[91m│ runtime dispatch detected: \u001b[39m\u001b[0m\u001b[1mCore.Compiler.getindex\u001b[22m\u001b[0m\u001b[1m(\u001b[22m\u001b[0m\u001b[1m%962\u001b[22m\u001b[96m\u001b[1m::Any\u001b[22m\u001b[39m\u001b[0m\u001b[1m, \u001b[22m\u001b[0m\u001b[1m1\u001b[22m\u001b[0m\u001b[1m)\u001b[22m\n",
      "\u001b[91m└───────────────────────────────────────────\u001b[39m\n",
      "\u001b[91m┌ @ compiler/abstractinterpretation.jl:1856 \u001b[39m\u001b[0mCore.Compiler.getindex\u001b[0m(\u001b[0m%1139\u001b[0m, \u001b[0m1\u001b[0m)\n",
      "\u001b[91m│ runtime dispatch detected: \u001b[39m\u001b[0m\u001b[1mCore.Compiler.getindex\u001b[22m\u001b[0m\u001b[1m(\u001b[22m\u001b[0m\u001b[1m%1139\u001b[22m\u001b[96m\u001b[1m::Any\u001b[22m\u001b[39m\u001b[0m\u001b[1m, \u001b[22m\u001b[0m\u001b[1m1\u001b[22m\u001b[0m\u001b[1m)\u001b[22m\n",
      "\u001b[91m└───────────────────────────────────────────\u001b[39m\n",
      "\u001b[91m┌ @ compiler/abstractinterpretation.jl:1861 \u001b[39m\u001b[0mCore.Compiler.getindex\u001b[0m(\u001b[0m%1174\u001b[0m, \u001b[0m2\u001b[0m)\n",
      "\u001b[91m│ runtime dispatch detected: \u001b[39m\u001b[0m\u001b[1mCore.Compiler.getindex\u001b[22m\u001b[0m\u001b[1m(\u001b[22m\u001b[0m\u001b[1m%1174\u001b[22m\u001b[96m\u001b[1m::Any\u001b[22m\u001b[39m\u001b[0m\u001b[1m, \u001b[22m\u001b[0m\u001b[1m2\u001b[22m\u001b[0m\u001b[1m)\u001b[22m\n",
      "\u001b[91m└───────────────────────────────────────────\u001b[39m\n",
      "\u001b[91m┌ @ compiler/abstractinterpretation.jl:1865 \u001b[39m\u001b[0mCore.Compiler.setindex!\u001b[0m(\u001b[0m%1181\u001b[0m, \u001b[0m%1176\u001b[0m, \u001b[0m%27\u001b[0m)\n",
      "\u001b[91m│ runtime dispatch detected: \u001b[39m\u001b[0m\u001b[1mCore.Compiler.setindex!\u001b[22m\u001b[0m\u001b[1m(\u001b[22m\u001b[0m\u001b[1m%1181\u001b[22m\u001b[96m\u001b[1m::Any\u001b[22m\u001b[39m\u001b[0m\u001b[1m, \u001b[22m\u001b[0m\u001b[1m%1176\u001b[22m\u001b[96m\u001b[1m::Any\u001b[22m\u001b[39m\u001b[0m\u001b[1m, \u001b[22m\u001b[0m\u001b[1m%27\u001b[22m\u001b[96m\u001b[1m::Int64\u001b[22m\u001b[39m\u001b[0m\u001b[1m)\u001b[22m\n",
      "\u001b[91m└───────────────────────────────────────────\u001b[39m\n",
      "\u001b[91m┌ @ compiler/abstractinterpretation.jl:1866 \u001b[39m\u001b[0mCore.Compiler.getindex\u001b[0m(\u001b[0m%1183\u001b[0m, \u001b[0m1\u001b[0m)\n",
      "\u001b[91m│ runtime dispatch detected: \u001b[39m\u001b[0m\u001b[1mCore.Compiler.getindex\u001b[22m\u001b[0m\u001b[1m(\u001b[22m\u001b[0m\u001b[1m%1183\u001b[22m\u001b[96m\u001b[1m::Any\u001b[22m\u001b[39m\u001b[0m\u001b[1m, \u001b[22m\u001b[0m\u001b[1m1\u001b[22m\u001b[0m\u001b[1m)\u001b[22m\n",
      "\u001b[91m└───────────────────────────────────────────\u001b[39m\n",
      "\u001b[91m┌ @ compiler/abstractinterpretation.jl:1871 \u001b[39m\u001b[0mCore.Compiler.getindex\u001b[0m(\u001b[0m%1195\u001b[0m, \u001b[0m1\u001b[0m)\n",
      "\u001b[91m│ runtime dispatch detected: \u001b[39m\u001b[0m\u001b[1mCore.Compiler.getindex\u001b[22m\u001b[0m\u001b[1m(\u001b[22m\u001b[0m\u001b[1m%1195\u001b[22m\u001b[96m\u001b[1m::Any\u001b[22m\u001b[39m\u001b[0m\u001b[1m, \u001b[22m\u001b[0m\u001b[1m1\u001b[22m\u001b[0m\u001b[1m)\u001b[22m\n",
      "\u001b[91m└───────────────────────────────────────────\u001b[39m\n",
      "\u001b[91m┌ @ compiler/abstractinterpretation.jl:1885 \u001b[39m\u001b[0mCore.Compiler.setindex!\u001b[0m(\u001b[0m%1263\u001b[0m, \u001b[0m%1215\u001b[0m, \u001b[0m%27\u001b[0m)\n",
      "\u001b[91m│ runtime dispatch detected: \u001b[39m\u001b[0m\u001b[1mCore.Compiler.setindex!\u001b[22m\u001b[0m\u001b[1m(\u001b[22m\u001b[0m\u001b[1m%1263\u001b[22m\u001b[96m\u001b[1m::Any\u001b[22m\u001b[39m\u001b[0m\u001b[1m, \u001b[22m\u001b[0m\u001b[1m%1215\u001b[22m\u001b[96m\u001b[1m::Any\u001b[22m\u001b[39m\u001b[0m\u001b[1m, \u001b[22m\u001b[0m\u001b[1m%27\u001b[22m\u001b[96m\u001b[1m::Int64\u001b[22m\u001b[39m\u001b[0m\u001b[1m)\u001b[22m\n",
      "\u001b[91m└───────────────────────────────────────────\u001b[39m\n",
      "\u001b[91m┌ @ compiler/abstractinterpretation.jl:1906 \u001b[39m\u001b[0mCore.Compiler.setindex!\u001b[0m(\u001b[0m%1461\u001b[0m, \u001b[0mCore.Compiler.Any\u001b[0m, \u001b[0m%27\u001b[0m)\n",
      "\u001b[91m│ runtime dispatch detected: \u001b[39m\u001b[0m\u001b[1mCore.Compiler.setindex!\u001b[22m\u001b[0m\u001b[1m(\u001b[22m\u001b[0m\u001b[1m%1461\u001b[22m\u001b[96m\u001b[1m::Any\u001b[22m\u001b[39m\u001b[0m\u001b[1m, \u001b[22m\u001b[0m\u001b[1mCore.Compiler.Any\u001b[22m\u001b[0m\u001b[1m, \u001b[22m\u001b[0m\u001b[1m%27\u001b[22m\u001b[96m\u001b[1m::Int64\u001b[22m\u001b[39m\u001b[0m\u001b[1m)\u001b[22m\n",
      "\u001b[91m└───────────────────────────────────────────\u001b[39m\n",
      "\u001b[91m┌ @ compiler/typeinfer.jl:244 \u001b[39m\u001b[0mCore.Compiler.setindex!\u001b[0m(\u001b[0m%132\u001b[0m, \u001b[0m%154\u001b[0m, \u001b[0m%146\u001b[0m)\n",
      "\u001b[91m│ runtime dispatch detected: \u001b[39m\u001b[0m\u001b[1mCore.Compiler.setindex!\u001b[22m\u001b[0m\u001b[1m(\u001b[22m\u001b[0m\u001b[1m%132\u001b[22m\u001b[96m\u001b[1m::Vector{Tuple{Core.Compiler.InferenceResult, Vector{Any}, Bool}}\u001b[22m\u001b[39m\u001b[0m\u001b[1m, \u001b[22m\u001b[0m\u001b[1m%154\u001b[22m\u001b[96m\u001b[1m::Tuple{Core.Compiler.InferenceResult, Union{Nothing, Vector{Any}}, Bool}\u001b[22m\u001b[39m\u001b[0m\u001b[1m, \u001b[22m\u001b[0m\u001b[1m%146\u001b[22m\u001b[96m\u001b[1m::Int64\u001b[22m\u001b[39m\u001b[0m\u001b[1m)\u001b[22m\n",
      "\u001b[91m└─────────────────────────────\u001b[39m\n",
      "\u001b[91m┌ @ compiler/abstractinterpretation.jl:525 \u001b[39m\u001b[0mCore.Compiler.maybe_get_const_prop_profitable\u001b[0m(\u001b[0minterp\u001b[0m, \u001b[0m%7\u001b[0m, \u001b[0mf\u001b[0m, \u001b[0margtypes\u001b[0m, \u001b[0mmatch\u001b[0m, \u001b[0msv\u001b[0m)\n",
      "\u001b[91m│ runtime dispatch detected: \u001b[39m\u001b[0m\u001b[1mCore.Compiler.maybe_get_const_prop_profitable\u001b[22m\u001b[0m\u001b[1m(\u001b[22m\u001b[0m\u001b[1minterp\u001b[22m\u001b[96m\u001b[1m::Core.Compiler.NativeInterpreter\u001b[22m\u001b[39m\u001b[0m\u001b[1m, \u001b[22m\u001b[0m\u001b[1m%7\u001b[22m\u001b[96m\u001b[1m::Any\u001b[22m\u001b[39m\u001b[0m\u001b[1m, \u001b[22m\u001b[0m\u001b[1mf\u001b[22m\u001b[96m\u001b[1m::Nothing\u001b[22m\u001b[39m\u001b[0m\u001b[1m, \u001b[22m\u001b[0m\u001b[1margtypes\u001b[22m\u001b[96m\u001b[1m::Vector{Any}\u001b[22m\u001b[39m\u001b[0m\u001b[1m, \u001b[22m\u001b[0m\u001b[1mmatch\u001b[22m\u001b[96m\u001b[1m::Core.MethodMatch\u001b[22m\u001b[39m\u001b[0m\u001b[1m, \u001b[22m\u001b[0m\u001b[1msv\u001b[22m\u001b[96m\u001b[1m::Core.Compiler.InferenceState\u001b[22m\u001b[39m\u001b[0m\u001b[1m)\u001b[22m\n",
      "\u001b[91m└──────────────────────────────────────────\u001b[39m\n",
      "\u001b[91m┌ @ compiler/abstractinterpretation.jl:110 \u001b[39m\u001b[0mCore.Compiler.indexed_iterate\u001b[0m(\u001b[0m%168\u001b[0m, \u001b[0m1\u001b[0m)\n",
      "\u001b[91m│ runtime dispatch detected: \u001b[39m\u001b[0m\u001b[1mCore.Compiler.indexed_iterate\u001b[22m\u001b[0m\u001b[1m(\u001b[22m\u001b[0m\u001b[1m%168\u001b[22m\u001b[96m\u001b[1m::Union{Tuple{Any, Core.Compiler.InferenceResult}, Tuple{DataType, Nothing}}\u001b[22m\u001b[39m\u001b[0m\u001b[1m, \u001b[22m\u001b[0m\u001b[1m1\u001b[22m\u001b[0m\u001b[1m)\u001b[22m\n",
      "\u001b[91m└──────────────────────────────────────────\u001b[39m\n",
      "\u001b[91m┌ @ compiler/abstractinterpretation.jl:110 \u001b[39m\u001b[0mCore.Compiler.indexed_iterate\u001b[0m(\u001b[0m%168\u001b[0m, \u001b[0m2\u001b[0m, \u001b[0m2\u001b[0m)\n",
      "\u001b[91m│ runtime dispatch detected: \u001b[39m\u001b[0m\u001b[1mCore.Compiler.indexed_iterate\u001b[22m\u001b[0m\u001b[1m(\u001b[22m\u001b[0m\u001b[1m%168\u001b[22m\u001b[96m\u001b[1m::Union{Tuple{Any, Core.Compiler.InferenceResult}, Tuple{DataType, Nothing}}\u001b[22m\u001b[39m\u001b[0m\u001b[1m, \u001b[22m\u001b[0m\u001b[1m2\u001b[22m\u001b[0m\u001b[1m, \u001b[22m\u001b[0m\u001b[1m2\u001b[22m\u001b[0m\u001b[1m)\u001b[22m\n",
      "\u001b[91m└──────────────────────────────────────────\u001b[39m\n",
      "\u001b[91m┌ @ compiler/abstractinterpretation.jl:220 \u001b[39m\u001b[0mCore.Compiler.add_call_backedges!\u001b[0m(\u001b[0minterp\u001b[0m, \u001b[0m%955\u001b[0m, \u001b[0m%78\u001b[0m, \u001b[0m%956\u001b[0m, \u001b[0matype\u001b[0m, \u001b[0msv\u001b[0m)\n",
      "\u001b[91m│ runtime dispatch detected: \u001b[39m\u001b[0m\u001b[1mCore.Compiler.add_call_backedges!\u001b[22m\u001b[0m\u001b[1m(\u001b[22m\u001b[0m\u001b[1minterp\u001b[22m\u001b[96m\u001b[1m::Core.Compiler.NativeInterpreter\u001b[22m\u001b[39m\u001b[0m\u001b[1m, \u001b[22m\u001b[0m\u001b[1m%955\u001b[22m\u001b[96m\u001b[1m::Any\u001b[22m\u001b[39m\u001b[0m\u001b[1m, \u001b[22m\u001b[0m\u001b[1m%78\u001b[22m\u001b[96m\u001b[1m::Vector{Core.MethodInstance}\u001b[22m\u001b[39m\u001b[0m\u001b[1m, \u001b[22m\u001b[0m\u001b[1m%956\u001b[22m\u001b[96m\u001b[1m::Union{Core.Compiler.MethodMatches, Core.Compiler.UnionSplitMethodMatches}\u001b[22m\u001b[39m\u001b[0m\u001b[1m, \u001b[22m\u001b[0m\u001b[1matype\u001b[22m\u001b[96m\u001b[1m::Type\u001b[22m\u001b[39m\u001b[0m\u001b[1m, \u001b[22m\u001b[0m\u001b[1msv\u001b[22m\u001b[96m\u001b[1m::Core.Compiler.InferenceState\u001b[22m\u001b[39m\u001b[0m\u001b[1m)\u001b[22m\n",
      "\u001b[91m└──────────────────────────────────────────\u001b[39m\n",
      "\u001b[91m┌ @ compiler/abstractinterpretation.jl:228 \u001b[39m\u001b[0mCore.Compiler.CallMeta\u001b[0m(\u001b[0m%955\u001b[0m, \u001b[0m%559\u001b[0m)\n",
      "\u001b[91m│ runtime dispatch detected: \u001b[39m\u001b[0m\u001b[1mCore.Compiler.CallMeta\u001b[22m\u001b[0m\u001b[1m(\u001b[22m\u001b[0m\u001b[1m%955\u001b[22m\u001b[96m\u001b[1m::Any\u001b[22m\u001b[39m\u001b[0m\u001b[1m, \u001b[22m\u001b[0m\u001b[1m%559\u001b[22m\u001b[96m\u001b[1m::Union{Core.Compiler.ConstCallInfo, Core.Compiler.MethodMatchInfo, Core.Compiler.UnionSplitInfo}\u001b[22m\u001b[39m\u001b[0m\u001b[1m)\u001b[22m\n",
      "\u001b[91m└──────────────────────────────────────────\u001b[39m\n",
      "\u001b[91m┌ @ compiler/abstractinterpretation.jl:525 \u001b[39m\u001b[0mCore.Compiler.maybe_get_const_prop_profitable\u001b[0m(\u001b[0minterp\u001b[0m, \u001b[0m%7\u001b[0m, \u001b[0mf\u001b[0m, \u001b[0margtypes\u001b[0m, \u001b[0mmatch\u001b[0m, \u001b[0msv\u001b[0m)\n",
      "\u001b[91m│ runtime dispatch detected: \u001b[39m\u001b[0m\u001b[1mCore.Compiler.maybe_get_const_prop_profitable\u001b[22m\u001b[0m\u001b[1m(\u001b[22m\u001b[0m\u001b[1minterp\u001b[22m\u001b[96m\u001b[1m::Core.Compiler.NativeInterpreter\u001b[22m\u001b[39m\u001b[0m\u001b[1m, \u001b[22m\u001b[0m\u001b[1m%7\u001b[22m\u001b[96m\u001b[1m::Any\u001b[22m\u001b[39m\u001b[0m\u001b[1m, \u001b[22m\u001b[0m\u001b[1mf\u001b[22m\u001b[96m\u001b[1m::Any\u001b[22m\u001b[39m\u001b[0m\u001b[1m, \u001b[22m\u001b[0m\u001b[1margtypes\u001b[22m\u001b[96m\u001b[1m::Vector{Any}\u001b[22m\u001b[39m\u001b[0m\u001b[1m, \u001b[22m\u001b[0m\u001b[1mmatch\u001b[22m\u001b[96m\u001b[1m::Core.MethodMatch\u001b[22m\u001b[39m\u001b[0m\u001b[1m, \u001b[22m\u001b[0m\u001b[1msv\u001b[22m\u001b[96m\u001b[1m::Core.Compiler.InferenceState\u001b[22m\u001b[39m\u001b[0m\u001b[1m)\u001b[22m\n",
      "\u001b[91m└──────────────────────────────────────────\u001b[39m\n",
      "\u001b[91m┌ @ compiler/abstractinterpretation.jl:1180 \u001b[39m\u001b[0mCore.Compiler.findsup\u001b[0m(\u001b[0m%182\u001b[0m, \u001b[0m%193\u001b[0m)\n",
      "\u001b[91m│ runtime dispatch detected: \u001b[39m\u001b[0m\u001b[1mCore.Compiler.findsup\u001b[22m\u001b[0m\u001b[1m(\u001b[22m\u001b[0m\u001b[1m%182\u001b[22m\u001b[96m\u001b[1m::Any\u001b[22m\u001b[39m\u001b[0m\u001b[1m, \u001b[22m\u001b[0m\u001b[1m%193\u001b[22m\u001b[96m\u001b[1m::Core.Compiler.InternalMethodTable\u001b[22m\u001b[39m\u001b[0m\u001b[1m)\u001b[22m\n",
      "\u001b[91m└───────────────────────────────────────────\u001b[39m\n",
      "\u001b[91m┌ @ compiler/abstractinterpretation.jl:1184 \u001b[39m\u001b[0mCore.Compiler.convert\u001b[0m(\u001b[0mCore.Compiler.SimpleVector\u001b[0m, \u001b[0m%273\u001b[0m)\n",
      "\u001b[91m│ runtime dispatch detected: \u001b[39m\u001b[0m\u001b[1mCore.Compiler.convert\u001b[22m\u001b[0m\u001b[1m(\u001b[22m\u001b[0m\u001b[1mCore.Compiler.SimpleVector\u001b[22m\u001b[0m\u001b[1m, \u001b[22m\u001b[0m\u001b[1m%273\u001b[22m\u001b[96m\u001b[1m::Any\u001b[22m\u001b[39m\u001b[0m\u001b[1m)\u001b[22m\n",
      "\u001b[91m└───────────────────────────────────────────\u001b[39m\n",
      "\u001b[91m┌ @ compiler/abstractinterpretation.jl:1193 \u001b[39m\u001b[0mCore.Compiler.pushfirst!\u001b[0m(\u001b[0m%445\u001b[0m, \u001b[0m%462\u001b[0m)\n",
      "\u001b[91m│ runtime dispatch detected: \u001b[39m\u001b[0m\u001b[1mCore.Compiler.pushfirst!\u001b[22m\u001b[0m\u001b[1m(\u001b[22m\u001b[0m\u001b[1m%445\u001b[22m\u001b[96m\u001b[1m::Vector{Any}\u001b[22m\u001b[39m\u001b[0m\u001b[1m, \u001b[22m\u001b[0m\u001b[1m%462\u001b[22m\u001b[96m\u001b[1m::Union{DataType, Type{Union{}}}\u001b[22m\u001b[39m\u001b[0m\u001b[1m)\u001b[22m\n",
      "\u001b[91m└───────────────────────────────────────────\u001b[39m\n",
      "\u001b[91m┌ @ compiler/abstractinterpretation.jl:1199 \u001b[39m\u001b[0mCore.Compiler.indexed_iterate\u001b[0m(\u001b[0m%485\u001b[0m, \u001b[0m1\u001b[0m)\n",
      "\u001b[91m│ runtime dispatch detected: \u001b[39m\u001b[0m\u001b[1mCore.Compiler.indexed_iterate\u001b[22m\u001b[0m\u001b[1m(\u001b[22m\u001b[0m\u001b[1m%485\u001b[22m\u001b[96m\u001b[1m::Union{Tuple{Any, Core.Compiler.InferenceResult}, Tuple{DataType, Nothing}}\u001b[22m\u001b[39m\u001b[0m\u001b[1m, \u001b[22m\u001b[0m\u001b[1m1\u001b[22m\u001b[0m\u001b[1m)\u001b[22m\n",
      "\u001b[91m└───────────────────────────────────────────\u001b[39m\n",
      "\u001b[91m┌ @ compiler/abstractinterpretation.jl:1199 \u001b[39m\u001b[0mCore.Compiler.indexed_iterate\u001b[0m(\u001b[0m%485\u001b[0m, \u001b[0m2\u001b[0m, \u001b[0m2\u001b[0m)\n",
      "\u001b[91m│ runtime dispatch detected: \u001b[39m\u001b[0m\u001b[1mCore.Compiler.indexed_iterate\u001b[22m\u001b[0m\u001b[1m(\u001b[22m\u001b[0m\u001b[1m%485\u001b[22m\u001b[96m\u001b[1m::Union{Tuple{Any, Core.Compiler.InferenceResult}, Tuple{DataType, Nothing}}\u001b[22m\u001b[39m\u001b[0m\u001b[1m, \u001b[22m\u001b[0m\u001b[1m2\u001b[22m\u001b[0m\u001b[1m, \u001b[22m\u001b[0m\u001b[1m2\u001b[22m\u001b[0m\u001b[1m)\u001b[22m\n",
      "\u001b[91m└───────────────────────────────────────────\u001b[39m\n",
      "\u001b[91m┌ @ compiler/abstractinterpretation.jl:1245 \u001b[39m\u001b[0mCore.Compiler.CallMeta\u001b[0m(\u001b[0m%89\u001b[0m, \u001b[0mfalse\u001b[0m)\n",
      "\u001b[91m│ runtime dispatch detected: \u001b[39m\u001b[0m\u001b[1mCore.Compiler.CallMeta\u001b[22m\u001b[0m\u001b[1m(\u001b[22m\u001b[0m\u001b[1m%89\u001b[22m\u001b[96m\u001b[1m::Union{Core.Const, Type}\u001b[22m\u001b[39m\u001b[0m\u001b[1m, \u001b[22m\u001b[0m\u001b[1mfalse\u001b[22m\u001b[0m\u001b[1m)\u001b[22m\n",
      "\u001b[91m└───────────────────────────────────────────\u001b[39m\n",
      "\u001b[91m┌ @ compiler/abstractinterpretation.jl:934 \u001b[39m\u001b[0mCore.Compiler.unwrapva\u001b[0m(\u001b[0m%417\u001b[0m)\n",
      "\u001b[91m│ runtime dispatch detected: \u001b[39m\u001b[0m\u001b[1mCore.Compiler.unwrapva\u001b[22m\u001b[0m\u001b[1m(\u001b[22m\u001b[0m\u001b[1m%417\u001b[22m\u001b[96m\u001b[1m::Any\u001b[22m\u001b[39m\u001b[0m\u001b[1m)\u001b[22m\n",
      "\u001b[91m└──────────────────────────────────────────\u001b[39m\n",
      "\u001b[91m┌ @ compiler/abstractinterpretation.jl:972 \u001b[39m\u001b[0mCore.Compiler.CallMeta\u001b[0m(\u001b[0m%850\u001b[0m, \u001b[0m%849\u001b[0m)\n",
      "\u001b[91m│ runtime dispatch detected: \u001b[39m\u001b[0m\u001b[1mCore.Compiler.CallMeta\u001b[22m\u001b[0m\u001b[1m(\u001b[22m\u001b[0m\u001b[1m%850\u001b[22m\u001b[96m\u001b[1m::Any\u001b[22m\u001b[39m\u001b[0m\u001b[1m, \u001b[22m\u001b[0m\u001b[1m%849\u001b[22m\u001b[96m\u001b[1m::Union{Bool, Core.Compiler.UnionSplitApplyCallInfo}\u001b[22m\u001b[39m\u001b[0m\u001b[1m)\u001b[22m\n",
      "\u001b[91m└──────────────────────────────────────────\u001b[39m\n",
      "\u001b[91m┌ @ compiler/abstractinterpretation.jl:749 \u001b[39m\u001b[0mCore.Compiler.length\u001b[0m(\u001b[0m%22\u001b[0m)\n",
      "\u001b[91m│ runtime dispatch detected: \u001b[39m\u001b[0m\u001b[1mCore.Compiler.length\u001b[22m\u001b[0m\u001b[1m(\u001b[22m\u001b[0m\u001b[1m%22\u001b[22m\u001b[96m\u001b[1m::Union{Core.SimpleVector, Tuple}\u001b[22m\u001b[39m\u001b[0m\u001b[1m)\u001b[22m\n",
      "\u001b[91m└──────────────────────────────────────────\u001b[39m\n",
      "\u001b[91m┌ @ compiler/abstractinterpretation.jl:749 \u001b[39m\u001b[0mCore.Compiler.getindex\u001b[0m(\u001b[0m%52\u001b[0m, \u001b[0m%49\u001b[0m)\n",
      "\u001b[91m│ runtime dispatch detected: \u001b[39m\u001b[0m\u001b[1mCore.Compiler.getindex\u001b[22m\u001b[0m\u001b[1m(\u001b[22m\u001b[0m\u001b[1m%52\u001b[22m\u001b[96m\u001b[1m::Union{Core.SimpleVector, Tuple}\u001b[22m\u001b[39m\u001b[0m\u001b[1m, \u001b[22m\u001b[0m\u001b[1m%49\u001b[22m\u001b[96m\u001b[1m::Int64\u001b[22m\u001b[39m\u001b[0m\u001b[1m)\u001b[22m\n",
      "\u001b[91m└──────────────────────────────────────────\u001b[39m\n",
      "\u001b[91m┌ @ compiler/abstractinterpretation.jl:762 \u001b[39m\u001b[0mCore.Compiler.rewrap_unionall\u001b[0m(\u001b[0m%120\u001b[0m, \u001b[0m%93\u001b[0m)\n",
      "\u001b[91m│ runtime dispatch detected: \u001b[39m\u001b[0m\u001b[1mCore.Compiler.rewrap_unionall\u001b[22m\u001b[0m\u001b[1m(\u001b[22m\u001b[0m\u001b[1m%120\u001b[22m\u001b[96m\u001b[1m::Any\u001b[22m\u001b[39m\u001b[0m\u001b[1m, \u001b[22m\u001b[0m\u001b[1m%93\u001b[22m\u001b[96m\u001b[1m::Any\u001b[22m\u001b[39m\u001b[0m\u001b[1m)\u001b[22m\n",
      "\u001b[91m└──────────────────────────────────────────\u001b[39m\n",
      "\u001b[91m┌ @ compiler/abstractinterpretation.jl:769 \u001b[39m\u001b[0mCore.Compiler.rewrap_unionall\u001b[0m(\u001b[0m%172\u001b[0m, \u001b[0m%128\u001b[0m)\n",
      "\u001b[91m│ runtime dispatch detected: \u001b[39m\u001b[0m\u001b[1mCore.Compiler.rewrap_unionall\u001b[22m\u001b[0m\u001b[1m(\u001b[22m\u001b[0m\u001b[1m%172\u001b[22m\u001b[96m\u001b[1m::Any\u001b[22m\u001b[39m\u001b[0m\u001b[1m, \u001b[22m\u001b[0m\u001b[1m%128\u001b[22m\u001b[96m\u001b[1m::Any\u001b[22m\u001b[39m\u001b[0m\u001b[1m)\u001b[22m\n",
      "\u001b[91m└──────────────────────────────────────────\u001b[39m\n",
      "\u001b[91m┌ @ compiler/abstractinterpretation.jl:770 \u001b[39m\u001b[0mCore.Compiler.convert\u001b[0m(\u001b[0mCore.Compiler.DataType\u001b[0m, \u001b[0m%264\u001b[0m)\n",
      "\u001b[91m│ runtime dispatch detected: \u001b[39m\u001b[0m\u001b[1mCore.Compiler.convert\u001b[22m\u001b[0m\u001b[1m(\u001b[22m\u001b[0m\u001b[1mCore.Compiler.DataType\u001b[22m\u001b[0m\u001b[1m, \u001b[22m\u001b[0m\u001b[1m%264\u001b[22m\u001b[96m\u001b[1m::Any\u001b[22m\u001b[39m\u001b[0m\u001b[1m)\u001b[22m\n",
      "\u001b[91m└──────────────────────────────────────────\u001b[39m\n",
      "\u001b[91m┌ @ compiler/abstractinterpretation.jl:775 \u001b[39m\u001b[0mCore.Compiler.rewrap_unionall\u001b[0m(\u001b[0m%311\u001b[0m, \u001b[0m%128\u001b[0m)\n",
      "\u001b[91m│ runtime dispatch detected: \u001b[39m\u001b[0m\u001b[1mCore.Compiler.rewrap_unionall\u001b[22m\u001b[0m\u001b[1m(\u001b[22m\u001b[0m\u001b[1m%311\u001b[22m\u001b[96m\u001b[1m::Any\u001b[22m\u001b[39m\u001b[0m\u001b[1m, \u001b[22m\u001b[0m\u001b[1m%128\u001b[22m\u001b[96m\u001b[1m::Any\u001b[22m\u001b[39m\u001b[0m\u001b[1m)\u001b[22m\n",
      "\u001b[91m└──────────────────────────────────────────\u001b[39m\n",
      "\u001b[91m┌ @ compiler/abstractinterpretation.jl:782 \u001b[39m\u001b[0mCore.Compiler.unwrapva\u001b[0m(\u001b[0m%396\u001b[0m)\n",
      "\u001b[91m│ runtime dispatch detected: \u001b[39m\u001b[0m\u001b[1mCore.Compiler.unwrapva\u001b[22m\u001b[0m\u001b[1m(\u001b[22m\u001b[0m\u001b[1m%396\u001b[22m\u001b[96m\u001b[1m::Any\u001b[22m\u001b[39m\u001b[0m\u001b[1m)\u001b[22m\n",
      "\u001b[91m└──────────────────────────────────────────\u001b[39m\n",
      "\u001b[91m┌ @ compiler/abstractinterpretation.jl:801 \u001b[39m\u001b[0mCore.Compiler.eltype\u001b[0m(\u001b[0m%128\u001b[0m)\n",
      "\u001b[91m│ runtime dispatch detected: \u001b[39m\u001b[0m\u001b[1mCore.Compiler.eltype\u001b[22m\u001b[0m\u001b[1m(\u001b[22m\u001b[0m\u001b[1m%128\u001b[22m\u001b[96m\u001b[1m::Any\u001b[22m\u001b[39m\u001b[0m\u001b[1m)\u001b[22m\n",
      "\u001b[91m└──────────────────────────────────────────\u001b[39m\n",
      "\u001b[91m┌ @ compiler/tfuncs.jl:1673 \u001b[39m\u001b[0mCore.Compiler.getindex\u001b[0m(\u001b[0m%73\u001b[0m, \u001b[0m1\u001b[0m)\n",
      "\u001b[91m│ runtime dispatch detected: \u001b[39m\u001b[0m\u001b[1mCore.Compiler.getindex\u001b[22m\u001b[0m\u001b[1m(\u001b[22m\u001b[0m\u001b[1m%73\u001b[22m\u001b[96m\u001b[1m::Any\u001b[22m\u001b[39m\u001b[0m\u001b[1m, \u001b[22m\u001b[0m\u001b[1m1\u001b[22m\u001b[0m\u001b[1m)\u001b[22m\n",
      "\u001b[91m└───────────────────────────\u001b[39m\n",
      "\u001b[91m┌ @ compiler/tfuncs.jl:1694 \u001b[39m\u001b[0mCore.UnionAll\u001b[0m(\u001b[0m%209\u001b[0m, \u001b[0m%210\u001b[0m)\n",
      "\u001b[91m│ runtime dispatch detected: \u001b[39m\u001b[0m\u001b[1mCore.UnionAll\u001b[22m\u001b[0m\u001b[1m(\u001b[22m\u001b[0m\u001b[1m%209\u001b[22m\u001b[96m\u001b[1m::TypeVar\u001b[22m\u001b[39m\u001b[0m\u001b[1m, \u001b[22m\u001b[0m\u001b[1m%210\u001b[22m\u001b[96m\u001b[1m::Type{Type{_A}} where _A\u001b[22m\u001b[39m\u001b[0m\u001b[1m)\u001b[22m\n",
      "\u001b[91m└───────────────────────────\u001b[39m\n",
      "\u001b[91m┌ @ compiler/tfuncs.jl:1703 \u001b[39m\u001b[0mCore.UnionAll\u001b[0m(\u001b[0m%391\u001b[0m, \u001b[0m%392\u001b[0m)\n",
      "\u001b[91m│ runtime dispatch detected: \u001b[39m\u001b[0m\u001b[1mCore.UnionAll\u001b[22m\u001b[0m\u001b[1m(\u001b[22m\u001b[0m\u001b[1m%391\u001b[22m\u001b[96m\u001b[1m::TypeVar\u001b[22m\u001b[39m\u001b[0m\u001b[1m, \u001b[22m\u001b[0m\u001b[1m%392\u001b[22m\u001b[96m\u001b[1m::Type{Type{_A}} where _A\u001b[22m\u001b[39m\u001b[0m\u001b[1m)\u001b[22m\n",
      "\u001b[91m└───────────────────────────\u001b[39m\n",
      "\u001b[91m┌ @ compiler/abstractinterpretation.jl:110 \u001b[39m\u001b[0mCore.Compiler.indexed_iterate\u001b[0m(\u001b[0m%160\u001b[0m, \u001b[0m1\u001b[0m)\n",
      "\u001b[91m│ runtime dispatch detected: \u001b[39m\u001b[0m\u001b[1mCore.Compiler.indexed_iterate\u001b[22m\u001b[0m\u001b[1m(\u001b[22m\u001b[0m\u001b[1m%160\u001b[22m\u001b[96m\u001b[1m::Union{Tuple{Any, Core.Compiler.InferenceResult}, Tuple{DataType, Nothing}}\u001b[22m\u001b[39m\u001b[0m\u001b[1m, \u001b[22m\u001b[0m\u001b[1m1\u001b[22m\u001b[0m\u001b[1m)\u001b[22m\n",
      "\u001b[91m└──────────────────────────────────────────\u001b[39m\n",
      "\u001b[91m┌ @ compiler/abstractinterpretation.jl:110 \u001b[39m\u001b[0mCore.Compiler.indexed_iterate\u001b[0m(\u001b[0m%160\u001b[0m, \u001b[0m2\u001b[0m, \u001b[0m2\u001b[0m)\n",
      "\u001b[91m│ runtime dispatch detected: \u001b[39m\u001b[0m\u001b[1mCore.Compiler.indexed_iterate\u001b[22m\u001b[0m\u001b[1m(\u001b[22m\u001b[0m\u001b[1m%160\u001b[22m\u001b[96m\u001b[1m::Union{Tuple{Any, Core.Compiler.InferenceResult}, Tuple{DataType, Nothing}}\u001b[22m\u001b[39m\u001b[0m\u001b[1m, \u001b[22m\u001b[0m\u001b[1m2\u001b[22m\u001b[0m\u001b[1m, \u001b[22m\u001b[0m\u001b[1m2\u001b[22m\u001b[0m\u001b[1m)\u001b[22m\n",
      "\u001b[91m└──────────────────────────────────────────\u001b[39m\n",
      "\u001b[91m┌ @ compiler/abstractinterpretation.jl:220 \u001b[39m\u001b[0mCore.Compiler.add_call_backedges!\u001b[0m(\u001b[0minterp\u001b[0m, \u001b[0m%541\u001b[0m, \u001b[0m%78\u001b[0m, \u001b[0m%542\u001b[0m, \u001b[0matype\u001b[0m, \u001b[0msv\u001b[0m)\n",
      "\u001b[91m│ runtime dispatch detected: \u001b[39m\u001b[0m\u001b[1mCore.Compiler.add_call_backedges!\u001b[22m\u001b[0m\u001b[1m(\u001b[22m\u001b[0m\u001b[1minterp\u001b[22m\u001b[96m\u001b[1m::Core.Compiler.NativeInterpreter\u001b[22m\u001b[39m\u001b[0m\u001b[1m, \u001b[22m\u001b[0m\u001b[1m%541\u001b[22m\u001b[96m\u001b[1m::Any\u001b[22m\u001b[39m\u001b[0m\u001b[1m, \u001b[22m\u001b[0m\u001b[1m%78\u001b[22m\u001b[96m\u001b[1m::Vector{Core.MethodInstance}\u001b[22m\u001b[39m\u001b[0m\u001b[1m, \u001b[22m\u001b[0m\u001b[1m%542\u001b[22m\u001b[96m\u001b[1m::Union{Core.Compiler.MethodMatches, Core.Compiler.UnionSplitMethodMatches}\u001b[22m\u001b[39m\u001b[0m\u001b[1m, \u001b[22m\u001b[0m\u001b[1matype\u001b[22m\u001b[96m\u001b[1m::Type\u001b[22m\u001b[39m\u001b[0m\u001b[1m, \u001b[22m\u001b[0m\u001b[1msv\u001b[22m\u001b[96m\u001b[1m::Core.Compiler.InferenceState\u001b[22m\u001b[39m\u001b[0m\u001b[1m)\u001b[22m\n",
      "\u001b[91m└──────────────────────────────────────────\u001b[39m\n",
      "\u001b[91m┌ @ compiler/abstractinterpretation.jl:228 \u001b[39m\u001b[0mCore.Compiler.CallMeta\u001b[0m(\u001b[0m%541\u001b[0m, \u001b[0m%386\u001b[0m)\n",
      "\u001b[91m│ runtime dispatch detected: \u001b[39m\u001b[0m\u001b[1mCore.Compiler.CallMeta\u001b[22m\u001b[0m\u001b[1m(\u001b[22m\u001b[0m\u001b[1m%541\u001b[22m\u001b[96m\u001b[1m::Any\u001b[22m\u001b[39m\u001b[0m\u001b[1m, \u001b[22m\u001b[0m\u001b[1m%386\u001b[22m\u001b[96m\u001b[1m::Union{Core.Compiler.ConstCallInfo, Core.Compiler.MethodMatchInfo, Core.Compiler.UnionSplitInfo}\u001b[22m\u001b[39m\u001b[0m\u001b[1m)\u001b[22m\n",
      "\u001b[91m└──────────────────────────────────────────\u001b[39m\n",
      "\u001b[91m┌ @ compiler/abstractinterpretation.jl:110 \u001b[39m\u001b[0mCore.Compiler.indexed_iterate\u001b[0m(\u001b[0m%234\u001b[0m, \u001b[0m1\u001b[0m)\n",
      "\u001b[91m│ runtime dispatch detected: \u001b[39m\u001b[0m\u001b[1mCore.Compiler.indexed_iterate\u001b[22m\u001b[0m\u001b[1m(\u001b[22m\u001b[0m\u001b[1m%234\u001b[22m\u001b[96m\u001b[1m::Union{Tuple{Any, Core.Compiler.InferenceResult}, Tuple{DataType, Nothing}}\u001b[22m\u001b[39m\u001b[0m\u001b[1m, \u001b[22m\u001b[0m\u001b[1m1\u001b[22m\u001b[0m\u001b[1m)\u001b[22m\n",
      "\u001b[91m└──────────────────────────────────────────\u001b[39m\n",
      "\u001b[91m┌ @ compiler/abstractinterpretation.jl:110 \u001b[39m\u001b[0mCore.Compiler.indexed_iterate\u001b[0m(\u001b[0m%234\u001b[0m, \u001b[0m2\u001b[0m, \u001b[0m2\u001b[0m)\n",
      "\u001b[91m│ runtime dispatch detected: \u001b[39m\u001b[0m\u001b[1mCore.Compiler.indexed_iterate\u001b[22m\u001b[0m\u001b[1m(\u001b[22m\u001b[0m\u001b[1m%234\u001b[22m\u001b[96m\u001b[1m::Union{Tuple{Any, Core.Compiler.InferenceResult}, Tuple{DataType, Nothing}}\u001b[22m\u001b[39m\u001b[0m\u001b[1m, \u001b[22m\u001b[0m\u001b[1m2\u001b[22m\u001b[0m\u001b[1m, \u001b[22m\u001b[0m\u001b[1m2\u001b[22m\u001b[0m\u001b[1m)\u001b[22m\n",
      "\u001b[91m└──────────────────────────────────────────\u001b[39m\n",
      "\u001b[91m┌ @ compiler/abstractinterpretation.jl:220 \u001b[39m\u001b[0mCore.Compiler.add_call_backedges!\u001b[0m(\u001b[0minterp\u001b[0m, \u001b[0m%615\u001b[0m, \u001b[0m%78\u001b[0m, \u001b[0m%616\u001b[0m, \u001b[0matype\u001b[0m, \u001b[0msv\u001b[0m)\n",
      "\u001b[91m│ runtime dispatch detected: \u001b[39m\u001b[0m\u001b[1mCore.Compiler.add_call_backedges!\u001b[22m\u001b[0m\u001b[1m(\u001b[22m\u001b[0m\u001b[1minterp\u001b[22m\u001b[96m\u001b[1m::Core.Compiler.NativeInterpreter\u001b[22m\u001b[39m\u001b[0m\u001b[1m, \u001b[22m\u001b[0m\u001b[1m%615\u001b[22m\u001b[96m\u001b[1m::Any\u001b[22m\u001b[39m\u001b[0m\u001b[1m, \u001b[22m\u001b[0m\u001b[1m%78\u001b[22m\u001b[96m\u001b[1m::Vector{Core.MethodInstance}\u001b[22m\u001b[39m\u001b[0m\u001b[1m, \u001b[22m\u001b[0m\u001b[1m%616\u001b[22m\u001b[96m\u001b[1m::Union{Core.Compiler.MethodMatches, Core.Compiler.UnionSplitMethodMatches}\u001b[22m\u001b[39m\u001b[0m\u001b[1m, \u001b[22m\u001b[0m\u001b[1matype\u001b[22m\u001b[96m\u001b[1m::Type{<:Tuple{Any, Bool}}\u001b[22m\u001b[39m\u001b[0m\u001b[1m, \u001b[22m\u001b[0m\u001b[1msv\u001b[22m\u001b[96m\u001b[1m::Core.Compiler.InferenceState\u001b[22m\u001b[39m\u001b[0m\u001b[1m)\u001b[22m\n",
      "\u001b[91m└──────────────────────────────────────────\u001b[39m\n",
      "\u001b[91m┌ @ compiler/abstractinterpretation.jl:228 \u001b[39m\u001b[0mCore.Compiler.CallMeta\u001b[0m(\u001b[0m%615\u001b[0m, \u001b[0m%460\u001b[0m)\n",
      "\u001b[91m│ runtime dispatch detected: \u001b[39m\u001b[0m\u001b[1mCore.Compiler.CallMeta\u001b[22m\u001b[0m\u001b[1m(\u001b[22m\u001b[0m\u001b[1m%615\u001b[22m\u001b[96m\u001b[1m::Any\u001b[22m\u001b[39m\u001b[0m\u001b[1m, \u001b[22m\u001b[0m\u001b[1m%460\u001b[22m\u001b[96m\u001b[1m::Union{Core.Compiler.ConstCallInfo, Core.Compiler.MethodMatchInfo, Core.Compiler.UnionSplitInfo}\u001b[22m\u001b[39m\u001b[0m\u001b[1m)\u001b[22m\n",
      "\u001b[91m└──────────────────────────────────────────\u001b[39m\n",
      "\u001b[91m┌ @ compiler/abstractinterpretation.jl:220 \u001b[39m\u001b[0mCore.Compiler.add_call_backedges!\u001b[0m(\u001b[0minterp\u001b[0m, \u001b[0m%615\u001b[0m, \u001b[0m%78\u001b[0m, \u001b[0m%616\u001b[0m, \u001b[0matype\u001b[0m, \u001b[0msv\u001b[0m)\n",
      "\u001b[91m│ runtime dispatch detected: \u001b[39m\u001b[0m\u001b[1mCore.Compiler.add_call_backedges!\u001b[22m\u001b[0m\u001b[1m(\u001b[22m\u001b[0m\u001b[1minterp\u001b[22m\u001b[96m\u001b[1m::Core.Compiler.NativeInterpreter\u001b[22m\u001b[39m\u001b[0m\u001b[1m, \u001b[22m\u001b[0m\u001b[1m%615\u001b[22m\u001b[96m\u001b[1m::Any\u001b[22m\u001b[39m\u001b[0m\u001b[1m, \u001b[22m\u001b[0m\u001b[1m%78\u001b[22m\u001b[96m\u001b[1m::Vector{Core.MethodInstance}\u001b[22m\u001b[39m\u001b[0m\u001b[1m, \u001b[22m\u001b[0m\u001b[1m%616\u001b[22m\u001b[96m\u001b[1m::Union{Core.Compiler.MethodMatches, Core.Compiler.UnionSplitMethodMatches}\u001b[22m\u001b[39m\u001b[0m\u001b[1m, \u001b[22m\u001b[0m\u001b[1matype\u001b[22m\u001b[96m\u001b[1m::Type\u001b[22m\u001b[39m\u001b[0m\u001b[1m, \u001b[22m\u001b[0m\u001b[1msv\u001b[22m\u001b[96m\u001b[1m::Core.Compiler.InferenceState\u001b[22m\u001b[39m\u001b[0m\u001b[1m)\u001b[22m\n",
      "\u001b[91m└──────────────────────────────────────────\u001b[39m\n",
      "\u001b[91m┌ @ compiler/abstractinterpretation.jl:110 \u001b[39m\u001b[0mCore.Compiler.indexed_iterate\u001b[0m(\u001b[0m%242\u001b[0m, \u001b[0m1\u001b[0m)\n",
      "\u001b[91m│ runtime dispatch detected: \u001b[39m\u001b[0m\u001b[1mCore.Compiler.indexed_iterate\u001b[22m\u001b[0m\u001b[1m(\u001b[22m\u001b[0m\u001b[1m%242\u001b[22m\u001b[96m\u001b[1m::Union{Tuple{Any, Core.Compiler.InferenceResult}, Tuple{DataType, Nothing}}\u001b[22m\u001b[39m\u001b[0m\u001b[1m, \u001b[22m\u001b[0m\u001b[1m1\u001b[22m\u001b[0m\u001b[1m)\u001b[22m\n",
      "\u001b[91m└──────────────────────────────────────────\u001b[39m\n",
      "\u001b[91m┌ @ compiler/abstractinterpretation.jl:110 \u001b[39m\u001b[0mCore.Compiler.indexed_iterate\u001b[0m(\u001b[0m%242\u001b[0m, \u001b[0m2\u001b[0m, \u001b[0m2\u001b[0m)\n",
      "\u001b[91m│ runtime dispatch detected: \u001b[39m\u001b[0m\u001b[1mCore.Compiler.indexed_iterate\u001b[22m\u001b[0m\u001b[1m(\u001b[22m\u001b[0m\u001b[1m%242\u001b[22m\u001b[96m\u001b[1m::Union{Tuple{Any, Core.Compiler.InferenceResult}, Tuple{DataType, Nothing}}\u001b[22m\u001b[39m\u001b[0m\u001b[1m, \u001b[22m\u001b[0m\u001b[1m2\u001b[22m\u001b[0m\u001b[1m, \u001b[22m\u001b[0m\u001b[1m2\u001b[22m\u001b[0m\u001b[1m)\u001b[22m\n",
      "\u001b[91m└──────────────────────────────────────────\u001b[39m\n",
      "\u001b[91m┌ @ compiler/abstractinterpretation.jl:220 \u001b[39m\u001b[0mCore.Compiler.add_call_backedges!\u001b[0m(\u001b[0minterp\u001b[0m, \u001b[0m%1029\u001b[0m, \u001b[0m%78\u001b[0m, \u001b[0m%1030\u001b[0m, \u001b[0matype\u001b[0m, \u001b[0msv\u001b[0m)\n",
      "\u001b[91m│ runtime dispatch detected: \u001b[39m\u001b[0m\u001b[1mCore.Compiler.add_call_backedges!\u001b[22m\u001b[0m\u001b[1m(\u001b[22m\u001b[0m\u001b[1minterp\u001b[22m\u001b[96m\u001b[1m::Core.Compiler.NativeInterpreter\u001b[22m\u001b[39m\u001b[0m\u001b[1m, \u001b[22m\u001b[0m\u001b[1m%1029\u001b[22m\u001b[96m\u001b[1m::Any\u001b[22m\u001b[39m\u001b[0m\u001b[1m, \u001b[22m\u001b[0m\u001b[1m%78\u001b[22m\u001b[96m\u001b[1m::Vector{Core.MethodInstance}\u001b[22m\u001b[39m\u001b[0m\u001b[1m, \u001b[22m\u001b[0m\u001b[1m%1030\u001b[22m\u001b[96m\u001b[1m::Union{Core.Compiler.MethodMatches, Core.Compiler.UnionSplitMethodMatches}\u001b[22m\u001b[39m\u001b[0m\u001b[1m, \u001b[22m\u001b[0m\u001b[1matype\u001b[22m\u001b[96m\u001b[1m::Type\u001b[22m\u001b[39m\u001b[0m\u001b[1m, \u001b[22m\u001b[0m\u001b[1msv\u001b[22m\u001b[96m\u001b[1m::Core.Compiler.InferenceState\u001b[22m\u001b[39m\u001b[0m\u001b[1m)\u001b[22m\n",
      "\u001b[91m└──────────────────────────────────────────\u001b[39m\n",
      "\u001b[91m┌ @ compiler/abstractinterpretation.jl:228 \u001b[39m\u001b[0mCore.Compiler.CallMeta\u001b[0m(\u001b[0m%1029\u001b[0m, \u001b[0m%633\u001b[0m)\n",
      "\u001b[91m│ runtime dispatch detected: \u001b[39m\u001b[0m\u001b[1mCore.Compiler.CallMeta\u001b[22m\u001b[0m\u001b[1m(\u001b[22m\u001b[0m\u001b[1m%1029\u001b[22m\u001b[96m\u001b[1m::Any\u001b[22m\u001b[39m\u001b[0m\u001b[1m, \u001b[22m\u001b[0m\u001b[1m%633\u001b[22m\u001b[96m\u001b[1m::Union{Core.Compiler.ConstCallInfo, Core.Compiler.MethodMatchInfo, Core.Compiler.UnionSplitInfo}\u001b[22m\u001b[39m\u001b[0m\u001b[1m)\u001b[22m\n",
      "\u001b[91m└──────────────────────────────────────────\u001b[39m\n"
     ]
    },
    {
     "data": {
      "text/plain": [
       "(Bool, 148)"
      ]
     },
     "execution_count": 1,
     "metadata": {},
     "output_type": "execute_result"
    }
   ],
   "source": [
    "using JETTest\n",
    "\n",
    "const CC = Core.Compiler\n",
    "\n",
    "# some functions in the compiler uses dispatch to branch on input types\n",
    "# they can be rewritten so that they won't be dynamically dispatched,\n",
    "# but we just ignore them for this workshop\n",
    "function function_filter(@nospecialize(ft))\n",
    "    ft === typeof(CC.widenconst) && return false\n",
    "    ft === typeof(CC.widenconditional) && return false\n",
    "    ft === typeof(CC.widenwrappedconditional) && return false\n",
    "    ft === typeof(CC.maybe_extract_const_bool) && return false\n",
    "    ft === typeof(CC.ignorelimited) && return false\n",
    "    return true\n",
    "end\n",
    "\n",
    "# the compiler code uses \"dummy\" versions of some Base functions\n",
    "# we just focus on the compiler code for this workshop\n",
    "function frame_filter((; linfo) = sv)\n",
    "    meth = linfo.def\n",
    "    isa(meth, Method) || return true\n",
    "    return occursin(\"compiler/\", string(meth.file))\n",
    "end\n",
    "\n",
    "# typeinf(::NativeInterpreter, ::InferenceState) is an entry of type inference\n",
    "# we analyze dispatches that are involved within a static call graph of it\n",
    "report_dispatch(CC.typeinf, (CC.NativeInterpreter, CC.InferenceState); function_filter, frame_filter)\n",
    "\n",
    "# # we will also use Revise to interactively reflect the changes made on source code to JET's analysis\n",
    "# using Revise\n",
    "# Revise.track(Core.Compiler)"
   ]
  },
  {
   "cell_type": "markdown",
   "id": "e25e494f",
   "metadata": {},
   "source": [
    "So many runtime dispatches. Fix them as long as time permits.\n",
    "\n",
    "_Live coding starts_"
   ]
  }
 ],
 "metadata": {
  "kernelspec": {
   "display_name": "juliacon2021-workshop-pkgdev 1.8.0-DEV",
   "language": "julia",
   "name": "juliacon2021-workshop-pkgdev-1.8"
  },
  "language_info": {
   "file_extension": ".jl",
   "mimetype": "application/julia",
   "name": "julia",
   "version": "1.8.0"
  },
  "toc": {
   "base_numbering": 1,
   "nav_menu": {},
   "number_sections": true,
   "sideBar": true,
   "skip_h1_title": true,
   "title_cell": "Table of Contents",
   "title_sidebar": "Contents",
   "toc_cell": false,
   "toc_position": {},
   "toc_section_display": true,
   "toc_window_display": false
  }
 },
 "nbformat": 4,
 "nbformat_minor": 5
}

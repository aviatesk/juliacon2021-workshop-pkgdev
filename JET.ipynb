{
 "cells": [
  {
   "cell_type": "markdown",
   "source": [
    "# JET.jl Workshop\n",
    "\n",
    "Shuhei Kadowaki"
   ],
   "metadata": {
    "slideshow": {
     "slide_type": "slide"
    }
   }
  },
  {
   "cell_type": "markdown",
   "source": [
    "## Workshop Outline\n",
    "\n",
    "- [Overview of JET.jl](#Overview-of-JET.jl)\n",
    "- [JET on Real-world Package](#JET-on-Real-world-Package)\n",
    "- [Performance Linting](#Performance-Linting)\n",
    "- [Performance Linting Example: Improve The Performance of Julia Compiler](#Performance-Linting-Example:-Improve-The-Performance-of-Julia-Compiler)"
   ],
   "metadata": {
    "slideshow": {
     "slide_type": "subslide"
    }
   }
  },
  {
   "cell_type": "markdown",
   "source": [
    "## Overview of JET.jl\n",
    "\n",
    "### What is JET ?\n",
    "\n",
    "- JET is a code analyzer for Julia\n",
    "- JET can take an ordinal Julia program and _automatically_ detect possible error points – there is no need for any additional setups !\n",
    "\n",
    "### Why JET ?\n",
    "\n",
    "- JET's analysis is powered by type inference, so JET can detect _type-level_ errors (but without any additional annotations)\n",
    "- JET offers a first-class metaprogramming support"
   ],
   "metadata": {
    "slideshow": {
     "slide_type": "subslide"
    }
   }
  },
  {
   "cell_type": "markdown",
   "source": [
    "## Get Started !"
   ],
   "metadata": {
    "slideshow": {
     "slide_type": "slide"
    }
   }
  },
  {
   "cell_type": "code",
   "execution_count": 1,
   "source": [
    "using JET"
   ],
   "outputs": [],
   "metadata": {}
  },
  {
   "cell_type": "code",
   "execution_count": 2,
   "source": [
    "# NOTE:\n",
    "# This is a very specific setup for this workshop.\n",
    "# We usually just use the entries like `report_file`, `report_package` or `@report_call`, that are exported by JET default\n",
    "\n",
    "# a sandbox module where JET's virtual process runs in\n",
    "module __JET_VMOD__ end\n",
    "\n",
    "# takes arbitrary Julia expression and runs JET on it\n",
    "macro report_toplevel(xs...)\n",
    "    iskwarg(@nospecialize(x)) = Meta.isexpr(x, :(=))\n",
    "\n",
    "    jetconfigs = filter(iskwarg, xs)\n",
    "\n",
    "    xs′ = filter(!iskwarg, xs)\n",
    "    @assert length(xs′) == 1\n",
    "    ex = first(xs′)\n",
    "    toplevelex = (Meta.isexpr(ex, :block) ?\n",
    "                  Expr(:toplevel, __source__, ex.args...) : # flatten here\n",
    "                  Expr(:toplevel, __source__, ex)\n",
    "                  ) |> QuoteNode\n",
    "\n",
    "    return :(let\n",
    "        analyzer = $(GlobalRef(JET, :JETAnalyzer))(; $(map(esc, jetconfigs)...))\n",
    "        config = $(GlobalRef(JET, :ToplevelConfig))(; $(map(esc, jetconfigs)...))\n",
    "        res = $(GlobalRef(JET, :virtual_process))($toplevelex,\n",
    "                                                  $(string(__source__.file)),\n",
    "                                                  analyzer,\n",
    "                                                  config,\n",
    "                                                  )\n",
    "        $(GlobalRef(JET, :report_result))(stdout::IO, res; $(map(esc, jetconfigs)...))\n",
    "    end)\n",
    "end"
   ],
   "outputs": [
    {
     "output_type": "execute_result",
     "data": {
      "text/plain": [
       "@report_toplevel (macro with 1 method)"
      ]
     },
     "metadata": {},
     "execution_count": 2
    }
   ],
   "metadata": {}
  },
  {
   "cell_type": "markdown",
   "source": [
    "### Type-Level Analysis"
   ],
   "metadata": {
    "slideshow": {
     "slide_type": "slide"
    }
   }
  },
  {
   "cell_type": "markdown",
   "source": [
    "As the first example, let's run JET on a simple function that calculates nth number of the Fibonacci series."
   ],
   "metadata": {}
  },
  {
   "cell_type": "code",
   "execution_count": 3,
   "source": [
    "@report_toplevel begin\n",
    "    fib(n) = n ≤ 2 ? n : fib(n-1) + fib(n-2)\n",
    "\n",
    "    fib(1000)\n",
    "    fib(1000.0)\n",
    "    fib(BigInt(1000))\n",
    "    fib(\"1000\")       # error !\n",
    "end"
   ],
   "outputs": [
    {
     "output_type": "stream",
     "name": "stdout",
     "text": [
      "\u001b[7m═════ 1 possible error found ═════\u001b[27m\n",
      "\u001b[35m┌ @ In[3]:7 \u001b[39m\u001b[0mfib\u001b[0m(\u001b[0m\"1000\"\u001b[0m)\n",
      "\u001b[35m│\u001b[39m\u001b[34m┌ @ In[3]:2 \u001b[39m\u001b[0m≤\u001b[0m(\u001b[0mn\u001b[0m, \u001b[0m2\u001b[0m)\n",
      "\u001b[35m│\u001b[39m\u001b[34m│\u001b[39m\u001b[33m┌ @ operators.jl:401 \u001b[39m\u001b[0mBase.<\u001b[0m(\u001b[0mx\u001b[0m, \u001b[0my\u001b[0m)\n",
      "\u001b[35m│\u001b[39m\u001b[34m│\u001b[39m\u001b[33m│\u001b[39m\u001b[91m┌ @ operators.jl:352 \u001b[39m\u001b[0mBase.isless\u001b[0m(\u001b[0mx\u001b[0m, \u001b[0my\u001b[0m)\n",
      "\u001b[35m│\u001b[39m\u001b[34m│\u001b[39m\u001b[33m│\u001b[39m\u001b[91m│ no matching method found for call signature (Tuple{typeof(isless), String, Int64}): \u001b[39m\u001b[0m\u001b[1mBase.isless\u001b[22m\u001b[0m\u001b[1m(\u001b[22m\u001b[0m\u001b[1mx\u001b[22m\u001b[96m\u001b[1m::String\u001b[22m\u001b[39m\u001b[0m\u001b[1m, \u001b[22m\u001b[0m\u001b[1my\u001b[22m\u001b[96m\u001b[1m::Int64\u001b[22m\u001b[39m\u001b[0m\u001b[1m)\u001b[22m\n",
      "\u001b[35m│\u001b[39m\u001b[34m│\u001b[39m\u001b[33m│\u001b[39m\u001b[91m└────────────────────\u001b[39m\n"
     ]
    },
    {
     "output_type": "execute_result",
     "data": {
      "text/plain": [
       "(included_files = Set{String}(), nreported = 1)"
      ]
     },
     "metadata": {},
     "execution_count": 3
    }
   ],
   "metadata": {
    "slideshow": {
     "slide_type": "subslide"
    }
   }
  },
  {
   "cell_type": "markdown",
   "source": [
    "- JET successfully found an error on `fib(\"1000\")`\n",
    "- But `fib` is very inefficient, so `fib(1000)` won't terminate in actual execution\n",
    "\n",
    "How is that possible ?"
   ],
   "metadata": {}
  },
  {
   "cell_type": "markdown",
   "source": [
    "- JET analyzes an input program only on _type-level_ (so this is a \"static analysis\" using the technique called \"abstract interpretation\")\n",
    "- JET's analysis is really different from actually running the program\n",
    "\n",
    "To see the difference better, let's consider the next example."
   ],
   "metadata": {}
  },
  {
   "cell_type": "code",
   "execution_count": 4,
   "source": [
    "# takes an iterator, and tries to parse its elements into floating numbers,\n",
    "# and then sum up succesfully parsed elements\n",
    "function parsesum(args)\n",
    "    argvals = []\n",
    "    for arg in args\n",
    "        try\n",
    "            push!(argvals, parse(Float64, arg))\n",
    "        catch\n",
    "        end\n",
    "    end\n",
    "    return sum(argvals)\n",
    "end\n",
    "\n",
    "parsesum([\"20\", \"foo\", \"22.\"])"
   ],
   "outputs": [
    {
     "output_type": "execute_result",
     "data": {
      "text/plain": [
       "42.0"
      ]
     },
     "metadata": {},
     "execution_count": 4
    }
   ],
   "metadata": {
    "slideshow": {
     "slide_type": "subslide"
    }
   }
  },
  {
   "cell_type": "markdown",
   "source": [
    "It works ! Let's see what JET says on it:"
   ],
   "metadata": {}
  },
  {
   "cell_type": "code",
   "execution_count": 5,
   "source": [
    "@report_toplevel begin\n",
    "    function parsesum(args)\n",
    "        argvals = []\n",
    "        for arg in args\n",
    "            try\n",
    "                push!(argvals, parse(Float64, arg))\n",
    "            catch\n",
    "            end\n",
    "        end\n",
    "        return sum(argvals)\n",
    "    end\n",
    "    \n",
    "    parsesum([\"20\", \"foo\", \"22.\"])\n",
    "end"
   ],
   "outputs": [
    {
     "output_type": "stream",
     "name": "stdout",
     "text": [
      "\u001b[7m═════ 1 possible error found ═════\u001b[27m\n",
      "\u001b[35m┌ @ In[5]:13 \u001b[39m\u001b[0mparsesum\u001b[0m(\u001b[0mBase.vect\u001b[0m(\u001b[0m\"20\"\u001b[0m, \u001b[0m\"foo\"\u001b[0m, \u001b[0m\"22.\"\u001b[0m)\u001b[0m)\n",
      "\u001b[35m│\u001b[39m\u001b[34m┌ @ In[5]:10 \u001b[39m\u001b[0msum\u001b[0m(\u001b[0margvals\u001b[0m)\n",
      "\u001b[35m│\u001b[39m\u001b[34m│\u001b[39m\u001b[33m┌ @ reducedim.jl:889 \u001b[39m\u001b[0mBase.#sum#736\u001b[0m(\u001b[0mBase.:\u001b[0m, \u001b[0mBase.pairs\u001b[0m(\u001b[0mCore.NamedTuple\u001b[0m(\u001b[0m)\u001b[0m)\u001b[0m, \u001b[0m#self#\u001b[0m, \u001b[0ma\u001b[0m)\n",
      "\u001b[35m│\u001b[39m\u001b[34m│\u001b[39m\u001b[33m│\u001b[39m\u001b[32m┌ @ reducedim.jl:889 \u001b[39m\u001b[0mBase._sum\u001b[0m(\u001b[0ma\u001b[0m, \u001b[0mdims\u001b[0m)\n",
      "\u001b[35m│\u001b[39m\u001b[34m│\u001b[39m\u001b[33m│\u001b[39m\u001b[32m│\u001b[39m\u001b[35m┌ @ reducedim.jl:893 \u001b[39m\u001b[0mBase.#_sum#738\u001b[0m(\u001b[0mBase.pairs\u001b[0m(\u001b[0mCore.NamedTuple\u001b[0m(\u001b[0m)\u001b[0m)\u001b[0m, \u001b[0m#self#\u001b[0m, \u001b[0ma\u001b[0m, \u001b[0m_3\u001b[0m)\n",
      "\u001b[35m│\u001b[39m\u001b[34m│\u001b[39m\u001b[33m│\u001b[39m\u001b[32m│\u001b[39m\u001b[35m│\u001b[39m\u001b[34m┌ @ reducedim.jl:893 \u001b[39m\u001b[0mBase._sum\u001b[0m(\u001b[0mBase.identity\u001b[0m, \u001b[0ma\u001b[0m, \u001b[0mBase.:\u001b[0m)\n",
      "\u001b[35m│\u001b[39m\u001b[34m│\u001b[39m\u001b[33m│\u001b[39m\u001b[32m│\u001b[39m\u001b[35m│\u001b[39m\u001b[34m│\u001b[39m\u001b[33m┌ @ reducedim.jl:894 \u001b[39m\u001b[0mBase.#_sum#739\u001b[0m(\u001b[0mBase.pairs\u001b[0m(\u001b[0mCore.NamedTuple\u001b[0m(\u001b[0m)\u001b[0m)\u001b[0m, \u001b[0m#self#\u001b[0m, \u001b[0mf\u001b[0m, \u001b[0ma\u001b[0m, \u001b[0m_4\u001b[0m)\n",
      "\u001b[35m│\u001b[39m\u001b[34m│\u001b[39m\u001b[33m│\u001b[39m\u001b[32m│\u001b[39m\u001b[35m│\u001b[39m\u001b[34m│\u001b[39m\u001b[33m│\u001b[39m\u001b[32m┌ @ reducedim.jl:894 \u001b[39m\u001b[0mBase.mapreduce\u001b[0m(\u001b[0mf\u001b[0m, \u001b[0mBase.add_sum\u001b[0m, \u001b[0ma\u001b[0m)\n",
      "\u001b[35m│\u001b[39m\u001b[34m│\u001b[39m\u001b[33m│\u001b[39m\u001b[32m│\u001b[39m\u001b[35m│\u001b[39m\u001b[34m│\u001b[39m\u001b[33m│\u001b[39m\u001b[32m│\u001b[39m\u001b[35m┌ @ reducedim.jl:322 \u001b[39m\u001b[0mBase.#mapreduce#729\u001b[0m(\u001b[0mBase.:\u001b[0m, \u001b[0mBase._InitialValue\u001b[0m(\u001b[0m)\u001b[0m, \u001b[0m#self#\u001b[0m, \u001b[0mf\u001b[0m, \u001b[0mop\u001b[0m, \u001b[0mA\u001b[0m)\n",
      "\u001b[35m│\u001b[39m\u001b[34m│\u001b[39m\u001b[33m│\u001b[39m\u001b[32m│\u001b[39m\u001b[35m│\u001b[39m\u001b[34m│\u001b[39m\u001b[33m│\u001b[39m\u001b[32m│\u001b[39m\u001b[35m│\u001b[39m\u001b[34m┌ @ reducedim.jl:322 \u001b[39m\u001b[0mBase._mapreduce_dim\u001b[0m(\u001b[0mf\u001b[0m, \u001b[0mop\u001b[0m, \u001b[0minit\u001b[0m, \u001b[0mA\u001b[0m, \u001b[0mdims\u001b[0m)\n",
      "\u001b[35m│\u001b[39m\u001b[34m│\u001b[39m\u001b[33m│\u001b[39m\u001b[32m│\u001b[39m\u001b[35m│\u001b[39m\u001b[34m│\u001b[39m\u001b[33m│\u001b[39m\u001b[32m│\u001b[39m\u001b[35m│\u001b[39m\u001b[34m│\u001b[39m\u001b[33m┌ @ reducedim.jl:330 \u001b[39m\u001b[0mBase._mapreduce\u001b[0m(\u001b[0mf\u001b[0m, \u001b[0mop\u001b[0m, \u001b[0mBase.IndexStyle\u001b[0m(\u001b[0mA\u001b[0m)\u001b[0m, \u001b[0mA\u001b[0m)\n",
      "\u001b[35m│\u001b[39m\u001b[34m│\u001b[39m\u001b[33m│\u001b[39m\u001b[32m│\u001b[39m\u001b[35m│\u001b[39m\u001b[34m│\u001b[39m\u001b[33m│\u001b[39m\u001b[32m│\u001b[39m\u001b[35m│\u001b[39m\u001b[34m│\u001b[39m\u001b[33m│\u001b[39m\u001b[32m┌ @ reduce.jl:402 \u001b[39m\u001b[0mBase.mapreduce_empty_iter\u001b[0m(\u001b[0mf\u001b[0m, \u001b[0mop\u001b[0m, \u001b[0mA\u001b[0m, \u001b[0mBase.IteratorEltype\u001b[0m(\u001b[0mA\u001b[0m)\u001b[0m)\n",
      "\u001b[35m│\u001b[39m\u001b[34m│\u001b[39m\u001b[33m│\u001b[39m\u001b[32m│\u001b[39m\u001b[35m│\u001b[39m\u001b[34m│\u001b[39m\u001b[33m│\u001b[39m\u001b[32m│\u001b[39m\u001b[35m│\u001b[39m\u001b[34m│\u001b[39m\u001b[33m│\u001b[39m\u001b[32m│\u001b[39m\u001b[35m┌ @ reduce.jl:353 \u001b[39m\u001b[0mBase.reduce_empty_iter\u001b[0m(\u001b[0mBase.MappingRF\u001b[0m(\u001b[0mf\u001b[0m, \u001b[0mop\u001b[0m)\u001b[0m, \u001b[0mitr\u001b[0m, \u001b[0mItrEltype\u001b[0m)\n",
      "\u001b[35m│\u001b[39m\u001b[34m│\u001b[39m\u001b[33m│\u001b[39m\u001b[32m│\u001b[39m\u001b[35m│\u001b[39m\u001b[34m│\u001b[39m\u001b[33m│\u001b[39m\u001b[32m│\u001b[39m\u001b[35m│\u001b[39m\u001b[34m│\u001b[39m\u001b[33m│\u001b[39m\u001b[32m│\u001b[39m\u001b[35m│\u001b[39m\u001b[34m┌ @ reduce.jl:357 \u001b[39m\u001b[0mBase.reduce_empty\u001b[0m(\u001b[0mop\u001b[0m, \u001b[0mBase.eltype\u001b[0m(\u001b[0mitr\u001b[0m)\u001b[0m)\n",
      "\u001b[35m│\u001b[39m\u001b[34m│\u001b[39m\u001b[33m│\u001b[39m\u001b[32m│\u001b[39m\u001b[35m│\u001b[39m\u001b[34m│\u001b[39m\u001b[33m│\u001b[39m\u001b[32m│\u001b[39m\u001b[35m│\u001b[39m\u001b[34m│\u001b[39m\u001b[33m│\u001b[39m\u001b[32m│\u001b[39m\u001b[35m│\u001b[39m\u001b[34m│\u001b[39m\u001b[33m┌ @ reduce.jl:331 \u001b[39m\u001b[0mBase.mapreduce_empty\u001b[0m(\u001b[0mBase.getproperty\u001b[0m(\u001b[0mop\u001b[0m, \u001b[0m:f\u001b[0m)\u001b[0m, \u001b[0mBase.getproperty\u001b[0m(\u001b[0mop\u001b[0m, \u001b[0m:rf\u001b[0m)\u001b[0m, \u001b[0m_\u001b[0m)\n",
      "\u001b[35m│\u001b[39m\u001b[34m│\u001b[39m\u001b[33m│\u001b[39m\u001b[32m│\u001b[39m\u001b[35m│\u001b[39m\u001b[34m│\u001b[39m\u001b[33m│\u001b[39m\u001b[32m│\u001b[39m\u001b[35m│\u001b[39m\u001b[34m│\u001b[39m\u001b[33m│\u001b[39m\u001b[32m│\u001b[39m\u001b[35m│\u001b[39m\u001b[34m│\u001b[39m\u001b[33m│\u001b[39m\u001b[32m┌ @ reduce.jl:345 \u001b[39m\u001b[0mBase.reduce_empty\u001b[0m(\u001b[0mop\u001b[0m, \u001b[0mT\u001b[0m)\n",
      "\u001b[35m│\u001b[39m\u001b[34m│\u001b[39m\u001b[33m│\u001b[39m\u001b[32m│\u001b[39m\u001b[35m│\u001b[39m\u001b[34m│\u001b[39m\u001b[33m│\u001b[39m\u001b[32m│\u001b[39m\u001b[35m│\u001b[39m\u001b[34m│\u001b[39m\u001b[33m│\u001b[39m\u001b[32m│\u001b[39m\u001b[35m│\u001b[39m\u001b[34m│\u001b[39m\u001b[33m│\u001b[39m\u001b[32m│\u001b[39m\u001b[35m┌ @ reduce.jl:322 \u001b[39m\u001b[0mBase.reduce_empty\u001b[0m(\u001b[0mBase.+\u001b[0m, \u001b[0m_\u001b[0m)\n",
      "\u001b[35m│\u001b[39m\u001b[34m│\u001b[39m\u001b[33m│\u001b[39m\u001b[32m│\u001b[39m\u001b[35m│\u001b[39m\u001b[34m│\u001b[39m\u001b[33m│\u001b[39m\u001b[32m│\u001b[39m\u001b[35m│\u001b[39m\u001b[34m│\u001b[39m\u001b[33m│\u001b[39m\u001b[32m│\u001b[39m\u001b[35m│\u001b[39m\u001b[34m│\u001b[39m\u001b[33m│\u001b[39m\u001b[32m│\u001b[39m\u001b[35m│\u001b[39m\u001b[34m┌ @ reduce.jl:313 \u001b[39m\u001b[0mBase.zero\u001b[0m(\u001b[0m_\u001b[0m)\n",
      "\u001b[35m│\u001b[39m\u001b[34m│\u001b[39m\u001b[33m│\u001b[39m\u001b[32m│\u001b[39m\u001b[35m│\u001b[39m\u001b[34m│\u001b[39m\u001b[33m│\u001b[39m\u001b[32m│\u001b[39m\u001b[35m│\u001b[39m\u001b[34m│\u001b[39m\u001b[33m│\u001b[39m\u001b[32m│\u001b[39m\u001b[35m│\u001b[39m\u001b[34m│\u001b[39m\u001b[33m│\u001b[39m\u001b[32m│\u001b[39m\u001b[35m│\u001b[39m\u001b[34m│\u001b[39m\u001b[91m┌ @ missing.jl:106 \u001b[39m\u001b[0mBase.throw\u001b[0m(\u001b[0mBase.MethodError\u001b[0m(\u001b[0mBase.zero\u001b[0m, \u001b[0mCore.tuple\u001b[0m(\u001b[0mBase.Any\u001b[0m)\u001b[0m)\u001b[0m)\n",
      "\u001b[35m│\u001b[39m\u001b[34m│\u001b[39m\u001b[33m│\u001b[39m\u001b[32m│\u001b[39m\u001b[35m│\u001b[39m\u001b[34m│\u001b[39m\u001b[33m│\u001b[39m\u001b[32m│\u001b[39m\u001b[35m│\u001b[39m\u001b[34m│\u001b[39m\u001b[33m│\u001b[39m\u001b[32m│\u001b[39m\u001b[35m│\u001b[39m\u001b[34m│\u001b[39m\u001b[33m│\u001b[39m\u001b[32m│\u001b[39m\u001b[35m│\u001b[39m\u001b[34m│\u001b[39m\u001b[91m│ MethodError: no method matching zero(::Type{Any})\u001b[39m\n",
      "\u001b[35m│\u001b[39m\u001b[34m│\u001b[39m\u001b[33m│\u001b[39m\u001b[32m│\u001b[39m\u001b[35m│\u001b[39m\u001b[34m│\u001b[39m\u001b[33m│\u001b[39m\u001b[32m│\u001b[39m\u001b[35m│\u001b[39m\u001b[34m│\u001b[39m\u001b[33m│\u001b[39m\u001b[32m│\u001b[39m\u001b[35m│\u001b[39m\u001b[34m│\u001b[39m\u001b[33m│\u001b[39m\u001b[32m│\u001b[39m\u001b[35m│\u001b[39m\u001b[34m│\u001b[39m\u001b[91m└──────────────────\u001b[39m\n"
     ]
    },
    {
     "output_type": "execute_result",
     "data": {
      "text/plain": [
       "(included_files = Set{String}(), nreported = 1)"
      ]
     },
     "metadata": {},
     "execution_count": 5
    }
   ],
   "metadata": {}
  },
  {
   "cell_type": "markdown",
   "source": [
    "Why does JET complain something here ?\n",
    "\n",
    "=> `argvals` is an untyped vector (i.e. `Vector{Any}`), so Julia doesn't know what `sum(argvals)` should return when it's empty."
   ],
   "metadata": {}
  },
  {
   "cell_type": "code",
   "execution_count": 6,
   "source": [
    "# JET found this error ahead of time !\n",
    "parsesum([\"twenty\", \"foo\", \"twenty-two\"])"
   ],
   "outputs": [
    {
     "output_type": "error",
     "ename": "LoadError",
     "evalue": "MethodError: no method matching zero(::Type{Any})\n\u001b[0mClosest candidates are:\n\u001b[0m  zero(::Type{Union{Missing, T}}) where T at missing.jl:105\n\u001b[0m  zero(\u001b[91m::Union{Type{P}, P}\u001b[39m) where P<:Dates.Period at /Users/aviatesk/julia/julia/usr/share/julia/stdlib/v1.8/Dates/src/periods.jl:53\n\u001b[0m  zero(\u001b[91m::T\u001b[39m) where T<:Dates.TimeType at /Users/aviatesk/julia/julia/usr/share/julia/stdlib/v1.8/Dates/src/types.jl:450\n\u001b[0m  ...",
     "traceback": [
      "MethodError: no method matching zero(::Type{Any})\n\u001b[0mClosest candidates are:\n\u001b[0m  zero(::Type{Union{Missing, T}}) where T at missing.jl:105\n\u001b[0m  zero(\u001b[91m::Union{Type{P}, P}\u001b[39m) where P<:Dates.Period at /Users/aviatesk/julia/julia/usr/share/julia/stdlib/v1.8/Dates/src/periods.jl:53\n\u001b[0m  zero(\u001b[91m::T\u001b[39m) where T<:Dates.TimeType at /Users/aviatesk/julia/julia/usr/share/julia/stdlib/v1.8/Dates/src/types.jl:450\n\u001b[0m  ...",
      "",
      "Stacktrace:",
      "  [1] zero(#unused#::Type{Any})",
      "    @ Base ./missing.jl:106",
      "  [2] reduce_empty(#unused#::typeof(+), #unused#::Type{Any})",
      "    @ Base ./reduce.jl:313",
      "  [3] reduce_empty(#unused#::typeof(Base.add_sum), #unused#::Type{Any})",
      "    @ Base ./reduce.jl:322",
      "  [4] mapreduce_empty(#unused#::typeof(identity), op::Function, T::Type)",
      "    @ Base ./reduce.jl:345",
      "  [5] reduce_empty(op::Base.MappingRF{typeof(identity), typeof(Base.add_sum)}, #unused#::Type{Any})",
      "    @ Base ./reduce.jl:331",
      "  [6] reduce_empty_iter",
      "    @ ./reduce.jl:357 [inlined]",
      "  [7] mapreduce_empty_iter(f::Function, op::Function, itr::Vector{Any}, ItrEltype::Base.HasEltype)",
      "    @ Base ./reduce.jl:353",
      "  [8] _mapreduce(f::typeof(identity), op::typeof(Base.add_sum), #unused#::IndexLinear, A::Vector{Any})",
      "    @ Base ./reduce.jl:402",
      "  [9] _mapreduce_dim",
      "    @ ./reducedim.jl:330 [inlined]",
      " [10] #mapreduce#729",
      "    @ ./reducedim.jl:322 [inlined]",
      " [11] mapreduce",
      "    @ ./reducedim.jl:322 [inlined]",
      " [12] #_sum#739",
      "    @ ./reducedim.jl:894 [inlined]",
      " [13] _sum",
      "    @ ./reducedim.jl:894 [inlined]",
      " [14] #_sum#738",
      "    @ ./reducedim.jl:893 [inlined]",
      " [15] _sum",
      "    @ ./reducedim.jl:893 [inlined]",
      " [16] #sum#736",
      "    @ ./reducedim.jl:889 [inlined]",
      " [17] sum",
      "    @ ./reducedim.jl:889 [inlined]",
      " [18] parsesum(args::Vector{String})",
      "    @ Main ./In[4]:11",
      " [19] top-level scope",
      "    @ In[6]:2",
      " [20] eval",
      "    @ ./boot.jl:373 [inlined]",
      " [21] include_string(mapexpr::typeof(REPL.softscope), mod::Module, code::String, filename::String)",
      "    @ Base ./loading.jl:1207"
     ]
    }
   ],
   "metadata": {}
  },
  {
   "cell_type": "markdown",
   "source": [
    "- JET reasons about _all the possible program executions_\n",
    "- so it can detect possible errors that test cases may not cover yet"
   ],
   "metadata": {}
  },
  {
   "cell_type": "code",
   "execution_count": 7,
   "source": [
    "@report_toplevel begin\n",
    "    function parsesum(args)\n",
    "        argvals = Float64[] # tell the compiler about the element types\n",
    "        for arg in args\n",
    "            try\n",
    "                push!(argvals, parse(Float64, arg))\n",
    "            catch\n",
    "            end\n",
    "        end\n",
    "        return sum(argvals)\n",
    "    end\n",
    "    \n",
    "    parsesum([\"twenty\", \"foo\", \"twenty-two\"])\n",
    "end"
   ],
   "outputs": [
    {
     "output_type": "stream",
     "name": "stdout",
     "text": [
      "\u001b[92mNo errors !\u001b[39m\n"
     ]
    },
    {
     "output_type": "execute_result",
     "data": {
      "text/plain": [
       "(included_files = Set{String}(), nreported = 0)"
      ]
     },
     "metadata": {},
     "execution_count": 7
    }
   ],
   "metadata": {}
  },
  {
   "cell_type": "markdown",
   "source": [
    "This feature of JET is particularly useful when you're defining a new type that implements some interfaces so that we can use it for existing generic functions."
   ],
   "metadata": {}
  },
  {
   "cell_type": "code",
   "execution_count": 8,
   "source": [
    "mutable struct Squares\n",
    "    count::Int\n",
    "end\n",
    "Base.iterate(S::Squares, s=1) =\n",
    "    s > S.count ? nothing : (s^2, s+1)\n",
    "Base.length(S::Squares) = S.count\n",
    "\n",
    "sum(Squares(10))"
   ],
   "outputs": [
    {
     "output_type": "execute_result",
     "data": {
      "text/plain": [
       "385"
      ]
     },
     "metadata": {},
     "execution_count": 8
    }
   ],
   "metadata": {}
  },
  {
   "cell_type": "markdown",
   "source": [
    "`Squares` behaves like an iterator that yields squared numbers.\n",
    "It seemingly works well for the `sum` function, but JET should tell us that it has the same problem as `parsesum`."
   ],
   "metadata": {}
  },
  {
   "cell_type": "code",
   "execution_count": 9,
   "source": [
    "@report_toplevel context=__JET_VMOD__ virtualize=false begin\n",
    "    mutable struct Squares\n",
    "        count::Int\n",
    "    end\n",
    "    Base.iterate(S::Squares, s=1) =\n",
    "        s > S.count ? nothing : (s^2, s+1)\n",
    "    Base.length(S::Squares) = S.count\n",
    "\n",
    "    sum(Squares(10))\n",
    "end"
   ],
   "outputs": [
    {
     "output_type": "stream",
     "name": "stdout",
     "text": [
      "\u001b[7m═════ 1 possible error found ═════\u001b[27m\n",
      "\u001b[35m┌ @ In[9]:9 \u001b[39m\u001b[0mMain.__JET_VMOD__.sum\u001b[0m(\u001b[0mMain.__JET_VMOD__.Squares\u001b[0m(\u001b[0m10\u001b[0m)\u001b[0m)\n",
      "\u001b[35m│\u001b[39m\u001b[34m┌ @ reduce.jl:532 \u001b[39m\u001b[0mBase.#sum#254\u001b[0m(\u001b[0mBase.pairs\u001b[0m(\u001b[0mCore.NamedTuple\u001b[0m(\u001b[0m)\u001b[0m)\u001b[0m, \u001b[0m#self#\u001b[0m, \u001b[0ma\u001b[0m)\n",
      "\u001b[35m│\u001b[39m\u001b[34m│\u001b[39m\u001b[33m┌ @ reduce.jl:532 \u001b[39m\u001b[0mBase.sum\u001b[0m(\u001b[0mBase.identity\u001b[0m, \u001b[0ma\u001b[0m)\n",
      "\u001b[35m│\u001b[39m\u001b[34m│\u001b[39m\u001b[33m│\u001b[39m\u001b[32m┌ @ reduce.jl:503 \u001b[39m\u001b[0mBase.#sum#253\u001b[0m(\u001b[0mBase.pairs\u001b[0m(\u001b[0mCore.NamedTuple\u001b[0m(\u001b[0m)\u001b[0m)\u001b[0m, \u001b[0m#self#\u001b[0m, \u001b[0mf\u001b[0m, \u001b[0ma\u001b[0m)\n",
      "\u001b[35m│\u001b[39m\u001b[34m│\u001b[39m\u001b[33m│\u001b[39m\u001b[32m│\u001b[39m\u001b[35m┌ @ reduce.jl:503 \u001b[39m\u001b[0mBase.mapreduce\u001b[0m(\u001b[0mf\u001b[0m, \u001b[0mBase.add_sum\u001b[0m, \u001b[0ma\u001b[0m)\n",
      "\u001b[35m│\u001b[39m\u001b[34m│\u001b[39m\u001b[33m│\u001b[39m\u001b[32m│\u001b[39m\u001b[35m│\u001b[39m\u001b[34m┌ @ reduce.jl:289 \u001b[39m\u001b[0mBase.#mapreduce#250\u001b[0m(\u001b[0mBase.pairs\u001b[0m(\u001b[0mCore.NamedTuple\u001b[0m(\u001b[0m)\u001b[0m)\u001b[0m, \u001b[0m#self#\u001b[0m, \u001b[0mf\u001b[0m, \u001b[0mop\u001b[0m, \u001b[0mitr\u001b[0m)\n",
      "\u001b[35m│\u001b[39m\u001b[34m│\u001b[39m\u001b[33m│\u001b[39m\u001b[32m│\u001b[39m\u001b[35m│\u001b[39m\u001b[34m│\u001b[39m\u001b[33m┌ @ reduce.jl:289 \u001b[39m\u001b[0mBase.mapfoldl\u001b[0m(\u001b[0mf\u001b[0m, \u001b[0mop\u001b[0m, \u001b[0mitr\u001b[0m)\n",
      "\u001b[35m│\u001b[39m\u001b[34m│\u001b[39m\u001b[33m│\u001b[39m\u001b[32m│\u001b[39m\u001b[35m│\u001b[39m\u001b[34m│\u001b[39m\u001b[33m│\u001b[39m\u001b[32m┌ @ reduce.jl:162 \u001b[39m\u001b[0mBase.#mapfoldl#246\u001b[0m(\u001b[0mBase._InitialValue\u001b[0m(\u001b[0m)\u001b[0m, \u001b[0m#self#\u001b[0m, \u001b[0mf\u001b[0m, \u001b[0mop\u001b[0m, \u001b[0mitr\u001b[0m)\n",
      "\u001b[35m│\u001b[39m\u001b[34m│\u001b[39m\u001b[33m│\u001b[39m\u001b[32m│\u001b[39m\u001b[35m│\u001b[39m\u001b[34m│\u001b[39m\u001b[33m│\u001b[39m\u001b[32m│\u001b[39m\u001b[35m┌ @ reduce.jl:162 \u001b[39m\u001b[0mBase.mapfoldl_impl\u001b[0m(\u001b[0mf\u001b[0m, \u001b[0mop\u001b[0m, \u001b[0minit\u001b[0m, \u001b[0mitr\u001b[0m)\n",
      "\u001b[35m│\u001b[39m\u001b[34m│\u001b[39m\u001b[33m│\u001b[39m\u001b[32m│\u001b[39m\u001b[35m│\u001b[39m\u001b[34m│\u001b[39m\u001b[33m│\u001b[39m\u001b[32m│\u001b[39m\u001b[35m│\u001b[39m\u001b[34m┌ @ reduce.jl:44 \u001b[39m\u001b[0mBase.foldl_impl\u001b[0m(\u001b[0mop′\u001b[0m, \u001b[0mnt\u001b[0m, \u001b[0mitr′\u001b[0m)\n",
      "\u001b[35m│\u001b[39m\u001b[34m│\u001b[39m\u001b[33m│\u001b[39m\u001b[32m│\u001b[39m\u001b[35m│\u001b[39m\u001b[34m│\u001b[39m\u001b[33m│\u001b[39m\u001b[32m│\u001b[39m\u001b[35m│\u001b[39m\u001b[34m│\u001b[39m\u001b[33m┌ @ reduce.jl:49 \u001b[39m\u001b[0mBase.reduce_empty_iter\u001b[0m(\u001b[0mop\u001b[0m, \u001b[0mitr\u001b[0m)\n",
      "\u001b[35m│\u001b[39m\u001b[34m│\u001b[39m\u001b[33m│\u001b[39m\u001b[32m│\u001b[39m\u001b[35m│\u001b[39m\u001b[34m│\u001b[39m\u001b[33m│\u001b[39m\u001b[32m│\u001b[39m\u001b[35m│\u001b[39m\u001b[34m│\u001b[39m\u001b[33m│\u001b[39m\u001b[32m┌ @ reduce.jl:356 \u001b[39m\u001b[0mBase.reduce_empty_iter\u001b[0m(\u001b[0mop\u001b[0m, \u001b[0mitr\u001b[0m, \u001b[0mBase.IteratorEltype\u001b[0m(\u001b[0mitr\u001b[0m)\u001b[0m)\n",
      "\u001b[35m│\u001b[39m\u001b[34m│\u001b[39m\u001b[33m│\u001b[39m\u001b[32m│\u001b[39m\u001b[35m│\u001b[39m\u001b[34m│\u001b[39m\u001b[33m│\u001b[39m\u001b[32m│\u001b[39m\u001b[35m│\u001b[39m\u001b[34m│\u001b[39m\u001b[33m│\u001b[39m\u001b[32m│\u001b[39m\u001b[35m┌ @ reduce.jl:357 \u001b[39m\u001b[0mBase.reduce_empty\u001b[0m(\u001b[0mop\u001b[0m, \u001b[0mBase.eltype\u001b[0m(\u001b[0mitr\u001b[0m)\u001b[0m)\n",
      "\u001b[35m│\u001b[39m\u001b[34m│\u001b[39m\u001b[33m│\u001b[39m\u001b[32m│\u001b[39m\u001b[35m│\u001b[39m\u001b[34m│\u001b[39m\u001b[33m│\u001b[39m\u001b[32m│\u001b[39m\u001b[35m│\u001b[39m\u001b[34m│\u001b[39m\u001b[33m│\u001b[39m\u001b[32m│\u001b[39m\u001b[35m│\u001b[39m\u001b[34m┌ @ reduce.jl:330 \u001b[39m\u001b[0mBase.reduce_empty\u001b[0m(\u001b[0mBase.getproperty\u001b[0m(\u001b[0mop\u001b[0m, \u001b[0m:rf\u001b[0m)\u001b[0m, \u001b[0m_\u001b[0m)\n",
      "\u001b[35m│\u001b[39m\u001b[34m│\u001b[39m\u001b[33m│\u001b[39m\u001b[32m│\u001b[39m\u001b[35m│\u001b[39m\u001b[34m│\u001b[39m\u001b[33m│\u001b[39m\u001b[32m│\u001b[39m\u001b[35m│\u001b[39m\u001b[34m│\u001b[39m\u001b[33m│\u001b[39m\u001b[32m│\u001b[39m\u001b[35m│\u001b[39m\u001b[34m│\u001b[39m\u001b[33m┌ @ reduce.jl:322 \u001b[39m\u001b[0mBase.reduce_empty\u001b[0m(\u001b[0mBase.+\u001b[0m, \u001b[0m_\u001b[0m)\n",
      "\u001b[35m│\u001b[39m\u001b[34m│\u001b[39m\u001b[33m│\u001b[39m\u001b[32m│\u001b[39m\u001b[35m│\u001b[39m\u001b[34m│\u001b[39m\u001b[33m│\u001b[39m\u001b[32m│\u001b[39m\u001b[35m│\u001b[39m\u001b[34m│\u001b[39m\u001b[33m│\u001b[39m\u001b[32m│\u001b[39m\u001b[35m│\u001b[39m\u001b[34m│\u001b[39m\u001b[33m│\u001b[39m\u001b[32m┌ @ reduce.jl:313 \u001b[39m\u001b[0mBase.zero\u001b[0m(\u001b[0m_\u001b[0m)\n",
      "\u001b[35m│\u001b[39m\u001b[34m│\u001b[39m\u001b[33m│\u001b[39m\u001b[32m│\u001b[39m\u001b[35m│\u001b[39m\u001b[34m│\u001b[39m\u001b[33m│\u001b[39m\u001b[32m│\u001b[39m\u001b[35m│\u001b[39m\u001b[34m│\u001b[39m\u001b[33m│\u001b[39m\u001b[32m│\u001b[39m\u001b[35m│\u001b[39m\u001b[34m│\u001b[39m\u001b[33m│\u001b[39m\u001b[32m│\u001b[39m\u001b[91m┌ @ missing.jl:106 \u001b[39m\u001b[0mBase.throw\u001b[0m(\u001b[0mBase.MethodError\u001b[0m(\u001b[0mBase.zero\u001b[0m, \u001b[0mCore.tuple\u001b[0m(\u001b[0mBase.Any\u001b[0m)\u001b[0m)\u001b[0m)\n",
      "\u001b[35m│\u001b[39m\u001b[34m│\u001b[39m\u001b[33m│\u001b[39m\u001b[32m│\u001b[39m\u001b[35m│\u001b[39m\u001b[34m│\u001b[39m\u001b[33m│\u001b[39m\u001b[32m│\u001b[39m\u001b[35m│\u001b[39m\u001b[34m│\u001b[39m\u001b[33m│\u001b[39m\u001b[32m│\u001b[39m\u001b[35m│\u001b[39m\u001b[34m│\u001b[39m\u001b[33m│\u001b[39m\u001b[32m│\u001b[39m\u001b[91m│ MethodError: no method matching zero(::Type{Any})\u001b[39m\n",
      "\u001b[35m│\u001b[39m\u001b[34m│\u001b[39m\u001b[33m│\u001b[39m\u001b[32m│\u001b[39m\u001b[35m│\u001b[39m\u001b[34m│\u001b[39m\u001b[33m│\u001b[39m\u001b[32m│\u001b[39m\u001b[35m│\u001b[39m\u001b[34m│\u001b[39m\u001b[33m│\u001b[39m\u001b[32m│\u001b[39m\u001b[35m│\u001b[39m\u001b[34m│\u001b[39m\u001b[33m│\u001b[39m\u001b[32m│\u001b[39m\u001b[91m└──────────────────\u001b[39m\n"
     ]
    },
    {
     "output_type": "execute_result",
     "data": {
      "text/plain": [
       "(included_files = Set{String}(), nreported = 1)"
      ]
     },
     "metadata": {},
     "execution_count": 9
    }
   ],
   "metadata": {}
  },
  {
   "cell_type": "markdown",
   "source": [
    "This is essentially because `Squared` actually missed to implement one more required interface;\n",
    "we can implement the `eltype` interface so that Julia can understand the return value for `sum(Squares(0))`."
   ],
   "metadata": {}
  },
  {
   "cell_type": "code",
   "execution_count": 10,
   "source": [
    "@report_toplevel context=__JET_VMOD__ virtualize=false begin\n",
    "    Base.eltype(::Squares) = Int\n",
    "\n",
    "    sum(Squares(10))\n",
    "end"
   ],
   "outputs": [
    {
     "output_type": "stream",
     "name": "stdout",
     "text": [
      "\u001b[92mNo errors !\u001b[39m\n"
     ]
    },
    {
     "output_type": "execute_result",
     "data": {
      "text/plain": [
       "(included_files = Set{String}(), nreported = 0)"
      ]
     },
     "metadata": {},
     "execution_count": 10
    }
   ],
   "metadata": {}
  },
  {
   "cell_type": "markdown",
   "source": [
    "- Julia doesn't guarantee the functionality of an input program — Julia programmers have to make sure it works by themselves\n",
    "- But test may not cover all the possible cases\n",
    "- JET can check the quality of generic code in a way that doesn't rely on runtime !"
   ],
   "metadata": {}
  },
  {
   "cell_type": "markdown",
   "source": [
    "### First-Class Metaprogramming Support"
   ],
   "metadata": {}
  },
  {
   "cell_type": "markdown",
   "source": [
    "Julia offers various forms of metaprogramming.\n",
    "\n",
    "Currently we have:\n",
    "- `eval` and macros for abstract syntax level code generation\n",
    "- `@generated` function for code generation at inference stage"
   ],
   "metadata": {}
  },
  {
   "cell_type": "markdown",
   "source": [
    "- `eval` is great for eliminating syntax-level duplications\n",
    "- Macros are great for providing simple DSLs and/or optimizations\n",
    "\n",
    "For example, let's see the code snippet below adapted from [Julia base](https://github.com/JuliaLang/julia/blob/9cf1c3a795e5ca40101ffd3670511041145a415c/base/reducedim.jl#L885-L896):\n",
    "```julia\n",
    "for (fname, _fname, op) in [(:sum,     :_sum,     :add_sum),\n",
    "                            (:prod,    :_prod,    :mul_prod),\n",
    "                            (:maximum, :_maximum, :max),\n",
    "                            (:minimum, :_minimum, :min)]\n",
    "    @eval begin\n",
    "        @inline ($fname)(a::AbstractArray; dims=:, kw...) =\n",
    "            ($_fname)(a, dims; kw...)\n",
    "        @inline ($fname)(f, a::AbstractArray; dims=:, kw...) = \n",
    "            ($_fname)(f, a, dims; kw...)\n",
    "\n",
    "        ($_fname)(a, ::Colon; kw...) = ($_fname)(identity, a, :; kw...)\n",
    "        ($_fname)(f, a, ::Colon; kw...) = mapreduce(f, $(GlobalRef(Base, op)), a; kw...)\n",
    "    end\n",
    "end\n",
    "```"
   ],
   "metadata": {}
  },
  {
   "cell_type": "markdown",
   "source": [
    "But static analyzers in general suffers from this kind of code:\n",
    "- it has to actually _execute_ a program construction that involves `eval`\n",
    "- it needs to reason on programs after macros are expanded"
   ],
   "metadata": {}
  },
  {
   "cell_type": "markdown",
   "source": [
    "JET deals with this using the technique called \"partial evaluation\".\n",
    "That is, JET selectively executes parts of input program that include \"definitions\".\n",
    "But at the same time, it won't execute the \"usages\" of those definitions, but analyze them statically instead."
   ],
   "metadata": {}
  },
  {
   "cell_type": "markdown",
   "source": [
    "Since JET's static analysis uses \"abstract interpretation\", I use \"concretization\" when referring to JET's partial evaluations of \"definitions\"."
   ],
   "metadata": {}
  },
  {
   "cell_type": "code",
   "execution_count": 11,
   "source": [
    "@report_toplevel begin\n",
    "    # JET actually evaluates this top-level code block (\"definitions\")\n",
    "    for (fname, _fname, op) in [(:sum,     :_sum,     :add_sum),\n",
    "                                (:prod,    :_prod,    :mul_prod),\n",
    "                                (:maximum, :_maximum, :max),\n",
    "                                (:minimum, :_minimum, :min)]\n",
    "        fname, _fname = Symbol.(string.(\"my\", (fname, _fname)))\n",
    "        @eval begin\n",
    "            @inline ($fname)(a::AbstractArray; dims=:, kw...) =\n",
    "                ($_fname)(a, dims; kw...)\n",
    "            @inline ($fname)(f, a::AbstractArray; dims=:, kw...) = \n",
    "                ($_fname)(f, a, dims; kw...)\n",
    "\n",
    "            ($_fname)(a, ::Colon; kw...) = ($_fname)(identity, a, :; kw...)\n",
    "            ($_fname)(f, a, ::Colon; kw...) = mapreduce(f, $(GlobalRef(Base, op)), a; kw...)\n",
    "        end\n",
    "    end\n",
    "\n",
    "    # JET analyzes these top-level calls (\"usages\")\n",
    "    mysum([0,1,2,3])\n",
    "    myprod(rand(1000000000))\n",
    "    ary = rand(1000000000)\n",
    "    mymaximum(ary)\n",
    "    myminimum(ary)\n",
    "end"
   ],
   "outputs": [
    {
     "output_type": "stream",
     "name": "stdout",
     "text": [
      "\u001b[92mNo errors !\u001b[39m\n"
     ]
    },
    {
     "output_type": "execute_result",
     "data": {
      "text/plain": [
       "(included_files = Set{String}(), nreported = 0)"
      ]
     },
     "metadata": {},
     "execution_count": 11
    }
   ],
   "metadata": {}
  },
  {
   "cell_type": "markdown",
   "source": [
    "Similarly, macros are fully supported. JET understands macro definitions, and expand all the macro calls appearing within input program."
   ],
   "metadata": {}
  },
  {
   "cell_type": "code",
   "execution_count": 12,
   "source": [
    "@report_toplevel begin\n",
    "    macro defv(v)\n",
    "        return :(global v = $v)\n",
    "    end\n",
    "\n",
    "    @defv 1000\n",
    "    println(v)\n",
    "end"
   ],
   "outputs": [
    {
     "output_type": "stream",
     "name": "stdout",
     "text": [
      "\u001b[92mNo errors !\u001b[39m\n"
     ]
    },
    {
     "output_type": "execute_result",
     "data": {
      "text/plain": [
       "(included_files = Set{String}(), nreported = 0)"
      ]
     },
     "metadata": {},
     "execution_count": 12
    }
   ],
   "metadata": {}
  },
  {
   "cell_type": "markdown",
   "source": [
    "Caveat: so JET isn't \"safe\" – it's not fully static and its analysis involves actual program execution of user code.\n",
    "So for example, if a macro expansion never terminates, JET's analysis also never terminates.\n",
    "\n",
    "```julia\n",
    "# this analysis won't terminate until 10000 seconds elapsed ...\n",
    "@report_toplevel begin\n",
    "    macro defv(v)\n",
    "        sleep(10000)\n",
    "        return :(global v = $v)\n",
    "    end\n",
    "\n",
    "    @defv 1000\n",
    "    println(v)\n",
    "end\n",
    "```"
   ],
   "metadata": {}
  },
  {
   "cell_type": "markdown",
   "source": [
    "If an error happened during concretization, JET simply reports the error that actually happened."
   ],
   "metadata": {}
  },
  {
   "cell_type": "code",
   "execution_count": 13,
   "source": [
    "@report_toplevel begin\n",
    "    macro badshow(v)\n",
    "        :(@show v) # we forgot to quote `v` !\n",
    "    end\n",
    "    \n",
    "    @badshow sin(10)\n",
    "end"
   ],
   "outputs": [
    {
     "output_type": "stream",
     "name": "stdout",
     "text": [
      "\u001b[7m═════ 1 possible error found ═════\u001b[27m\n",
      "\u001b[91m┌ @ show.jl:1040 \u001b[39m\u001b[0mv\n",
      "\u001b[91m│ variable v is not defined: \u001b[39m\u001b[0m\u001b[1mv\u001b[22m\n",
      "\u001b[91m└────────────────\u001b[39m\n"
     ]
    },
    {
     "output_type": "execute_result",
     "data": {
      "text/plain": [
       "(included_files = Set{String}(), nreported = 1)"
      ]
     },
     "metadata": {},
     "execution_count": 13
    }
   ],
   "metadata": {}
  },
  {
   "cell_type": "markdown",
   "source": [
    "- `@generated` allows us to intervene into inference, do some code generation using type information\n",
    "- it's used for advanced optimizations, or customized code execution (e.g. autodiff)"
   ],
   "metadata": {}
  },
  {
   "cell_type": "markdown",
   "source": [
    "An example usage adapted from [Julia base](https://github.com/JuliaLang/julia/blob/018977209bb4fd707ec61c59dfd31860abaa6717/base/namedtuple.jl#L253):\n",
    "```julia\n",
    "@generated function merge(a::NamedTuple{an}, b::NamedTuple{bn}) where {an, bn}\n",
    "    names = Base.merge_names(an, bn)\n",
    "    types = Base.merge_types(names, a, b)\n",
    "    vals = Any[ \n",
    "    :(getfield($(Base.sym_in(names[n], bn) ? :b : :a),\n",
    "               $(QuoteNode(names[n])))) \n",
    "    for n in 1:length(names)]\n",
    "        return :( NamedTuple{$names,$types}(($(vals...),)) )\n",
    "    end\n",
    "end\n",
    "```"
   ],
   "metadata": {}
  },
  {
   "cell_type": "markdown",
   "source": [
    "But staged programming (rather, metaprogramming in general) is very tricky.\n",
    "For instance, if we've forgot to add `QuoteNode` within the `merge` function, then it simply doesn't work:"
   ],
   "metadata": {}
  },
  {
   "cell_type": "code",
   "execution_count": 14,
   "source": [
    "@generated function merge(a::NamedTuple{an}, b::NamedTuple{bn}) where {an, bn}\n",
    "    names = Base.merge_names(an, bn)\n",
    "    types = Base.merge_types(names, a, b)\n",
    "    vals = Any[ \n",
    "        :(getfield($(Base.sym_in(names[n], bn) ? :b : :a),\n",
    "                   $(names[n]))) # we forgot to quote these names !\n",
    "        for n in 1:length(names)]\n",
    "    return :( NamedTuple{$names,$types}(($(vals...),)) )\n",
    "end\n",
    "\n",
    "merge((; a = 10), (; a = 2, b = 10))"
   ],
   "outputs": [
    {
     "output_type": "error",
     "ename": "LoadError",
     "evalue": "TypeError: in getfield, expected Symbol, got a value of type NamedTuple{(:a,), Tuple{Int64}}",
     "traceback": [
      "TypeError: in getfield, expected Symbol, got a value of type NamedTuple{(:a,), Tuple{Int64}}",
      "",
      "Stacktrace:",
      " [1] macro expansion",
      "   @ ./In[14]:0 [inlined]",
      " [2] merge(a::NamedTuple{(:a,), Tuple{Int64}}, b::NamedTuple{(:a, :b), Tuple{Int64, Int64}})",
      "   @ Main ./In[14]:1",
      " [3] top-level scope",
      "   @ In[14]:11",
      " [4] eval",
      "   @ ./boot.jl:373 [inlined]",
      " [5] include_string(mapexpr::typeof(REPL.softscope), mod::Module, code::String, filename::String)",
      "   @ Base ./loading.jl:1207"
     ]
    }
   ],
   "metadata": {}
  },
  {
   "cell_type": "markdown",
   "source": [
    "JET reuses Julia's native type inference, so it can also perfectly reason about `@generated` functions and detect possible errors within them !"
   ],
   "metadata": {}
  },
  {
   "cell_type": "code",
   "execution_count": 15,
   "source": [
    "@report_toplevel begin\n",
    "    @generated function merge(a::NamedTuple{an}, b::NamedTuple{bn}) where {an, bn}\n",
    "        names = Base.merge_names(an, bn)\n",
    "        types = Base.merge_types(names, a, b)\n",
    "        vals = Any[ \n",
    "            :(getfield($(Base.sym_in(names[n], bn) ? :b : :a),\n",
    "                       $(names[n])))\n",
    "            for n in 1:length(names)]\n",
    "        return :( NamedTuple{$names,$types}(($(vals...),)) )\n",
    "    end\n",
    "    \n",
    "    merge((; a = 10), (; a = 2, b = 10))\n",
    "end"
   ],
   "outputs": [
    {
     "output_type": "stream",
     "name": "stdout",
     "text": [
      "\u001b[7m═════ 1 possible error found ═════\u001b[27m\n",
      "\u001b[35m┌ @ In[15]:12 \u001b[39m\u001b[0mmerge\u001b[0m(\u001b[0mCore.apply_type\u001b[0m(\u001b[0mCore.NamedTuple\u001b[0m, \u001b[0mCore.tuple\u001b[0m(\u001b[0m:a\u001b[0m)\u001b[0m)\u001b[0m(\u001b[0mCore.tuple\u001b[0m(\u001b[0m10\u001b[0m)\u001b[0m)\u001b[0m, \u001b[0mCore.apply_type\u001b[0m(\u001b[0mCore.NamedTuple\u001b[0m, \u001b[0mCore.tuple\u001b[0m(\u001b[0m:a\u001b[0m, \u001b[0m:b\u001b[0m)\u001b[0m)\u001b[0m(\u001b[0mCore.tuple\u001b[0m(\u001b[0m2\u001b[0m, \u001b[0m10\u001b[0m)\u001b[0m)\u001b[0m)\n",
      "\u001b[35m│\u001b[39m\u001b[91m┌ @ In[15]:0 \u001b[39m\u001b[0mgetfield\u001b[0m(\u001b[0mb\u001b[0m, \u001b[0ma\u001b[0m)\n",
      "\u001b[35m│\u001b[39m\u001b[91m│ invalid builtin function call: \u001b[39m\u001b[0m\u001b[1mgetfield\u001b[22m\u001b[0m\u001b[1m(\u001b[22m\u001b[0m\u001b[1mb\u001b[22m\u001b[96m\u001b[1m::NamedTuple{(:a, :b), Tuple{Int64, Int64}}\u001b[22m\u001b[39m\u001b[0m\u001b[1m, \u001b[22m\u001b[0m\u001b[1ma\u001b[22m\u001b[96m\u001b[1m::NamedTuple{(:a,), Tuple{Int64}}\u001b[22m\u001b[39m\u001b[0m\u001b[1m)\u001b[22m\n",
      "\u001b[35m│\u001b[39m\u001b[91m└────────────\u001b[39m\n"
     ]
    },
    {
     "output_type": "execute_result",
     "data": {
      "text/plain": [
       "(included_files = Set{String}(), nreported = 1)"
      ]
     },
     "metadata": {},
     "execution_count": 15
    }
   ],
   "metadata": {}
  },
  {
   "cell_type": "markdown",
   "source": [
    "- Metaprogramming is one of the most important features of Julia, and it enables extreme expressivity of Julia\n",
    "- Metaprogramming is tricky and can be a nest of bugs – but static analyzer in general suffers from it\n",
    "- JET's partial concretization allows it to analyze Julia programs effectively no matter how heavily they uses metaprogramming features !"
   ],
   "metadata": {}
  },
  {
   "cell_type": "markdown",
   "source": [
    "### Entry Points\n",
    "\n",
    "- `report_file(\"path/to/file\")`: analyzes a script (it's supposed to include both \"definitions\" and \"usages\")\n",
    "- `report_package(\"package_name\")`: analyzers a package (it's okay if it only includes \"usages\")\n",
    "- `report_call(f, argtypes)` / `@report_call f(args...)`: analyzes a generic function call (similar to `code_typed` and its family, and very handy for interactive analysis)"
   ],
   "metadata": {}
  },
  {
   "cell_type": "code",
   "execution_count": 16,
   "source": [
    "@report_call sum(\"julia\") # equivalent to report_call(sum, (String,))"
   ],
   "outputs": [
    {
     "output_type": "stream",
     "name": "stdout",
     "text": [
      "\u001b[7m═════ 2 possible errors found ═════\u001b[27m\n",
      "\u001b[35m┌ @ reduce.jl:532 \u001b[39m\u001b[0mBase.#sum#254\u001b[0m(\u001b[0mBase.pairs\u001b[0m(\u001b[0mCore.NamedTuple\u001b[0m(\u001b[0m)\u001b[0m)\u001b[0m, \u001b[0m#self#\u001b[0m, \u001b[0ma\u001b[0m)\n",
      "\u001b[35m│\u001b[39m\u001b[34m┌ @ reduce.jl:532 \u001b[39m\u001b[0mBase.sum\u001b[0m(\u001b[0mBase.identity\u001b[0m, \u001b[0ma\u001b[0m)\n",
      "\u001b[35m│\u001b[39m\u001b[34m│\u001b[39m\u001b[33m┌ @ reduce.jl:503 \u001b[39m\u001b[0mBase.#sum#253\u001b[0m(\u001b[0mBase.pairs\u001b[0m(\u001b[0mCore.NamedTuple\u001b[0m(\u001b[0m)\u001b[0m)\u001b[0m, \u001b[0m#self#\u001b[0m, \u001b[0mf\u001b[0m, \u001b[0ma\u001b[0m)\n",
      "\u001b[35m│\u001b[39m\u001b[34m│\u001b[39m\u001b[33m│\u001b[39m\u001b[32m┌ @ reduce.jl:503 \u001b[39m\u001b[0mBase.mapreduce\u001b[0m(\u001b[0mf\u001b[0m, \u001b[0mBase.add_sum\u001b[0m, \u001b[0ma\u001b[0m)\n",
      "\u001b[35m│\u001b[39m\u001b[34m│\u001b[39m\u001b[33m│\u001b[39m\u001b[32m│\u001b[39m\u001b[35m┌ @ reduce.jl:289 \u001b[39m\u001b[0mBase.#mapreduce#250\u001b[0m(\u001b[0mBase.pairs\u001b[0m(\u001b[0mCore.NamedTuple\u001b[0m(\u001b[0m)\u001b[0m)\u001b[0m, \u001b[0m#self#\u001b[0m, \u001b[0mf\u001b[0m, \u001b[0mop\u001b[0m, \u001b[0mitr\u001b[0m)\n",
      "\u001b[35m│\u001b[39m\u001b[34m│\u001b[39m\u001b[33m│\u001b[39m\u001b[32m│\u001b[39m\u001b[35m│\u001b[39m\u001b[34m┌ @ reduce.jl:289 \u001b[39m\u001b[0mBase.mapfoldl\u001b[0m(\u001b[0mf\u001b[0m, \u001b[0mop\u001b[0m, \u001b[0mitr\u001b[0m)\n",
      "\u001b[35m│\u001b[39m\u001b[34m│\u001b[39m\u001b[33m│\u001b[39m\u001b[32m│\u001b[39m\u001b[35m│\u001b[39m\u001b[34m│\u001b[39m\u001b[33m┌ @ reduce.jl:162 \u001b[39m\u001b[0mBase.#mapfoldl#246\u001b[0m(\u001b[0mBase._InitialValue\u001b[0m(\u001b[0m)\u001b[0m, \u001b[0m#self#\u001b[0m, \u001b[0mf\u001b[0m, \u001b[0mop\u001b[0m, \u001b[0mitr\u001b[0m)\n",
      "\u001b[35m│\u001b[39m\u001b[34m│\u001b[39m\u001b[33m│\u001b[39m\u001b[32m│\u001b[39m\u001b[35m│\u001b[39m\u001b[34m│\u001b[39m\u001b[33m│\u001b[39m\u001b[32m┌ @ reduce.jl:162 \u001b[39m\u001b[0mBase.mapfoldl_impl\u001b[0m(\u001b[0mf\u001b[0m, \u001b[0mop\u001b[0m, \u001b[0minit\u001b[0m, \u001b[0mitr\u001b[0m)\n",
      "\u001b[35m│\u001b[39m\u001b[34m│\u001b[39m\u001b[33m│\u001b[39m\u001b[32m│\u001b[39m\u001b[35m│\u001b[39m\u001b[34m│\u001b[39m\u001b[33m│\u001b[39m\u001b[32m│\u001b[39m\u001b[35m┌ @ reduce.jl:44 \u001b[39m\u001b[0mBase.foldl_impl\u001b[0m(\u001b[0mop′\u001b[0m, \u001b[0mnt\u001b[0m, \u001b[0mitr′\u001b[0m)\n",
      "\u001b[35m│\u001b[39m\u001b[34m│\u001b[39m\u001b[33m│\u001b[39m\u001b[32m│\u001b[39m\u001b[35m│\u001b[39m\u001b[34m│\u001b[39m\u001b[33m│\u001b[39m\u001b[32m│\u001b[39m\u001b[35m│\u001b[39m\u001b[34m┌ @ reduce.jl:48 \u001b[39m\u001b[0mBase._foldl_impl\u001b[0m(\u001b[0mop\u001b[0m, \u001b[0mnt\u001b[0m, \u001b[0mitr\u001b[0m)\n",
      "\u001b[35m│\u001b[39m\u001b[34m│\u001b[39m\u001b[33m│\u001b[39m\u001b[32m│\u001b[39m\u001b[35m│\u001b[39m\u001b[34m│\u001b[39m\u001b[33m│\u001b[39m\u001b[32m│\u001b[39m\u001b[35m│\u001b[39m\u001b[34m│\u001b[39m\u001b[33m┌ @ reduce.jl:62 \u001b[39m\u001b[0mop\u001b[0m(\u001b[0mv\u001b[0m, \u001b[0mBase.getindex\u001b[0m(\u001b[0my\u001b[0m, \u001b[0m1\u001b[0m)\u001b[0m)\n",
      "\u001b[35m│\u001b[39m\u001b[34m│\u001b[39m\u001b[33m│\u001b[39m\u001b[32m│\u001b[39m\u001b[35m│\u001b[39m\u001b[34m│\u001b[39m\u001b[33m│\u001b[39m\u001b[32m│\u001b[39m\u001b[35m│\u001b[39m\u001b[34m│\u001b[39m\u001b[33m│\u001b[39m\u001b[32m┌ @ reduce.jl:81 \u001b[39m\u001b[0mBase.getproperty\u001b[0m(\u001b[0mop\u001b[0m, \u001b[0m:rf\u001b[0m)\u001b[0m(\u001b[0macc\u001b[0m, \u001b[0mx\u001b[0m)\n",
      "\u001b[35m│\u001b[39m\u001b[34m│\u001b[39m\u001b[33m│\u001b[39m\u001b[32m│\u001b[39m\u001b[35m│\u001b[39m\u001b[34m│\u001b[39m\u001b[33m│\u001b[39m\u001b[32m│\u001b[39m\u001b[35m│\u001b[39m\u001b[34m│\u001b[39m\u001b[33m│\u001b[39m\u001b[32m│\u001b[39m\u001b[91m┌ @ reduce.jl:24 \u001b[39m\u001b[0mBase.+\u001b[0m(\u001b[0mx\u001b[0m, \u001b[0my\u001b[0m)\n",
      "\u001b[35m│\u001b[39m\u001b[34m│\u001b[39m\u001b[33m│\u001b[39m\u001b[32m│\u001b[39m\u001b[35m│\u001b[39m\u001b[34m│\u001b[39m\u001b[33m│\u001b[39m\u001b[32m│\u001b[39m\u001b[35m│\u001b[39m\u001b[34m│\u001b[39m\u001b[33m│\u001b[39m\u001b[32m│\u001b[39m\u001b[91m│ no matching method found for call signature (Tuple{typeof(+), Char, Char}): \u001b[39m\u001b[0m\u001b[1mBase.+\u001b[22m\u001b[0m\u001b[1m(\u001b[22m\u001b[0m\u001b[1mx\u001b[22m\u001b[96m\u001b[1m::Char\u001b[22m\u001b[39m\u001b[0m\u001b[1m, \u001b[22m\u001b[0m\u001b[1my\u001b[22m\u001b[96m\u001b[1m::Char\u001b[22m\u001b[39m\u001b[0m\u001b[1m)\u001b[22m\n",
      "\u001b[35m│\u001b[39m\u001b[34m│\u001b[39m\u001b[33m│\u001b[39m\u001b[32m│\u001b[39m\u001b[35m│\u001b[39m\u001b[34m│\u001b[39m\u001b[33m│\u001b[39m\u001b[32m│\u001b[39m\u001b[35m│\u001b[39m\u001b[34m│\u001b[39m\u001b[33m│\u001b[39m\u001b[32m│\u001b[39m\u001b[91m└────────────────\u001b[39m\n",
      "\u001b[35m│\u001b[39m\u001b[34m│\u001b[39m\u001b[33m│\u001b[39m\u001b[32m│\u001b[39m\u001b[35m│\u001b[39m\u001b[34m│\u001b[39m\u001b[33m│\u001b[39m\u001b[32m│\u001b[39m\u001b[35m│\u001b[39m\u001b[34m┌ @ reduce.jl:49 \u001b[39m\u001b[0mBase.reduce_empty_iter\u001b[0m(\u001b[0mop\u001b[0m, \u001b[0mitr\u001b[0m)\n",
      "\u001b[35m│\u001b[39m\u001b[34m│\u001b[39m\u001b[33m│\u001b[39m\u001b[32m│\u001b[39m\u001b[35m│\u001b[39m\u001b[34m│\u001b[39m\u001b[33m│\u001b[39m\u001b[32m│\u001b[39m\u001b[35m│\u001b[39m\u001b[34m│\u001b[39m\u001b[33m┌ @ reduce.jl:356 \u001b[39m\u001b[0mBase.reduce_empty_iter\u001b[0m(\u001b[0mop\u001b[0m, \u001b[0mitr\u001b[0m, \u001b[0mBase.IteratorEltype\u001b[0m(\u001b[0mitr\u001b[0m)\u001b[0m)\n",
      "\u001b[35m│\u001b[39m\u001b[34m│\u001b[39m\u001b[33m│\u001b[39m\u001b[32m│\u001b[39m\u001b[35m│\u001b[39m\u001b[34m│\u001b[39m\u001b[33m│\u001b[39m\u001b[32m│\u001b[39m\u001b[35m│\u001b[39m\u001b[34m│\u001b[39m\u001b[33m│\u001b[39m\u001b[32m┌ @ reduce.jl:357 \u001b[39m\u001b[0mBase.reduce_empty\u001b[0m(\u001b[0mop\u001b[0m, \u001b[0mBase.eltype\u001b[0m(\u001b[0mitr\u001b[0m)\u001b[0m)\n",
      "\u001b[35m│\u001b[39m\u001b[34m│\u001b[39m\u001b[33m│\u001b[39m\u001b[32m│\u001b[39m\u001b[35m│\u001b[39m\u001b[34m│\u001b[39m\u001b[33m│\u001b[39m\u001b[32m│\u001b[39m\u001b[35m│\u001b[39m\u001b[34m│\u001b[39m\u001b[33m│\u001b[39m\u001b[32m│\u001b[39m\u001b[35m┌ @ reduce.jl:330 \u001b[39m\u001b[0mBase.reduce_empty\u001b[0m(\u001b[0mBase.getproperty\u001b[0m(\u001b[0mop\u001b[0m, \u001b[0m:rf\u001b[0m)\u001b[0m, \u001b[0m_\u001b[0m)\n",
      "\u001b[35m│\u001b[39m\u001b[34m│\u001b[39m\u001b[33m│\u001b[39m\u001b[32m│\u001b[39m\u001b[35m│\u001b[39m\u001b[34m│\u001b[39m\u001b[33m│\u001b[39m\u001b[32m│\u001b[39m\u001b[35m│\u001b[39m\u001b[34m│\u001b[39m\u001b[33m│\u001b[39m\u001b[32m│\u001b[39m\u001b[35m│\u001b[39m\u001b[34m┌ @ reduce.jl:322 \u001b[39m\u001b[0mBase.reduce_empty\u001b[0m(\u001b[0mBase.+\u001b[0m, \u001b[0m_\u001b[0m)\n",
      "\u001b[35m│\u001b[39m\u001b[34m│\u001b[39m\u001b[33m│\u001b[39m\u001b[32m│\u001b[39m\u001b[35m│\u001b[39m\u001b[34m│\u001b[39m\u001b[33m│\u001b[39m\u001b[32m│\u001b[39m\u001b[35m│\u001b[39m\u001b[34m│\u001b[39m\u001b[33m│\u001b[39m\u001b[32m│\u001b[39m\u001b[35m│\u001b[39m\u001b[34m│\u001b[39m\u001b[91m┌ @ reduce.jl:313 \u001b[39m\u001b[0mBase.zero\u001b[0m(\u001b[0m_\u001b[0m)\n",
      "\u001b[35m│\u001b[39m\u001b[34m│\u001b[39m\u001b[33m│\u001b[39m\u001b[32m│\u001b[39m\u001b[35m│\u001b[39m\u001b[34m│\u001b[39m\u001b[33m│\u001b[39m\u001b[32m│\u001b[39m\u001b[35m│\u001b[39m\u001b[34m│\u001b[39m\u001b[33m│\u001b[39m\u001b[32m│\u001b[39m\u001b[35m│\u001b[39m\u001b[34m│\u001b[39m\u001b[91m│ no matching method found for call signature (Tuple{typeof(zero), Type{Char}}): \u001b[39m\u001b[0m\u001b[1mBase.zero\u001b[22m\u001b[0m\u001b[1m(\u001b[22m\u001b[0m\u001b[1m_\u001b[22m\u001b[96m\u001b[1m::Type{Char}\u001b[22m\u001b[39m\u001b[0m\u001b[1m)\u001b[22m\n",
      "\u001b[35m│\u001b[39m\u001b[34m│\u001b[39m\u001b[33m│\u001b[39m\u001b[32m│\u001b[39m\u001b[35m│\u001b[39m\u001b[34m│\u001b[39m\u001b[33m│\u001b[39m\u001b[32m│\u001b[39m\u001b[35m│\u001b[39m\u001b[34m│\u001b[39m\u001b[33m│\u001b[39m\u001b[32m│\u001b[39m\u001b[35m│\u001b[39m\u001b[34m│\u001b[39m\u001b[91m└─────────────────\u001b[39m\n"
     ]
    },
    {
     "output_type": "execute_result",
     "data": {
      "text/plain": [
       "(Char, 2)"
      ]
     },
     "metadata": {},
     "execution_count": 16
    }
   ],
   "metadata": {}
  },
  {
   "cell_type": "markdown",
   "source": [
    "## JET on Real-world Package"
   ],
   "metadata": {}
  },
  {
   "cell_type": "markdown",
   "source": [
    "Now let's run JET on a package in the wild.\n",
    "\n",
    "In this workshop I will take [MacroTools.jl](https://github.com/FluxML/MacroTools.jl) as the target.\n",
    "This is a very useful package for developing complex macros or general manipulations of Julia AST.\n",
    "And it's also very important for the ecosystem – there are more than [1000 direct/indirect dependents](https://juliahub.com/ui/Packages/MacroTools/38lnR/0.5.6?t=2) of the package !"
   ],
   "metadata": {}
  },
  {
   "cell_type": "markdown",
   "source": [
    "We will use the `report_package` entry to analyze a package:\n",
    "- it tries to find a package in the active environment, and then analyzes its code base\n",
    "- after collecting \"definitions\", JET enters analysis from the \"stub usages\" using the signatures of methods (so there is no need for test cases)"
   ],
   "metadata": {}
  },
  {
   "cell_type": "code",
   "execution_count": 18,
   "source": [
    "using Pkg\n",
    "\n",
    "Pkg.develop(\"MacroTools\")\n",
    "\n",
    "let back = pwd()\n",
    "    try \n",
    "        path = Base.find_package(\"MacroTools\")\n",
    "        cd(dirname(dirname(path)))\n",
    "        run(`git checkout -b juliacon fef1c6fab11f30d6ae1c1fff6c42be49ccef5d10`)\n",
    "    catch err\n",
    "        @warn \"please manually checkout to fef1c6fab11f30d6ae1c1fff6c42be49ccef5d10\"\n",
    "        throw(err)\n",
    "    finally\n",
    "        cd(back)\n",
    "    end\n",
    "end"
   ],
   "outputs": [
    {
     "output_type": "stream",
     "name": "stderr",
     "text": [
      "\u001b[32m\u001b[1m   Resolving\u001b[22m\u001b[39m package versions...\n",
      "\u001b[32m\u001b[1m  No Changes\u001b[22m\u001b[39m to `~/julia/juliacon2021/workshop/Project.toml`\n",
      "\u001b[32m\u001b[1m  No Changes\u001b[22m\u001b[39m to `~/julia/juliacon2021/workshop/Manifest.toml`\n",
      "Switched to a new branch 'juliacon'\n"
     ]
    },
    {
     "output_type": "execute_result",
     "data": {
      "text/plain": [
       "Process(`\u001b[4mgit\u001b[24m \u001b[4mcheckout\u001b[24m \u001b[4m-b\u001b[24m \u001b[4mjuliacon\u001b[24m \u001b[4mfef1c6fab11f30d6ae1c1fff6c42be49ccef5d10\u001b[24m`, ProcessExited(0))"
      ]
     },
     "metadata": {},
     "execution_count": 18
    }
   ],
   "metadata": {}
  },
  {
   "cell_type": "code",
   "execution_count": 19,
   "source": [
    "report_package(\"MacroTools\")"
   ],
   "outputs": [
    {
     "output_type": "stream",
     "name": "stdout",
     "text": [
      "[toplevel-info] applied JET configurations in /Users/aviatesk/julia/packages/.JET.toml\n",
      "[toplevel-info] virtualized the context of Main (took 0.006 sec)\n",
      "[toplevel-info] entered into /Users/aviatesk/julia/packages/MacroTools/src/MacroTools.jl\n",
      "[toplevel-info] entered into /Users/aviatesk/julia/packages/MacroTools/src/match/match.jl\n",
      "[toplevel-info]  exited from /Users/aviatesk/julia/packages/MacroTools/src/match/match.jl (took 0.047 sec)\n",
      "[toplevel-info] entered into /Users/aviatesk/julia/packages/MacroTools/src/match/types.jl\n",
      "[toplevel-info]  exited from /Users/aviatesk/julia/packages/MacroTools/src/match/types.jl (took 0.017 sec)\n",
      "[toplevel-info] entered into /Users/aviatesk/julia/packages/MacroTools/src/match/union.jl\n",
      "[toplevel-info]  exited from /Users/aviatesk/julia/packages/MacroTools/src/match/union.jl (took 0.01 sec)\n",
      "[toplevel-info] entered into /Users/aviatesk/julia/packages/MacroTools/src/match/macro.jl\n",
      "[toplevel-info]  exited from /Users/aviatesk/julia/packages/MacroTools/src/match/macro.jl (took 0.05 sec)\n",
      "[toplevel-info] entered into /Users/aviatesk/julia/packages/MacroTools/src/utils.jl\n",
      "[toplevel-info]  exited from /Users/aviatesk/julia/packages/MacroTools/src/utils.jl (took 3.511 sec)\n",
      "[toplevel-info] entered into /Users/aviatesk/julia/packages/MacroTools/src/structdef.jl\n",
      "[toplevel-info]  exited from /Users/aviatesk/julia/packages/MacroTools/src/structdef.jl (took 0.183 sec)\n",
      "[toplevel-info] entered into /Users/aviatesk/julia/packages/MacroTools/src/examples/destruct.jl\n",
      "[toplevel-info]  exited from /Users/aviatesk/julia/packages/MacroTools/src/examples/destruct.jl (took 0.041 sec)\n",
      "[toplevel-info] entered into /Users/aviatesk/julia/packages/MacroTools/src/examples/threading.jl\n",
      "[toplevel-info]  exited from /Users/aviatesk/julia/packages/MacroTools/src/examples/threading.jl (took 0.15 sec)\n",
      "[toplevel-info] entered into /Users/aviatesk/julia/packages/MacroTools/src/examples/forward.jl\n",
      "[toplevel-info]  exited from /Users/aviatesk/julia/packages/MacroTools/src/examples/forward.jl (took 0.078 sec)\n",
      "[toplevel-info]  exited from /Users/aviatesk/julia/packages/MacroTools/src/MacroTools.jl (took 4.462 sec)\n",
      "[toplevel-info] analyzing from top-level definitions ... 156/156\n",
      "\u001b[7m═════ 11 possible errors found ═════\u001b[27m\n",
      "\u001b[35m┌ @ /Users/aviatesk/julia/packages/MacroTools/src/match/match.jl:27 \u001b[39m\u001b[0mBase.getproperty\u001b[0m(\u001b[0mBase.getproperty\u001b[0m(\u001b[0mMacroTools.Base\u001b[0m, \u001b[0m:match\u001b[96m::Symbol\u001b[39m\u001b[0m)\u001b[96m::typeof(match)\u001b[39m\u001b[0m(\u001b[0mr\"^@?(.*?)_+(_str)?$\"\u001b[0m, \u001b[0mMacroTools.string\u001b[0m(\u001b[0ms\u001b[96m::Symbol\u001b[39m\u001b[0m)\u001b[96m::String\u001b[39m\u001b[0m)\u001b[96m::Union{Nothing, RegexMatch}\u001b[39m\u001b[0m, \u001b[0m:captures\u001b[96m::Symbol\u001b[39m\u001b[0m)\n",
      "\u001b[35m│\u001b[39m\u001b[91m┌ @ Base.jl:42 \u001b[39m\u001b[0mBase.getfield\u001b[0m(\u001b[0mx\u001b[96m::Nothing\u001b[39m\u001b[0m, \u001b[0mf\u001b[96m::Symbol\u001b[39m\u001b[0m)\n",
      "\u001b[35m│\u001b[39m\u001b[91m│ type Nothing has no field captures\u001b[39m\n",
      "\u001b[35m│\u001b[39m\u001b[91m└──────────────\u001b[39m\n",
      "\u001b[35m┌ @ /Users/aviatesk/julia/packages/MacroTools/src/match/types.jl:20 \u001b[39m\u001b[0mMacroTools.map\u001b[0m(\u001b[0mMacroTools.totype\u001b[0m, \u001b[0mts\u001b[96m::Vector{Symbol}\u001b[39m\u001b[0m)\n",
      "\u001b[35m│\u001b[39m\u001b[34m┌ @ abstractarray.jl:2853 \u001b[39m\u001b[0mBase.collect_similar\u001b[0m(\u001b[0mA\u001b[96m::Vector{Symbol}\u001b[39m\u001b[0m, \u001b[0mBase.Generator\u001b[0m(\u001b[0mf\u001b[96m::typeof(MacroTools.totype)\u001b[39m\u001b[0m, \u001b[0mA\u001b[96m::Vector{Symbol}\u001b[39m\u001b[0m)\u001b[96m::Base.Generator{Vector{Symbol}, typeof(MacroTools.totype)}\u001b[39m\u001b[0m)\n",
      "\u001b[35m│\u001b[39m\u001b[34m│\u001b[39m\u001b[33m┌ @ array.jl:698 \u001b[39m\u001b[0mBase._collect\u001b[0m(\u001b[0mcont\u001b[96m::Vector{Symbol}\u001b[39m\u001b[0m, \u001b[0mitr\u001b[96m::Base.Generator{Vector{Symbol}, typeof(MacroTools.totype)}\u001b[39m\u001b[0m, \u001b[0mBase.IteratorEltype\u001b[0m(\u001b[0mitr\u001b[96m::Base.Generator{Vector{Symbol}, typeof(MacroTools.totype)}\u001b[39m\u001b[0m)\u001b[96m::Base.EltypeUnknown\u001b[39m\u001b[0m, \u001b[0mBase.IteratorSize\u001b[0m(\u001b[0mitr\u001b[96m::Base.Generator{Vector{Symbol}, typeof(MacroTools.totype)}\u001b[39m\u001b[0m)\u001b[96m::Base.HasShape{1}\u001b[39m\u001b[0m)\n",
      "\u001b[35m│\u001b[39m\u001b[34m│\u001b[39m\u001b[33m│\u001b[39m\u001b[32m┌ @ array.jl:788 \u001b[39m\u001b[0mBase.collect_to_with_first!\u001b[0m(\u001b[0mBase._similar_for\u001b[0m(\u001b[0mc\u001b[96m::Vector{Symbol}\u001b[39m\u001b[0m, \u001b[0mBase.typeof\u001b[0m(\u001b[0mv1\u001b[96m::Union{Expr, Symbol}\u001b[39m\u001b[0m)\u001b[96m::Union{Type{Expr}, Type{Symbol}}\u001b[39m\u001b[0m, \u001b[0mitr\u001b[96m::Base.Generator{Vector{Symbol}, typeof(MacroTools.totype)}\u001b[39m\u001b[0m, \u001b[0misz\u001b[96m::Base.HasShape{1}\u001b[39m\u001b[0m)\u001b[96m::Union{Vector{Expr}, Vector{Symbol}}\u001b[39m\u001b[0m, \u001b[0mv1\u001b[96m::Union{Expr, Symbol}\u001b[39m\u001b[0m, \u001b[0mitr\u001b[96m::Base.Generator{Vector{Symbol}, typeof(MacroTools.totype)}\u001b[39m\u001b[0m, \u001b[0mst\u001b[96m::Int64\u001b[39m\u001b[0m)\n",
      "\u001b[35m│\u001b[39m\u001b[34m│\u001b[39m\u001b[33m│\u001b[39m\u001b[32m│\u001b[39m\u001b[35m┌ @ array.jl:793 \u001b[39m\u001b[0mBase.setindex!\u001b[0m(\u001b[0mdest\u001b[96m::Vector{Symbol}\u001b[39m\u001b[0m, \u001b[0mv1\u001b[96m::Expr\u001b[39m\u001b[0m, \u001b[0mi1\u001b[96m::Int64\u001b[39m\u001b[0m)\n",
      "\u001b[35m│\u001b[39m\u001b[34m│\u001b[39m\u001b[33m│\u001b[39m\u001b[32m│\u001b[39m\u001b[35m│\u001b[39m\u001b[91m┌ @ array.jl:937 \u001b[39m\u001b[0mBase.convert\u001b[0m(\u001b[0m_\u001b[96m::Type{Symbol}\u001b[39m\u001b[0m, \u001b[0mx\u001b[96m::Expr\u001b[39m\u001b[0m)\n",
      "\u001b[35m│\u001b[39m\u001b[34m│\u001b[39m\u001b[33m│\u001b[39m\u001b[32m│\u001b[39m\u001b[35m│\u001b[39m\u001b[91m│ no matching method found for call signature (Tuple{typeof(convert), Type{Symbol}, Expr}): \u001b[39m\u001b[0m\u001b[1mBase.convert\u001b[22m\u001b[0m\u001b[1m(\u001b[22m\u001b[0m\u001b[1m_\u001b[22m\u001b[96m\u001b[1m::Type{Symbol}\u001b[22m\u001b[39m\u001b[0m\u001b[1m, \u001b[22m\u001b[0m\u001b[1mx\u001b[22m\u001b[96m\u001b[1m::Expr\u001b[22m\u001b[39m\u001b[0m\u001b[1m)\u001b[22m\n",
      "\u001b[35m│\u001b[39m\u001b[34m│\u001b[39m\u001b[33m│\u001b[39m\u001b[32m│\u001b[39m\u001b[35m│\u001b[39m\u001b[91m└────────────────\u001b[39m\n",
      "\u001b[35m│\u001b[39m\u001b[34m│\u001b[39m\u001b[33m│\u001b[39m\u001b[32m│\u001b[39m\u001b[35m┌ @ array.jl:793 \u001b[39m\u001b[0mBase.setindex!\u001b[0m(\u001b[0mdest\u001b[96m::Vector{Expr}\u001b[39m\u001b[0m, \u001b[0mv1\u001b[96m::Symbol\u001b[39m\u001b[0m, \u001b[0mi1\u001b[96m::Int64\u001b[39m\u001b[0m)\n",
      "\u001b[35m│\u001b[39m\u001b[34m│\u001b[39m\u001b[33m│\u001b[39m\u001b[32m│\u001b[39m\u001b[35m│\u001b[39m\u001b[91m┌ @ array.jl:937 \u001b[39m\u001b[0mBase.convert\u001b[0m(\u001b[0m_\u001b[96m::Type{Expr}\u001b[39m\u001b[0m, \u001b[0mx\u001b[96m::Symbol\u001b[39m\u001b[0m)\n",
      "\u001b[35m│\u001b[39m\u001b[34m│\u001b[39m\u001b[33m│\u001b[39m\u001b[32m│\u001b[39m\u001b[35m│\u001b[39m\u001b[91m│ no matching method found for call signature (Tuple{typeof(convert), Type{Expr}, Symbol}): \u001b[39m\u001b[0m\u001b[1mBase.convert\u001b[22m\u001b[0m\u001b[1m(\u001b[22m\u001b[0m\u001b[1m_\u001b[22m\u001b[96m\u001b[1m::Type{Expr}\u001b[22m\u001b[39m\u001b[0m\u001b[1m, \u001b[22m\u001b[0m\u001b[1mx\u001b[22m\u001b[96m\u001b[1m::Symbol\u001b[22m\u001b[39m\u001b[0m\u001b[1m)\u001b[22m\n",
      "\u001b[35m│\u001b[39m\u001b[34m│\u001b[39m\u001b[33m│\u001b[39m\u001b[32m│\u001b[39m\u001b[35m│\u001b[39m\u001b[91m└────────────────\u001b[39m\n",
      "\u001b[35m┌ @ /Users/aviatesk/julia/packages/MacroTools/src/utils.jl:21 \u001b[39m\u001b[0mBase.collect\u001b[0m(\u001b[0mBase.Generator\u001b[0m(\u001b[0m#11\u001b[96m::MacroTools.var\"#11#12\"\u001b[39m\u001b[0m, \u001b[0mMacroTools.map\u001b[0m(\u001b[0mMacroTools.esc\u001b[0m, \u001b[0mxs\u001b[96m::Tuple\u001b[39m\u001b[0m)\u001b[96m::Any\u001b[39m\u001b[0m)\u001b[96m::Base.Generator{_A, MacroTools.var\"#11#12\"} where _A\u001b[39m\u001b[0m)\n",
      "\u001b[35m│\u001b[39m\u001b[34m┌ @ array.jl:775 \u001b[39m\u001b[0mBase.collect_to_with_first!\u001b[0m(\u001b[0mBase._array_for\u001b[0m(\u001b[0mBase.typeof\u001b[0m(\u001b[0mv1\u001b[96m::Expr\u001b[39m\u001b[0m)\u001b[96m::Type{Expr}\u001b[39m\u001b[0m, \u001b[0mBase.getproperty\u001b[0m(\u001b[0mitr\u001b[96m::Base.Generator{_A, MacroTools.var\"#11#12\"} where _A\u001b[39m\u001b[0m, \u001b[0m:iter\u001b[96m::Symbol\u001b[39m\u001b[0m)\u001b[96m::Any\u001b[39m\u001b[0m, \u001b[0misz\u001b[96m::Any\u001b[39m\u001b[0m)\u001b[96m::Any\u001b[39m\u001b[0m, \u001b[0mv1\u001b[96m::Expr\u001b[39m\u001b[0m, \u001b[0mitr\u001b[96m::Base.Generator{_A, MacroTools.var\"#11#12\"} where _A\u001b[39m\u001b[0m, \u001b[0mst\u001b[96m::Any\u001b[39m\u001b[0m)\n",
      "\u001b[35m│\u001b[39m\u001b[34m│\u001b[39m\u001b[33m┌ @ array.jl:799 \u001b[39m\u001b[0mBase.grow_to!\u001b[0m(\u001b[0mdest\u001b[96m::Any\u001b[39m\u001b[0m, \u001b[0mitr\u001b[96m::Base.Generator{_A, MacroTools.var\"#11#12\"} where _A\u001b[39m\u001b[0m, \u001b[0mst\u001b[96m::Any\u001b[39m\u001b[0m)\n",
      "\u001b[35m│\u001b[39m\u001b[34m│\u001b[39m\u001b[33m│\u001b[39m\u001b[32m┌ @ dict.jl:153 \u001b[39m\u001b[0mBase.indexed_iterate\u001b[0m(\u001b[0mCore.getfield\u001b[0m(\u001b[0mBase.indexed_iterate\u001b[0m(\u001b[0my\u001b[96m::Tuple{Expr, Any}\u001b[39m\u001b[0m, \u001b[0m1\u001b[0m)\u001b[96m::Tuple{Expr, Int64}\u001b[39m\u001b[0m, \u001b[0m1\u001b[0m)\u001b[96m::Expr\u001b[39m\u001b[0m, \u001b[0m1\u001b[0m)\n",
      "\u001b[35m│\u001b[39m\u001b[34m│\u001b[39m\u001b[33m│\u001b[39m\u001b[32m│\u001b[39m\u001b[91m┌ @ tuple.jl:91 \u001b[39m\u001b[0mBase.iterate\u001b[0m(\u001b[0mI\u001b[96m::Expr\u001b[39m\u001b[0m)\n",
      "\u001b[35m│\u001b[39m\u001b[34m│\u001b[39m\u001b[33m│\u001b[39m\u001b[32m│\u001b[39m\u001b[91m│ no matching method found for call signature (Tuple{typeof(iterate), Expr}): \u001b[39m\u001b[0m\u001b[1mBase.iterate\u001b[22m\u001b[0m\u001b[1m(\u001b[22m\u001b[0m\u001b[1mI\u001b[22m\u001b[96m\u001b[1m::Expr\u001b[22m\u001b[39m\u001b[0m\u001b[1m)\u001b[22m\n",
      "\u001b[35m│\u001b[39m\u001b[34m│\u001b[39m\u001b[33m│\u001b[39m\u001b[32m│\u001b[39m\u001b[91m└───────────────\u001b[39m\n",
      "\u001b[91m┌ @ /Users/aviatesk/julia/packages/MacroTools/src/utils.jl:423 \u001b[39m\u001b[0mMacroTools.rebuilddef\u001b[0m(\u001b[0mMacroTools.striplines\u001b[0m(\u001b[0mdict\u001b[96m::Dict\u001b[39m\u001b[0m)\u001b[96m::Dict\u001b[39m\u001b[0m)\n",
      "\u001b[91m│ variable MacroTools.rebuilddef is not defined: \u001b[39m\u001b[0m\u001b[1mMacroTools.rebuilddef\u001b[22m\u001b[0m\u001b[1m(\u001b[22m\u001b[0m\u001b[1mMacroTools.striplines\u001b[22m\u001b[0m\u001b[1m(\u001b[22m\u001b[0m\u001b[1mdict\u001b[22m\u001b[96m\u001b[1m::Dict\u001b[22m\u001b[39m\u001b[0m\u001b[1m)\u001b[22m\u001b[96m\u001b[1m::Dict\u001b[22m\u001b[39m\u001b[0m\u001b[1m)\u001b[22m\n",
      "\u001b[91m└──────────────────────────────────────────────────────────────\u001b[39m\n",
      "\u001b[91m┌ @ /Users/aviatesk/julia/packages/MacroTools/src/utils.jl:455 \u001b[39m\u001b[0mCore.tuple\u001b[0m(\u001b[0msplitvar\u001b[96m::MacroTools.var\"#splitvar#35\"\u001b[39m\u001b[0m(\u001b[0marg\u001b[96m::Any\u001b[39m\u001b[0m)\u001b[96m::Union{Nothing, Tuple{Any, Any}}\u001b[39m\u001b[0m, \u001b[0mCore.tuple\u001b[0m(\u001b[0mis_splat\u001b[96m::Bool\u001b[39m\u001b[0m, \u001b[0mdefault\u001b[96m::Any\u001b[39m\u001b[0m)\u001b[96m::Tuple{Bool, Any}\u001b[39m\u001b[0m...\u001b[0m)\n",
      "\u001b[91m│ no matching method found for call signature (Tuple{typeof(iterate), Nothing}): \u001b[39m\u001b[0m\u001b[1mCore.tuple\u001b[22m\u001b[0m\u001b[1m(\u001b[22m\u001b[0m\u001b[1msplitvar\u001b[22m\u001b[96m\u001b[1m::MacroTools.var\"#splitvar#35\"\u001b[22m\u001b[39m\u001b[0m\u001b[1m(\u001b[22m\u001b[0m\u001b[1marg\u001b[22m\u001b[96m\u001b[1m::Any\u001b[22m\u001b[39m\u001b[0m\u001b[1m)\u001b[22m\u001b[96m\u001b[1m::Union{Nothing, Tuple{Any, Any}}\u001b[22m\u001b[39m\u001b[0m\u001b[1m, \u001b[22m\u001b[0m\u001b[1mCore.tuple\u001b[22m\u001b[0m\u001b[1m(\u001b[22m\u001b[0m\u001b[1mis_splat\u001b[22m\u001b[96m\u001b[1m::Bool\u001b[22m\u001b[39m\u001b[0m\u001b[1m, \u001b[22m\u001b[0m\u001b[1mdefault\u001b[22m\u001b[96m\u001b[1m::Any\u001b[22m\u001b[39m\u001b[0m\u001b[1m)\u001b[22m\u001b[96m\u001b[1m::Tuple{Bool, Any}\u001b[22m\u001b[39m\u001b[0m\u001b[1m...\u001b[22m\u001b[0m\u001b[1m)\u001b[22m\n",
      "\u001b[91m└──────────────────────────────────────────────────────────────\u001b[39m\n",
      "\u001b[91m┌ @ /Users/aviatesk/julia/packages/MacroTools/src/utils.jl:457 \u001b[39m\u001b[0mCore.tuple\u001b[0m(\u001b[0msplitvar\u001b[96m::MacroTools.var\"#splitvar#35\"\u001b[39m\u001b[0m(\u001b[0marg_expr2\u001b[96m::Any\u001b[39m\u001b[0m)\u001b[96m::Union{Nothing, Tuple{Any, Any}}\u001b[39m\u001b[0m, \u001b[0mCore.tuple\u001b[0m(\u001b[0mis_splat\u001b[96m::Bool\u001b[39m\u001b[0m, \u001b[0mMacroTools.nothing\u001b[0m)\u001b[96m::Tuple{Bool, Nothing}\u001b[39m\u001b[0m...\u001b[0m)\n",
      "\u001b[91m│ no matching method found for call signature (Tuple{typeof(iterate), Nothing}): \u001b[39m\u001b[0m\u001b[1mCore.tuple\u001b[22m\u001b[0m\u001b[1m(\u001b[22m\u001b[0m\u001b[1msplitvar\u001b[22m\u001b[96m\u001b[1m::MacroTools.var\"#splitvar#35\"\u001b[22m\u001b[39m\u001b[0m\u001b[1m(\u001b[22m\u001b[0m\u001b[1marg_expr2\u001b[22m\u001b[96m\u001b[1m::Any\u001b[22m\u001b[39m\u001b[0m\u001b[1m)\u001b[22m\u001b[96m\u001b[1m::Union{Nothing, Tuple{Any, Any}}\u001b[22m\u001b[39m\u001b[0m\u001b[1m, \u001b[22m\u001b[0m\u001b[1mCore.tuple\u001b[22m\u001b[0m\u001b[1m(\u001b[22m\u001b[0m\u001b[1mis_splat\u001b[22m\u001b[96m\u001b[1m::Bool\u001b[22m\u001b[39m\u001b[0m\u001b[1m, \u001b[22m\u001b[0m\u001b[1mMacroTools.nothing\u001b[22m\u001b[0m\u001b[1m)\u001b[22m\u001b[96m\u001b[1m::Tuple{Bool, Nothing}\u001b[22m\u001b[39m\u001b[0m\u001b[1m...\u001b[22m\u001b[0m\u001b[1m)\u001b[22m\n",
      "\u001b[91m└──────────────────────────────────────────────────────────────\u001b[39m\n",
      "\u001b[91m┌ @ /Users/aviatesk/julia/packages/MacroTools/src/structdef.jl:13 \u001b[39m\u001b[0mMacroTools.parse_error\u001b[0m(\u001b[0mex\u001b[96m::Any\u001b[39m\u001b[0m)\n",
      "\u001b[91m│ variable MacroTools.parse_error is not defined: \u001b[39m\u001b[0m\u001b[1mMacroTools.parse_error\u001b[22m\u001b[0m\u001b[1m(\u001b[22m\u001b[0m\u001b[1mex\u001b[22m\u001b[96m\u001b[1m::Any\u001b[22m\u001b[39m\u001b[0m\u001b[1m)\u001b[22m\n",
      "\u001b[91m└─────────────────────────────────────────────────────────────────\u001b[39m\n",
      "\u001b[91m┌ @ /Users/aviatesk/julia/packages/MacroTools/src/structdef.jl:21 \u001b[39m\u001b[0mMacroTools.parse_error\u001b[0m(\u001b[0mex\u001b[96m::Any\u001b[39m\u001b[0m)\n",
      "\u001b[91m│ variable MacroTools.parse_error is not defined: \u001b[39m\u001b[0m\u001b[1mMacroTools.parse_error\u001b[22m\u001b[0m\u001b[1m(\u001b[22m\u001b[0m\u001b[1mex\u001b[22m\u001b[96m\u001b[1m::Any\u001b[22m\u001b[39m\u001b[0m\u001b[1m)\u001b[22m\n",
      "\u001b[91m└─────────────────────────────────────────────────────────────────\u001b[39m\n",
      "\u001b[91m┌ @ /Users/aviatesk/julia/packages/MacroTools/src/structdef.jl:29 \u001b[39m\u001b[0mMacroTools.parse_error\u001b[0m(\u001b[0mex\u001b[96m::Any\u001b[39m\u001b[0m)\n",
      "\u001b[91m│ variable MacroTools.parse_error is not defined: \u001b[39m\u001b[0m\u001b[1mMacroTools.parse_error\u001b[22m\u001b[0m\u001b[1m(\u001b[22m\u001b[0m\u001b[1mex\u001b[22m\u001b[96m\u001b[1m::Any\u001b[22m\u001b[39m\u001b[0m\u001b[1m)\u001b[22m\n",
      "\u001b[91m└─────────────────────────────────────────────────────────────────\u001b[39m\n",
      "\u001b[35m┌ @ /Users/aviatesk/julia/packages/MacroTools/src/examples/destruct.jl:24 \u001b[39m\u001b[0mMacroTools.error\u001b[0m(\u001b[0m\"Can't destructure fields with default values\"\u001b[0m)\n",
      "\u001b[35m│\u001b[39m\u001b[91m┌ @ error.jl:33 \u001b[39m\u001b[0merror(::String)\n",
      "\u001b[35m│\u001b[39m\u001b[91m│ may throw: \u001b[39m\u001b[0m\u001b[1mBase.throw\u001b[22m\u001b[0m\u001b[1m(\u001b[22m\u001b[0m\u001b[1mBase.ErrorException\u001b[22m\u001b[0m\u001b[1m(\u001b[22m\u001b[0m\u001b[1ms\u001b[22m\u001b[96m\u001b[1m::String\u001b[22m\u001b[39m\u001b[0m\u001b[1m)\u001b[22m\u001b[96m\u001b[1m::ErrorException\u001b[22m\u001b[39m\u001b[0m\u001b[1m)\u001b[22m\n",
      "\u001b[35m│\u001b[39m\u001b[91m└───────────────\u001b[39m\n"
     ]
    },
    {
     "output_type": "execute_result",
     "data": {
      "text/plain": [
       "(included_files = Set([\"/Users/aviatesk/julia/packages/MacroTools/src/examples/threading.jl\", \"/Users/aviatesk/julia/packages/MacroTools/src/examples/forward.jl\", \"/Users/aviatesk/julia/packages/MacroTools/src/MacroTools.jl\", \"/Users/aviatesk/julia/packages/MacroTools/src/match/match.jl\", \"/Users/aviatesk/julia/packages/MacroTools/src/utils.jl\", \"/Users/aviatesk/julia/packages/MacroTools/src/match/macro.jl\", \"/Users/aviatesk/julia/packages/MacroTools/src/structdef.jl\", \"/Users/aviatesk/julia/packages/MacroTools/src/match/union.jl\", \"/Users/aviatesk/julia/packages/MacroTools/src/examples/destruct.jl\", \"/Users/aviatesk/julia/packages/MacroTools/src/match/types.jl\"]), nreported = 11)"
      ]
     },
     "metadata": {},
     "execution_count": 19
    }
   ],
   "metadata": {}
  },
  {
   "cell_type": "markdown",
   "source": [
    "There are bunch of errors ! Let's fix them.\n",
    "\n",
    "_Live coding (5 mins)_"
   ],
   "metadata": {}
  },
  {
   "cell_type": "code",
   "execution_count": 20,
   "source": [
    "report_package(\"MacroTools\")"
   ],
   "outputs": [
    {
     "output_type": "stream",
     "name": "stdout",
     "text": [
      "[toplevel-info] applied JET configurations in /Users/aviatesk/julia/packages/.JET.toml\n",
      "[toplevel-info] virtualized the context of Main (took 0.003 sec)\n",
      "[toplevel-info] entered into /Users/aviatesk/julia/packages/MacroTools/src/MacroTools.jl\n",
      "[toplevel-info] entered into /Users/aviatesk/julia/packages/MacroTools/src/match/match.jl\n",
      "[toplevel-info]  exited from /Users/aviatesk/julia/packages/MacroTools/src/match/match.jl (took 0.049 sec)\n",
      "[toplevel-info] entered into /Users/aviatesk/julia/packages/MacroTools/src/match/types.jl\n",
      "[toplevel-info]  exited from /Users/aviatesk/julia/packages/MacroTools/src/match/types.jl (took 0.017 sec)\n",
      "[toplevel-info] entered into /Users/aviatesk/julia/packages/MacroTools/src/match/union.jl\n",
      "[toplevel-info]  exited from /Users/aviatesk/julia/packages/MacroTools/src/match/union.jl (took 0.009 sec)\n",
      "[toplevel-info] entered into /Users/aviatesk/julia/packages/MacroTools/src/match/macro.jl\n",
      "[toplevel-info]  exited from /Users/aviatesk/julia/packages/MacroTools/src/match/macro.jl (took 0.02 sec)\n",
      "[toplevel-info] entered into /Users/aviatesk/julia/packages/MacroTools/src/utils.jl\n",
      "[toplevel-info]  exited from /Users/aviatesk/julia/packages/MacroTools/src/utils.jl (took 2.832 sec)\n",
      "[toplevel-info] entered into /Users/aviatesk/julia/packages/MacroTools/src/structdef.jl\n",
      "[toplevel-info]  exited from /Users/aviatesk/julia/packages/MacroTools/src/structdef.jl (took 0.076 sec)\n",
      "[toplevel-info] entered into /Users/aviatesk/julia/packages/MacroTools/src/examples/destruct.jl\n",
      "[toplevel-info]  exited from /Users/aviatesk/julia/packages/MacroTools/src/examples/destruct.jl (took 0.057 sec)\n",
      "[toplevel-info] entered into /Users/aviatesk/julia/packages/MacroTools/src/examples/threading.jl\n",
      "[toplevel-info]  exited from /Users/aviatesk/julia/packages/MacroTools/src/examples/threading.jl (took 0.131 sec)\n",
      "[toplevel-info] entered into /Users/aviatesk/julia/packages/MacroTools/src/examples/forward.jl\n",
      "[toplevel-info]  exited from /Users/aviatesk/julia/packages/MacroTools/src/examples/forward.jl (took 0.068 sec)\n",
      "[toplevel-info]  exited from /Users/aviatesk/julia/packages/MacroTools/src/MacroTools.jl (took 3.272 sec)\n",
      "[toplevel-info] analyzing from top-level definitions ... 156/156\n",
      "\u001b[7m═════ 2 possible errors found ═════\u001b[27m\n",
      "\u001b[35m┌ @ /Users/aviatesk/julia/packages/MacroTools/src/utils.jl:21 \u001b[39m\u001b[0mBase.collect\u001b[0m(\u001b[0mBase.Generator\u001b[0m(\u001b[0m#13\u001b[96m::MacroTools.var\"#13#14\"\u001b[39m\u001b[0m, \u001b[0mMacroTools.map\u001b[0m(\u001b[0mMacroTools.esc\u001b[0m, \u001b[0mxs\u001b[96m::Tuple\u001b[39m\u001b[0m)\u001b[96m::Any\u001b[39m\u001b[0m)\u001b[96m::Base.Generator{_A, MacroTools.var\"#13#14\"} where _A\u001b[39m\u001b[0m)\n",
      "\u001b[35m│\u001b[39m\u001b[34m┌ @ array.jl:775 \u001b[39m\u001b[0mBase.collect_to_with_first!\u001b[0m(\u001b[0mBase._array_for\u001b[0m(\u001b[0mBase.typeof\u001b[0m(\u001b[0mv1\u001b[96m::Expr\u001b[39m\u001b[0m)\u001b[96m::Type{Expr}\u001b[39m\u001b[0m, \u001b[0mBase.getproperty\u001b[0m(\u001b[0mitr\u001b[96m::Base.Generator{_A, MacroTools.var\"#13#14\"} where _A\u001b[39m\u001b[0m, \u001b[0m:iter\u001b[96m::Symbol\u001b[39m\u001b[0m)\u001b[96m::Any\u001b[39m\u001b[0m, \u001b[0misz\u001b[96m::Any\u001b[39m\u001b[0m)\u001b[96m::Any\u001b[39m\u001b[0m, \u001b[0mv1\u001b[96m::Expr\u001b[39m\u001b[0m, \u001b[0mitr\u001b[96m::Base.Generator{_A, MacroTools.var\"#13#14\"} where _A\u001b[39m\u001b[0m, \u001b[0mst\u001b[96m::Any\u001b[39m\u001b[0m)\n",
      "\u001b[35m│\u001b[39m\u001b[34m│\u001b[39m\u001b[33m┌ @ array.jl:799 \u001b[39m\u001b[0mBase.grow_to!\u001b[0m(\u001b[0mdest\u001b[96m::Any\u001b[39m\u001b[0m, \u001b[0mitr\u001b[96m::Base.Generator{_A, MacroTools.var\"#13#14\"} where _A\u001b[39m\u001b[0m, \u001b[0mst\u001b[96m::Any\u001b[39m\u001b[0m)\n",
      "\u001b[35m│\u001b[39m\u001b[34m│\u001b[39m\u001b[33m│\u001b[39m\u001b[32m┌ @ dict.jl:153 \u001b[39m\u001b[0mBase.indexed_iterate\u001b[0m(\u001b[0mCore.getfield\u001b[0m(\u001b[0mBase.indexed_iterate\u001b[0m(\u001b[0my\u001b[96m::Tuple{Expr, Any}\u001b[39m\u001b[0m, \u001b[0m1\u001b[0m)\u001b[96m::Tuple{Expr, Int64}\u001b[39m\u001b[0m, \u001b[0m1\u001b[0m)\u001b[96m::Expr\u001b[39m\u001b[0m, \u001b[0m1\u001b[0m)\n",
      "\u001b[35m│\u001b[39m\u001b[34m│\u001b[39m\u001b[33m│\u001b[39m\u001b[32m│\u001b[39m\u001b[91m┌ @ tuple.jl:91 \u001b[39m\u001b[0mBase.iterate\u001b[0m(\u001b[0mI\u001b[96m::Expr\u001b[39m\u001b[0m)\n",
      "\u001b[35m│\u001b[39m\u001b[34m│\u001b[39m\u001b[33m│\u001b[39m\u001b[32m│\u001b[39m\u001b[91m│ no matching method found for call signature (Tuple{typeof(iterate), Expr}): \u001b[39m\u001b[0m\u001b[1mBase.iterate\u001b[22m\u001b[0m\u001b[1m(\u001b[22m\u001b[0m\u001b[1mI\u001b[22m\u001b[96m\u001b[1m::Expr\u001b[22m\u001b[39m\u001b[0m\u001b[1m)\u001b[22m\n",
      "\u001b[35m│\u001b[39m\u001b[34m│\u001b[39m\u001b[33m│\u001b[39m\u001b[32m│\u001b[39m\u001b[91m└───────────────\u001b[39m\n",
      "\u001b[35m┌ @ /Users/aviatesk/julia/packages/MacroTools/src/examples/destruct.jl:24 \u001b[39m\u001b[0mMacroTools.error\u001b[0m(\u001b[0m\"Can't destructure fields with default values\"\u001b[0m)\n",
      "\u001b[35m│\u001b[39m\u001b[91m┌ @ error.jl:33 \u001b[39m\u001b[0merror(::String)\n",
      "\u001b[35m│\u001b[39m\u001b[91m│ may throw: \u001b[39m\u001b[0m\u001b[1mBase.throw\u001b[22m\u001b[0m\u001b[1m(\u001b[22m\u001b[0m\u001b[1mBase.ErrorException\u001b[22m\u001b[0m\u001b[1m(\u001b[22m\u001b[0m\u001b[1ms\u001b[22m\u001b[96m\u001b[1m::String\u001b[22m\u001b[39m\u001b[0m\u001b[1m)\u001b[22m\u001b[96m\u001b[1m::ErrorException\u001b[22m\u001b[39m\u001b[0m\u001b[1m)\u001b[22m\n",
      "\u001b[35m│\u001b[39m\u001b[91m└───────────────\u001b[39m\n"
     ]
    },
    {
     "output_type": "execute_result",
     "data": {
      "text/plain": [
       "(included_files = Set([\"/Users/aviatesk/julia/packages/MacroTools/src/examples/threading.jl\", \"/Users/aviatesk/julia/packages/MacroTools/src/examples/forward.jl\", \"/Users/aviatesk/julia/packages/MacroTools/src/MacroTools.jl\", \"/Users/aviatesk/julia/packages/MacroTools/src/match/match.jl\", \"/Users/aviatesk/julia/packages/MacroTools/src/utils.jl\", \"/Users/aviatesk/julia/packages/MacroTools/src/match/macro.jl\", \"/Users/aviatesk/julia/packages/MacroTools/src/structdef.jl\", \"/Users/aviatesk/julia/packages/MacroTools/src/match/union.jl\", \"/Users/aviatesk/julia/packages/MacroTools/src/examples/destruct.jl\", \"/Users/aviatesk/julia/packages/MacroTools/src/match/types.jl\"]), nreported = 2)"
      ]
     },
     "metadata": {},
     "execution_count": 20
    }
   ],
   "metadata": {}
  },
  {
   "cell_type": "markdown",
   "source": [
    "Yay, now we've greatly improved the quality of MacroTools.jl by fixing the actual bugs and improving type stabilities !"
   ],
   "metadata": {}
  },
  {
   "cell_type": "markdown",
   "source": [
    "## Performance Linting"
   ],
   "metadata": {}
  },
  {
   "cell_type": "markdown",
   "source": [
    "- JET offers an infrastructure for \"plugin\" analyzers\n",
    "- JET's default error analyzer (, which we've used so far) is actually one specific instance of them\n",
    "- Another example: [JETTest.jl's Performance Linter](https://github.com/aviatesk/JETTest.jl)"
   ],
   "metadata": {}
  },
  {
   "cell_type": "markdown",
   "source": [
    "- JET's error analyzer aims at finding possible \"error\"s, by analyzing type inference\n",
    "- The performance linter aims at finding possible performance pitfalls (currently it mostly accounts for runtime dispatches), by analyzing optimizations"
   ],
   "metadata": {}
  },
  {
   "cell_type": "code",
   "execution_count": 21,
   "source": [
    "function cumsum(n::Integer)\n",
    "    ary = [] # ::Vector{Any}\n",
    "    push!(ary, 1)\n",
    "    for i in 2:n\n",
    "        push!(ary, i+ary[i-1]) # valid call, but not performative\n",
    "    end\n",
    "    return ary\n",
    "end\n",
    "\n",
    "cumsum(10)\n",
    "@time cumsum(10000000);"
   ],
   "outputs": [
    {
     "output_type": "stream",
     "name": "stdout",
     "text": [
      "  0.946961 seconds (20.00 M allocations: 451.999 MiB, 40.41% gc time)\n"
     ]
    }
   ],
   "metadata": {}
  },
  {
   "cell_type": "code",
   "execution_count": 22,
   "source": [
    "@report_call cumsum(10000000)"
   ],
   "outputs": [
    {
     "output_type": "stream",
     "name": "stdout",
     "text": [
      "\u001b[92mNo errors !\u001b[39m\n"
     ]
    },
    {
     "output_type": "execute_result",
     "data": {
      "text/plain": [
       "(Vector{Any}, 0)"
      ]
     },
     "metadata": {},
     "execution_count": 22
    }
   ],
   "metadata": {}
  },
  {
   "cell_type": "code",
   "execution_count": 23,
   "source": [
    "using JETTest\n",
    "\n",
    "@report_dispatch cumsum(10000000)"
   ],
   "outputs": [
    {
     "output_type": "stream",
     "name": "stdout",
     "text": [
      "\u001b[7m═════ 1 possible error found ═════\u001b[27m\n",
      "\u001b[91m┌ @ In[21]:5 \u001b[39m\u001b[0mMain.+\u001b[0m(\u001b[0m%31\u001b[0m, \u001b[0m%34\u001b[0m)\n",
      "\u001b[91m│ runtime dispatch detected: \u001b[39m\u001b[0m\u001b[1mMain.+\u001b[22m\u001b[0m\u001b[1m(\u001b[22m\u001b[0m\u001b[1m%31\u001b[22m\u001b[96m\u001b[1m::Int64\u001b[22m\u001b[39m\u001b[0m\u001b[1m, \u001b[22m\u001b[0m\u001b[1m%34\u001b[22m\u001b[96m\u001b[1m::Any\u001b[22m\u001b[39m\u001b[0m\u001b[1m)\u001b[22m\n",
      "\u001b[91m└────────────\u001b[39m\n"
     ]
    },
    {
     "output_type": "stream",
     "name": "stderr",
     "text": [
      "┌ Info: Precompiling JETTest [a79fb612-4a80-4749-a9bd-c2faab13da61]\n",
      "└ @ Base loading.jl:1434\n"
     ]
    },
    {
     "output_type": "execute_result",
     "data": {
      "text/plain": [
       "(Vector{Any}, 1)"
      ]
     },
     "metadata": {},
     "execution_count": 23
    }
   ],
   "metadata": {}
  },
  {
   "cell_type": "code",
   "execution_count": 24,
   "source": [
    "function cumsum2(n::T) where T<:Integer\n",
    "    ary = T[] # very type stable !\n",
    "    push!(ary, 1)\n",
    "    for i in 2:n\n",
    "        push!(ary, i+ary[i-1]) # performative !\n",
    "    end\n",
    "    return ary\n",
    "end"
   ],
   "outputs": [
    {
     "output_type": "execute_result",
     "data": {
      "text/plain": [
       "cumsum2 (generic function with 1 method)"
      ]
     },
     "metadata": {},
     "execution_count": 24
    }
   ],
   "metadata": {}
  },
  {
   "cell_type": "code",
   "execution_count": 25,
   "source": [
    "@report_dispatch cumsum2(10000000)"
   ],
   "outputs": [
    {
     "output_type": "stream",
     "name": "stdout",
     "text": [
      "\u001b[92mNo errors !\u001b[39m\n"
     ]
    },
    {
     "output_type": "execute_result",
     "data": {
      "text/plain": [
       "(Vector{Int64}, 0)"
      ]
     },
     "metadata": {},
     "execution_count": 25
    }
   ],
   "metadata": {}
  },
  {
   "cell_type": "code",
   "execution_count": 26,
   "source": [
    "cumsum2(10)\n",
    "@time cumsum2(10000000);"
   ],
   "outputs": [
    {
     "output_type": "stream",
     "name": "stdout",
     "text": [
      "  0.222310 seconds (18 allocations: 146.831 MiB, 6.14% gc time)\n"
     ]
    }
   ],
   "metadata": {}
  },
  {
   "cell_type": "markdown",
   "source": [
    "The performance linter is more powerful than a manual inspection with `code_typed` or `code_warntype`; it can analyze the entire call graph rather than just looks at the final output of the compilation pipeline."
   ],
   "metadata": {}
  },
  {
   "cell_type": "code",
   "execution_count": 27,
   "source": [
    "callcumsum(n) = cumsum(n)"
   ],
   "outputs": [
    {
     "output_type": "execute_result",
     "data": {
      "text/plain": [
       "callcumsum (generic function with 1 method)"
      ]
     },
     "metadata": {},
     "execution_count": 27
    }
   ],
   "metadata": {}
  },
  {
   "cell_type": "code",
   "execution_count": 28,
   "source": [
    "@code_warntype callcumsum(10000000)"
   ],
   "outputs": [
    {
     "output_type": "stream",
     "name": "stdout",
     "text": [
      "MethodInstance for callcumsum(::\u001b[0mInt64)\n",
      "  from callcumsum(n) in Main at In[27]:1\n",
      "Arguments\n",
      "  #self#\u001b[36m::Core.Const(callcumsum)\u001b[39m\n",
      "  n\u001b[36m::Int64\u001b[39m\n",
      "Body\u001b[36m::Vector{Any}\u001b[39m\n",
      "\u001b[90m1 ─\u001b[39m %1 = Main.cumsum(n)\u001b[36m::Vector{Any}\u001b[39m\n",
      "\u001b[90m└──\u001b[39m      return %1\n",
      "\n"
     ]
    }
   ],
   "metadata": {}
  },
  {
   "cell_type": "code",
   "execution_count": 29,
   "source": [
    "@report_dispatch callcumsum(10000000)"
   ],
   "outputs": [
    {
     "output_type": "stream",
     "name": "stdout",
     "text": [
      "\u001b[7m═════ 1 possible error found ═════\u001b[27m\n",
      "\u001b[35m┌ @ In[27]:1 \u001b[39m\u001b[0mMain.cumsum\u001b[0m(\u001b[0mn\u001b[0m)\n",
      "\u001b[35m│\u001b[39m\u001b[91m┌ @ In[21]:5 \u001b[39m\u001b[0mMain.+\u001b[0m(\u001b[0m%31\u001b[0m, \u001b[0m%34\u001b[0m)\n",
      "\u001b[35m│\u001b[39m\u001b[91m│ runtime dispatch detected: \u001b[39m\u001b[0m\u001b[1mMain.+\u001b[22m\u001b[0m\u001b[1m(\u001b[22m\u001b[0m\u001b[1m%31\u001b[22m\u001b[96m\u001b[1m::Int64\u001b[22m\u001b[39m\u001b[0m\u001b[1m, \u001b[22m\u001b[0m\u001b[1m%34\u001b[22m\u001b[96m\u001b[1m::Any\u001b[22m\u001b[39m\u001b[0m\u001b[1m)\u001b[22m\n",
      "\u001b[35m│\u001b[39m\u001b[91m└────────────\u001b[39m\n"
     ]
    },
    {
     "output_type": "execute_result",
     "data": {
      "text/plain": [
       "(Vector{Any}, 1)"
      ]
     },
     "metadata": {},
     "execution_count": 29
    }
   ],
   "metadata": {}
  },
  {
   "cell_type": "markdown",
   "source": [
    "## Performance Linting Example: Improve The Performance of Julia Compiler"
   ],
   "metadata": {}
  },
  {
   "cell_type": "markdown",
   "source": [
    "Let's run the performance linter on Julia compiler itself – we all want to JIT to be faster !"
   ],
   "metadata": {}
  },
  {
   "cell_type": "code",
   "execution_count": 30,
   "source": [
    "using JETTest\n",
    "\n",
    "const CC = Core.Compiler\n",
    "\n",
    "# some functions in the compiler uses dispatch to branch on input types\n",
    "# they can be rewritten so that they won't be dynamically dispatched,\n",
    "# but we just ignore them for this workshop\n",
    "function function_filter(@nospecialize(ft))\n",
    "    ft === typeof(CC.widenconst) && return false\n",
    "    ft === typeof(CC.widenconditional) && return false\n",
    "    ft === typeof(CC.widenwrappedconditional) && return false\n",
    "    ft === typeof(CC.maybe_extract_const_bool) && return false\n",
    "    ft === typeof(CC.ignorelimited) && return false\n",
    "    return true\n",
    "end\n",
    "\n",
    "# the compiler code uses \"dummy\" versions of some Base functions\n",
    "# we just focus on the compiler code for this workshop\n",
    "function frame_filter((; linfo) = sv)\n",
    "    meth = linfo.def\n",
    "    isa(meth, Method) || return true\n",
    "    return occursin(\"compiler/\", string(meth.file))\n",
    "end\n",
    "\n",
    "# typeinf(::NativeInterpreter, ::InferenceState) is an entry of type inference\n",
    "# we analyze dispatches that are involved within the call\n",
    "report_dispatch(CC.typeinf, (CC.NativeInterpreter, CC.InferenceState); function_filter, frame_filter)\n",
    "\n",
    "# we will also use Revise to interactively reflect the changes to JET analysis\n",
    "using Revise\n",
    "Revise.track(Core.Compiler)"
   ],
   "outputs": [],
   "metadata": {}
  },
  {
   "cell_type": "markdown",
   "source": [
    "So many runtime dispatches. Fix them as long as time permits.\n",
    "\n",
    "_Live coding starts_"
   ],
   "metadata": {}
  }
 ],
 "metadata": {
  "kernelspec": {
   "display_name": "juliacon2021-workshop-pkgdev 1.8.0-DEV",
   "language": "julia",
   "name": "juliacon2021-workshop-pkgdev-1.8"
  },
  "language_info": {
   "file_extension": ".jl",
   "mimetype": "application/julia",
   "name": "julia",
   "version": "1.8.0"
  }
 },
 "nbformat": 4,
 "nbformat_minor": 5
}